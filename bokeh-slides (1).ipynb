{
 "cells": [
  {
   "cell_type": "markdown",
   "metadata": {
    "slideshow": {
     "slide_type": "slide"
    }
   },
   "source": [
    "# Data Visualisation\n",
    "## Creating plots with Bokeh"
   ]
  },
  {
   "cell_type": "markdown",
   "metadata": {
    "slideshow": {
     "slide_type": "slide"
    }
   },
   "source": [
    "### Bokeh - why it is useful?\n",
    "\n",
    "- Facilitates creation of **interactive charts** for web browsers\n",
    "    - Add **data filters** which automatically update the plot\n",
    "    - Add **tooltips** which show additional data when a point is hovered on\n",
    "    - Tools to **zoom in** on a plot and **save an image** of it\n",
    "    \n",
    "- **HTML** and **Javascript** output, produced with **Python** code\n",
    "    - Facilitates simple **sharing** of html files with people who do not use Python or Jupyter notebooks"
   ]
  },
  {
   "cell_type": "markdown",
   "metadata": {
    "slideshow": {
     "slide_type": "slide"
    }
   },
   "source": [
    "### Bokeh terminology\n",
    "\n",
    "**Figures**: the '**canvas**' onto which we plot\n",
    "- axes, grids and tools (such as zoom, scroll and save)\n",
    "\n",
    "\n",
    "**Glyphs**: typically our **datapoints**\n",
    "- the lines, circles, bars, etc which are plotted onto a figure\n",
    "\n",
    "\n",
    "**Widgets**: additional **user interface components** outside of a plot\n",
    "- sliders, buttons and drop-down menus\n",
    "\n",
    "\n",
    "**Models**: the **lower-level objects** with which Bokeh visualisations are built\n",
    "- can be modified when more specific configuration is required "
   ]
  },
  {
   "cell_type": "markdown",
   "metadata": {
    "slideshow": {
     "slide_type": "slide"
    }
   },
   "source": [
    "#### Importing Bokeh modules"
   ]
  },
  {
   "cell_type": "code",
   "execution_count": 3,
   "metadata": {
    "slideshow": {
     "slide_type": "slide"
    }
   },
   "outputs": [
    {
     "data": {
      "text/html": [
       "\n",
       "    <div class=\"bk-root\">\n",
       "        <a href=\"https://bokeh.org\" target=\"_blank\" class=\"bk-logo bk-logo-small bk-logo-notebook\"></a>\n",
       "        <span id=\"1002\">Loading BokehJS ...</span>\n",
       "    </div>"
      ]
     },
     "metadata": {},
     "output_type": "display_data"
    },
    {
     "data": {
      "application/javascript": [
       "\n",
       "(function(root) {\n",
       "  function now() {\n",
       "    return new Date();\n",
       "  }\n",
       "\n",
       "  var force = true;\n",
       "\n",
       "  if (typeof root._bokeh_onload_callbacks === \"undefined\" || force === true) {\n",
       "    root._bokeh_onload_callbacks = [];\n",
       "    root._bokeh_is_loading = undefined;\n",
       "  }\n",
       "\n",
       "  var JS_MIME_TYPE = 'application/javascript';\n",
       "  var HTML_MIME_TYPE = 'text/html';\n",
       "  var EXEC_MIME_TYPE = 'application/vnd.bokehjs_exec.v0+json';\n",
       "  var CLASS_NAME = 'output_bokeh rendered_html';\n",
       "\n",
       "  /**\n",
       "   * Render data to the DOM node\n",
       "   */\n",
       "  function render(props, node) {\n",
       "    var script = document.createElement(\"script\");\n",
       "    node.appendChild(script);\n",
       "  }\n",
       "\n",
       "  /**\n",
       "   * Handle when an output is cleared or removed\n",
       "   */\n",
       "  function handleClearOutput(event, handle) {\n",
       "    var cell = handle.cell;\n",
       "\n",
       "    var id = cell.output_area._bokeh_element_id;\n",
       "    var server_id = cell.output_area._bokeh_server_id;\n",
       "    // Clean up Bokeh references\n",
       "    if (id != null && id in Bokeh.index) {\n",
       "      Bokeh.index[id].model.document.clear();\n",
       "      delete Bokeh.index[id];\n",
       "    }\n",
       "\n",
       "    if (server_id !== undefined) {\n",
       "      // Clean up Bokeh references\n",
       "      var cmd = \"from bokeh.io.state import curstate; print(curstate().uuid_to_server['\" + server_id + \"'].get_sessions()[0].document.roots[0]._id)\";\n",
       "      cell.notebook.kernel.execute(cmd, {\n",
       "        iopub: {\n",
       "          output: function(msg) {\n",
       "            var id = msg.content.text.trim();\n",
       "            if (id in Bokeh.index) {\n",
       "              Bokeh.index[id].model.document.clear();\n",
       "              delete Bokeh.index[id];\n",
       "            }\n",
       "          }\n",
       "        }\n",
       "      });\n",
       "      // Destroy server and session\n",
       "      var cmd = \"import bokeh.io.notebook as ion; ion.destroy_server('\" + server_id + \"')\";\n",
       "      cell.notebook.kernel.execute(cmd);\n",
       "    }\n",
       "  }\n",
       "\n",
       "  /**\n",
       "   * Handle when a new output is added\n",
       "   */\n",
       "  function handleAddOutput(event, handle) {\n",
       "    var output_area = handle.output_area;\n",
       "    var output = handle.output;\n",
       "\n",
       "    // limit handleAddOutput to display_data with EXEC_MIME_TYPE content only\n",
       "    if ((output.output_type != \"display_data\") || (!Object.prototype.hasOwnProperty.call(output.data, EXEC_MIME_TYPE))) {\n",
       "      return\n",
       "    }\n",
       "\n",
       "    var toinsert = output_area.element.find(\".\" + CLASS_NAME.split(' ')[0]);\n",
       "\n",
       "    if (output.metadata[EXEC_MIME_TYPE][\"id\"] !== undefined) {\n",
       "      toinsert[toinsert.length - 1].firstChild.textContent = output.data[JS_MIME_TYPE];\n",
       "      // store reference to embed id on output_area\n",
       "      output_area._bokeh_element_id = output.metadata[EXEC_MIME_TYPE][\"id\"];\n",
       "    }\n",
       "    if (output.metadata[EXEC_MIME_TYPE][\"server_id\"] !== undefined) {\n",
       "      var bk_div = document.createElement(\"div\");\n",
       "      bk_div.innerHTML = output.data[HTML_MIME_TYPE];\n",
       "      var script_attrs = bk_div.children[0].attributes;\n",
       "      for (var i = 0; i < script_attrs.length; i++) {\n",
       "        toinsert[toinsert.length - 1].firstChild.setAttribute(script_attrs[i].name, script_attrs[i].value);\n",
       "        toinsert[toinsert.length - 1].firstChild.textContent = bk_div.children[0].textContent\n",
       "      }\n",
       "      // store reference to server id on output_area\n",
       "      output_area._bokeh_server_id = output.metadata[EXEC_MIME_TYPE][\"server_id\"];\n",
       "    }\n",
       "  }\n",
       "\n",
       "  function register_renderer(events, OutputArea) {\n",
       "\n",
       "    function append_mime(data, metadata, element) {\n",
       "      // create a DOM node to render to\n",
       "      var toinsert = this.create_output_subarea(\n",
       "        metadata,\n",
       "        CLASS_NAME,\n",
       "        EXEC_MIME_TYPE\n",
       "      );\n",
       "      this.keyboard_manager.register_events(toinsert);\n",
       "      // Render to node\n",
       "      var props = {data: data, metadata: metadata[EXEC_MIME_TYPE]};\n",
       "      render(props, toinsert[toinsert.length - 1]);\n",
       "      element.append(toinsert);\n",
       "      return toinsert\n",
       "    }\n",
       "\n",
       "    /* Handle when an output is cleared or removed */\n",
       "    events.on('clear_output.CodeCell', handleClearOutput);\n",
       "    events.on('delete.Cell', handleClearOutput);\n",
       "\n",
       "    /* Handle when a new output is added */\n",
       "    events.on('output_added.OutputArea', handleAddOutput);\n",
       "\n",
       "    /**\n",
       "     * Register the mime type and append_mime function with output_area\n",
       "     */\n",
       "    OutputArea.prototype.register_mime_type(EXEC_MIME_TYPE, append_mime, {\n",
       "      /* Is output safe? */\n",
       "      safe: true,\n",
       "      /* Index of renderer in `output_area.display_order` */\n",
       "      index: 0\n",
       "    });\n",
       "  }\n",
       "\n",
       "  // register the mime type if in Jupyter Notebook environment and previously unregistered\n",
       "  if (root.Jupyter !== undefined) {\n",
       "    var events = require('base/js/events');\n",
       "    var OutputArea = require('notebook/js/outputarea').OutputArea;\n",
       "\n",
       "    if (OutputArea.prototype.mime_types().indexOf(EXEC_MIME_TYPE) == -1) {\n",
       "      register_renderer(events, OutputArea);\n",
       "    }\n",
       "  }\n",
       "\n",
       "  \n",
       "  if (typeof (root._bokeh_timeout) === \"undefined\" || force === true) {\n",
       "    root._bokeh_timeout = Date.now() + 5000;\n",
       "    root._bokeh_failed_load = false;\n",
       "  }\n",
       "\n",
       "  var NB_LOAD_WARNING = {'data': {'text/html':\n",
       "     \"<div style='background-color: #fdd'>\\n\"+\n",
       "     \"<p>\\n\"+\n",
       "     \"BokehJS does not appear to have successfully loaded. If loading BokehJS from CDN, this \\n\"+\n",
       "     \"may be due to a slow or bad network connection. Possible fixes:\\n\"+\n",
       "     \"</p>\\n\"+\n",
       "     \"<ul>\\n\"+\n",
       "     \"<li>re-rerun `output_notebook()` to attempt to load from CDN again, or</li>\\n\"+\n",
       "     \"<li>use INLINE resources instead, as so:</li>\\n\"+\n",
       "     \"</ul>\\n\"+\n",
       "     \"<code>\\n\"+\n",
       "     \"from bokeh.resources import INLINE\\n\"+\n",
       "     \"output_notebook(resources=INLINE)\\n\"+\n",
       "     \"</code>\\n\"+\n",
       "     \"</div>\"}};\n",
       "\n",
       "  function display_loaded() {\n",
       "    var el = document.getElementById(\"1002\");\n",
       "    if (el != null) {\n",
       "      el.textContent = \"BokehJS is loading...\";\n",
       "    }\n",
       "    if (root.Bokeh !== undefined) {\n",
       "      if (el != null) {\n",
       "        el.textContent = \"BokehJS \" + root.Bokeh.version + \" successfully loaded.\";\n",
       "      }\n",
       "    } else if (Date.now() < root._bokeh_timeout) {\n",
       "      setTimeout(display_loaded, 100)\n",
       "    }\n",
       "  }\n",
       "\n",
       "\n",
       "  function run_callbacks() {\n",
       "    try {\n",
       "      root._bokeh_onload_callbacks.forEach(function(callback) {\n",
       "        if (callback != null)\n",
       "          callback();\n",
       "      });\n",
       "    } finally {\n",
       "      delete root._bokeh_onload_callbacks\n",
       "    }\n",
       "    console.debug(\"Bokeh: all callbacks have finished\");\n",
       "  }\n",
       "\n",
       "  function load_libs(css_urls, js_urls, callback) {\n",
       "    if (css_urls == null) css_urls = [];\n",
       "    if (js_urls == null) js_urls = [];\n",
       "\n",
       "    root._bokeh_onload_callbacks.push(callback);\n",
       "    if (root._bokeh_is_loading > 0) {\n",
       "      console.debug(\"Bokeh: BokehJS is being loaded, scheduling callback at\", now());\n",
       "      return null;\n",
       "    }\n",
       "    if (js_urls == null || js_urls.length === 0) {\n",
       "      run_callbacks();\n",
       "      return null;\n",
       "    }\n",
       "    console.debug(\"Bokeh: BokehJS not loaded, scheduling load and callback at\", now());\n",
       "    root._bokeh_is_loading = css_urls.length + js_urls.length;\n",
       "\n",
       "    function on_load() {\n",
       "      root._bokeh_is_loading--;\n",
       "      if (root._bokeh_is_loading === 0) {\n",
       "        console.debug(\"Bokeh: all BokehJS libraries/stylesheets loaded\");\n",
       "        run_callbacks()\n",
       "      }\n",
       "    }\n",
       "\n",
       "    function on_error(url) {\n",
       "      console.error(\"failed to load \" + url);\n",
       "    }\n",
       "\n",
       "    for (let i = 0; i < css_urls.length; i++) {\n",
       "      const url = css_urls[i];\n",
       "      const element = document.createElement(\"link\");\n",
       "      element.onload = on_load;\n",
       "      element.onerror = on_error.bind(null, url);\n",
       "      element.rel = \"stylesheet\";\n",
       "      element.type = \"text/css\";\n",
       "      element.href = url;\n",
       "      console.debug(\"Bokeh: injecting link tag for BokehJS stylesheet: \", url);\n",
       "      document.body.appendChild(element);\n",
       "    }\n",
       "\n",
       "    const hashes = {\"https://cdn.bokeh.org/bokeh/release/bokeh-2.3.3.min.js\": \"dM3QQsP+wXdHg42wTqW85BjZQdLNNIXqlPw/BgKoExPmTG7ZLML4EGqLMfqHT6ON\", \"https://cdn.bokeh.org/bokeh/release/bokeh-tables-2.3.3.min.js\": \"8x57I4YuIfu8XyZfFo0XVr2WAT8EK4rh/uDe3wF7YuW2FNUSNEpJbsPaB1nJ2fz2\", \"https://cdn.bokeh.org/bokeh/release/bokeh-widgets-2.3.3.min.js\": \"3QTqdz9LyAm2i0sG5XTePsHec3UHWwVsrOL68SYRoAXsafvfAyqtQ+h440+qIBhS\"};\n",
       "\n",
       "    for (let i = 0; i < js_urls.length; i++) {\n",
       "      const url = js_urls[i];\n",
       "      const element = document.createElement('script');\n",
       "      element.onload = on_load;\n",
       "      element.onerror = on_error.bind(null, url);\n",
       "      element.async = false;\n",
       "      element.src = url;\n",
       "      if (url in hashes) {\n",
       "        element.crossOrigin = \"anonymous\";\n",
       "        element.integrity = \"sha384-\" + hashes[url];\n",
       "      }\n",
       "      console.debug(\"Bokeh: injecting script tag for BokehJS library: \", url);\n",
       "      document.head.appendChild(element);\n",
       "    }\n",
       "  };\n",
       "\n",
       "  function inject_raw_css(css) {\n",
       "    const element = document.createElement(\"style\");\n",
       "    element.appendChild(document.createTextNode(css));\n",
       "    document.body.appendChild(element);\n",
       "  }\n",
       "\n",
       "  \n",
       "  var js_urls = [\"https://cdn.bokeh.org/bokeh/release/bokeh-2.3.3.min.js\", \"https://cdn.bokeh.org/bokeh/release/bokeh-widgets-2.3.3.min.js\", \"https://cdn.bokeh.org/bokeh/release/bokeh-tables-2.3.3.min.js\"];\n",
       "  var css_urls = [];\n",
       "  \n",
       "\n",
       "  var inline_js = [\n",
       "    function(Bokeh) {\n",
       "      Bokeh.set_log_level(\"info\");\n",
       "    },\n",
       "    function(Bokeh) {\n",
       "    \n",
       "    \n",
       "    }\n",
       "  ];\n",
       "\n",
       "  function run_inline_js() {\n",
       "    \n",
       "    if (root.Bokeh !== undefined || force === true) {\n",
       "      \n",
       "    for (var i = 0; i < inline_js.length; i++) {\n",
       "      inline_js[i].call(root, root.Bokeh);\n",
       "    }\n",
       "    if (force === true) {\n",
       "        display_loaded();\n",
       "      }} else if (Date.now() < root._bokeh_timeout) {\n",
       "      setTimeout(run_inline_js, 100);\n",
       "    } else if (!root._bokeh_failed_load) {\n",
       "      console.log(\"Bokeh: BokehJS failed to load within specified timeout.\");\n",
       "      root._bokeh_failed_load = true;\n",
       "    } else if (force !== true) {\n",
       "      var cell = $(document.getElementById(\"1002\")).parents('.cell').data().cell;\n",
       "      cell.output_area.append_execute_result(NB_LOAD_WARNING)\n",
       "    }\n",
       "\n",
       "  }\n",
       "\n",
       "  if (root._bokeh_is_loading === 0) {\n",
       "    console.debug(\"Bokeh: BokehJS loaded, going straight to plotting\");\n",
       "    run_inline_js();\n",
       "  } else {\n",
       "    load_libs(css_urls, js_urls, function() {\n",
       "      console.debug(\"Bokeh: BokehJS plotting callback run at\", now());\n",
       "      run_inline_js();\n",
       "    });\n",
       "  }\n",
       "}(window));"
      ],
      "application/vnd.bokehjs_load.v0+json": "\n(function(root) {\n  function now() {\n    return new Date();\n  }\n\n  var force = true;\n\n  if (typeof root._bokeh_onload_callbacks === \"undefined\" || force === true) {\n    root._bokeh_onload_callbacks = [];\n    root._bokeh_is_loading = undefined;\n  }\n\n  \n\n  \n  if (typeof (root._bokeh_timeout) === \"undefined\" || force === true) {\n    root._bokeh_timeout = Date.now() + 5000;\n    root._bokeh_failed_load = false;\n  }\n\n  var NB_LOAD_WARNING = {'data': {'text/html':\n     \"<div style='background-color: #fdd'>\\n\"+\n     \"<p>\\n\"+\n     \"BokehJS does not appear to have successfully loaded. If loading BokehJS from CDN, this \\n\"+\n     \"may be due to a slow or bad network connection. Possible fixes:\\n\"+\n     \"</p>\\n\"+\n     \"<ul>\\n\"+\n     \"<li>re-rerun `output_notebook()` to attempt to load from CDN again, or</li>\\n\"+\n     \"<li>use INLINE resources instead, as so:</li>\\n\"+\n     \"</ul>\\n\"+\n     \"<code>\\n\"+\n     \"from bokeh.resources import INLINE\\n\"+\n     \"output_notebook(resources=INLINE)\\n\"+\n     \"</code>\\n\"+\n     \"</div>\"}};\n\n  function display_loaded() {\n    var el = document.getElementById(\"1002\");\n    if (el != null) {\n      el.textContent = \"BokehJS is loading...\";\n    }\n    if (root.Bokeh !== undefined) {\n      if (el != null) {\n        el.textContent = \"BokehJS \" + root.Bokeh.version + \" successfully loaded.\";\n      }\n    } else if (Date.now() < root._bokeh_timeout) {\n      setTimeout(display_loaded, 100)\n    }\n  }\n\n\n  function run_callbacks() {\n    try {\n      root._bokeh_onload_callbacks.forEach(function(callback) {\n        if (callback != null)\n          callback();\n      });\n    } finally {\n      delete root._bokeh_onload_callbacks\n    }\n    console.debug(\"Bokeh: all callbacks have finished\");\n  }\n\n  function load_libs(css_urls, js_urls, callback) {\n    if (css_urls == null) css_urls = [];\n    if (js_urls == null) js_urls = [];\n\n    root._bokeh_onload_callbacks.push(callback);\n    if (root._bokeh_is_loading > 0) {\n      console.debug(\"Bokeh: BokehJS is being loaded, scheduling callback at\", now());\n      return null;\n    }\n    if (js_urls == null || js_urls.length === 0) {\n      run_callbacks();\n      return null;\n    }\n    console.debug(\"Bokeh: BokehJS not loaded, scheduling load and callback at\", now());\n    root._bokeh_is_loading = css_urls.length + js_urls.length;\n\n    function on_load() {\n      root._bokeh_is_loading--;\n      if (root._bokeh_is_loading === 0) {\n        console.debug(\"Bokeh: all BokehJS libraries/stylesheets loaded\");\n        run_callbacks()\n      }\n    }\n\n    function on_error(url) {\n      console.error(\"failed to load \" + url);\n    }\n\n    for (let i = 0; i < css_urls.length; i++) {\n      const url = css_urls[i];\n      const element = document.createElement(\"link\");\n      element.onload = on_load;\n      element.onerror = on_error.bind(null, url);\n      element.rel = \"stylesheet\";\n      element.type = \"text/css\";\n      element.href = url;\n      console.debug(\"Bokeh: injecting link tag for BokehJS stylesheet: \", url);\n      document.body.appendChild(element);\n    }\n\n    const hashes = {\"https://cdn.bokeh.org/bokeh/release/bokeh-2.3.3.min.js\": \"dM3QQsP+wXdHg42wTqW85BjZQdLNNIXqlPw/BgKoExPmTG7ZLML4EGqLMfqHT6ON\", \"https://cdn.bokeh.org/bokeh/release/bokeh-tables-2.3.3.min.js\": \"8x57I4YuIfu8XyZfFo0XVr2WAT8EK4rh/uDe3wF7YuW2FNUSNEpJbsPaB1nJ2fz2\", \"https://cdn.bokeh.org/bokeh/release/bokeh-widgets-2.3.3.min.js\": \"3QTqdz9LyAm2i0sG5XTePsHec3UHWwVsrOL68SYRoAXsafvfAyqtQ+h440+qIBhS\"};\n\n    for (let i = 0; i < js_urls.length; i++) {\n      const url = js_urls[i];\n      const element = document.createElement('script');\n      element.onload = on_load;\n      element.onerror = on_error.bind(null, url);\n      element.async = false;\n      element.src = url;\n      if (url in hashes) {\n        element.crossOrigin = \"anonymous\";\n        element.integrity = \"sha384-\" + hashes[url];\n      }\n      console.debug(\"Bokeh: injecting script tag for BokehJS library: \", url);\n      document.head.appendChild(element);\n    }\n  };\n\n  function inject_raw_css(css) {\n    const element = document.createElement(\"style\");\n    element.appendChild(document.createTextNode(css));\n    document.body.appendChild(element);\n  }\n\n  \n  var js_urls = [\"https://cdn.bokeh.org/bokeh/release/bokeh-2.3.3.min.js\", \"https://cdn.bokeh.org/bokeh/release/bokeh-widgets-2.3.3.min.js\", \"https://cdn.bokeh.org/bokeh/release/bokeh-tables-2.3.3.min.js\"];\n  var css_urls = [];\n  \n\n  var inline_js = [\n    function(Bokeh) {\n      Bokeh.set_log_level(\"info\");\n    },\n    function(Bokeh) {\n    \n    \n    }\n  ];\n\n  function run_inline_js() {\n    \n    if (root.Bokeh !== undefined || force === true) {\n      \n    for (var i = 0; i < inline_js.length; i++) {\n      inline_js[i].call(root, root.Bokeh);\n    }\n    if (force === true) {\n        display_loaded();\n      }} else if (Date.now() < root._bokeh_timeout) {\n      setTimeout(run_inline_js, 100);\n    } else if (!root._bokeh_failed_load) {\n      console.log(\"Bokeh: BokehJS failed to load within specified timeout.\");\n      root._bokeh_failed_load = true;\n    } else if (force !== true) {\n      var cell = $(document.getElementById(\"1002\")).parents('.cell').data().cell;\n      cell.output_area.append_execute_result(NB_LOAD_WARNING)\n    }\n\n  }\n\n  if (root._bokeh_is_loading === 0) {\n    console.debug(\"Bokeh: BokehJS loaded, going straight to plotting\");\n    run_inline_js();\n  } else {\n    load_libs(css_urls, js_urls, function() {\n      console.debug(\"Bokeh: BokehJS plotting callback run at\", now());\n      run_inline_js();\n    });\n  }\n}(window));"
     },
     "metadata": {},
     "output_type": "display_data"
    }
   ],
   "source": [
    "from bokeh.plotting import Figure, output_notebook, show, save\n",
    "from bokeh.models import ColumnDataSource, HoverTool, GroupFilter, CDSView\n",
    "\n",
    "output_notebook()\n",
    "\n",
    "import pandas as pd\n",
    "df = pd.read_csv('data/mpg.csv')"
   ]
  },
  {
   "cell_type": "markdown",
   "metadata": {
    "slideshow": {
     "slide_type": "slide"
    }
   },
   "source": [
    "- The `Figure` **class** in `bokeh.plotting` facilitates the creation of plots by adding a **default set of tools and styles**\n",
    "- Running `output_notebook()` results in our plots being shown in the notebook when `show()` is run\n",
    "- The `bokeh.plotting.save` method allows us to **save a HTML file** of our plots"
   ]
  },
  {
   "cell_type": "markdown",
   "metadata": {
    "slideshow": {
     "slide_type": "slide"
    }
   },
   "source": [
    "We have also imported some **classes** (from the `bokeh.models` module, which is a **lower-level interface** (i.e. more complex but allowing more customisation) for use in the following examples.\n",
    "\n",
    "- Classes (which by convention have Capitalised names) allow us to create (or **instantiate**) objects with pre-defined **methods** and **attributes**; an object created from a given class is said to be an **instance** of that class"
   ]
  },
  {
   "cell_type": "markdown",
   "metadata": {
    "slideshow": {
     "slide_type": "slide"
    }
   },
   "source": [
    "Creating an instance of `Figure` and then calling `show` outputs an empty plot (with the default tools next to it).\n",
    "\n",
    " - Bokeh also gives us a `WARNING` that the `Plot has no renderers`, i.e. nothing to place onto it."
   ]
  },
  {
   "cell_type": "code",
   "execution_count": 4,
   "metadata": {
    "slideshow": {
     "slide_type": "slide"
    }
   },
   "outputs": [
    {
     "name": "stderr",
     "output_type": "stream",
     "text": [
      "WARNING:bokeh.core.validation.check:W-1000 (MISSING_RENDERERS): Plot has no renderers: Figure(id='1003', ...)\n"
     ]
    },
    {
     "data": {
      "text/html": [
       "\n",
       "\n",
       "\n",
       "\n",
       "\n",
       "\n",
       "  <div class=\"bk-root\" id=\"24a8a1c0-3ff4-4714-ae13-0af0c7c0779d\" data-root-id=\"1003\"></div>\n"
      ]
     },
     "metadata": {},
     "output_type": "display_data"
    },
    {
     "data": {
      "application/javascript": [
       "(function(root) {\n",
       "  function embed_document(root) {\n",
       "    \n",
       "  var docs_json = {\"a9f2e248-0850-447f-beb4-0c656c37eaab\":{\"defs\":[],\"roots\":{\"references\":[{\"attributes\":{\"below\":[{\"id\":\"1012\"}],\"center\":[{\"id\":\"1015\"},{\"id\":\"1019\"}],\"height\":300,\"left\":[{\"id\":\"1016\"}],\"title\":{\"id\":\"1035\"},\"toolbar\":{\"id\":\"1027\"},\"width\":300,\"x_range\":{\"id\":\"1004\"},\"x_scale\":{\"id\":\"1008\"},\"y_range\":{\"id\":\"1006\"},\"y_scale\":{\"id\":\"1010\"}},\"id\":\"1003\",\"subtype\":\"Figure\",\"type\":\"Plot\"},{\"attributes\":{},\"id\":\"1035\",\"type\":\"Title\"},{\"attributes\":{},\"id\":\"1040\",\"type\":\"BasicTickFormatter\"},{\"attributes\":{},\"id\":\"1017\",\"type\":\"BasicTicker\"},{\"attributes\":{},\"id\":\"1038\",\"type\":\"AllLabels\"},{\"attributes\":{\"axis\":{\"id\":\"1016\"},\"dimension\":1,\"ticker\":null},\"id\":\"1019\",\"type\":\"Grid\"},{\"attributes\":{},\"id\":\"1041\",\"type\":\"AllLabels\"},{\"attributes\":{\"formatter\":{\"id\":\"1040\"},\"major_label_policy\":{\"id\":\"1041\"},\"ticker\":{\"id\":\"1017\"}},\"id\":\"1016\",\"type\":\"LinearAxis\"},{\"attributes\":{},\"id\":\"1037\",\"type\":\"BasicTickFormatter\"},{\"attributes\":{\"bottom_units\":\"screen\",\"fill_alpha\":0.5,\"fill_color\":\"lightgrey\",\"left_units\":\"screen\",\"level\":\"overlay\",\"line_alpha\":1.0,\"line_color\":\"black\",\"line_dash\":[4,4],\"line_width\":2,\"right_units\":\"screen\",\"syncable\":false,\"top_units\":\"screen\"},\"id\":\"1026\",\"type\":\"BoxAnnotation\"},{\"attributes\":{\"active_multi\":null,\"tools\":[{\"id\":\"1020\"},{\"id\":\"1021\"},{\"id\":\"1022\"},{\"id\":\"1023\"},{\"id\":\"1024\"},{\"id\":\"1025\"}]},\"id\":\"1027\",\"type\":\"Toolbar\"},{\"attributes\":{},\"id\":\"1004\",\"type\":\"DataRange1d\"},{\"attributes\":{},\"id\":\"1020\",\"type\":\"PanTool\"},{\"attributes\":{},\"id\":\"1021\",\"type\":\"WheelZoomTool\"},{\"attributes\":{\"axis\":{\"id\":\"1012\"},\"ticker\":null},\"id\":\"1015\",\"type\":\"Grid\"},{\"attributes\":{\"overlay\":{\"id\":\"1026\"}},\"id\":\"1022\",\"type\":\"BoxZoomTool\"},{\"attributes\":{},\"id\":\"1010\",\"type\":\"LinearScale\"},{\"attributes\":{},\"id\":\"1023\",\"type\":\"SaveTool\"},{\"attributes\":{},\"id\":\"1006\",\"type\":\"DataRange1d\"},{\"attributes\":{},\"id\":\"1008\",\"type\":\"LinearScale\"},{\"attributes\":{},\"id\":\"1024\",\"type\":\"ResetTool\"},{\"attributes\":{},\"id\":\"1025\",\"type\":\"HelpTool\"},{\"attributes\":{\"formatter\":{\"id\":\"1037\"},\"major_label_policy\":{\"id\":\"1038\"},\"ticker\":{\"id\":\"1013\"}},\"id\":\"1012\",\"type\":\"LinearAxis\"},{\"attributes\":{},\"id\":\"1013\",\"type\":\"BasicTicker\"}],\"root_ids\":[\"1003\"]},\"title\":\"Bokeh Application\",\"version\":\"2.3.3\"}};\n",
       "  var render_items = [{\"docid\":\"a9f2e248-0850-447f-beb4-0c656c37eaab\",\"root_ids\":[\"1003\"],\"roots\":{\"1003\":\"24a8a1c0-3ff4-4714-ae13-0af0c7c0779d\"}}];\n",
       "  root.Bokeh.embed.embed_items_notebook(docs_json, render_items);\n",
       "\n",
       "  }\n",
       "  if (root.Bokeh !== undefined) {\n",
       "    embed_document(root);\n",
       "  } else {\n",
       "    var attempts = 0;\n",
       "    var timer = setInterval(function(root) {\n",
       "      if (root.Bokeh !== undefined) {\n",
       "        clearInterval(timer);\n",
       "        embed_document(root);\n",
       "      } else {\n",
       "        attempts++;\n",
       "        if (attempts > 100) {\n",
       "          clearInterval(timer);\n",
       "          console.log(\"Bokeh: ERROR: Unable to run BokehJS code because BokehJS library is missing\");\n",
       "        }\n",
       "      }\n",
       "    }, 10, root)\n",
       "  }\n",
       "})(window);"
      ],
      "application/vnd.bokehjs_exec.v0+json": ""
     },
     "metadata": {
      "application/vnd.bokehjs_exec.v0+json": {
       "id": "1003"
      }
     },
     "output_type": "display_data"
    }
   ],
   "source": [
    "weight_mpg = Figure(width=300, height=300)\n",
    "show(weight_mpg)"
   ]
  },
  {
   "cell_type": "code",
   "execution_count": 5,
   "metadata": {
    "slideshow": {
     "slide_type": "slide"
    }
   },
   "outputs": [
    {
     "data": {
      "text/html": [
       "\n",
       "\n",
       "\n",
       "\n",
       "\n",
       "\n",
       "  <div class=\"bk-root\" id=\"88033a3e-5f39-4e4d-8a87-0939b7c5c600\" data-root-id=\"1003\"></div>\n"
      ]
     },
     "metadata": {},
     "output_type": "display_data"
    },
    {
     "data": {
      "application/javascript": [
       "(function(root) {\n",
       "  function embed_document(root) {\n",
       "    \n",
       "  var docs_json = {\"7432e3b5-acfb-42a2-9e50-db0993c6901f\":{\"defs\":[],\"roots\":{\"references\":[{\"attributes\":{\"below\":[{\"id\":\"1012\"}],\"center\":[{\"id\":\"1015\"},{\"id\":\"1019\"}],\"height\":300,\"left\":[{\"id\":\"1016\"}],\"renderers\":[{\"id\":\"1091\"}],\"title\":{\"id\":\"1035\"},\"toolbar\":{\"id\":\"1027\"},\"width\":300,\"x_range\":{\"id\":\"1004\"},\"x_scale\":{\"id\":\"1008\"},\"y_range\":{\"id\":\"1006\"},\"y_scale\":{\"id\":\"1010\"}},\"id\":\"1003\",\"subtype\":\"Figure\",\"type\":\"Plot\"},{\"attributes\":{},\"id\":\"1035\",\"type\":\"Title\"},{\"attributes\":{},\"id\":\"1040\",\"type\":\"BasicTickFormatter\"},{\"attributes\":{},\"id\":\"1017\",\"type\":\"BasicTicker\"},{\"attributes\":{\"fill_color\":{\"value\":\"#1f77b4\"},\"line_color\":{\"value\":\"#1f77b4\"},\"x\":{\"field\":\"x\"},\"y\":{\"field\":\"y\"}},\"id\":\"1089\",\"type\":\"Scatter\"},{\"attributes\":{},\"id\":\"1103\",\"type\":\"Selection\"},{\"attributes\":{},\"id\":\"1038\",\"type\":\"AllLabels\"},{\"attributes\":{\"axis\":{\"id\":\"1016\"},\"dimension\":1,\"ticker\":null},\"id\":\"1019\",\"type\":\"Grid\"},{\"attributes\":{},\"id\":\"1041\",\"type\":\"AllLabels\"},{\"attributes\":{\"formatter\":{\"id\":\"1040\"},\"major_label_policy\":{\"id\":\"1041\"},\"ticker\":{\"id\":\"1017\"}},\"id\":\"1016\",\"type\":\"LinearAxis\"},{\"attributes\":{\"source\":{\"id\":\"1088\"}},\"id\":\"1092\",\"type\":\"CDSView\"},{\"attributes\":{},\"id\":\"1102\",\"type\":\"UnionRenderers\"},{\"attributes\":{},\"id\":\"1037\",\"type\":\"BasicTickFormatter\"},{\"attributes\":{\"bottom_units\":\"screen\",\"fill_alpha\":0.5,\"fill_color\":\"lightgrey\",\"left_units\":\"screen\",\"level\":\"overlay\",\"line_alpha\":1.0,\"line_color\":\"black\",\"line_dash\":[4,4],\"line_width\":2,\"right_units\":\"screen\",\"syncable\":false,\"top_units\":\"screen\"},\"id\":\"1026\",\"type\":\"BoxAnnotation\"},{\"attributes\":{\"active_multi\":null,\"tools\":[{\"id\":\"1020\"},{\"id\":\"1021\"},{\"id\":\"1022\"},{\"id\":\"1023\"},{\"id\":\"1024\"},{\"id\":\"1025\"}]},\"id\":\"1027\",\"type\":\"Toolbar\"},{\"attributes\":{},\"id\":\"1004\",\"type\":\"DataRange1d\"},{\"attributes\":{},\"id\":\"1020\",\"type\":\"PanTool\"},{\"attributes\":{},\"id\":\"1021\",\"type\":\"WheelZoomTool\"},{\"attributes\":{\"data\":{\"x\":[3504,3693,3436,3433,3449,4341,4354,4312,4425,3850,3563,3609,3761,3086,2372,2833,2774,2587,2130,1835,2672,2430,2375,2234,2648,4615,4376,4382,4732,2130,2264,2228,2046,2634,3439,3329,3302,3288,4209,4464,4154,4096,4955,4746,5140,2962,2408,3282,3139,2220,2123,2074,2065,1773,1613,1834,1955,2278,2126,2254,2408,2226,4274,4385,4135,4129,3672,4633,4502,4456,4422,2330,3892,4098,4294,4077,2933,2511,2979,2189,2395,2288,2506,2164,2100,4100,3672,3988,4042,3777,4952,4464,4363,4237,4735,4951,3821,3121,3278,2945,3021,2904,1950,4997,4906,4654,4499,2789,2279,2401,2379,2124,2310,2472,2265,4082,4278,1867,2158,2582,2868,3399,2660,2807,3664,3102,2875,2901,3336,1950,2451,1836,2542,3781,3632,3613,4141,4699,4457,4638,4257,2219,1963,2300,1649,2003,2125,2108,2246,2489,2391,2000,3264,3459,3432,3158,4668,4440,4498,4657,3907,3897,3730,3785,3039,3221,3169,2171,2639,2914,2592,2702,2223,2545,2984,1937,3211,2694,2957,2945,2671,1795,2464,2220,2572,2255,2202,4215,4190,3962,4215,3233,3353,3012,3085,2035,2164,1937,1795,3651,3574,3645,3193,1825,1990,2155,2565,3150,3940,3270,2930,3820,4380,4055,3870,3755,2045,2155,1825,2300,1945,3880,4060,4140,4295,3520,3425,3630,3525,4220,4165,4325,4335,1940,2740,2265,2755,2051,2075,1985,2190,2815,2600,2720,1985,1800,1985,2070,1800,3365,3735,3570,3535,3155,2965,2720,3430,3210,3380,3070,3620,3410,3425,3445,3205,4080,2155,2560,2300,2230,2515,2745,2855,2405,2830,3140,2795,3410,1990,2135,3245,2990,2890,3265,3360,3840,3725,3955,3830,4360,4054,3605,3940,1925,1975,1915,2670,3530,3900,3190,3420,2200,2150,2020,2130,2670,2595,2700,2556,2144,1968,2120,2019,2678,2870,3003,3381,2188,2711,2542,2434,2265,2110,2800,2110,2085,2335,2950,3250,1850,1835,2145,1845,2910,2420,2500,2905,2290,2490,2635,2620,2725,2385,1755,1875,1760,2065,1975,2050,1985,2215,2045,2380,2190,2320,2210,2350,2615,2635,3230,3160,2900,2930,3415,3725,3060,3465,2605,2640,2395,2575,2525,2735,2865,3035,1980,2025,1970,2125,2125,2160,2205,2245,1965,1965,1995,2945,3015,2585,2835,2665,2370,2950,2790,2130,2295,2625,2720],\"y\":{\"__ndarray__\":\"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\",\"dtype\":\"float64\",\"order\":\"little\",\"shape\":[398]}},\"selected\":{\"id\":\"1103\"},\"selection_policy\":{\"id\":\"1102\"}},\"id\":\"1088\",\"type\":\"ColumnDataSource\"},{\"attributes\":{\"axis\":{\"id\":\"1012\"},\"ticker\":null},\"id\":\"1015\",\"type\":\"Grid\"},{\"attributes\":{\"overlay\":{\"id\":\"1026\"}},\"id\":\"1022\",\"type\":\"BoxZoomTool\"},{\"attributes\":{},\"id\":\"1010\",\"type\":\"LinearScale\"},{\"attributes\":{},\"id\":\"1023\",\"type\":\"SaveTool\"},{\"attributes\":{},\"id\":\"1006\",\"type\":\"DataRange1d\"},{\"attributes\":{\"data_source\":{\"id\":\"1088\"},\"glyph\":{\"id\":\"1089\"},\"hover_glyph\":null,\"muted_glyph\":null,\"nonselection_glyph\":{\"id\":\"1090\"},\"view\":{\"id\":\"1092\"}},\"id\":\"1091\",\"type\":\"GlyphRenderer\"},{\"attributes\":{},\"id\":\"1008\",\"type\":\"LinearScale\"},{\"attributes\":{},\"id\":\"1024\",\"type\":\"ResetTool\"},{\"attributes\":{},\"id\":\"1025\",\"type\":\"HelpTool\"},{\"attributes\":{\"fill_alpha\":{\"value\":0.1},\"fill_color\":{\"value\":\"#1f77b4\"},\"line_alpha\":{\"value\":0.1},\"line_color\":{\"value\":\"#1f77b4\"},\"x\":{\"field\":\"x\"},\"y\":{\"field\":\"y\"}},\"id\":\"1090\",\"type\":\"Scatter\"},{\"attributes\":{\"formatter\":{\"id\":\"1037\"},\"major_label_policy\":{\"id\":\"1038\"},\"ticker\":{\"id\":\"1013\"}},\"id\":\"1012\",\"type\":\"LinearAxis\"},{\"attributes\":{},\"id\":\"1013\",\"type\":\"BasicTicker\"}],\"root_ids\":[\"1003\"]},\"title\":\"Bokeh Application\",\"version\":\"2.3.3\"}};\n",
       "  var render_items = [{\"docid\":\"7432e3b5-acfb-42a2-9e50-db0993c6901f\",\"root_ids\":[\"1003\"],\"roots\":{\"1003\":\"88033a3e-5f39-4e4d-8a87-0939b7c5c600\"}}];\n",
       "  root.Bokeh.embed.embed_items_notebook(docs_json, render_items);\n",
       "\n",
       "  }\n",
       "  if (root.Bokeh !== undefined) {\n",
       "    embed_document(root);\n",
       "  } else {\n",
       "    var attempts = 0;\n",
       "    var timer = setInterval(function(root) {\n",
       "      if (root.Bokeh !== undefined) {\n",
       "        clearInterval(timer);\n",
       "        embed_document(root);\n",
       "      } else {\n",
       "        attempts++;\n",
       "        if (attempts > 100) {\n",
       "          clearInterval(timer);\n",
       "          console.log(\"Bokeh: ERROR: Unable to run BokehJS code because BokehJS library is missing\");\n",
       "        }\n",
       "      }\n",
       "    }, 10, root)\n",
       "  }\n",
       "})(window);"
      ],
      "application/vnd.bokehjs_exec.v0+json": ""
     },
     "metadata": {
      "application/vnd.bokehjs_exec.v0+json": {
       "id": "1003"
      }
     },
     "output_type": "display_data"
    }
   ],
   "source": [
    "weight_mpg.scatter(x=df['weight'], y=df['mpg'])\n",
    "show(weight_mpg)"
   ]
  },
  {
   "cell_type": "markdown",
   "metadata": {
    "slideshow": {
     "slide_type": "slide"
    }
   },
   "source": [
    "`weight_mpg` (our instance of a `Figure`) has **inherited** the various methods in the `Figure` **class definition**, including the `.scatter()` method.\n",
    "\n",
    "- Similarly to the `pandas` and `seaborn` plotting methods seen previously, we provide arguments for the `x` and `y` parameters\n",
    "\n",
    "- `x` and `y` can be of various data types (lists, Series, DataFrame columns) but **must be the same length**"
   ]
  },
  {
   "cell_type": "code",
   "execution_count": 6,
   "metadata": {
    "slideshow": {
     "slide_type": "slide"
    }
   },
   "outputs": [
    {
     "data": {
      "text/html": [
       "\n",
       "\n",
       "\n",
       "\n",
       "\n",
       "\n",
       "  <div class=\"bk-root\" id=\"c9f3fb80-6e25-4376-acf6-02e159e0ca00\" data-root-id=\"1159\"></div>\n"
      ]
     },
     "metadata": {},
     "output_type": "display_data"
    },
    {
     "data": {
      "application/javascript": [
       "(function(root) {\n",
       "  function embed_document(root) {\n",
       "    \n",
       "  var docs_json = {\"109135f1-a87c-43cd-a184-0a2776896d3f\":{\"defs\":[],\"roots\":{\"references\":[{\"attributes\":{\"below\":[{\"id\":\"1168\"}],\"center\":[{\"id\":\"1171\"},{\"id\":\"1175\"}],\"height\":300,\"left\":[{\"id\":\"1172\"}],\"renderers\":[{\"id\":\"1193\"}],\"title\":{\"id\":\"1207\"},\"toolbar\":{\"id\":\"1183\"},\"width\":400,\"x_range\":{\"id\":\"1160\"},\"x_scale\":{\"id\":\"1164\"},\"y_range\":{\"id\":\"1162\"},\"y_scale\":{\"id\":\"1166\"}},\"id\":\"1159\",\"subtype\":\"Figure\",\"type\":\"Plot\"},{\"attributes\":{\"data_source\":{\"id\":\"1190\"},\"glyph\":{\"id\":\"1191\"},\"hover_glyph\":null,\"muted_glyph\":null,\"nonselection_glyph\":{\"id\":\"1192\"},\"view\":{\"id\":\"1194\"}},\"id\":\"1193\",\"type\":\"GlyphRenderer\"},{\"attributes\":{},\"id\":\"1209\",\"type\":\"BasicTickFormatter\"},{\"attributes\":{\"bottom_units\":\"screen\",\"fill_alpha\":0.5,\"fill_color\":\"lightgrey\",\"left_units\":\"screen\",\"level\":\"overlay\",\"line_alpha\":1.0,\"line_color\":\"black\",\"line_dash\":[4,4],\"line_width\":2,\"right_units\":\"screen\",\"syncable\":false,\"top_units\":\"screen\"},\"id\":\"1182\",\"type\":\"BoxAnnotation\"},{\"attributes\":{},\"id\":\"1164\",\"type\":\"LinearScale\"},{\"attributes\":{},\"id\":\"1212\",\"type\":\"BasicTickFormatter\"},{\"attributes\":{},\"id\":\"1176\",\"type\":\"PanTool\"},{\"attributes\":{},\"id\":\"1210\",\"type\":\"AllLabels\"},{\"attributes\":{\"data\":{\"fill_color\":[\"#CE1141\",\"#CE1141\",\"#CE1141\",\"#CE1141\",\"#CE1141\",\"#CE1141\",\"#CE1141\",\"#CE1141\",\"#CE1141\",\"#CE1141\",\"#CE1141\",\"#CE1141\",\"#CE1141\",\"#CE1141\",\"orange\",\"#CE1141\",\"#CE1141\",\"#CE1141\",\"orange\",\"blue\",\"blue\",\"blue\",\"blue\",\"blue\",\"#CE1141\",\"#CE1141\",\"#CE1141\",\"#CE1141\",\"#CE1141\",\"orange\",\"#CE1141\",\"orange\",\"#CE1141\",\"#CE1141\",\"#CE1141\",\"#CE1141\",\"#CE1141\",\"#CE1141\",\"#CE1141\",\"#CE1141\",\"#CE1141\",\"#CE1141\",\"#CE1141\",\"#CE1141\",\"#CE1141\",\"#CE1141\",\"#CE1141\",\"#CE1141\",\"#CE1141\",\"#CE1141\",\"blue\",\"blue\",\"blue\",\"orange\",\"orange\",\"blue\",\"#CE1141\",\"orange\",\"#CE1141\",\"blue\",\"#CE1141\",\"#CE1141\",\"#CE1141\",\"#CE1141\",\"#CE1141\",\"#CE1141\",\"#CE1141\",\"#CE1141\",\"#CE1141\",\"#CE1141\",\"#CE1141\",\"orange\",\"#CE1141\",\"#CE1141\",\"#CE1141\",\"#CE1141\",\"blue\",\"blue\",\"blue\",\"blue\",\"#CE1141\",\"orange\",\"orange\",\"#CE1141\",\"orange\",\"#CE1141\",\"#CE1141\",\"#CE1141\",\"#CE1141\",\"#CE1141\",\"#CE1141\",\"#CE1141\",\"#CE1141\",\"#CE1141\",\"#CE1141\",\"#CE1141\",\"#CE1141\",\"#CE1141\",\"#CE1141\",\"#CE1141\",\"#CE1141\",\"#CE1141\",\"blue\",\"#CE1141\",\"#CE1141\",\"#CE1141\",\"#CE1141\",\"#CE1141\",\"orange\",\"#CE1141\",\"orange\",\"orange\",\"#CE1141\",\"#CE1141\",\"blue\",\"#CE1141\",\"#CE1141\",\"blue\",\"blue\",\"blue\",\"blue\",\"#CE1141\",\"blue\",\"orange\",\"#CE1141\",\"#CE1141\",\"#CE1141\",\"#CE1141\",\"#CE1141\",\"orange\",\"#CE1141\",\"orange\",\"#CE1141\",\"#CE1141\",\"#CE1141\",\"#CE1141\",\"#CE1141\",\"#CE1141\",\"#CE1141\",\"#CE1141\",\"#CE1141\",\"blue\",\"blue\",\"blue\",\"orange\",\"orange\",\"#CE1141\",\"blue\",\"blue\",\"orange\",\"orange\",\"blue\",\"#CE1141\",\"#CE1141\",\"#CE1141\",\"#CE1141\",\"#CE1141\",\"#CE1141\",\"#CE1141\",\"#CE1141\",\"#CE1141\",\"#CE1141\",\"#CE1141\",\"#CE1141\",\"#CE1141\",\"#CE1141\",\"#CE1141\",\"orange\",\"#CE1141\",\"#CE1141\",\"#CE1141\",\"orange\",\"blue\",\"orange\",\"#CE1141\",\"blue\",\"#CE1141\",\"blue\",\"blue\",\"blue\",\"blue\",\"orange\",\"blue\",\"blue\",\"#CE1141\",\"#CE1141\",\"blue\",\"#CE1141\",\"#CE1141\",\"#CE1141\",\"#CE1141\",\"#CE1141\",\"#CE1141\",\"#CE1141\",\"#CE1141\",\"#CE1141\",\"#CE1141\",\"blue\",\"orange\",\"#CE1141\",\"#CE1141\",\"#CE1141\",\"#CE1141\",\"blue\",\"orange\",\"orange\",\"#CE1141\",\"blue\",\"#CE1141\",\"blue\",\"orange\",\"blue\",\"#CE1141\",\"#CE1141\",\"#CE1141\",\"#CE1141\",\"orange\",\"#CE1141\",\"blue\",\"#CE1141\",\"orange\",\"#CE1141\",\"#CE1141\",\"#CE1141\",\"#CE1141\",\"#CE1141\",\"#CE1141\",\"#CE1141\",\"#CE1141\",\"#CE1141\",\"#CE1141\",\"#CE1141\",\"#CE1141\",\"blue\",\"#CE1141\",\"orange\",\"#CE1141\",\"#CE1141\",\"#CE1141\",\"orange\",\"blue\",\"orange\",\"blue\",\"orange\",\"blue\",\"#CE1141\",\"orange\",\"orange\",\"orange\",\"#CE1141\",\"#CE1141\",\"#CE1141\",\"#CE1141\",\"#CE1141\",\"#CE1141\",\"#CE1141\",\"#CE1141\",\"#CE1141\",\"#CE1141\",\"#CE1141\",\"#CE1141\",\"#CE1141\",\"#CE1141\",\"#CE1141\",\"#CE1141\",\"#CE1141\",\"#CE1141\",\"orange\",\"orange\",\"#CE1141\",\"orange\",\"#CE1141\",\"#CE1141\",\"orange\",\"blue\",\"blue\",\"blue\",\"blue\",\"blue\",\"orange\",\"#CE1141\",\"#CE1141\",\"#CE1141\",\"#CE1141\",\"#CE1141\",\"#CE1141\",\"#CE1141\",\"#CE1141\",\"#CE1141\",\"#CE1141\",\"#CE1141\",\"#CE1141\",\"#CE1141\",\"blue\",\"orange\",\"#CE1141\",\"#CE1141\",\"blue\",\"#CE1141\",\"blue\",\"#CE1141\",\"#CE1141\",\"#CE1141\",\"orange\",\"blue\",\"#CE1141\",\"#CE1141\",\"#CE1141\",\"#CE1141\",\"blue\",\"orange\",\"#CE1141\",\"orange\",\"#CE1141\",\"#CE1141\",\"#CE1141\",\"#CE1141\",\"blue\",\"orange\",\"orange\",\"orange\",\"orange\",\"orange\",\"#CE1141\",\"orange\",\"blue\",\"blue\",\"blue\",\"blue\",\"orange\",\"blue\",\"orange\",\"blue\",\"orange\",\"orange\",\"blue\",\"#CE1141\",\"orange\",\"#CE1141\",\"#CE1141\",\"#CE1141\",\"#CE1141\",\"#CE1141\",\"orange\",\"#CE1141\",\"orange\",\"orange\",\"orange\",\"orange\",\"orange\",\"#CE1141\",\"#CE1141\",\"#CE1141\",\"blue\",\"blue\",\"orange\",\"orange\",\"orange\",\"orange\",\"blue\",\"blue\",\"orange\",\"orange\",\"#CE1141\",\"#CE1141\",\"#CE1141\",\"#CE1141\",\"#CE1141\",\"#CE1141\",\"#CE1141\",\"#CE1141\",\"#CE1141\",\"#CE1141\",\"#CE1141\",\"#CE1141\",\"blue\",\"orange\",\"orange\",\"#CE1141\",\"#CE1141\",\"orange\",\"orange\",\"orange\",\"orange\",\"orange\",\"orange\",\"#CE1141\",\"#CE1141\",\"#CE1141\",\"#CE1141\",\"orange\",\"#CE1141\",\"#CE1141\",\"#CE1141\",\"blue\",\"#CE1141\",\"#CE1141\",\"#CE1141\"],\"x\":{\"__ndarray__\":\"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\",\"dtype\":\"float64\",\"order\":\"little\",\"shape\":[398]},\"y\":[3504,3693,3436,3433,3449,4341,4354,4312,4425,3850,3563,3609,3761,3086,2372,2833,2774,2587,2130,1835,2672,2430,2375,2234,2648,4615,4376,4382,4732,2130,2264,2228,2046,2634,3439,3329,3302,3288,4209,4464,4154,4096,4955,4746,5140,2962,2408,3282,3139,2220,2123,2074,2065,1773,1613,1834,1955,2278,2126,2254,2408,2226,4274,4385,4135,4129,3672,4633,4502,4456,4422,2330,3892,4098,4294,4077,2933,2511,2979,2189,2395,2288,2506,2164,2100,4100,3672,3988,4042,3777,4952,4464,4363,4237,4735,4951,3821,3121,3278,2945,3021,2904,1950,4997,4906,4654,4499,2789,2279,2401,2379,2124,2310,2472,2265,4082,4278,1867,2158,2582,2868,3399,2660,2807,3664,3102,2875,2901,3336,1950,2451,1836,2542,3781,3632,3613,4141,4699,4457,4638,4257,2219,1963,2300,1649,2003,2125,2108,2246,2489,2391,2000,3264,3459,3432,3158,4668,4440,4498,4657,3907,3897,3730,3785,3039,3221,3169,2171,2639,2914,2592,2702,2223,2545,2984,1937,3211,2694,2957,2945,2671,1795,2464,2220,2572,2255,2202,4215,4190,3962,4215,3233,3353,3012,3085,2035,2164,1937,1795,3651,3574,3645,3193,1825,1990,2155,2565,3150,3940,3270,2930,3820,4380,4055,3870,3755,2045,2155,1825,2300,1945,3880,4060,4140,4295,3520,3425,3630,3525,4220,4165,4325,4335,1940,2740,2265,2755,2051,2075,1985,2190,2815,2600,2720,1985,1800,1985,2070,1800,3365,3735,3570,3535,3155,2965,2720,3430,3210,3380,3070,3620,3410,3425,3445,3205,4080,2155,2560,2300,2230,2515,2745,2855,2405,2830,3140,2795,3410,1990,2135,3245,2990,2890,3265,3360,3840,3725,3955,3830,4360,4054,3605,3940,1925,1975,1915,2670,3530,3900,3190,3420,2200,2150,2020,2130,2670,2595,2700,2556,2144,1968,2120,2019,2678,2870,3003,3381,2188,2711,2542,2434,2265,2110,2800,2110,2085,2335,2950,3250,1850,1835,2145,1845,2910,2420,2500,2905,2290,2490,2635,2620,2725,2385,1755,1875,1760,2065,1975,2050,1985,2215,2045,2380,2190,2320,2210,2350,2615,2635,3230,3160,2900,2930,3415,3725,3060,3465,2605,2640,2395,2575,2525,2735,2865,3035,1980,2025,1970,2125,2125,2160,2205,2245,1965,1965,1995,2945,3015,2585,2835,2665,2370,2950,2790,2130,2295,2625,2720]},\"selected\":{\"id\":\"1216\"},\"selection_policy\":{\"id\":\"1215\"}},\"id\":\"1190\",\"type\":\"ColumnDataSource\"},{\"attributes\":{},\"id\":\"1177\",\"type\":\"WheelZoomTool\"},{\"attributes\":{},\"id\":\"1213\",\"type\":\"AllLabels\"},{\"attributes\":{},\"id\":\"1160\",\"type\":\"DataRange1d\"},{\"attributes\":{\"overlay\":{\"id\":\"1182\"}},\"id\":\"1178\",\"type\":\"BoxZoomTool\"},{\"attributes\":{},\"id\":\"1215\",\"type\":\"UnionRenderers\"},{\"attributes\":{},\"id\":\"1216\",\"type\":\"Selection\"},{\"attributes\":{},\"id\":\"1179\",\"type\":\"SaveTool\"},{\"attributes\":{\"fill_color\":{\"field\":\"fill_color\"},\"line_color\":{\"value\":\"#1f77b4\"},\"size\":{\"value\":8},\"x\":{\"field\":\"x\"},\"y\":{\"field\":\"y\"}},\"id\":\"1191\",\"type\":\"Scatter\"},{\"attributes\":{},\"id\":\"1180\",\"type\":\"ResetTool\"},{\"attributes\":{},\"id\":\"1162\",\"type\":\"DataRange1d\"},{\"attributes\":{},\"id\":\"1207\",\"type\":\"Title\"},{\"attributes\":{\"source\":{\"id\":\"1190\"}},\"id\":\"1194\",\"type\":\"CDSView\"},{\"attributes\":{},\"id\":\"1181\",\"type\":\"HelpTool\"},{\"attributes\":{},\"id\":\"1166\",\"type\":\"LinearScale\"},{\"attributes\":{\"active_multi\":null,\"tools\":[{\"id\":\"1176\"},{\"id\":\"1177\"},{\"id\":\"1178\"},{\"id\":\"1179\"},{\"id\":\"1180\"},{\"id\":\"1181\"}]},\"id\":\"1183\",\"type\":\"Toolbar\"},{\"attributes\":{\"formatter\":{\"id\":\"1209\"},\"major_label_policy\":{\"id\":\"1210\"},\"ticker\":{\"id\":\"1169\"}},\"id\":\"1168\",\"type\":\"LinearAxis\"},{\"attributes\":{},\"id\":\"1173\",\"type\":\"BasicTicker\"},{\"attributes\":{\"fill_alpha\":{\"value\":0.1},\"fill_color\":{\"field\":\"fill_color\"},\"line_alpha\":{\"value\":0.1},\"line_color\":{\"value\":\"#1f77b4\"},\"size\":{\"value\":8},\"x\":{\"field\":\"x\"},\"y\":{\"field\":\"y\"}},\"id\":\"1192\",\"type\":\"Scatter\"},{\"attributes\":{},\"id\":\"1169\",\"type\":\"BasicTicker\"},{\"attributes\":{\"axis\":{\"id\":\"1168\"},\"ticker\":null},\"id\":\"1171\",\"type\":\"Grid\"},{\"attributes\":{\"axis\":{\"id\":\"1172\"},\"dimension\":1,\"ticker\":null},\"id\":\"1175\",\"type\":\"Grid\"},{\"attributes\":{\"formatter\":{\"id\":\"1212\"},\"major_label_policy\":{\"id\":\"1213\"},\"ticker\":{\"id\":\"1173\"}},\"id\":\"1172\",\"type\":\"LinearAxis\"}],\"root_ids\":[\"1159\"]},\"title\":\"Bokeh Application\",\"version\":\"2.3.3\"}};\n",
       "  var render_items = [{\"docid\":\"109135f1-a87c-43cd-a184-0a2776896d3f\",\"root_ids\":[\"1159\"],\"roots\":{\"1159\":\"c9f3fb80-6e25-4376-acf6-02e159e0ca00\"}}];\n",
       "  root.Bokeh.embed.embed_items_notebook(docs_json, render_items);\n",
       "\n",
       "  }\n",
       "  if (root.Bokeh !== undefined) {\n",
       "    embed_document(root);\n",
       "  } else {\n",
       "    var attempts = 0;\n",
       "    var timer = setInterval(function(root) {\n",
       "      if (root.Bokeh !== undefined) {\n",
       "        clearInterval(timer);\n",
       "        embed_document(root);\n",
       "      } else {\n",
       "        attempts++;\n",
       "        if (attempts > 100) {\n",
       "          clearInterval(timer);\n",
       "          console.log(\"Bokeh: ERROR: Unable to run BokehJS code because BokehJS library is missing\");\n",
       "        }\n",
       "      }\n",
       "    }, 10, root)\n",
       "  }\n",
       "})(window);"
      ],
      "application/vnd.bokehjs_exec.v0+json": ""
     },
     "metadata": {
      "application/vnd.bokehjs_exec.v0+json": {
       "id": "1159"
      }
     },
     "output_type": "display_data"
    }
   ],
   "source": [
    "origin_colors = {'usa':'#CE1141', 'japan': 'orange', 'europe': 'blue'}\n",
    "df['color_column'] = [origin_colors[x] for x in df['origin']]\n",
    "\n",
    "origin_eff = Figure(width=400, height=300)\n",
    "origin_eff.scatter(x=df['horsepower'], y=df['weight'], \\\n",
    "                   fill_color=df['color_column'], size=8)\n",
    "\n",
    "show(origin_eff)"
   ]
  },
  {
   "cell_type": "markdown",
   "metadata": {
    "slideshow": {
     "slide_type": "slide"
    }
   },
   "source": [
    "- We added `color_column` to `df`, using a dictionary to enter values based on `origin`\n",
    "- We created a new `Figure` and used the `.scatter()` method as before\n",
    "- We passed `df['color_column']` to the `fill_color` parameter\n",
    "- We modified the `size` of our datapoints"
   ]
  },
  {
   "cell_type": "code",
   "execution_count": 7,
   "metadata": {
    "slideshow": {
     "slide_type": "slide"
    }
   },
   "outputs": [
    {
     "data": {
      "text/html": [
       "\n",
       "\n",
       "\n",
       "\n",
       "\n",
       "\n",
       "  <div class=\"bk-root\" id=\"c45799e5-cb3b-4fef-9213-08455cf6da04\" data-root-id=\"1273\"></div>\n"
      ]
     },
     "metadata": {},
     "output_type": "display_data"
    },
    {
     "data": {
      "application/javascript": [
       "(function(root) {\n",
       "  function embed_document(root) {\n",
       "    \n",
       "  var docs_json = {\"23fa2808-fc91-4733-80f8-3e32302872a3\":{\"defs\":[],\"roots\":{\"references\":[{\"attributes\":{\"below\":[{\"id\":\"1282\"}],\"center\":[{\"id\":\"1285\"},{\"id\":\"1289\"},{\"id\":\"1308\"}],\"height\":300,\"left\":[{\"id\":\"1286\"}],\"renderers\":[{\"id\":\"1296\"}],\"title\":{\"id\":\"1299\"},\"toolbar\":{\"id\":\"1291\"},\"width\":300,\"x_range\":{\"id\":\"1274\"},\"x_scale\":{\"id\":\"1278\"},\"y_range\":{\"id\":\"1276\"},\"y_scale\":{\"id\":\"1280\"}},\"id\":\"1273\",\"subtype\":\"Figure\",\"type\":\"Plot\"},{\"attributes\":{\"axis\":{\"id\":\"1286\"},\"dimension\":1,\"ticker\":null},\"id\":\"1289\",\"type\":\"Grid\"},{\"attributes\":{\"data\":{\"acceleration\":{\"__ndarray__\":\"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\",\"dtype\":\"float64\",\"order\":\"little\",\"shape\":[398]},\"color_column\":[\"#CE1141\",\"#CE1141\",\"#CE1141\",\"#CE1141\",\"#CE1141\",\"#CE1141\",\"#CE1141\",\"#CE1141\",\"#CE1141\",\"#CE1141\",\"#CE1141\",\"#CE1141\",\"#CE1141\",\"#CE1141\",\"orange\",\"#CE1141\",\"#CE1141\",\"#CE1141\",\"orange\",\"blue\",\"blue\",\"blue\",\"blue\",\"blue\",\"#CE1141\",\"#CE1141\",\"#CE1141\",\"#CE1141\",\"#CE1141\",\"orange\",\"#CE1141\",\"orange\",\"#CE1141\",\"#CE1141\",\"#CE1141\",\"#CE1141\",\"#CE1141\",\"#CE1141\",\"#CE1141\",\"#CE1141\",\"#CE1141\",\"#CE1141\",\"#CE1141\",\"#CE1141\",\"#CE1141\",\"#CE1141\",\"#CE1141\",\"#CE1141\",\"#CE1141\",\"#CE1141\",\"blue\",\"blue\",\"blue\",\"orange\",\"orange\",\"blue\",\"#CE1141\",\"orange\",\"#CE1141\",\"blue\",\"#CE1141\",\"#CE1141\",\"#CE1141\",\"#CE1141\",\"#CE1141\",\"#CE1141\",\"#CE1141\",\"#CE1141\",\"#CE1141\",\"#CE1141\",\"#CE1141\",\"orange\",\"#CE1141\",\"#CE1141\",\"#CE1141\",\"#CE1141\",\"blue\",\"blue\",\"blue\",\"blue\",\"#CE1141\",\"orange\",\"orange\",\"#CE1141\",\"orange\",\"#CE1141\",\"#CE1141\",\"#CE1141\",\"#CE1141\",\"#CE1141\",\"#CE1141\",\"#CE1141\",\"#CE1141\",\"#CE1141\",\"#CE1141\",\"#CE1141\",\"#CE1141\",\"#CE1141\",\"#CE1141\",\"#CE1141\",\"#CE1141\",\"#CE1141\",\"blue\",\"#CE1141\",\"#CE1141\",\"#CE1141\",\"#CE1141\",\"#CE1141\",\"orange\",\"#CE1141\",\"orange\",\"orange\",\"#CE1141\",\"#CE1141\",\"blue\",\"#CE1141\",\"#CE1141\",\"blue\",\"blue\",\"blue\",\"blue\",\"#CE1141\",\"blue\",\"orange\",\"#CE1141\",\"#CE1141\",\"#CE1141\",\"#CE1141\",\"#CE1141\",\"orange\",\"#CE1141\",\"orange\",\"#CE1141\",\"#CE1141\",\"#CE1141\",\"#CE1141\",\"#CE1141\",\"#CE1141\",\"#CE1141\",\"#CE1141\",\"#CE1141\",\"blue\",\"blue\",\"blue\",\"orange\",\"orange\",\"#CE1141\",\"blue\",\"blue\",\"orange\",\"orange\",\"blue\",\"#CE1141\",\"#CE1141\",\"#CE1141\",\"#CE1141\",\"#CE1141\",\"#CE1141\",\"#CE1141\",\"#CE1141\",\"#CE1141\",\"#CE1141\",\"#CE1141\",\"#CE1141\",\"#CE1141\",\"#CE1141\",\"#CE1141\",\"orange\",\"#CE1141\",\"#CE1141\",\"#CE1141\",\"orange\",\"blue\",\"orange\",\"#CE1141\",\"blue\",\"#CE1141\",\"blue\",\"blue\",\"blue\",\"blue\",\"orange\",\"blue\",\"blue\",\"#CE1141\",\"#CE1141\",\"blue\",\"#CE1141\",\"#CE1141\",\"#CE1141\",\"#CE1141\",\"#CE1141\",\"#CE1141\",\"#CE1141\",\"#CE1141\",\"#CE1141\",\"#CE1141\",\"blue\",\"orange\",\"#CE1141\",\"#CE1141\",\"#CE1141\",\"#CE1141\",\"blue\",\"orange\",\"orange\",\"#CE1141\",\"blue\",\"#CE1141\",\"blue\",\"orange\",\"blue\",\"#CE1141\",\"#CE1141\",\"#CE1141\",\"#CE1141\",\"orange\",\"#CE1141\",\"blue\",\"#CE1141\",\"orange\",\"#CE1141\",\"#CE1141\",\"#CE1141\",\"#CE1141\",\"#CE1141\",\"#CE1141\",\"#CE1141\",\"#CE1141\",\"#CE1141\",\"#CE1141\",\"#CE1141\",\"#CE1141\",\"blue\",\"#CE1141\",\"orange\",\"#CE1141\",\"#CE1141\",\"#CE1141\",\"orange\",\"blue\",\"orange\",\"blue\",\"orange\",\"blue\",\"#CE1141\",\"orange\",\"orange\",\"orange\",\"#CE1141\",\"#CE1141\",\"#CE1141\",\"#CE1141\",\"#CE1141\",\"#CE1141\",\"#CE1141\",\"#CE1141\",\"#CE1141\",\"#CE1141\",\"#CE1141\",\"#CE1141\",\"#CE1141\",\"#CE1141\",\"#CE1141\",\"#CE1141\",\"#CE1141\",\"#CE1141\",\"orange\",\"orange\",\"#CE1141\",\"orange\",\"#CE1141\",\"#CE1141\",\"orange\",\"blue\",\"blue\",\"blue\",\"blue\",\"blue\",\"orange\",\"#CE1141\",\"#CE1141\",\"#CE1141\",\"#CE1141\",\"#CE1141\",\"#CE1141\",\"#CE1141\",\"#CE1141\",\"#CE1141\",\"#CE1141\",\"#CE1141\",\"#CE1141\",\"#CE1141\",\"blue\",\"orange\",\"#CE1141\",\"#CE1141\",\"blue\",\"#CE1141\",\"blue\",\"#CE1141\",\"#CE1141\",\"#CE1141\",\"orange\",\"blue\",\"#CE1141\",\"#CE1141\",\"#CE1141\",\"#CE1141\",\"blue\",\"orange\",\"#CE1141\",\"orange\",\"#CE1141\",\"#CE1141\",\"#CE1141\",\"#CE1141\",\"blue\",\"orange\",\"orange\",\"orange\",\"orange\",\"orange\",\"#CE1141\",\"orange\",\"blue\",\"blue\",\"blue\",\"blue\",\"orange\",\"blue\",\"orange\",\"blue\",\"orange\",\"orange\",\"blue\",\"#CE1141\",\"orange\",\"#CE1141\",\"#CE1141\",\"#CE1141\",\"#CE1141\",\"#CE1141\",\"orange\",\"#CE1141\",\"orange\",\"orange\",\"orange\",\"orange\",\"orange\",\"#CE1141\",\"#CE1141\",\"#CE1141\",\"blue\",\"blue\",\"orange\",\"orange\",\"orange\",\"orange\",\"blue\",\"blue\",\"orange\",\"orange\",\"#CE1141\",\"#CE1141\",\"#CE1141\",\"#CE1141\",\"#CE1141\",\"#CE1141\",\"#CE1141\",\"#CE1141\",\"#CE1141\",\"#CE1141\",\"#CE1141\",\"#CE1141\",\"blue\",\"orange\",\"orange\",\"#CE1141\",\"#CE1141\",\"orange\",\"orange\",\"orange\",\"orange\",\"orange\",\"orange\",\"#CE1141\",\"#CE1141\",\"#CE1141\",\"#CE1141\",\"orange\",\"#CE1141\",\"#CE1141\",\"#CE1141\",\"blue\",\"#CE1141\",\"#CE1141\",\"#CE1141\"],\"cylinders\":[8,8,8,8,8,8,8,8,8,8,8,8,8,8,4,6,6,6,4,4,4,4,4,4,6,8,8,8,8,4,4,4,4,6,6,6,6,6,8,8,8,8,8,8,8,6,4,6,6,4,4,4,4,4,4,4,4,4,4,4,4,4,8,8,8,8,8,8,8,8,8,3,8,8,8,8,4,4,4,4,4,4,4,4,4,8,8,8,8,8,8,8,8,8,8,8,8,6,6,6,6,6,4,8,8,8,8,6,4,4,4,3,4,6,4,8,8,4,4,4,4,8,4,6,8,6,6,6,6,4,4,4,4,6,6,6,8,8,8,8,8,4,4,4,4,4,4,4,4,4,4,4,6,6,6,6,8,8,8,8,6,6,6,6,6,8,8,4,4,6,4,4,4,4,6,4,6,4,4,4,4,4,4,4,4,4,4,8,8,8,8,6,6,6,6,4,4,4,4,6,6,6,6,4,4,4,4,4,8,4,6,6,8,8,8,8,4,4,4,4,4,8,8,8,8,6,6,6,6,8,8,8,8,4,4,4,4,4,4,4,4,6,4,3,4,4,4,4,4,8,8,8,6,6,6,4,6,6,6,6,6,6,8,6,8,8,4,4,4,4,4,4,4,4,5,6,4,6,4,4,6,6,4,6,6,8,8,8,8,8,8,8,8,4,4,4,4,5,8,4,8,4,4,4,4,4,6,6,4,4,4,4,4,4,4,4,6,4,4,4,4,4,4,4,4,4,4,5,4,4,4,4,4,6,3,4,4,4,4,4,4,6,4,4,4,4,4,4,4,4,4,4,4,4,4,4,4,4,4,4,6,6,6,6,8,6,6,4,4,4,4,4,4,4,4,4,4,4,4,4,4,4,4,4,4,4,6,6,4,6,4,4,4,4,4,4,4,4],\"displacement\":{\"__ndarray__\":\"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\",\"dtype\":\"float64\",\"order\":\"little\",\"shape\":[398]},\"horsepower\":{\"__ndarray__\":\"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\",\"dtype\":\"float64\",\"order\":\"little\",\"shape\":[398]},\"index\":[0,1,2,3,4,5,6,7,8,9,10,11,12,13,14,15,16,17,18,19,20,21,22,23,24,25,26,27,28,29,30,31,32,33,34,35,36,37,38,39,40,41,42,43,44,45,46,47,48,49,50,51,52,53,54,55,56,57,58,59,60,61,62,63,64,65,66,67,68,69,70,71,72,73,74,75,76,77,78,79,80,81,82,83,84,85,86,87,88,89,90,91,92,93,94,95,96,97,98,99,100,101,102,103,104,105,106,107,108,109,110,111,112,113,114,115,116,117,118,119,120,121,122,123,124,125,126,127,128,129,130,131,132,133,134,135,136,137,138,139,140,141,142,143,144,145,146,147,148,149,150,151,152,153,154,155,156,157,158,159,160,161,162,163,164,165,166,167,168,169,170,171,172,173,174,175,176,177,178,179,180,181,182,183,184,185,186,187,188,189,190,191,192,193,194,195,196,197,198,199,200,201,202,203,204,205,206,207,208,209,210,211,212,213,214,215,216,217,218,219,220,221,222,223,224,225,226,227,228,229,230,231,232,233,234,235,236,237,238,239,240,241,242,243,244,245,246,247,248,249,250,251,252,253,254,255,256,257,258,259,260,261,262,263,264,265,266,267,268,269,270,271,272,273,274,275,276,277,278,279,280,281,282,283,284,285,286,287,288,289,290,291,292,293,294,295,296,297,298,299,300,301,302,303,304,305,306,307,308,309,310,311,312,313,314,315,316,317,318,319,320,321,322,323,324,325,326,327,328,329,330,331,332,333,334,335,336,337,338,339,340,341,342,343,344,345,346,347,348,349,350,351,352,353,354,355,356,357,358,359,360,361,362,363,364,365,366,367,368,369,370,371,372,373,374,375,376,377,378,379,380,381,382,383,384,385,386,387,388,389,390,391,392,393,394,395,396,397],\"model_year\":[70,70,70,70,70,70,70,70,70,70,70,70,70,70,70,70,70,70,70,70,70,70,70,70,70,70,70,70,70,71,71,71,71,71,71,71,71,71,71,71,71,71,71,71,71,71,71,71,71,71,71,71,71,71,71,71,71,72,72,72,72,72,72,72,72,72,72,72,72,72,72,72,72,72,72,72,72,72,72,72,72,72,72,72,72,73,73,73,73,73,73,73,73,73,73,73,73,73,73,73,73,73,73,73,73,73,73,73,73,73,73,73,73,73,73,73,73,73,73,73,73,73,73,73,73,74,74,74,74,74,74,74,74,74,74,74,74,74,74,74,74,74,74,74,74,74,74,74,74,74,74,74,75,75,75,75,75,75,75,75,75,75,75,75,75,75,75,75,75,75,75,75,75,75,75,75,75,75,75,75,75,75,76,76,76,76,76,76,76,76,76,76,76,76,76,76,76,76,76,76,76,76,76,76,76,76,76,76,76,76,76,76,76,76,76,76,77,77,77,77,77,77,77,77,77,77,77,77,77,77,77,77,77,77,77,77,77,77,77,77,77,77,77,77,78,78,78,78,78,78,78,78,78,78,78,78,78,78,78,78,78,78,78,78,78,78,78,78,78,78,78,78,78,78,78,78,78,78,78,78,79,79,79,79,79,79,79,79,79,79,79,79,79,79,79,79,79,79,79,79,79,79,79,79,79,79,79,79,79,80,80,80,80,80,80,80,80,80,80,80,80,80,80,80,80,80,80,80,80,80,80,80,80,80,80,80,80,80,81,81,81,81,81,81,81,81,81,81,81,81,81,81,81,81,81,81,81,81,81,81,81,81,81,81,81,81,81,82,82,82,82,82,82,82,82,82,82,82,82,82,82,82,82,82,82,82,82,82,82,82,82,82,82,82,82,82,82,82],\"mpg\":{\"__ndarray__\":\"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\",\"dtype\":\"float64\",\"order\":\"little\",\"shape\":[398]},\"name\":[\"chevrolet chevelle malibu\",\"buick skylark 320\",\"plymouth satellite\",\"amc rebel sst\",\"ford torino\",\"ford galaxie 500\",\"chevrolet impala\",\"plymouth fury iii\",\"pontiac catalina\",\"amc ambassador dpl\",\"dodge challenger se\",\"plymouth 'cuda 340\",\"chevrolet monte carlo\",\"buick estate wagon (sw)\",\"toyota corona mark ii\",\"plymouth duster\",\"amc hornet\",\"ford maverick\",\"datsun pl510\",\"volkswagen 1131 deluxe sedan\",\"peugeot 504\",\"audi 100 ls\",\"saab 99e\",\"bmw 2002\",\"amc gremlin\",\"ford f250\",\"chevy c20\",\"dodge d200\",\"hi 1200d\",\"datsun pl510\",\"chevrolet vega 2300\",\"toyota corona\",\"ford pinto\",\"amc gremlin\",\"plymouth satellite custom\",\"chevrolet chevelle malibu\",\"ford torino 500\",\"amc matador\",\"chevrolet impala\",\"pontiac catalina brougham\",\"ford galaxie 500\",\"plymouth fury iii\",\"dodge monaco (sw)\",\"ford country squire (sw)\",\"pontiac safari (sw)\",\"amc hornet sportabout (sw)\",\"chevrolet vega (sw)\",\"pontiac firebird\",\"ford mustang\",\"mercury capri 2000\",\"opel 1900\",\"peugeot 304\",\"fiat 124b\",\"toyota corolla 1200\",\"datsun 1200\",\"volkswagen model 111\",\"plymouth cricket\",\"toyota corona hardtop\",\"dodge colt hardtop\",\"volkswagen type 3\",\"chevrolet vega\",\"ford pinto runabout\",\"chevrolet impala\",\"pontiac catalina\",\"plymouth fury iii\",\"ford galaxie 500\",\"amc ambassador sst\",\"mercury marquis\",\"buick lesabre custom\",\"oldsmobile delta 88 royale\",\"chrysler newport royal\",\"mazda rx2 coupe\",\"amc matador (sw)\",\"chevrolet chevelle concours (sw)\",\"ford gran torino (sw)\",\"plymouth satellite custom (sw)\",\"volvo 145e (sw)\",\"volkswagen 411 (sw)\",\"peugeot 504 (sw)\",\"renault 12 (sw)\",\"ford pinto (sw)\",\"datsun 510 (sw)\",\"toyouta corona mark ii (sw)\",\"dodge colt (sw)\",\"toyota corolla 1600 (sw)\",\"buick century 350\",\"amc matador\",\"chevrolet malibu\",\"ford gran torino\",\"dodge coronet custom\",\"mercury marquis brougham\",\"chevrolet caprice classic\",\"ford ltd\",\"plymouth fury gran sedan\",\"chrysler new yorker brougham\",\"buick electra 225 custom\",\"amc ambassador brougham\",\"plymouth valiant\",\"chevrolet nova custom\",\"amc hornet\",\"ford maverick\",\"plymouth duster\",\"volkswagen super beetle\",\"chevrolet impala\",\"ford country\",\"plymouth custom suburb\",\"oldsmobile vista cruiser\",\"amc gremlin\",\"toyota carina\",\"chevrolet vega\",\"datsun 610\",\"maxda rx3\",\"ford pinto\",\"mercury capri v6\",\"fiat 124 sport coupe\",\"chevrolet monte carlo s\",\"pontiac grand prix\",\"fiat 128\",\"opel manta\",\"audi 100ls\",\"volvo 144ea\",\"dodge dart custom\",\"saab 99le\",\"toyota mark ii\",\"oldsmobile omega\",\"plymouth duster\",\"ford maverick\",\"amc hornet\",\"chevrolet nova\",\"datsun b210\",\"ford pinto\",\"toyota corolla 1200\",\"chevrolet vega\",\"chevrolet chevelle malibu classic\",\"amc matador\",\"plymouth satellite sebring\",\"ford gran torino\",\"buick century luxus (sw)\",\"dodge coronet custom (sw)\",\"ford gran torino (sw)\",\"amc matador (sw)\",\"audi fox\",\"volkswagen dasher\",\"opel manta\",\"toyota corona\",\"datsun 710\",\"dodge colt\",\"fiat 128\",\"fiat 124 tc\",\"honda civic\",\"subaru\",\"fiat x1.9\",\"plymouth valiant custom\",\"chevrolet nova\",\"mercury monarch\",\"ford maverick\",\"pontiac catalina\",\"chevrolet bel air\",\"plymouth grand fury\",\"ford ltd\",\"buick century\",\"chevroelt chevelle malibu\",\"amc matador\",\"plymouth fury\",\"buick skyhawk\",\"chevrolet monza 2+2\",\"ford mustang ii\",\"toyota corolla\",\"ford pinto\",\"amc gremlin\",\"pontiac astro\",\"toyota corona\",\"volkswagen dasher\",\"datsun 710\",\"ford pinto\",\"volkswagen rabbit\",\"amc pacer\",\"audi 100ls\",\"peugeot 504\",\"volvo 244dl\",\"saab 99le\",\"honda civic cvcc\",\"fiat 131\",\"opel 1900\",\"capri ii\",\"dodge colt\",\"renault 12tl\",\"chevrolet chevelle malibu classic\",\"dodge coronet brougham\",\"amc matador\",\"ford gran torino\",\"plymouth valiant\",\"chevrolet nova\",\"ford maverick\",\"amc hornet\",\"chevrolet chevette\",\"chevrolet woody\",\"vw rabbit\",\"honda civic\",\"dodge aspen se\",\"ford granada ghia\",\"pontiac ventura sj\",\"amc pacer d/l\",\"volkswagen rabbit\",\"datsun b-210\",\"toyota corolla\",\"ford pinto\",\"volvo 245\",\"plymouth volare premier v8\",\"peugeot 504\",\"toyota mark ii\",\"mercedes-benz 280s\",\"cadillac seville\",\"chevy c10\",\"ford f108\",\"dodge d100\",\"honda accord cvcc\",\"buick opel isuzu deluxe\",\"renault 5 gtl\",\"plymouth arrow gs\",\"datsun f-10 hatchback\",\"chevrolet caprice classic\",\"oldsmobile cutlass supreme\",\"dodge monaco brougham\",\"mercury cougar brougham\",\"chevrolet concours\",\"buick skylark\",\"plymouth volare custom\",\"ford granada\",\"pontiac grand prix lj\",\"chevrolet monte carlo landau\",\"chrysler cordoba\",\"ford thunderbird\",\"volkswagen rabbit custom\",\"pontiac sunbird coupe\",\"toyota corolla liftback\",\"ford mustang ii 2+2\",\"chevrolet chevette\",\"dodge colt m/m\",\"subaru dl\",\"volkswagen dasher\",\"datsun 810\",\"bmw 320i\",\"mazda rx-4\",\"volkswagen rabbit custom diesel\",\"ford fiesta\",\"mazda glc deluxe\",\"datsun b210 gx\",\"honda civic cvcc\",\"oldsmobile cutlass salon brougham\",\"dodge diplomat\",\"mercury monarch ghia\",\"pontiac phoenix lj\",\"chevrolet malibu\",\"ford fairmont (auto)\",\"ford fairmont (man)\",\"plymouth volare\",\"amc concord\",\"buick century special\",\"mercury zephyr\",\"dodge aspen\",\"amc concord d/l\",\"chevrolet monte carlo landau\",\"buick regal sport coupe (turbo)\",\"ford futura\",\"dodge magnum xe\",\"chevrolet chevette\",\"toyota corona\",\"datsun 510\",\"dodge omni\",\"toyota celica gt liftback\",\"plymouth sapporo\",\"oldsmobile starfire sx\",\"datsun 200-sx\",\"audi 5000\",\"volvo 264gl\",\"saab 99gle\",\"peugeot 604sl\",\"volkswagen scirocco\",\"honda accord lx\",\"pontiac lemans v6\",\"mercury zephyr 6\",\"ford fairmont 4\",\"amc concord dl 6\",\"dodge aspen 6\",\"chevrolet caprice classic\",\"ford ltd landau\",\"mercury grand marquis\",\"dodge st. regis\",\"buick estate wagon (sw)\",\"ford country squire (sw)\",\"chevrolet malibu classic (sw)\",\"chrysler lebaron town @ country (sw)\",\"vw rabbit custom\",\"maxda glc deluxe\",\"dodge colt hatchback custom\",\"amc spirit dl\",\"mercedes benz 300d\",\"cadillac eldorado\",\"peugeot 504\",\"oldsmobile cutlass salon brougham\",\"plymouth horizon\",\"plymouth horizon tc3\",\"datsun 210\",\"fiat strada custom\",\"buick skylark limited\",\"chevrolet citation\",\"oldsmobile omega brougham\",\"pontiac phoenix\",\"vw rabbit\",\"toyota corolla tercel\",\"chevrolet chevette\",\"datsun 310\",\"chevrolet citation\",\"ford fairmont\",\"amc concord\",\"dodge aspen\",\"audi 4000\",\"toyota corona liftback\",\"mazda 626\",\"datsun 510 hatchback\",\"toyota corolla\",\"mazda glc\",\"dodge colt\",\"datsun 210\",\"vw rabbit c (diesel)\",\"vw dasher (diesel)\",\"audi 5000s (diesel)\",\"mercedes-benz 240d\",\"honda civic 1500 gl\",\"renault lecar deluxe\",\"subaru dl\",\"vokswagen rabbit\",\"datsun 280-zx\",\"mazda rx-7 gs\",\"triumph tr7 coupe\",\"ford mustang cobra\",\"honda accord\",\"plymouth reliant\",\"buick skylark\",\"dodge aries wagon (sw)\",\"chevrolet citation\",\"plymouth reliant\",\"toyota starlet\",\"plymouth champ\",\"honda civic 1300\",\"subaru\",\"datsun 210 mpg\",\"toyota tercel\",\"mazda glc 4\",\"plymouth horizon 4\",\"ford escort 4w\",\"ford escort 2h\",\"volkswagen jetta\",\"renault 18i\",\"honda prelude\",\"toyota corolla\",\"datsun 200sx\",\"mazda 626\",\"peugeot 505s turbo diesel\",\"volvo diesel\",\"toyota cressida\",\"datsun 810 maxima\",\"buick century\",\"oldsmobile cutlass ls\",\"ford granada gl\",\"chrysler lebaron salon\",\"chevrolet cavalier\",\"chevrolet cavalier wagon\",\"chevrolet cavalier 2-door\",\"pontiac j2000 se hatchback\",\"dodge aries se\",\"pontiac phoenix\",\"ford fairmont futura\",\"amc concord dl\",\"volkswagen rabbit l\",\"mazda glc custom l\",\"mazda glc custom\",\"plymouth horizon miser\",\"mercury lynx l\",\"nissan stanza xe\",\"honda accord\",\"toyota corolla\",\"honda civic\",\"honda civic (auto)\",\"datsun 310 gx\",\"buick century limited\",\"oldsmobile cutlass ciera (diesel)\",\"chrysler lebaron medallion\",\"ford granada l\",\"toyota celica gt\",\"dodge charger 2.2\",\"chevrolet camaro\",\"ford mustang gl\",\"vw pickup\",\"dodge rampage\",\"ford ranger\",\"chevy s-10\"],\"origin\":[\"usa\",\"usa\",\"usa\",\"usa\",\"usa\",\"usa\",\"usa\",\"usa\",\"usa\",\"usa\",\"usa\",\"usa\",\"usa\",\"usa\",\"japan\",\"usa\",\"usa\",\"usa\",\"japan\",\"europe\",\"europe\",\"europe\",\"europe\",\"europe\",\"usa\",\"usa\",\"usa\",\"usa\",\"usa\",\"japan\",\"usa\",\"japan\",\"usa\",\"usa\",\"usa\",\"usa\",\"usa\",\"usa\",\"usa\",\"usa\",\"usa\",\"usa\",\"usa\",\"usa\",\"usa\",\"usa\",\"usa\",\"usa\",\"usa\",\"usa\",\"europe\",\"europe\",\"europe\",\"japan\",\"japan\",\"europe\",\"usa\",\"japan\",\"usa\",\"europe\",\"usa\",\"usa\",\"usa\",\"usa\",\"usa\",\"usa\",\"usa\",\"usa\",\"usa\",\"usa\",\"usa\",\"japan\",\"usa\",\"usa\",\"usa\",\"usa\",\"europe\",\"europe\",\"europe\",\"europe\",\"usa\",\"japan\",\"japan\",\"usa\",\"japan\",\"usa\",\"usa\",\"usa\",\"usa\",\"usa\",\"usa\",\"usa\",\"usa\",\"usa\",\"usa\",\"usa\",\"usa\",\"usa\",\"usa\",\"usa\",\"usa\",\"usa\",\"europe\",\"usa\",\"usa\",\"usa\",\"usa\",\"usa\",\"japan\",\"usa\",\"japan\",\"japan\",\"usa\",\"usa\",\"europe\",\"usa\",\"usa\",\"europe\",\"europe\",\"europe\",\"europe\",\"usa\",\"europe\",\"japan\",\"usa\",\"usa\",\"usa\",\"usa\",\"usa\",\"japan\",\"usa\",\"japan\",\"usa\",\"usa\",\"usa\",\"usa\",\"usa\",\"usa\",\"usa\",\"usa\",\"usa\",\"europe\",\"europe\",\"europe\",\"japan\",\"japan\",\"usa\",\"europe\",\"europe\",\"japan\",\"japan\",\"europe\",\"usa\",\"usa\",\"usa\",\"usa\",\"usa\",\"usa\",\"usa\",\"usa\",\"usa\",\"usa\",\"usa\",\"usa\",\"usa\",\"usa\",\"usa\",\"japan\",\"usa\",\"usa\",\"usa\",\"japan\",\"europe\",\"japan\",\"usa\",\"europe\",\"usa\",\"europe\",\"europe\",\"europe\",\"europe\",\"japan\",\"europe\",\"europe\",\"usa\",\"usa\",\"europe\",\"usa\",\"usa\",\"usa\",\"usa\",\"usa\",\"usa\",\"usa\",\"usa\",\"usa\",\"usa\",\"europe\",\"japan\",\"usa\",\"usa\",\"usa\",\"usa\",\"europe\",\"japan\",\"japan\",\"usa\",\"europe\",\"usa\",\"europe\",\"japan\",\"europe\",\"usa\",\"usa\",\"usa\",\"usa\",\"japan\",\"usa\",\"europe\",\"usa\",\"japan\",\"usa\",\"usa\",\"usa\",\"usa\",\"usa\",\"usa\",\"usa\",\"usa\",\"usa\",\"usa\",\"usa\",\"usa\",\"europe\",\"usa\",\"japan\",\"usa\",\"usa\",\"usa\",\"japan\",\"europe\",\"japan\",\"europe\",\"japan\",\"europe\",\"usa\",\"japan\",\"japan\",\"japan\",\"usa\",\"usa\",\"usa\",\"usa\",\"usa\",\"usa\",\"usa\",\"usa\",\"usa\",\"usa\",\"usa\",\"usa\",\"usa\",\"usa\",\"usa\",\"usa\",\"usa\",\"usa\",\"japan\",\"japan\",\"usa\",\"japan\",\"usa\",\"usa\",\"japan\",\"europe\",\"europe\",\"europe\",\"europe\",\"europe\",\"japan\",\"usa\",\"usa\",\"usa\",\"usa\",\"usa\",\"usa\",\"usa\",\"usa\",\"usa\",\"usa\",\"usa\",\"usa\",\"usa\",\"europe\",\"japan\",\"usa\",\"usa\",\"europe\",\"usa\",\"europe\",\"usa\",\"usa\",\"usa\",\"japan\",\"europe\",\"usa\",\"usa\",\"usa\",\"usa\",\"europe\",\"japan\",\"usa\",\"japan\",\"usa\",\"usa\",\"usa\",\"usa\",\"europe\",\"japan\",\"japan\",\"japan\",\"japan\",\"japan\",\"usa\",\"japan\",\"europe\",\"europe\",\"europe\",\"europe\",\"japan\",\"europe\",\"japan\",\"europe\",\"japan\",\"japan\",\"europe\",\"usa\",\"japan\",\"usa\",\"usa\",\"usa\",\"usa\",\"usa\",\"japan\",\"usa\",\"japan\",\"japan\",\"japan\",\"japan\",\"japan\",\"usa\",\"usa\",\"usa\",\"europe\",\"europe\",\"japan\",\"japan\",\"japan\",\"japan\",\"europe\",\"europe\",\"japan\",\"japan\",\"usa\",\"usa\",\"usa\",\"usa\",\"usa\",\"usa\",\"usa\",\"usa\",\"usa\",\"usa\",\"usa\",\"usa\",\"europe\",\"japan\",\"japan\",\"usa\",\"usa\",\"japan\",\"japan\",\"japan\",\"japan\",\"japan\",\"japan\",\"usa\",\"usa\",\"usa\",\"usa\",\"japan\",\"usa\",\"usa\",\"usa\",\"europe\",\"usa\",\"usa\",\"usa\"],\"weight\":[3504,3693,3436,3433,3449,4341,4354,4312,4425,3850,3563,3609,3761,3086,2372,2833,2774,2587,2130,1835,2672,2430,2375,2234,2648,4615,4376,4382,4732,2130,2264,2228,2046,2634,3439,3329,3302,3288,4209,4464,4154,4096,4955,4746,5140,2962,2408,3282,3139,2220,2123,2074,2065,1773,1613,1834,1955,2278,2126,2254,2408,2226,4274,4385,4135,4129,3672,4633,4502,4456,4422,2330,3892,4098,4294,4077,2933,2511,2979,2189,2395,2288,2506,2164,2100,4100,3672,3988,4042,3777,4952,4464,4363,4237,4735,4951,3821,3121,3278,2945,3021,2904,1950,4997,4906,4654,4499,2789,2279,2401,2379,2124,2310,2472,2265,4082,4278,1867,2158,2582,2868,3399,2660,2807,3664,3102,2875,2901,3336,1950,2451,1836,2542,3781,3632,3613,4141,4699,4457,4638,4257,2219,1963,2300,1649,2003,2125,2108,2246,2489,2391,2000,3264,3459,3432,3158,4668,4440,4498,4657,3907,3897,3730,3785,3039,3221,3169,2171,2639,2914,2592,2702,2223,2545,2984,1937,3211,2694,2957,2945,2671,1795,2464,2220,2572,2255,2202,4215,4190,3962,4215,3233,3353,3012,3085,2035,2164,1937,1795,3651,3574,3645,3193,1825,1990,2155,2565,3150,3940,3270,2930,3820,4380,4055,3870,3755,2045,2155,1825,2300,1945,3880,4060,4140,4295,3520,3425,3630,3525,4220,4165,4325,4335,1940,2740,2265,2755,2051,2075,1985,2190,2815,2600,2720,1985,1800,1985,2070,1800,3365,3735,3570,3535,3155,2965,2720,3430,3210,3380,3070,3620,3410,3425,3445,3205,4080,2155,2560,2300,2230,2515,2745,2855,2405,2830,3140,2795,3410,1990,2135,3245,2990,2890,3265,3360,3840,3725,3955,3830,4360,4054,3605,3940,1925,1975,1915,2670,3530,3900,3190,3420,2200,2150,2020,2130,2670,2595,2700,2556,2144,1968,2120,2019,2678,2870,3003,3381,2188,2711,2542,2434,2265,2110,2800,2110,2085,2335,2950,3250,1850,1835,2145,1845,2910,2420,2500,2905,2290,2490,2635,2620,2725,2385,1755,1875,1760,2065,1975,2050,1985,2215,2045,2380,2190,2320,2210,2350,2615,2635,3230,3160,2900,2930,3415,3725,3060,3465,2605,2640,2395,2575,2525,2735,2865,3035,1980,2025,1970,2125,2125,2160,2205,2245,1965,1965,1995,2945,3015,2585,2835,2665,2370,2950,2790,2130,2295,2625,2720]},\"selected\":{\"id\":\"1307\"},\"selection_policy\":{\"id\":\"1306\"}},\"id\":\"1272\",\"type\":\"ColumnDataSource\"},{\"attributes\":{\"fill_alpha\":{\"value\":0.1},\"fill_color\":{\"field\":\"color_column\"},\"line_alpha\":{\"value\":0.1},\"line_color\":{\"value\":\"#1f77b4\"},\"size\":{\"value\":8},\"x\":{\"field\":\"horsepower\"},\"y\":{\"field\":\"acceleration\"}},\"id\":\"1295\",\"type\":\"Scatter\"},{\"attributes\":{\"data_source\":{\"id\":\"1272\"},\"glyph\":{\"id\":\"1294\"},\"hover_glyph\":null,\"muted_glyph\":null,\"nonselection_glyph\":{\"id\":\"1295\"},\"view\":{\"id\":\"1297\"}},\"id\":\"1296\",\"type\":\"GlyphRenderer\"},{\"attributes\":{},\"id\":\"1301\",\"type\":\"BasicTickFormatter\"},{\"attributes\":{},\"id\":\"1302\",\"type\":\"AllLabels\"},{\"attributes\":{\"items\":[{\"id\":\"1309\"},{\"id\":\"1310\"},{\"id\":\"1311\"}]},\"id\":\"1308\",\"type\":\"Legend\"},{\"attributes\":{},\"id\":\"1274\",\"type\":\"DataRange1d\"},{\"attributes\":{},\"id\":\"1306\",\"type\":\"UnionRenderers\"},{\"attributes\":{\"active_multi\":null,\"tools\":[{\"id\":\"1290\"}]},\"id\":\"1291\",\"type\":\"Toolbar\"},{\"attributes\":{},\"id\":\"1304\",\"type\":\"BasicTickFormatter\"},{\"attributes\":{\"fill_color\":{\"field\":\"color_column\"},\"line_color\":{\"value\":\"#1f77b4\"},\"size\":{\"value\":8},\"x\":{\"field\":\"horsepower\"},\"y\":{\"field\":\"acceleration\"}},\"id\":\"1294\",\"type\":\"Scatter\"},{\"attributes\":{\"formatter\":{\"id\":\"1301\"},\"major_label_policy\":{\"id\":\"1302\"},\"ticker\":{\"id\":\"1283\"}},\"id\":\"1282\",\"type\":\"LinearAxis\"},{\"attributes\":{},\"id\":\"1305\",\"type\":\"AllLabels\"},{\"attributes\":{\"source\":{\"id\":\"1272\"}},\"id\":\"1297\",\"type\":\"CDSView\"},{\"attributes\":{},\"id\":\"1278\",\"type\":\"LinearScale\"},{\"attributes\":{\"axis\":{\"id\":\"1282\"},\"ticker\":null},\"id\":\"1285\",\"type\":\"Grid\"},{\"attributes\":{},\"id\":\"1307\",\"type\":\"Selection\"},{\"attributes\":{},\"id\":\"1287\",\"type\":\"BasicTicker\"},{\"attributes\":{\"index\":19,\"label\":{\"value\":\"europe\"},\"renderers\":[{\"id\":\"1296\"}]},\"id\":\"1309\",\"type\":\"LegendItem\"},{\"attributes\":{\"callback\":null,\"tooltips\":[[\"Model\",\"@name\"],[\"Country\",\"@origin\"]]},\"id\":\"1290\",\"type\":\"HoverTool\"},{\"attributes\":{\"index\":14,\"label\":{\"value\":\"japan\"},\"renderers\":[{\"id\":\"1296\"}]},\"id\":\"1310\",\"type\":\"LegendItem\"},{\"attributes\":{\"index\":0,\"label\":{\"value\":\"usa\"},\"renderers\":[{\"id\":\"1296\"}]},\"id\":\"1311\",\"type\":\"LegendItem\"},{\"attributes\":{\"formatter\":{\"id\":\"1304\"},\"major_label_policy\":{\"id\":\"1305\"},\"ticker\":{\"id\":\"1287\"}},\"id\":\"1286\",\"type\":\"LinearAxis\"},{\"attributes\":{},\"id\":\"1276\",\"type\":\"DataRange1d\"},{\"attributes\":{},\"id\":\"1299\",\"type\":\"Title\"},{\"attributes\":{},\"id\":\"1280\",\"type\":\"LinearScale\"},{\"attributes\":{},\"id\":\"1283\",\"type\":\"BasicTicker\"}],\"root_ids\":[\"1273\"]},\"title\":\"Bokeh Application\",\"version\":\"2.3.3\"}};\n",
       "  var render_items = [{\"docid\":\"23fa2808-fc91-4733-80f8-3e32302872a3\",\"root_ids\":[\"1273\"],\"roots\":{\"1273\":\"c45799e5-cb3b-4fef-9213-08455cf6da04\"}}];\n",
       "  root.Bokeh.embed.embed_items_notebook(docs_json, render_items);\n",
       "\n",
       "  }\n",
       "  if (root.Bokeh !== undefined) {\n",
       "    embed_document(root);\n",
       "  } else {\n",
       "    var attempts = 0;\n",
       "    var timer = setInterval(function(root) {\n",
       "      if (root.Bokeh !== undefined) {\n",
       "        clearInterval(timer);\n",
       "        embed_document(root);\n",
       "      } else {\n",
       "        attempts++;\n",
       "        if (attempts > 100) {\n",
       "          clearInterval(timer);\n",
       "          console.log(\"Bokeh: ERROR: Unable to run BokehJS code because BokehJS library is missing\");\n",
       "        }\n",
       "      }\n",
       "    }, 10, root)\n",
       "  }\n",
       "})(window);"
      ],
      "application/vnd.bokehjs_exec.v0+json": ""
     },
     "metadata": {
      "application/vnd.bokehjs_exec.v0+json": {
       "id": "1273"
      }
     },
     "output_type": "display_data"
    }
   ],
   "source": [
    "data = ColumnDataSource(df)\n",
    "origin_tt = Figure(tools='', tooltips=[('Model', '@name'), ('Country', '@origin')], \\\n",
    "                   width=300, height=300)\n",
    "\n",
    "origin_tt.scatter(source=data, x='horsepower', y='acceleration', \\\n",
    "                  fill_color='color_column', size=8, \\\n",
    "                  legend_group='origin')\n",
    "\n",
    "show(origin_tt);"
   ]
  },
  {
   "cell_type": "markdown",
   "metadata": {
    "slideshow": {
     "slide_type": "slide"
    }
   },
   "source": [
    "- When creating the `Figure` we passed an empty string to `tools`, this resulted in the removal of the tools from the toolbar\n",
    "- The `tooltips` parameter allows us to show information when the user hovers on a datapoint\n",
    "    - Each tuple in the list is in the format `(displayed_feature_name, @name_of_column_in_df)`"
   ]
  },
  {
   "cell_type": "markdown",
   "metadata": {
    "slideshow": {
     "slide_type": "slide"
    }
   },
   "source": [
    "- We created a `ColumnDataSource` instance called `data` from `df`\n",
    "    - In previous examples, bokeh built its own `ColumnDataSource` instance using the values passed to `x` and `y`\n",
    "    - Bokeh's `ColumnDataSource` is what it uses to pass data to various glyphs and plots. More information can be found [here](https://docs.bokeh.org/en/latest/docs/user_guide/data.html#userguide-data-cds)\n",
    "- We used `data` as the `source` argument when calling the `.scatter()` method. This allowed us to use the column names from `df` for other parameters, without using `df[...]` each time\n",
    "- The `legend_group` parameter allowed us to create a legend based on the `origin` column\n",
    "    "
   ]
  },
  {
   "cell_type": "code",
   "execution_count": 8,
   "metadata": {
    "slideshow": {
     "slide_type": "slide"
    }
   },
   "outputs": [],
   "source": [
    "save(origin_tt, filename='hp-acc.html', resources='inline', title='Horsepower vs Acceleration');"
   ]
  },
  {
   "cell_type": "markdown",
   "metadata": {
    "slideshow": {
     "slide_type": "slide"
    }
   },
   "source": [
    "- The `save` function from `bokeh.plotting` allows us to create a **HTML file** of the plot\n",
    "    - The file is called `hp-acc.html` and has been saved to the `data` folder\n",
    "    - Passing `inline` to `resources` packages the required Javascript within the file\n",
    "    - The assigned `title` can be seen in the HTML code of the file\n",
    "- The HTML file can be viewed in any **web browser** \n",
    "    - Hovering on a datapoint reveals the features specified in `tooltips`"
   ]
  },
  {
   "cell_type": "code",
   "execution_count": 9,
   "metadata": {
    "slideshow": {
     "slide_type": "slide"
    }
   },
   "outputs": [
    {
     "data": {
      "text/html": [
       "\n",
       "\n",
       "\n",
       "\n",
       "\n",
       "\n",
       "  <div class=\"bk-root\" id=\"ab9676ef-627c-49c1-a10d-dbb699997d01\" data-root-id=\"1507\"></div>\n"
      ]
     },
     "metadata": {},
     "output_type": "display_data"
    },
    {
     "data": {
      "application/javascript": [
       "(function(root) {\n",
       "  function embed_document(root) {\n",
       "    \n",
       "  var docs_json = {\"148787bc-ff9c-4484-bf87-e3ee4c5a4b30\":{\"defs\":[],\"roots\":{\"references\":[{\"attributes\":{\"tabs\":[{\"id\":\"1505\"},{\"id\":\"1506\"}]},\"id\":\"1507\",\"type\":\"Tabs\"},{\"attributes\":{\"axis\":{\"id\":\"1286\"},\"dimension\":1,\"ticker\":null},\"id\":\"1289\",\"type\":\"Grid\"},{\"attributes\":{\"data\":{\"acceleration\":{\"__ndarray__\":\"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\",\"dtype\":\"float64\",\"order\":\"little\",\"shape\":[398]},\"color_column\":[\"#CE1141\",\"#CE1141\",\"#CE1141\",\"#CE1141\",\"#CE1141\",\"#CE1141\",\"#CE1141\",\"#CE1141\",\"#CE1141\",\"#CE1141\",\"#CE1141\",\"#CE1141\",\"#CE1141\",\"#CE1141\",\"orange\",\"#CE1141\",\"#CE1141\",\"#CE1141\",\"orange\",\"blue\",\"blue\",\"blue\",\"blue\",\"blue\",\"#CE1141\",\"#CE1141\",\"#CE1141\",\"#CE1141\",\"#CE1141\",\"orange\",\"#CE1141\",\"orange\",\"#CE1141\",\"#CE1141\",\"#CE1141\",\"#CE1141\",\"#CE1141\",\"#CE1141\",\"#CE1141\",\"#CE1141\",\"#CE1141\",\"#CE1141\",\"#CE1141\",\"#CE1141\",\"#CE1141\",\"#CE1141\",\"#CE1141\",\"#CE1141\",\"#CE1141\",\"#CE1141\",\"blue\",\"blue\",\"blue\",\"orange\",\"orange\",\"blue\",\"#CE1141\",\"orange\",\"#CE1141\",\"blue\",\"#CE1141\",\"#CE1141\",\"#CE1141\",\"#CE1141\",\"#CE1141\",\"#CE1141\",\"#CE1141\",\"#CE1141\",\"#CE1141\",\"#CE1141\",\"#CE1141\",\"orange\",\"#CE1141\",\"#CE1141\",\"#CE1141\",\"#CE1141\",\"blue\",\"blue\",\"blue\",\"blue\",\"#CE1141\",\"orange\",\"orange\",\"#CE1141\",\"orange\",\"#CE1141\",\"#CE1141\",\"#CE1141\",\"#CE1141\",\"#CE1141\",\"#CE1141\",\"#CE1141\",\"#CE1141\",\"#CE1141\",\"#CE1141\",\"#CE1141\",\"#CE1141\",\"#CE1141\",\"#CE1141\",\"#CE1141\",\"#CE1141\",\"#CE1141\",\"blue\",\"#CE1141\",\"#CE1141\",\"#CE1141\",\"#CE1141\",\"#CE1141\",\"orange\",\"#CE1141\",\"orange\",\"orange\",\"#CE1141\",\"#CE1141\",\"blue\",\"#CE1141\",\"#CE1141\",\"blue\",\"blue\",\"blue\",\"blue\",\"#CE1141\",\"blue\",\"orange\",\"#CE1141\",\"#CE1141\",\"#CE1141\",\"#CE1141\",\"#CE1141\",\"orange\",\"#CE1141\",\"orange\",\"#CE1141\",\"#CE1141\",\"#CE1141\",\"#CE1141\",\"#CE1141\",\"#CE1141\",\"#CE1141\",\"#CE1141\",\"#CE1141\",\"blue\",\"blue\",\"blue\",\"orange\",\"orange\",\"#CE1141\",\"blue\",\"blue\",\"orange\",\"orange\",\"blue\",\"#CE1141\",\"#CE1141\",\"#CE1141\",\"#CE1141\",\"#CE1141\",\"#CE1141\",\"#CE1141\",\"#CE1141\",\"#CE1141\",\"#CE1141\",\"#CE1141\",\"#CE1141\",\"#CE1141\",\"#CE1141\",\"#CE1141\",\"orange\",\"#CE1141\",\"#CE1141\",\"#CE1141\",\"orange\",\"blue\",\"orange\",\"#CE1141\",\"blue\",\"#CE1141\",\"blue\",\"blue\",\"blue\",\"blue\",\"orange\",\"blue\",\"blue\",\"#CE1141\",\"#CE1141\",\"blue\",\"#CE1141\",\"#CE1141\",\"#CE1141\",\"#CE1141\",\"#CE1141\",\"#CE1141\",\"#CE1141\",\"#CE1141\",\"#CE1141\",\"#CE1141\",\"blue\",\"orange\",\"#CE1141\",\"#CE1141\",\"#CE1141\",\"#CE1141\",\"blue\",\"orange\",\"orange\",\"#CE1141\",\"blue\",\"#CE1141\",\"blue\",\"orange\",\"blue\",\"#CE1141\",\"#CE1141\",\"#CE1141\",\"#CE1141\",\"orange\",\"#CE1141\",\"blue\",\"#CE1141\",\"orange\",\"#CE1141\",\"#CE1141\",\"#CE1141\",\"#CE1141\",\"#CE1141\",\"#CE1141\",\"#CE1141\",\"#CE1141\",\"#CE1141\",\"#CE1141\",\"#CE1141\",\"#CE1141\",\"blue\",\"#CE1141\",\"orange\",\"#CE1141\",\"#CE1141\",\"#CE1141\",\"orange\",\"blue\",\"orange\",\"blue\",\"orange\",\"blue\",\"#CE1141\",\"orange\",\"orange\",\"orange\",\"#CE1141\",\"#CE1141\",\"#CE1141\",\"#CE1141\",\"#CE1141\",\"#CE1141\",\"#CE1141\",\"#CE1141\",\"#CE1141\",\"#CE1141\",\"#CE1141\",\"#CE1141\",\"#CE1141\",\"#CE1141\",\"#CE1141\",\"#CE1141\",\"#CE1141\",\"#CE1141\",\"orange\",\"orange\",\"#CE1141\",\"orange\",\"#CE1141\",\"#CE1141\",\"orange\",\"blue\",\"blue\",\"blue\",\"blue\",\"blue\",\"orange\",\"#CE1141\",\"#CE1141\",\"#CE1141\",\"#CE1141\",\"#CE1141\",\"#CE1141\",\"#CE1141\",\"#CE1141\",\"#CE1141\",\"#CE1141\",\"#CE1141\",\"#CE1141\",\"#CE1141\",\"blue\",\"orange\",\"#CE1141\",\"#CE1141\",\"blue\",\"#CE1141\",\"blue\",\"#CE1141\",\"#CE1141\",\"#CE1141\",\"orange\",\"blue\",\"#CE1141\",\"#CE1141\",\"#CE1141\",\"#CE1141\",\"blue\",\"orange\",\"#CE1141\",\"orange\",\"#CE1141\",\"#CE1141\",\"#CE1141\",\"#CE1141\",\"blue\",\"orange\",\"orange\",\"orange\",\"orange\",\"orange\",\"#CE1141\",\"orange\",\"blue\",\"blue\",\"blue\",\"blue\",\"orange\",\"blue\",\"orange\",\"blue\",\"orange\",\"orange\",\"blue\",\"#CE1141\",\"orange\",\"#CE1141\",\"#CE1141\",\"#CE1141\",\"#CE1141\",\"#CE1141\",\"orange\",\"#CE1141\",\"orange\",\"orange\",\"orange\",\"orange\",\"orange\",\"#CE1141\",\"#CE1141\",\"#CE1141\",\"blue\",\"blue\",\"orange\",\"orange\",\"orange\",\"orange\",\"blue\",\"blue\",\"orange\",\"orange\",\"#CE1141\",\"#CE1141\",\"#CE1141\",\"#CE1141\",\"#CE1141\",\"#CE1141\",\"#CE1141\",\"#CE1141\",\"#CE1141\",\"#CE1141\",\"#CE1141\",\"#CE1141\",\"blue\",\"orange\",\"orange\",\"#CE1141\",\"#CE1141\",\"orange\",\"orange\",\"orange\",\"orange\",\"orange\",\"orange\",\"#CE1141\",\"#CE1141\",\"#CE1141\",\"#CE1141\",\"orange\",\"#CE1141\",\"#CE1141\",\"#CE1141\",\"blue\",\"#CE1141\",\"#CE1141\",\"#CE1141\"],\"cylinders\":[8,8,8,8,8,8,8,8,8,8,8,8,8,8,4,6,6,6,4,4,4,4,4,4,6,8,8,8,8,4,4,4,4,6,6,6,6,6,8,8,8,8,8,8,8,6,4,6,6,4,4,4,4,4,4,4,4,4,4,4,4,4,8,8,8,8,8,8,8,8,8,3,8,8,8,8,4,4,4,4,4,4,4,4,4,8,8,8,8,8,8,8,8,8,8,8,8,6,6,6,6,6,4,8,8,8,8,6,4,4,4,3,4,6,4,8,8,4,4,4,4,8,4,6,8,6,6,6,6,4,4,4,4,6,6,6,8,8,8,8,8,4,4,4,4,4,4,4,4,4,4,4,6,6,6,6,8,8,8,8,6,6,6,6,6,8,8,4,4,6,4,4,4,4,6,4,6,4,4,4,4,4,4,4,4,4,4,8,8,8,8,6,6,6,6,4,4,4,4,6,6,6,6,4,4,4,4,4,8,4,6,6,8,8,8,8,4,4,4,4,4,8,8,8,8,6,6,6,6,8,8,8,8,4,4,4,4,4,4,4,4,6,4,3,4,4,4,4,4,8,8,8,6,6,6,4,6,6,6,6,6,6,8,6,8,8,4,4,4,4,4,4,4,4,5,6,4,6,4,4,6,6,4,6,6,8,8,8,8,8,8,8,8,4,4,4,4,5,8,4,8,4,4,4,4,4,6,6,4,4,4,4,4,4,4,4,6,4,4,4,4,4,4,4,4,4,4,5,4,4,4,4,4,6,3,4,4,4,4,4,4,6,4,4,4,4,4,4,4,4,4,4,4,4,4,4,4,4,4,4,6,6,6,6,8,6,6,4,4,4,4,4,4,4,4,4,4,4,4,4,4,4,4,4,4,4,6,6,4,6,4,4,4,4,4,4,4,4],\"displacement\":{\"__ndarray__\":\"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\",\"dtype\":\"float64\",\"order\":\"little\",\"shape\":[398]},\"horsepower\":{\"__ndarray__\":\"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\",\"dtype\":\"float64\",\"order\":\"little\",\"shape\":[398]},\"index\":[0,1,2,3,4,5,6,7,8,9,10,11,12,13,14,15,16,17,18,19,20,21,22,23,24,25,26,27,28,29,30,31,32,33,34,35,36,37,38,39,40,41,42,43,44,45,46,47,48,49,50,51,52,53,54,55,56,57,58,59,60,61,62,63,64,65,66,67,68,69,70,71,72,73,74,75,76,77,78,79,80,81,82,83,84,85,86,87,88,89,90,91,92,93,94,95,96,97,98,99,100,101,102,103,104,105,106,107,108,109,110,111,112,113,114,115,116,117,118,119,120,121,122,123,124,125,126,127,128,129,130,131,132,133,134,135,136,137,138,139,140,141,142,143,144,145,146,147,148,149,150,151,152,153,154,155,156,157,158,159,160,161,162,163,164,165,166,167,168,169,170,171,172,173,174,175,176,177,178,179,180,181,182,183,184,185,186,187,188,189,190,191,192,193,194,195,196,197,198,199,200,201,202,203,204,205,206,207,208,209,210,211,212,213,214,215,216,217,218,219,220,221,222,223,224,225,226,227,228,229,230,231,232,233,234,235,236,237,238,239,240,241,242,243,244,245,246,247,248,249,250,251,252,253,254,255,256,257,258,259,260,261,262,263,264,265,266,267,268,269,270,271,272,273,274,275,276,277,278,279,280,281,282,283,284,285,286,287,288,289,290,291,292,293,294,295,296,297,298,299,300,301,302,303,304,305,306,307,308,309,310,311,312,313,314,315,316,317,318,319,320,321,322,323,324,325,326,327,328,329,330,331,332,333,334,335,336,337,338,339,340,341,342,343,344,345,346,347,348,349,350,351,352,353,354,355,356,357,358,359,360,361,362,363,364,365,366,367,368,369,370,371,372,373,374,375,376,377,378,379,380,381,382,383,384,385,386,387,388,389,390,391,392,393,394,395,396,397],\"model_year\":[70,70,70,70,70,70,70,70,70,70,70,70,70,70,70,70,70,70,70,70,70,70,70,70,70,70,70,70,70,71,71,71,71,71,71,71,71,71,71,71,71,71,71,71,71,71,71,71,71,71,71,71,71,71,71,71,71,72,72,72,72,72,72,72,72,72,72,72,72,72,72,72,72,72,72,72,72,72,72,72,72,72,72,72,72,73,73,73,73,73,73,73,73,73,73,73,73,73,73,73,73,73,73,73,73,73,73,73,73,73,73,73,73,73,73,73,73,73,73,73,73,73,73,73,73,74,74,74,74,74,74,74,74,74,74,74,74,74,74,74,74,74,74,74,74,74,74,74,74,74,74,74,75,75,75,75,75,75,75,75,75,75,75,75,75,75,75,75,75,75,75,75,75,75,75,75,75,75,75,75,75,75,76,76,76,76,76,76,76,76,76,76,76,76,76,76,76,76,76,76,76,76,76,76,76,76,76,76,76,76,76,76,76,76,76,76,77,77,77,77,77,77,77,77,77,77,77,77,77,77,77,77,77,77,77,77,77,77,77,77,77,77,77,77,78,78,78,78,78,78,78,78,78,78,78,78,78,78,78,78,78,78,78,78,78,78,78,78,78,78,78,78,78,78,78,78,78,78,78,78,79,79,79,79,79,79,79,79,79,79,79,79,79,79,79,79,79,79,79,79,79,79,79,79,79,79,79,79,79,80,80,80,80,80,80,80,80,80,80,80,80,80,80,80,80,80,80,80,80,80,80,80,80,80,80,80,80,80,81,81,81,81,81,81,81,81,81,81,81,81,81,81,81,81,81,81,81,81,81,81,81,81,81,81,81,81,81,82,82,82,82,82,82,82,82,82,82,82,82,82,82,82,82,82,82,82,82,82,82,82,82,82,82,82,82,82,82,82],\"mpg\":{\"__ndarray__\":\"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\",\"dtype\":\"float64\",\"order\":\"little\",\"shape\":[398]},\"name\":[\"chevrolet chevelle malibu\",\"buick skylark 320\",\"plymouth satellite\",\"amc rebel sst\",\"ford torino\",\"ford galaxie 500\",\"chevrolet impala\",\"plymouth fury iii\",\"pontiac catalina\",\"amc ambassador dpl\",\"dodge challenger se\",\"plymouth 'cuda 340\",\"chevrolet monte carlo\",\"buick estate wagon (sw)\",\"toyota corona mark ii\",\"plymouth duster\",\"amc hornet\",\"ford maverick\",\"datsun pl510\",\"volkswagen 1131 deluxe sedan\",\"peugeot 504\",\"audi 100 ls\",\"saab 99e\",\"bmw 2002\",\"amc gremlin\",\"ford f250\",\"chevy c20\",\"dodge d200\",\"hi 1200d\",\"datsun pl510\",\"chevrolet vega 2300\",\"toyota corona\",\"ford pinto\",\"amc gremlin\",\"plymouth satellite custom\",\"chevrolet chevelle malibu\",\"ford torino 500\",\"amc matador\",\"chevrolet impala\",\"pontiac catalina brougham\",\"ford galaxie 500\",\"plymouth fury iii\",\"dodge monaco (sw)\",\"ford country squire (sw)\",\"pontiac safari (sw)\",\"amc hornet sportabout (sw)\",\"chevrolet vega (sw)\",\"pontiac firebird\",\"ford mustang\",\"mercury capri 2000\",\"opel 1900\",\"peugeot 304\",\"fiat 124b\",\"toyota corolla 1200\",\"datsun 1200\",\"volkswagen model 111\",\"plymouth cricket\",\"toyota corona hardtop\",\"dodge colt hardtop\",\"volkswagen type 3\",\"chevrolet vega\",\"ford pinto runabout\",\"chevrolet impala\",\"pontiac catalina\",\"plymouth fury iii\",\"ford galaxie 500\",\"amc ambassador sst\",\"mercury marquis\",\"buick lesabre custom\",\"oldsmobile delta 88 royale\",\"chrysler newport royal\",\"mazda rx2 coupe\",\"amc matador (sw)\",\"chevrolet chevelle concours (sw)\",\"ford gran torino (sw)\",\"plymouth satellite custom (sw)\",\"volvo 145e (sw)\",\"volkswagen 411 (sw)\",\"peugeot 504 (sw)\",\"renault 12 (sw)\",\"ford pinto (sw)\",\"datsun 510 (sw)\",\"toyouta corona mark ii (sw)\",\"dodge colt (sw)\",\"toyota corolla 1600 (sw)\",\"buick century 350\",\"amc matador\",\"chevrolet malibu\",\"ford gran torino\",\"dodge coronet custom\",\"mercury marquis brougham\",\"chevrolet caprice classic\",\"ford ltd\",\"plymouth fury gran sedan\",\"chrysler new yorker brougham\",\"buick electra 225 custom\",\"amc ambassador brougham\",\"plymouth valiant\",\"chevrolet nova custom\",\"amc hornet\",\"ford maverick\",\"plymouth duster\",\"volkswagen super beetle\",\"chevrolet impala\",\"ford country\",\"plymouth custom suburb\",\"oldsmobile vista cruiser\",\"amc gremlin\",\"toyota carina\",\"chevrolet vega\",\"datsun 610\",\"maxda rx3\",\"ford pinto\",\"mercury capri v6\",\"fiat 124 sport coupe\",\"chevrolet monte carlo s\",\"pontiac grand prix\",\"fiat 128\",\"opel manta\",\"audi 100ls\",\"volvo 144ea\",\"dodge dart custom\",\"saab 99le\",\"toyota mark ii\",\"oldsmobile omega\",\"plymouth duster\",\"ford maverick\",\"amc hornet\",\"chevrolet nova\",\"datsun b210\",\"ford pinto\",\"toyota corolla 1200\",\"chevrolet vega\",\"chevrolet chevelle malibu classic\",\"amc matador\",\"plymouth satellite sebring\",\"ford gran torino\",\"buick century luxus (sw)\",\"dodge coronet custom (sw)\",\"ford gran torino (sw)\",\"amc matador (sw)\",\"audi fox\",\"volkswagen dasher\",\"opel manta\",\"toyota corona\",\"datsun 710\",\"dodge colt\",\"fiat 128\",\"fiat 124 tc\",\"honda civic\",\"subaru\",\"fiat x1.9\",\"plymouth valiant custom\",\"chevrolet nova\",\"mercury monarch\",\"ford maverick\",\"pontiac catalina\",\"chevrolet bel air\",\"plymouth grand fury\",\"ford ltd\",\"buick century\",\"chevroelt chevelle malibu\",\"amc matador\",\"plymouth fury\",\"buick skyhawk\",\"chevrolet monza 2+2\",\"ford mustang ii\",\"toyota corolla\",\"ford pinto\",\"amc gremlin\",\"pontiac astro\",\"toyota corona\",\"volkswagen dasher\",\"datsun 710\",\"ford pinto\",\"volkswagen rabbit\",\"amc pacer\",\"audi 100ls\",\"peugeot 504\",\"volvo 244dl\",\"saab 99le\",\"honda civic cvcc\",\"fiat 131\",\"opel 1900\",\"capri ii\",\"dodge colt\",\"renault 12tl\",\"chevrolet chevelle malibu classic\",\"dodge coronet brougham\",\"amc matador\",\"ford gran torino\",\"plymouth valiant\",\"chevrolet nova\",\"ford maverick\",\"amc hornet\",\"chevrolet chevette\",\"chevrolet woody\",\"vw rabbit\",\"honda civic\",\"dodge aspen se\",\"ford granada ghia\",\"pontiac ventura sj\",\"amc pacer d/l\",\"volkswagen rabbit\",\"datsun b-210\",\"toyota corolla\",\"ford pinto\",\"volvo 245\",\"plymouth volare premier v8\",\"peugeot 504\",\"toyota mark ii\",\"mercedes-benz 280s\",\"cadillac seville\",\"chevy c10\",\"ford f108\",\"dodge d100\",\"honda accord cvcc\",\"buick opel isuzu deluxe\",\"renault 5 gtl\",\"plymouth arrow gs\",\"datsun f-10 hatchback\",\"chevrolet caprice classic\",\"oldsmobile cutlass supreme\",\"dodge monaco brougham\",\"mercury cougar brougham\",\"chevrolet concours\",\"buick skylark\",\"plymouth volare custom\",\"ford granada\",\"pontiac grand prix lj\",\"chevrolet monte carlo landau\",\"chrysler cordoba\",\"ford thunderbird\",\"volkswagen rabbit custom\",\"pontiac sunbird coupe\",\"toyota corolla liftback\",\"ford mustang ii 2+2\",\"chevrolet chevette\",\"dodge colt m/m\",\"subaru dl\",\"volkswagen dasher\",\"datsun 810\",\"bmw 320i\",\"mazda rx-4\",\"volkswagen rabbit custom diesel\",\"ford fiesta\",\"mazda glc deluxe\",\"datsun b210 gx\",\"honda civic cvcc\",\"oldsmobile cutlass salon brougham\",\"dodge diplomat\",\"mercury monarch ghia\",\"pontiac phoenix lj\",\"chevrolet malibu\",\"ford fairmont (auto)\",\"ford fairmont (man)\",\"plymouth volare\",\"amc concord\",\"buick century special\",\"mercury zephyr\",\"dodge aspen\",\"amc concord d/l\",\"chevrolet monte carlo landau\",\"buick regal sport coupe (turbo)\",\"ford futura\",\"dodge magnum xe\",\"chevrolet chevette\",\"toyota corona\",\"datsun 510\",\"dodge omni\",\"toyota celica gt liftback\",\"plymouth sapporo\",\"oldsmobile starfire sx\",\"datsun 200-sx\",\"audi 5000\",\"volvo 264gl\",\"saab 99gle\",\"peugeot 604sl\",\"volkswagen scirocco\",\"honda accord lx\",\"pontiac lemans v6\",\"mercury zephyr 6\",\"ford fairmont 4\",\"amc concord dl 6\",\"dodge aspen 6\",\"chevrolet caprice classic\",\"ford ltd landau\",\"mercury grand marquis\",\"dodge st. regis\",\"buick estate wagon (sw)\",\"ford country squire (sw)\",\"chevrolet malibu classic (sw)\",\"chrysler lebaron town @ country (sw)\",\"vw rabbit custom\",\"maxda glc deluxe\",\"dodge colt hatchback custom\",\"amc spirit dl\",\"mercedes benz 300d\",\"cadillac eldorado\",\"peugeot 504\",\"oldsmobile cutlass salon brougham\",\"plymouth horizon\",\"plymouth horizon tc3\",\"datsun 210\",\"fiat strada custom\",\"buick skylark limited\",\"chevrolet citation\",\"oldsmobile omega brougham\",\"pontiac phoenix\",\"vw rabbit\",\"toyota corolla tercel\",\"chevrolet chevette\",\"datsun 310\",\"chevrolet citation\",\"ford fairmont\",\"amc concord\",\"dodge aspen\",\"audi 4000\",\"toyota corona liftback\",\"mazda 626\",\"datsun 510 hatchback\",\"toyota corolla\",\"mazda glc\",\"dodge colt\",\"datsun 210\",\"vw rabbit c (diesel)\",\"vw dasher (diesel)\",\"audi 5000s (diesel)\",\"mercedes-benz 240d\",\"honda civic 1500 gl\",\"renault lecar deluxe\",\"subaru dl\",\"vokswagen rabbit\",\"datsun 280-zx\",\"mazda rx-7 gs\",\"triumph tr7 coupe\",\"ford mustang cobra\",\"honda accord\",\"plymouth reliant\",\"buick skylark\",\"dodge aries wagon (sw)\",\"chevrolet citation\",\"plymouth reliant\",\"toyota starlet\",\"plymouth champ\",\"honda civic 1300\",\"subaru\",\"datsun 210 mpg\",\"toyota tercel\",\"mazda glc 4\",\"plymouth horizon 4\",\"ford escort 4w\",\"ford escort 2h\",\"volkswagen jetta\",\"renault 18i\",\"honda prelude\",\"toyota corolla\",\"datsun 200sx\",\"mazda 626\",\"peugeot 505s turbo diesel\",\"volvo diesel\",\"toyota cressida\",\"datsun 810 maxima\",\"buick century\",\"oldsmobile cutlass ls\",\"ford granada gl\",\"chrysler lebaron salon\",\"chevrolet cavalier\",\"chevrolet cavalier wagon\",\"chevrolet cavalier 2-door\",\"pontiac j2000 se hatchback\",\"dodge aries se\",\"pontiac phoenix\",\"ford fairmont futura\",\"amc concord dl\",\"volkswagen rabbit l\",\"mazda glc custom l\",\"mazda glc custom\",\"plymouth horizon miser\",\"mercury lynx l\",\"nissan stanza xe\",\"honda accord\",\"toyota corolla\",\"honda civic\",\"honda civic (auto)\",\"datsun 310 gx\",\"buick century limited\",\"oldsmobile cutlass ciera (diesel)\",\"chrysler lebaron medallion\",\"ford granada l\",\"toyota celica gt\",\"dodge charger 2.2\",\"chevrolet camaro\",\"ford mustang gl\",\"vw pickup\",\"dodge rampage\",\"ford ranger\",\"chevy s-10\"],\"origin\":[\"usa\",\"usa\",\"usa\",\"usa\",\"usa\",\"usa\",\"usa\",\"usa\",\"usa\",\"usa\",\"usa\",\"usa\",\"usa\",\"usa\",\"japan\",\"usa\",\"usa\",\"usa\",\"japan\",\"europe\",\"europe\",\"europe\",\"europe\",\"europe\",\"usa\",\"usa\",\"usa\",\"usa\",\"usa\",\"japan\",\"usa\",\"japan\",\"usa\",\"usa\",\"usa\",\"usa\",\"usa\",\"usa\",\"usa\",\"usa\",\"usa\",\"usa\",\"usa\",\"usa\",\"usa\",\"usa\",\"usa\",\"usa\",\"usa\",\"usa\",\"europe\",\"europe\",\"europe\",\"japan\",\"japan\",\"europe\",\"usa\",\"japan\",\"usa\",\"europe\",\"usa\",\"usa\",\"usa\",\"usa\",\"usa\",\"usa\",\"usa\",\"usa\",\"usa\",\"usa\",\"usa\",\"japan\",\"usa\",\"usa\",\"usa\",\"usa\",\"europe\",\"europe\",\"europe\",\"europe\",\"usa\",\"japan\",\"japan\",\"usa\",\"japan\",\"usa\",\"usa\",\"usa\",\"usa\",\"usa\",\"usa\",\"usa\",\"usa\",\"usa\",\"usa\",\"usa\",\"usa\",\"usa\",\"usa\",\"usa\",\"usa\",\"usa\",\"europe\",\"usa\",\"usa\",\"usa\",\"usa\",\"usa\",\"japan\",\"usa\",\"japan\",\"japan\",\"usa\",\"usa\",\"europe\",\"usa\",\"usa\",\"europe\",\"europe\",\"europe\",\"europe\",\"usa\",\"europe\",\"japan\",\"usa\",\"usa\",\"usa\",\"usa\",\"usa\",\"japan\",\"usa\",\"japan\",\"usa\",\"usa\",\"usa\",\"usa\",\"usa\",\"usa\",\"usa\",\"usa\",\"usa\",\"europe\",\"europe\",\"europe\",\"japan\",\"japan\",\"usa\",\"europe\",\"europe\",\"japan\",\"japan\",\"europe\",\"usa\",\"usa\",\"usa\",\"usa\",\"usa\",\"usa\",\"usa\",\"usa\",\"usa\",\"usa\",\"usa\",\"usa\",\"usa\",\"usa\",\"usa\",\"japan\",\"usa\",\"usa\",\"usa\",\"japan\",\"europe\",\"japan\",\"usa\",\"europe\",\"usa\",\"europe\",\"europe\",\"europe\",\"europe\",\"japan\",\"europe\",\"europe\",\"usa\",\"usa\",\"europe\",\"usa\",\"usa\",\"usa\",\"usa\",\"usa\",\"usa\",\"usa\",\"usa\",\"usa\",\"usa\",\"europe\",\"japan\",\"usa\",\"usa\",\"usa\",\"usa\",\"europe\",\"japan\",\"japan\",\"usa\",\"europe\",\"usa\",\"europe\",\"japan\",\"europe\",\"usa\",\"usa\",\"usa\",\"usa\",\"japan\",\"usa\",\"europe\",\"usa\",\"japan\",\"usa\",\"usa\",\"usa\",\"usa\",\"usa\",\"usa\",\"usa\",\"usa\",\"usa\",\"usa\",\"usa\",\"usa\",\"europe\",\"usa\",\"japan\",\"usa\",\"usa\",\"usa\",\"japan\",\"europe\",\"japan\",\"europe\",\"japan\",\"europe\",\"usa\",\"japan\",\"japan\",\"japan\",\"usa\",\"usa\",\"usa\",\"usa\",\"usa\",\"usa\",\"usa\",\"usa\",\"usa\",\"usa\",\"usa\",\"usa\",\"usa\",\"usa\",\"usa\",\"usa\",\"usa\",\"usa\",\"japan\",\"japan\",\"usa\",\"japan\",\"usa\",\"usa\",\"japan\",\"europe\",\"europe\",\"europe\",\"europe\",\"europe\",\"japan\",\"usa\",\"usa\",\"usa\",\"usa\",\"usa\",\"usa\",\"usa\",\"usa\",\"usa\",\"usa\",\"usa\",\"usa\",\"usa\",\"europe\",\"japan\",\"usa\",\"usa\",\"europe\",\"usa\",\"europe\",\"usa\",\"usa\",\"usa\",\"japan\",\"europe\",\"usa\",\"usa\",\"usa\",\"usa\",\"europe\",\"japan\",\"usa\",\"japan\",\"usa\",\"usa\",\"usa\",\"usa\",\"europe\",\"japan\",\"japan\",\"japan\",\"japan\",\"japan\",\"usa\",\"japan\",\"europe\",\"europe\",\"europe\",\"europe\",\"japan\",\"europe\",\"japan\",\"europe\",\"japan\",\"japan\",\"europe\",\"usa\",\"japan\",\"usa\",\"usa\",\"usa\",\"usa\",\"usa\",\"japan\",\"usa\",\"japan\",\"japan\",\"japan\",\"japan\",\"japan\",\"usa\",\"usa\",\"usa\",\"europe\",\"europe\",\"japan\",\"japan\",\"japan\",\"japan\",\"europe\",\"europe\",\"japan\",\"japan\",\"usa\",\"usa\",\"usa\",\"usa\",\"usa\",\"usa\",\"usa\",\"usa\",\"usa\",\"usa\",\"usa\",\"usa\",\"europe\",\"japan\",\"japan\",\"usa\",\"usa\",\"japan\",\"japan\",\"japan\",\"japan\",\"japan\",\"japan\",\"usa\",\"usa\",\"usa\",\"usa\",\"japan\",\"usa\",\"usa\",\"usa\",\"europe\",\"usa\",\"usa\",\"usa\"],\"weight\":[3504,3693,3436,3433,3449,4341,4354,4312,4425,3850,3563,3609,3761,3086,2372,2833,2774,2587,2130,1835,2672,2430,2375,2234,2648,4615,4376,4382,4732,2130,2264,2228,2046,2634,3439,3329,3302,3288,4209,4464,4154,4096,4955,4746,5140,2962,2408,3282,3139,2220,2123,2074,2065,1773,1613,1834,1955,2278,2126,2254,2408,2226,4274,4385,4135,4129,3672,4633,4502,4456,4422,2330,3892,4098,4294,4077,2933,2511,2979,2189,2395,2288,2506,2164,2100,4100,3672,3988,4042,3777,4952,4464,4363,4237,4735,4951,3821,3121,3278,2945,3021,2904,1950,4997,4906,4654,4499,2789,2279,2401,2379,2124,2310,2472,2265,4082,4278,1867,2158,2582,2868,3399,2660,2807,3664,3102,2875,2901,3336,1950,2451,1836,2542,3781,3632,3613,4141,4699,4457,4638,4257,2219,1963,2300,1649,2003,2125,2108,2246,2489,2391,2000,3264,3459,3432,3158,4668,4440,4498,4657,3907,3897,3730,3785,3039,3221,3169,2171,2639,2914,2592,2702,2223,2545,2984,1937,3211,2694,2957,2945,2671,1795,2464,2220,2572,2255,2202,4215,4190,3962,4215,3233,3353,3012,3085,2035,2164,1937,1795,3651,3574,3645,3193,1825,1990,2155,2565,3150,3940,3270,2930,3820,4380,4055,3870,3755,2045,2155,1825,2300,1945,3880,4060,4140,4295,3520,3425,3630,3525,4220,4165,4325,4335,1940,2740,2265,2755,2051,2075,1985,2190,2815,2600,2720,1985,1800,1985,2070,1800,3365,3735,3570,3535,3155,2965,2720,3430,3210,3380,3070,3620,3410,3425,3445,3205,4080,2155,2560,2300,2230,2515,2745,2855,2405,2830,3140,2795,3410,1990,2135,3245,2990,2890,3265,3360,3840,3725,3955,3830,4360,4054,3605,3940,1925,1975,1915,2670,3530,3900,3190,3420,2200,2150,2020,2130,2670,2595,2700,2556,2144,1968,2120,2019,2678,2870,3003,3381,2188,2711,2542,2434,2265,2110,2800,2110,2085,2335,2950,3250,1850,1835,2145,1845,2910,2420,2500,2905,2290,2490,2635,2620,2725,2385,1755,1875,1760,2065,1975,2050,1985,2215,2045,2380,2190,2320,2210,2350,2615,2635,3230,3160,2900,2930,3415,3725,3060,3465,2605,2640,2395,2575,2525,2735,2865,3035,1980,2025,1970,2125,2125,2160,2205,2245,1965,1965,1995,2945,3015,2585,2835,2665,2370,2950,2790,2130,2295,2625,2720]},\"selected\":{\"id\":\"1307\"},\"selection_policy\":{\"id\":\"1306\"}},\"id\":\"1272\",\"type\":\"ColumnDataSource\"},{\"attributes\":{\"fill_alpha\":{\"value\":0.1},\"fill_color\":{\"field\":\"color_column\"},\"line_alpha\":{\"value\":0.1},\"line_color\":{\"value\":\"#1f77b4\"},\"size\":{\"value\":8},\"x\":{\"field\":\"horsepower\"},\"y\":{\"field\":\"acceleration\"}},\"id\":\"1295\",\"type\":\"Scatter\"},{\"attributes\":{\"data_source\":{\"id\":\"1272\"},\"glyph\":{\"id\":\"1294\"},\"hover_glyph\":null,\"muted_glyph\":null,\"nonselection_glyph\":{\"id\":\"1295\"},\"view\":{\"id\":\"1297\"}},\"id\":\"1296\",\"type\":\"GlyphRenderer\"},{\"attributes\":{},\"id\":\"1301\",\"type\":\"BasicTickFormatter\"},{\"attributes\":{\"child\":{\"id\":\"1273\"},\"title\":\"Acceleration\"},\"id\":\"1506\",\"type\":\"Panel\"},{\"attributes\":{\"data_source\":{\"id\":\"1190\"},\"glyph\":{\"id\":\"1191\"},\"hover_glyph\":null,\"muted_glyph\":null,\"nonselection_glyph\":{\"id\":\"1192\"},\"view\":{\"id\":\"1194\"}},\"id\":\"1193\",\"type\":\"GlyphRenderer\"},{\"attributes\":{},\"id\":\"1209\",\"type\":\"BasicTickFormatter\"},{\"attributes\":{\"bottom_units\":\"screen\",\"fill_alpha\":0.5,\"fill_color\":\"lightgrey\",\"left_units\":\"screen\",\"level\":\"overlay\",\"line_alpha\":1.0,\"line_color\":\"black\",\"line_dash\":[4,4],\"line_width\":2,\"right_units\":\"screen\",\"syncable\":false,\"top_units\":\"screen\"},\"id\":\"1182\",\"type\":\"BoxAnnotation\"},{\"attributes\":{},\"id\":\"1164\",\"type\":\"LinearScale\"},{\"attributes\":{\"items\":[{\"id\":\"1309\"},{\"id\":\"1310\"},{\"id\":\"1311\"}]},\"id\":\"1308\",\"type\":\"Legend\"},{\"attributes\":{},\"id\":\"1212\",\"type\":\"BasicTickFormatter\"},{\"attributes\":{},\"id\":\"1302\",\"type\":\"AllLabels\"},{\"attributes\":{},\"id\":\"1274\",\"type\":\"DataRange1d\"},{\"attributes\":{},\"id\":\"1176\",\"type\":\"PanTool\"},{\"attributes\":{},\"id\":\"1210\",\"type\":\"AllLabels\"},{\"attributes\":{\"below\":[{\"id\":\"1282\"}],\"center\":[{\"id\":\"1285\"},{\"id\":\"1289\"},{\"id\":\"1308\"}],\"height\":300,\"left\":[{\"id\":\"1286\"}],\"renderers\":[{\"id\":\"1296\"}],\"title\":{\"id\":\"1299\"},\"toolbar\":{\"id\":\"1291\"},\"width\":300,\"x_range\":{\"id\":\"1274\"},\"x_scale\":{\"id\":\"1278\"},\"y_range\":{\"id\":\"1276\"},\"y_scale\":{\"id\":\"1280\"}},\"id\":\"1273\",\"subtype\":\"Figure\",\"type\":\"Plot\"},{\"attributes\":{\"data\":{\"fill_color\":[\"#CE1141\",\"#CE1141\",\"#CE1141\",\"#CE1141\",\"#CE1141\",\"#CE1141\",\"#CE1141\",\"#CE1141\",\"#CE1141\",\"#CE1141\",\"#CE1141\",\"#CE1141\",\"#CE1141\",\"#CE1141\",\"orange\",\"#CE1141\",\"#CE1141\",\"#CE1141\",\"orange\",\"blue\",\"blue\",\"blue\",\"blue\",\"blue\",\"#CE1141\",\"#CE1141\",\"#CE1141\",\"#CE1141\",\"#CE1141\",\"orange\",\"#CE1141\",\"orange\",\"#CE1141\",\"#CE1141\",\"#CE1141\",\"#CE1141\",\"#CE1141\",\"#CE1141\",\"#CE1141\",\"#CE1141\",\"#CE1141\",\"#CE1141\",\"#CE1141\",\"#CE1141\",\"#CE1141\",\"#CE1141\",\"#CE1141\",\"#CE1141\",\"#CE1141\",\"#CE1141\",\"blue\",\"blue\",\"blue\",\"orange\",\"orange\",\"blue\",\"#CE1141\",\"orange\",\"#CE1141\",\"blue\",\"#CE1141\",\"#CE1141\",\"#CE1141\",\"#CE1141\",\"#CE1141\",\"#CE1141\",\"#CE1141\",\"#CE1141\",\"#CE1141\",\"#CE1141\",\"#CE1141\",\"orange\",\"#CE1141\",\"#CE1141\",\"#CE1141\",\"#CE1141\",\"blue\",\"blue\",\"blue\",\"blue\",\"#CE1141\",\"orange\",\"orange\",\"#CE1141\",\"orange\",\"#CE1141\",\"#CE1141\",\"#CE1141\",\"#CE1141\",\"#CE1141\",\"#CE1141\",\"#CE1141\",\"#CE1141\",\"#CE1141\",\"#CE1141\",\"#CE1141\",\"#CE1141\",\"#CE1141\",\"#CE1141\",\"#CE1141\",\"#CE1141\",\"#CE1141\",\"blue\",\"#CE1141\",\"#CE1141\",\"#CE1141\",\"#CE1141\",\"#CE1141\",\"orange\",\"#CE1141\",\"orange\",\"orange\",\"#CE1141\",\"#CE1141\",\"blue\",\"#CE1141\",\"#CE1141\",\"blue\",\"blue\",\"blue\",\"blue\",\"#CE1141\",\"blue\",\"orange\",\"#CE1141\",\"#CE1141\",\"#CE1141\",\"#CE1141\",\"#CE1141\",\"orange\",\"#CE1141\",\"orange\",\"#CE1141\",\"#CE1141\",\"#CE1141\",\"#CE1141\",\"#CE1141\",\"#CE1141\",\"#CE1141\",\"#CE1141\",\"#CE1141\",\"blue\",\"blue\",\"blue\",\"orange\",\"orange\",\"#CE1141\",\"blue\",\"blue\",\"orange\",\"orange\",\"blue\",\"#CE1141\",\"#CE1141\",\"#CE1141\",\"#CE1141\",\"#CE1141\",\"#CE1141\",\"#CE1141\",\"#CE1141\",\"#CE1141\",\"#CE1141\",\"#CE1141\",\"#CE1141\",\"#CE1141\",\"#CE1141\",\"#CE1141\",\"orange\",\"#CE1141\",\"#CE1141\",\"#CE1141\",\"orange\",\"blue\",\"orange\",\"#CE1141\",\"blue\",\"#CE1141\",\"blue\",\"blue\",\"blue\",\"blue\",\"orange\",\"blue\",\"blue\",\"#CE1141\",\"#CE1141\",\"blue\",\"#CE1141\",\"#CE1141\",\"#CE1141\",\"#CE1141\",\"#CE1141\",\"#CE1141\",\"#CE1141\",\"#CE1141\",\"#CE1141\",\"#CE1141\",\"blue\",\"orange\",\"#CE1141\",\"#CE1141\",\"#CE1141\",\"#CE1141\",\"blue\",\"orange\",\"orange\",\"#CE1141\",\"blue\",\"#CE1141\",\"blue\",\"orange\",\"blue\",\"#CE1141\",\"#CE1141\",\"#CE1141\",\"#CE1141\",\"orange\",\"#CE1141\",\"blue\",\"#CE1141\",\"orange\",\"#CE1141\",\"#CE1141\",\"#CE1141\",\"#CE1141\",\"#CE1141\",\"#CE1141\",\"#CE1141\",\"#CE1141\",\"#CE1141\",\"#CE1141\",\"#CE1141\",\"#CE1141\",\"blue\",\"#CE1141\",\"orange\",\"#CE1141\",\"#CE1141\",\"#CE1141\",\"orange\",\"blue\",\"orange\",\"blue\",\"orange\",\"blue\",\"#CE1141\",\"orange\",\"orange\",\"orange\",\"#CE1141\",\"#CE1141\",\"#CE1141\",\"#CE1141\",\"#CE1141\",\"#CE1141\",\"#CE1141\",\"#CE1141\",\"#CE1141\",\"#CE1141\",\"#CE1141\",\"#CE1141\",\"#CE1141\",\"#CE1141\",\"#CE1141\",\"#CE1141\",\"#CE1141\",\"#CE1141\",\"orange\",\"orange\",\"#CE1141\",\"orange\",\"#CE1141\",\"#CE1141\",\"orange\",\"blue\",\"blue\",\"blue\",\"blue\",\"blue\",\"orange\",\"#CE1141\",\"#CE1141\",\"#CE1141\",\"#CE1141\",\"#CE1141\",\"#CE1141\",\"#CE1141\",\"#CE1141\",\"#CE1141\",\"#CE1141\",\"#CE1141\",\"#CE1141\",\"#CE1141\",\"blue\",\"orange\",\"#CE1141\",\"#CE1141\",\"blue\",\"#CE1141\",\"blue\",\"#CE1141\",\"#CE1141\",\"#CE1141\",\"orange\",\"blue\",\"#CE1141\",\"#CE1141\",\"#CE1141\",\"#CE1141\",\"blue\",\"orange\",\"#CE1141\",\"orange\",\"#CE1141\",\"#CE1141\",\"#CE1141\",\"#CE1141\",\"blue\",\"orange\",\"orange\",\"orange\",\"orange\",\"orange\",\"#CE1141\",\"orange\",\"blue\",\"blue\",\"blue\",\"blue\",\"orange\",\"blue\",\"orange\",\"blue\",\"orange\",\"orange\",\"blue\",\"#CE1141\",\"orange\",\"#CE1141\",\"#CE1141\",\"#CE1141\",\"#CE1141\",\"#CE1141\",\"orange\",\"#CE1141\",\"orange\",\"orange\",\"orange\",\"orange\",\"orange\",\"#CE1141\",\"#CE1141\",\"#CE1141\",\"blue\",\"blue\",\"orange\",\"orange\",\"orange\",\"orange\",\"blue\",\"blue\",\"orange\",\"orange\",\"#CE1141\",\"#CE1141\",\"#CE1141\",\"#CE1141\",\"#CE1141\",\"#CE1141\",\"#CE1141\",\"#CE1141\",\"#CE1141\",\"#CE1141\",\"#CE1141\",\"#CE1141\",\"blue\",\"orange\",\"orange\",\"#CE1141\",\"#CE1141\",\"orange\",\"orange\",\"orange\",\"orange\",\"orange\",\"orange\",\"#CE1141\",\"#CE1141\",\"#CE1141\",\"#CE1141\",\"orange\",\"#CE1141\",\"#CE1141\",\"#CE1141\",\"blue\",\"#CE1141\",\"#CE1141\",\"#CE1141\"],\"x\":{\"__ndarray__\":\"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\",\"dtype\":\"float64\",\"order\":\"little\",\"shape\":[398]},\"y\":[3504,3693,3436,3433,3449,4341,4354,4312,4425,3850,3563,3609,3761,3086,2372,2833,2774,2587,2130,1835,2672,2430,2375,2234,2648,4615,4376,4382,4732,2130,2264,2228,2046,2634,3439,3329,3302,3288,4209,4464,4154,4096,4955,4746,5140,2962,2408,3282,3139,2220,2123,2074,2065,1773,1613,1834,1955,2278,2126,2254,2408,2226,4274,4385,4135,4129,3672,4633,4502,4456,4422,2330,3892,4098,4294,4077,2933,2511,2979,2189,2395,2288,2506,2164,2100,4100,3672,3988,4042,3777,4952,4464,4363,4237,4735,4951,3821,3121,3278,2945,3021,2904,1950,4997,4906,4654,4499,2789,2279,2401,2379,2124,2310,2472,2265,4082,4278,1867,2158,2582,2868,3399,2660,2807,3664,3102,2875,2901,3336,1950,2451,1836,2542,3781,3632,3613,4141,4699,4457,4638,4257,2219,1963,2300,1649,2003,2125,2108,2246,2489,2391,2000,3264,3459,3432,3158,4668,4440,4498,4657,3907,3897,3730,3785,3039,3221,3169,2171,2639,2914,2592,2702,2223,2545,2984,1937,3211,2694,2957,2945,2671,1795,2464,2220,2572,2255,2202,4215,4190,3962,4215,3233,3353,3012,3085,2035,2164,1937,1795,3651,3574,3645,3193,1825,1990,2155,2565,3150,3940,3270,2930,3820,4380,4055,3870,3755,2045,2155,1825,2300,1945,3880,4060,4140,4295,3520,3425,3630,3525,4220,4165,4325,4335,1940,2740,2265,2755,2051,2075,1985,2190,2815,2600,2720,1985,1800,1985,2070,1800,3365,3735,3570,3535,3155,2965,2720,3430,3210,3380,3070,3620,3410,3425,3445,3205,4080,2155,2560,2300,2230,2515,2745,2855,2405,2830,3140,2795,3410,1990,2135,3245,2990,2890,3265,3360,3840,3725,3955,3830,4360,4054,3605,3940,1925,1975,1915,2670,3530,3900,3190,3420,2200,2150,2020,2130,2670,2595,2700,2556,2144,1968,2120,2019,2678,2870,3003,3381,2188,2711,2542,2434,2265,2110,2800,2110,2085,2335,2950,3250,1850,1835,2145,1845,2910,2420,2500,2905,2290,2490,2635,2620,2725,2385,1755,1875,1760,2065,1975,2050,1985,2215,2045,2380,2190,2320,2210,2350,2615,2635,3230,3160,2900,2930,3415,3725,3060,3465,2605,2640,2395,2575,2525,2735,2865,3035,1980,2025,1970,2125,2125,2160,2205,2245,1965,1965,1995,2945,3015,2585,2835,2665,2370,2950,2790,2130,2295,2625,2720]},\"selected\":{\"id\":\"1216\"},\"selection_policy\":{\"id\":\"1215\"}},\"id\":\"1190\",\"type\":\"ColumnDataSource\"},{\"attributes\":{},\"id\":\"1306\",\"type\":\"UnionRenderers\"},{\"attributes\":{\"active_multi\":null,\"tools\":[{\"id\":\"1290\"}]},\"id\":\"1291\",\"type\":\"Toolbar\"},{\"attributes\":{},\"id\":\"1177\",\"type\":\"WheelZoomTool\"},{\"attributes\":{},\"id\":\"1213\",\"type\":\"AllLabels\"},{\"attributes\":{},\"id\":\"1304\",\"type\":\"BasicTickFormatter\"},{\"attributes\":{},\"id\":\"1160\",\"type\":\"DataRange1d\"},{\"attributes\":{\"formatter\":{\"id\":\"1301\"},\"major_label_policy\":{\"id\":\"1302\"},\"ticker\":{\"id\":\"1283\"}},\"id\":\"1282\",\"type\":\"LinearAxis\"},{\"attributes\":{\"fill_color\":{\"field\":\"color_column\"},\"line_color\":{\"value\":\"#1f77b4\"},\"size\":{\"value\":8},\"x\":{\"field\":\"horsepower\"},\"y\":{\"field\":\"acceleration\"}},\"id\":\"1294\",\"type\":\"Scatter\"},{\"attributes\":{\"overlay\":{\"id\":\"1182\"}},\"id\":\"1178\",\"type\":\"BoxZoomTool\"},{\"attributes\":{},\"id\":\"1305\",\"type\":\"AllLabels\"},{\"attributes\":{\"source\":{\"id\":\"1272\"}},\"id\":\"1297\",\"type\":\"CDSView\"},{\"attributes\":{},\"id\":\"1215\",\"type\":\"UnionRenderers\"},{\"attributes\":{},\"id\":\"1216\",\"type\":\"Selection\"},{\"attributes\":{},\"id\":\"1278\",\"type\":\"LinearScale\"},{\"attributes\":{},\"id\":\"1179\",\"type\":\"SaveTool\"},{\"attributes\":{\"axis\":{\"id\":\"1282\"},\"ticker\":null},\"id\":\"1285\",\"type\":\"Grid\"},{\"attributes\":{\"fill_color\":{\"field\":\"fill_color\"},\"line_color\":{\"value\":\"#1f77b4\"},\"size\":{\"value\":8},\"x\":{\"field\":\"x\"},\"y\":{\"field\":\"y\"}},\"id\":\"1191\",\"type\":\"Scatter\"},{\"attributes\":{},\"id\":\"1307\",\"type\":\"Selection\"},{\"attributes\":{},\"id\":\"1162\",\"type\":\"DataRange1d\"},{\"attributes\":{},\"id\":\"1180\",\"type\":\"ResetTool\"},{\"attributes\":{},\"id\":\"1207\",\"type\":\"Title\"},{\"attributes\":{\"source\":{\"id\":\"1190\"}},\"id\":\"1194\",\"type\":\"CDSView\"},{\"attributes\":{},\"id\":\"1181\",\"type\":\"HelpTool\"},{\"attributes\":{},\"id\":\"1166\",\"type\":\"LinearScale\"},{\"attributes\":{},\"id\":\"1287\",\"type\":\"BasicTicker\"},{\"attributes\":{\"index\":19,\"label\":{\"value\":\"europe\"},\"renderers\":[{\"id\":\"1296\"}]},\"id\":\"1309\",\"type\":\"LegendItem\"},{\"attributes\":{\"active_multi\":null,\"tools\":[{\"id\":\"1176\"},{\"id\":\"1177\"},{\"id\":\"1178\"},{\"id\":\"1179\"},{\"id\":\"1180\"},{\"id\":\"1181\"}]},\"id\":\"1183\",\"type\":\"Toolbar\"},{\"attributes\":{\"formatter\":{\"id\":\"1209\"},\"major_label_policy\":{\"id\":\"1210\"},\"ticker\":{\"id\":\"1169\"}},\"id\":\"1168\",\"type\":\"LinearAxis\"},{\"attributes\":{},\"id\":\"1173\",\"type\":\"BasicTicker\"},{\"attributes\":{\"fill_alpha\":{\"value\":0.1},\"fill_color\":{\"field\":\"fill_color\"},\"line_alpha\":{\"value\":0.1},\"line_color\":{\"value\":\"#1f77b4\"},\"size\":{\"value\":8},\"x\":{\"field\":\"x\"},\"y\":{\"field\":\"y\"}},\"id\":\"1192\",\"type\":\"Scatter\"},{\"attributes\":{},\"id\":\"1169\",\"type\":\"BasicTicker\"},{\"attributes\":{\"callback\":null,\"tooltips\":[[\"Model\",\"@name\"],[\"Country\",\"@origin\"]]},\"id\":\"1290\",\"type\":\"HoverTool\"},{\"attributes\":{\"index\":14,\"label\":{\"value\":\"japan\"},\"renderers\":[{\"id\":\"1296\"}]},\"id\":\"1310\",\"type\":\"LegendItem\"},{\"attributes\":{\"axis\":{\"id\":\"1168\"},\"ticker\":null},\"id\":\"1171\",\"type\":\"Grid\"},{\"attributes\":{\"child\":{\"id\":\"1159\"},\"title\":\"Weight\"},\"id\":\"1505\",\"type\":\"Panel\"},{\"attributes\":{\"index\":0,\"label\":{\"value\":\"usa\"},\"renderers\":[{\"id\":\"1296\"}]},\"id\":\"1311\",\"type\":\"LegendItem\"},{\"attributes\":{\"axis\":{\"id\":\"1172\"},\"dimension\":1,\"ticker\":null},\"id\":\"1175\",\"type\":\"Grid\"},{\"attributes\":{\"formatter\":{\"id\":\"1212\"},\"major_label_policy\":{\"id\":\"1213\"},\"ticker\":{\"id\":\"1173\"}},\"id\":\"1172\",\"type\":\"LinearAxis\"},{\"attributes\":{},\"id\":\"1276\",\"type\":\"DataRange1d\"},{\"attributes\":{\"formatter\":{\"id\":\"1304\"},\"major_label_policy\":{\"id\":\"1305\"},\"ticker\":{\"id\":\"1287\"}},\"id\":\"1286\",\"type\":\"LinearAxis\"},{\"attributes\":{},\"id\":\"1299\",\"type\":\"Title\"},{\"attributes\":{},\"id\":\"1280\",\"type\":\"LinearScale\"},{\"attributes\":{},\"id\":\"1283\",\"type\":\"BasicTicker\"},{\"attributes\":{\"below\":[{\"id\":\"1168\"}],\"center\":[{\"id\":\"1171\"},{\"id\":\"1175\"}],\"height\":300,\"left\":[{\"id\":\"1172\"}],\"renderers\":[{\"id\":\"1193\"}],\"title\":{\"id\":\"1207\"},\"toolbar\":{\"id\":\"1183\"},\"width\":400,\"x_range\":{\"id\":\"1160\"},\"x_scale\":{\"id\":\"1164\"},\"y_range\":{\"id\":\"1162\"},\"y_scale\":{\"id\":\"1166\"}},\"id\":\"1159\",\"subtype\":\"Figure\",\"type\":\"Plot\"}],\"root_ids\":[\"1507\"]},\"title\":\"Bokeh Application\",\"version\":\"2.3.3\"}};\n",
       "  var render_items = [{\"docid\":\"148787bc-ff9c-4484-bf87-e3ee4c5a4b30\",\"root_ids\":[\"1507\"],\"roots\":{\"1507\":\"ab9676ef-627c-49c1-a10d-dbb699997d01\"}}];\n",
       "  root.Bokeh.embed.embed_items_notebook(docs_json, render_items);\n",
       "\n",
       "  }\n",
       "  if (root.Bokeh !== undefined) {\n",
       "    embed_document(root);\n",
       "  } else {\n",
       "    var attempts = 0;\n",
       "    var timer = setInterval(function(root) {\n",
       "      if (root.Bokeh !== undefined) {\n",
       "        clearInterval(timer);\n",
       "        embed_document(root);\n",
       "      } else {\n",
       "        attempts++;\n",
       "        if (attempts > 100) {\n",
       "          clearInterval(timer);\n",
       "          console.log(\"Bokeh: ERROR: Unable to run BokehJS code because BokehJS library is missing\");\n",
       "        }\n",
       "      }\n",
       "    }, 10, root)\n",
       "  }\n",
       "})(window);"
      ],
      "application/vnd.bokehjs_exec.v0+json": ""
     },
     "metadata": {
      "application/vnd.bokehjs_exec.v0+json": {
       "id": "1507"
      }
     },
     "output_type": "display_data"
    }
   ],
   "source": [
    "from bokeh.models.widgets import Tabs, Panel\n",
    "\n",
    "wght_panel = Panel(child=origin_eff, title='Weight')\n",
    "acc_panel = Panel(child=origin_tt, title='Acceleration')\n",
    "\n",
    "both = Tabs(tabs=[wght_panel, acc_panel])\n",
    "show(both)"
   ]
  },
  {
   "cell_type": "markdown",
   "metadata": {
    "slideshow": {
     "slide_type": "slide"
    }
   },
   "source": [
    "Bokeh has various layout options like tabs, columns, rows, gridplot and layout objects. Find more information on layouts [here](https://docs.bokeh.org/en/latest/docs/user_guide/layout.html)"
   ]
  },
  {
   "cell_type": "markdown",
   "metadata": {
    "slideshow": {
     "slide_type": "slide"
    }
   },
   "source": [
    "### Pandas-Bokeh\n",
    "\n",
    "Pandas-Bokeh is a package which brings together bokeh and the pandas `.plot()` method, simplifying the creation of interactive bokeh plots from pandas DataFrames."
   ]
  },
  {
   "cell_type": "code",
   "execution_count": 10,
   "metadata": {
    "slideshow": {
     "slide_type": "slide"
    }
   },
   "outputs": [],
   "source": [
    "pd.set_option('plotting.backend', 'pandas_bokeh')\n",
    "\n",
    "import warnings\n",
    "warnings.filterwarnings('ignore')"
   ]
  },
  {
   "cell_type": "markdown",
   "metadata": {
    "slideshow": {
     "slide_type": "slide"
    }
   },
   "source": [
    "The pandas `.set_option()` method allows us to set `pandas_bokeh` as the pandas `plotting.backend`\n",
    "- `pandas_bokeh` will be used when the DataFrame `.plot()` method is called\n",
    "\n",
    "- `filterwarnings` is set to `ignore` because (at the time of writing) a warning is sometimes given about the future deprecation of a bokeh feature used by pandas_bokeh"
   ]
  },
  {
   "cell_type": "code",
   "execution_count": 11,
   "metadata": {
    "slideshow": {
     "slide_type": "slide"
    }
   },
   "outputs": [
    {
     "data": {
      "text/html": [
       "\n",
       "\n",
       "\n",
       "\n",
       "\n",
       "\n",
       "  <div class=\"bk-root\" id=\"6825decc-2e45-4940-b6ec-27ea0d1b0d1f\" data-root-id=\"1666\"></div>\n"
      ]
     },
     "metadata": {},
     "output_type": "display_data"
    },
    {
     "data": {
      "application/javascript": [
       "(function(root) {\n",
       "  function embed_document(root) {\n",
       "    \n",
       "  var docs_json = {\"ef56e777-f5e4-4679-83d3-c336d0111f74\":{\"defs\":[],\"roots\":{\"references\":[{\"attributes\":{\"below\":[{\"id\":\"1677\"}],\"center\":[{\"id\":\"1680\"},{\"id\":\"1684\"},{\"id\":\"1716\"}],\"height\":400,\"left\":[{\"id\":\"1681\"}],\"output_backend\":\"webgl\",\"renderers\":[{\"id\":\"1704\"},{\"id\":\"1724\"},{\"id\":\"1745\"}],\"sizing_mode\":\"fixed\",\"title\":{\"id\":\"1667\"},\"toolbar\":{\"id\":\"1692\"},\"x_range\":{\"id\":\"1669\"},\"x_scale\":{\"id\":\"1673\"},\"y_range\":{\"id\":\"1671\"},\"y_scale\":{\"id\":\"1675\"}},\"id\":\"1666\",\"subtype\":\"Figure\",\"type\":\"Plot\"},{\"attributes\":{\"fill_alpha\":{\"value\":0.6},\"fill_color\":{\"value\":\"#ff7f0e\"},\"line_alpha\":{\"value\":0.6},\"line_width\":{\"value\":2},\"size\":{\"value\":10},\"x\":{\"field\":\"__x__values\"},\"y\":{\"field\":\"y\"}},\"id\":\"1722\",\"type\":\"Scatter\"},{\"attributes\":{},\"id\":\"1715\",\"type\":\"Selection\"},{\"attributes\":{},\"id\":\"1759\",\"type\":\"UnionRenderers\"},{\"attributes\":{\"axis\":{\"id\":\"1681\"},\"dimension\":1,\"ticker\":null},\"id\":\"1684\",\"type\":\"Grid\"},{\"attributes\":{\"callback\":null,\"renderers\":[{\"id\":\"1724\"}],\"tooltips\":[[\"weight\",\"@__x__values_original\"],[\"mpg\",\"@y\"],[\"origin\",\"@category\"]]},\"id\":\"1739\",\"type\":\"HoverTool\"},{\"attributes\":{\"fill_alpha\":{\"value\":0.6},\"fill_color\":{\"value\":\"#2ca02c\"},\"line_alpha\":{\"value\":0.6},\"line_width\":{\"value\":2},\"size\":{\"value\":10},\"x\":{\"field\":\"__x__values\"},\"y\":{\"field\":\"y\"}},\"id\":\"1743\",\"type\":\"Scatter\"},{\"attributes\":{\"label\":{\"value\":\"japan \"},\"renderers\":[{\"id\":\"1724\"}]},\"id\":\"1738\",\"type\":\"LegendItem\"},{\"attributes\":{},\"id\":\"1714\",\"type\":\"UnionRenderers\"},{\"attributes\":{},\"id\":\"1760\",\"type\":\"Selection\"},{\"attributes\":{\"axis\":{\"id\":\"1677\"},\"ticker\":null},\"id\":\"1680\",\"type\":\"Grid\"},{\"attributes\":{\"label\":{\"value\":\"usa \"},\"renderers\":[{\"id\":\"1704\"}]},\"id\":\"1717\",\"type\":\"LegendItem\"},{\"attributes\":{},\"id\":\"1711\",\"type\":\"BasicTickFormatter\"},{\"attributes\":{\"source\":{\"id\":\"1741\"}},\"id\":\"1746\",\"type\":\"CDSView\"},{\"attributes\":{},\"id\":\"1682\",\"type\":\"BasicTicker\"},{\"attributes\":{\"axis_label\":\"mpg\",\"formatter\":{\"id\":\"1711\"},\"major_label_policy\":{\"id\":\"1712\"},\"ticker\":{\"id\":\"1682\"}},\"id\":\"1681\",\"type\":\"LinearAxis\"},{\"attributes\":{\"callback\":null,\"renderers\":[{\"id\":\"1704\"}],\"tooltips\":[[\"weight\",\"@__x__values_original\"],[\"mpg\",\"@y\"],[\"origin\",\"@category\"]]},\"id\":\"1718\",\"type\":\"HoverTool\"},{\"attributes\":{\"callback\":null,\"renderers\":[{\"id\":\"1745\"}],\"tooltips\":[[\"weight\",\"@__x__values_original\"],[\"mpg\",\"@y\"],[\"origin\",\"@category\"]]},\"id\":\"1762\",\"type\":\"HoverTool\"},{\"attributes\":{\"fill_alpha\":{\"value\":0.1},\"fill_color\":{\"value\":\"#ff7f0e\"},\"line_alpha\":{\"value\":0.1},\"line_width\":{\"value\":2},\"size\":{\"value\":10},\"x\":{\"field\":\"__x__values\"},\"y\":{\"field\":\"y\"}},\"id\":\"1723\",\"type\":\"Scatter\"},{\"attributes\":{\"data\":{\"__x__values\":[1835,2672,2430,2375,2234,2123,2074,2065,1834,2254,2933,2511,2979,2189,1950,2265,1867,2158,2582,2868,2660,2219,1963,2300,2108,2246,2000,2223,1937,2694,2957,2945,2671,2464,2220,2202,1937,1825,3150,3270,3820,1825,1940,2190,2600,1985,2830,3140,2795,3410,1990,1925,3530,3190,2130,2144,2188,2085,2335,2950,3250,1835,1845,2500,2190,2320,3230,3160,1980,2130],\"__x__values_original\":[1835,2672,2430,2375,2234,2123,2074,2065,1834,2254,2933,2511,2979,2189,1950,2265,1867,2158,2582,2868,2660,2219,1963,2300,2108,2246,2000,2223,1937,2694,2957,2945,2671,2464,2220,2202,1937,1825,3150,3270,3820,1825,1940,2190,2600,1985,2830,3140,2795,3410,1990,1925,3530,3190,2130,2144,2188,2085,2335,2950,3250,1835,1845,2500,2190,2320,3230,3160,1980,2130],\"category\":[\"europe\",\"europe\",\"europe\",\"europe\",\"europe\",\"europe\",\"europe\",\"europe\",\"europe\",\"europe\",\"europe\",\"europe\",\"europe\",\"europe\",\"europe\",\"europe\",\"europe\",\"europe\",\"europe\",\"europe\",\"europe\",\"europe\",\"europe\",\"europe\",\"europe\",\"europe\",\"europe\",\"europe\",\"europe\",\"europe\",\"europe\",\"europe\",\"europe\",\"europe\",\"europe\",\"europe\",\"europe\",\"europe\",\"europe\",\"europe\",\"europe\",\"europe\",\"europe\",\"europe\",\"europe\",\"europe\",\"europe\",\"europe\",\"europe\",\"europe\",\"europe\",\"europe\",\"europe\",\"europe\",\"europe\",\"europe\",\"europe\",\"europe\",\"europe\",\"europe\",\"europe\",\"europe\",\"europe\",\"europe\",\"europe\",\"europe\",\"europe\",\"europe\",\"europe\",\"europe\"],\"y\":{\"__ndarray__\":\"AAAAAAAAOkAAAAAAAAA5QAAAAAAAADhAAAAAAAAAOUAAAAAAAAA6QAAAAAAAADxAAAAAAAAAPkAAAAAAAAA+QAAAAAAAADtAAAAAAAAAN0AAAAAAAAAyQAAAAAAAADZAAAAAAAAANUAAAAAAAAA6QAAAAAAAADpAAAAAAAAAOkAAAAAAAAA9QAAAAAAAADhAAAAAAAAANEAAAAAAAAAzQAAAAAAAADhAAAAAAAAAPUAAAAAAAAA6QAAAAAAAADpAAAAAAAAAOEAAAAAAAAA6QAAAAAAAAD9AAAAAAAAAOUAAAAAAAAA9QAAAAAAAADdAAAAAAAAAN0AAAAAAAAA2QAAAAAAAADlAAAAAAAAAPEAAAAAAAAA5QAAAAAAAADtAAAAAAAAAPUAAAAAAAIA9QAAAAAAAADRAAAAAAAAAM0AAAAAAAIAwQAAAAAAAAEJAAAAAAAAAPUAAAAAAAIA+QAAAAAAAgDVAzczMzMyMRUDNzMzMzEw0QAAAAAAAADFAmpmZmZmZNUAzMzMzMzMwQAAAAAAAgD9AZmZmZmbmP0BmZmZmZmY5QDMzMzMzMztAZmZmZmamQkAAAAAAAMBEQGZmZmZmJkFAZmZmZmYmRkAzMzMzM7NFQDMzMzMzM0JAAAAAAAAAPkAzMzMzM3NEQM3MzMzMzD1AAAAAAACAQUAAAAAAAIBAQAAAAAAAQEFAmpmZmZkZPEAzMzMzM7M+QAAAAAAAAEJAAAAAAAAARkA=\",\"dtype\":\"float64\",\"order\":\"little\",\"shape\":[70]}},\"selected\":{\"id\":\"1760\"},\"selection_policy\":{\"id\":\"1759\"}},\"id\":\"1741\",\"type\":\"ColumnDataSource\"},{\"attributes\":{},\"id\":\"1673\",\"type\":\"LinearScale\"},{\"attributes\":{\"label\":{\"value\":\"europe \"},\"renderers\":[{\"id\":\"1745\"}]},\"id\":\"1761\",\"type\":\"LegendItem\"},{\"attributes\":{},\"id\":\"1678\",\"type\":\"BasicTicker\"},{\"attributes\":{\"data\":{\"__x__values\":[3504,3693,3436,3433,3449,4341,4354,4312,4425,3850,3563,3609,3761,3086,2833,2774,2587,2648,4615,4376,4382,4732,2264,2046,2634,3439,3329,3302,3288,4209,4464,4154,4096,4955,4746,5140,2962,2408,3282,3139,2220,1955,2126,2408,2226,4274,4385,4135,4129,3672,4633,4502,4456,4422,3892,4098,4294,4077,2395,2164,4100,3672,3988,4042,3777,4952,4464,4363,4237,4735,4951,3821,3121,3278,2945,3021,2904,4997,4906,4654,4499,2789,2401,2310,2472,4082,4278,3399,3664,3102,2875,2901,3336,2451,2542,3781,3632,3613,4141,4699,4457,4638,4257,2125,3264,3459,3432,3158,4668,4440,4498,4657,3907,3897,3730,3785,3039,3221,3169,2639,2914,2592,2984,3211,2572,2255,4215,4190,3962,4215,3233,3353,3012,3085,2035,2164,3651,3574,3645,3193,2565,3940,4380,4055,3870,3755,2155,2300,3880,4060,4140,4295,3520,3425,3630,3525,4220,4165,4325,4335,2740,2755,2051,2075,1800,3365,3735,3570,3535,3155,2965,2720,3430,3210,3380,3070,3620,3410,3425,3445,3205,4080,2155,2230,2745,2855,3245,2990,2890,3265,3360,3840,3725,3955,3830,4360,4054,3605,3940,1915,2670,3900,3420,2200,2150,2670,2595,2700,2556,2120,2678,2870,3003,3381,2800,2905,2490,2635,2620,2725,2385,1875,2215,2045,2380,3415,3725,3060,3465,2605,2640,2395,2575,2525,2735,2865,3035,2125,2125,2945,3015,2585,2835,2370,2950,2790,2295,2625,2720],\"__x__values_original\":[3504,3693,3436,3433,3449,4341,4354,4312,4425,3850,3563,3609,3761,3086,2833,2774,2587,2648,4615,4376,4382,4732,2264,2046,2634,3439,3329,3302,3288,4209,4464,4154,4096,4955,4746,5140,2962,2408,3282,3139,2220,1955,2126,2408,2226,4274,4385,4135,4129,3672,4633,4502,4456,4422,3892,4098,4294,4077,2395,2164,4100,3672,3988,4042,3777,4952,4464,4363,4237,4735,4951,3821,3121,3278,2945,3021,2904,4997,4906,4654,4499,2789,2401,2310,2472,4082,4278,3399,3664,3102,2875,2901,3336,2451,2542,3781,3632,3613,4141,4699,4457,4638,4257,2125,3264,3459,3432,3158,4668,4440,4498,4657,3907,3897,3730,3785,3039,3221,3169,2639,2914,2592,2984,3211,2572,2255,4215,4190,3962,4215,3233,3353,3012,3085,2035,2164,3651,3574,3645,3193,2565,3940,4380,4055,3870,3755,2155,2300,3880,4060,4140,4295,3520,3425,3630,3525,4220,4165,4325,4335,2740,2755,2051,2075,1800,3365,3735,3570,3535,3155,2965,2720,3430,3210,3380,3070,3620,3410,3425,3445,3205,4080,2155,2230,2745,2855,3245,2990,2890,3265,3360,3840,3725,3955,3830,4360,4054,3605,3940,1915,2670,3900,3420,2200,2150,2670,2595,2700,2556,2120,2678,2870,3003,3381,2800,2905,2490,2635,2620,2725,2385,1875,2215,2045,2380,3415,3725,3060,3465,2605,2640,2395,2575,2525,2735,2865,3035,2125,2125,2945,3015,2585,2835,2370,2950,2790,2295,2625,2720],\"category\":[\"usa\",\"usa\",\"usa\",\"usa\",\"usa\",\"usa\",\"usa\",\"usa\",\"usa\",\"usa\",\"usa\",\"usa\",\"usa\",\"usa\",\"usa\",\"usa\",\"usa\",\"usa\",\"usa\",\"usa\",\"usa\",\"usa\",\"usa\",\"usa\",\"usa\",\"usa\",\"usa\",\"usa\",\"usa\",\"usa\",\"usa\",\"usa\",\"usa\",\"usa\",\"usa\",\"usa\",\"usa\",\"usa\",\"usa\",\"usa\",\"usa\",\"usa\",\"usa\",\"usa\",\"usa\",\"usa\",\"usa\",\"usa\",\"usa\",\"usa\",\"usa\",\"usa\",\"usa\",\"usa\",\"usa\",\"usa\",\"usa\",\"usa\",\"usa\",\"usa\",\"usa\",\"usa\",\"usa\",\"usa\",\"usa\",\"usa\",\"usa\",\"usa\",\"usa\",\"usa\",\"usa\",\"usa\",\"usa\",\"usa\",\"usa\",\"usa\",\"usa\",\"usa\",\"usa\",\"usa\",\"usa\",\"usa\",\"usa\",\"usa\",\"usa\",\"usa\",\"usa\",\"usa\",\"usa\",\"usa\",\"usa\",\"usa\",\"usa\",\"usa\",\"usa\",\"usa\",\"usa\",\"usa\",\"usa\",\"usa\",\"usa\",\"usa\",\"usa\",\"usa\",\"usa\",\"usa\",\"usa\",\"usa\",\"usa\",\"usa\",\"usa\",\"usa\",\"usa\",\"usa\",\"usa\",\"usa\",\"usa\",\"usa\",\"usa\",\"usa\",\"usa\",\"usa\",\"usa\",\"usa\",\"usa\",\"usa\",\"usa\",\"usa\",\"usa\",\"usa\",\"usa\",\"usa\",\"usa\",\"usa\",\"usa\",\"usa\",\"usa\",\"usa\",\"usa\",\"usa\",\"usa\",\"usa\",\"usa\",\"usa\",\"usa\",\"usa\",\"usa\",\"usa\",\"usa\",\"usa\",\"usa\",\"usa\",\"usa\",\"usa\",\"usa\",\"usa\",\"usa\",\"usa\",\"usa\",\"usa\",\"usa\",\"usa\",\"usa\",\"usa\",\"usa\",\"usa\",\"usa\",\"usa\",\"usa\",\"usa\",\"usa\",\"usa\",\"usa\",\"usa\",\"usa\",\"usa\",\"usa\",\"usa\",\"usa\",\"usa\",\"usa\",\"usa\",\"usa\",\"usa\",\"usa\",\"usa\",\"usa\",\"usa\",\"usa\",\"usa\",\"usa\",\"usa\",\"usa\",\"usa\",\"usa\",\"usa\",\"usa\",\"usa\",\"usa\",\"usa\",\"usa\",\"usa\",\"usa\",\"usa\",\"usa\",\"usa\",\"usa\",\"usa\",\"usa\",\"usa\",\"usa\",\"usa\",\"usa\",\"usa\",\"usa\",\"usa\",\"usa\",\"usa\",\"usa\",\"usa\",\"usa\",\"usa\",\"usa\",\"usa\",\"usa\",\"usa\",\"usa\",\"usa\",\"usa\",\"usa\",\"usa\",\"usa\",\"usa\",\"usa\",\"usa\",\"usa\",\"usa\",\"usa\",\"usa\",\"usa\",\"usa\",\"usa\",\"usa\",\"usa\",\"usa\",\"usa\",\"usa\",\"usa\",\"usa\"],\"y\":{\"__ndarray__\":\"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\",\"dtype\":\"float64\",\"order\":\"little\",\"shape\":[249]}},\"selected\":{\"id\":\"1715\"},\"selection_policy\":{\"id\":\"1714\"}},\"id\":\"1700\",\"type\":\"ColumnDataSource\"},{\"attributes\":{},\"id\":\"1712\",\"type\":\"AllLabels\"},{\"attributes\":{\"fill_alpha\":{\"value\":0.1},\"fill_color\":{\"value\":\"#1f77b4\"},\"line_alpha\":{\"value\":0.1},\"line_width\":{\"value\":2},\"size\":{\"value\":10},\"x\":{\"field\":\"__x__values\"},\"y\":{\"field\":\"y\"}},\"id\":\"1703\",\"type\":\"Scatter\"},{\"attributes\":{\"active_multi\":null,\"active_scroll\":{\"id\":\"1686\"},\"tools\":[{\"id\":\"1685\"},{\"id\":\"1686\"},{\"id\":\"1687\"},{\"id\":\"1688\"},{\"id\":\"1689\"},{\"id\":\"1690\"},{\"id\":\"1718\"},{\"id\":\"1739\"},{\"id\":\"1762\"}]},\"id\":\"1692\",\"type\":\"Toolbar\"},{\"attributes\":{\"source\":{\"id\":\"1700\"}},\"id\":\"1705\",\"type\":\"CDSView\"},{\"attributes\":{\"fill_alpha\":{\"value\":0.1},\"fill_color\":{\"value\":\"#2ca02c\"},\"line_alpha\":{\"value\":0.1},\"line_width\":{\"value\":2},\"size\":{\"value\":10},\"x\":{\"field\":\"__x__values\"},\"y\":{\"field\":\"y\"}},\"id\":\"1744\",\"type\":\"Scatter\"},{\"attributes\":{\"data_source\":{\"id\":\"1741\"},\"glyph\":{\"id\":\"1743\"},\"hover_glyph\":null,\"muted_glyph\":null,\"nonselection_glyph\":{\"id\":\"1744\"},\"view\":{\"id\":\"1746\"}},\"id\":\"1745\",\"type\":\"GlyphRenderer\"},{\"attributes\":{\"fill_alpha\":{\"value\":0.6},\"fill_color\":{\"value\":\"#1f77b4\"},\"line_alpha\":{\"value\":0.6},\"line_width\":{\"value\":2},\"size\":{\"value\":10},\"x\":{\"field\":\"__x__values\"},\"y\":{\"field\":\"y\"}},\"id\":\"1702\",\"type\":\"Scatter\"},{\"attributes\":{},\"id\":\"1685\",\"type\":\"PanTool\"},{\"attributes\":{\"bottom_units\":\"screen\",\"fill_alpha\":0.5,\"fill_color\":\"lightgrey\",\"left_units\":\"screen\",\"level\":\"overlay\",\"line_alpha\":1.0,\"line_color\":\"black\",\"line_dash\":[4,4],\"line_width\":2,\"right_units\":\"screen\",\"syncable\":false,\"top_units\":\"screen\"},\"id\":\"1691\",\"type\":\"BoxAnnotation\"},{\"attributes\":{\"data\":{\"__x__values\":[2372,2130,2130,2228,1773,1613,2278,2330,2288,2506,2100,2279,2379,2124,2807,1950,1836,1649,2003,2489,2391,2171,2702,2545,1795,1795,1990,2155,2930,2045,1945,2265,1985,2815,2720,1985,2070,1800,2560,2300,2515,2405,2135,1975,2020,1968,2019,2711,2542,2434,2265,2110,2110,1850,2145,2910,2420,2290,1755,1760,2065,1975,2050,1985,2210,2350,2615,2635,2900,2930,2025,1970,2160,2205,2245,1965,1965,1995,2665],\"__x__values_original\":[2372,2130,2130,2228,1773,1613,2278,2330,2288,2506,2100,2279,2379,2124,2807,1950,1836,1649,2003,2489,2391,2171,2702,2545,1795,1795,1990,2155,2930,2045,1945,2265,1985,2815,2720,1985,2070,1800,2560,2300,2515,2405,2135,1975,2020,1968,2019,2711,2542,2434,2265,2110,2110,1850,2145,2910,2420,2290,1755,1760,2065,1975,2050,1985,2210,2350,2615,2635,2900,2930,2025,1970,2160,2205,2245,1965,1965,1995,2665],\"category\":[\"japan\",\"japan\",\"japan\",\"japan\",\"japan\",\"japan\",\"japan\",\"japan\",\"japan\",\"japan\",\"japan\",\"japan\",\"japan\",\"japan\",\"japan\",\"japan\",\"japan\",\"japan\",\"japan\",\"japan\",\"japan\",\"japan\",\"japan\",\"japan\",\"japan\",\"japan\",\"japan\",\"japan\",\"japan\",\"japan\",\"japan\",\"japan\",\"japan\",\"japan\",\"japan\",\"japan\",\"japan\",\"japan\",\"japan\",\"japan\",\"japan\",\"japan\",\"japan\",\"japan\",\"japan\",\"japan\",\"japan\",\"japan\",\"japan\",\"japan\",\"japan\",\"japan\",\"japan\",\"japan\",\"japan\",\"japan\",\"japan\",\"japan\",\"japan\",\"japan\",\"japan\",\"japan\",\"japan\",\"japan\",\"japan\",\"japan\",\"japan\",\"japan\",\"japan\",\"japan\",\"japan\",\"japan\",\"japan\",\"japan\",\"japan\",\"japan\",\"japan\",\"japan\",\"japan\"],\"y\":{\"__ndarray__\":\"AAAAAAAAOEAAAAAAAAA7QAAAAAAAADtAAAAAAAAAOUAAAAAAAAA/QAAAAAAAgEFAAAAAAAAAOEAAAAAAAAAzQAAAAAAAADxAAAAAAAAAN0AAAAAAAAA7QAAAAAAAADRAAAAAAAAANkAAAAAAAAAyQAAAAAAAADRAAAAAAAAAP0AAAAAAAABAQAAAAAAAAD9AAAAAAAAAQEAAAAAAAAA4QAAAAAAAADpAAAAAAAAAPUAAAAAAAAA4QAAAAAAAADhAAAAAAACAQEAAAAAAAIBAQAAAAAAAAEBAAAAAAAAAPEAAAAAAAAAzQAAAAAAAgD9AAAAAAADAQEAAAAAAAAA6QAAAAAAAAD5AAAAAAAAANkAAAAAAAIA1QGZmZmZmZkBAMzMzMzOzQ0DNzMzMzAxCQAAAAAAAgDtAMzMzMzMzO0CamZmZmRk1QGZmZmZm5jdAAAAAAACAPUDNzMzMzAxBQM3MzMzMzD9AzczMzMwMQ0CamZmZmZlCQM3MzMzMzD1AzczMzMxMP0AAAAAAAIBCQJqZmZmZGUBAzczMzMxMR0BmZmZmZmZEQM3MzMzMTEZAZmZmZmbmQECamZmZmVlAQDMzMzMzszdAMzMzMzMzQEDNzMzMzIxDQM3MzMzMjEFAZmZmZmYmQEAAAAAAAIBCQJqZmZmZ2UJAzczMzMwMQUCamZmZmdlAQDMzMzMzM0BAMzMzMzNzQECamZmZmZk/QGZmZmZmZjlAMzMzMzMzOEAAAAAAAIBCQAAAAAAAAD9AAAAAAAAAQkAAAAAAAABCQAAAAAAAAEFAAAAAAAAAQ0AAAAAAAABAQAAAAAAAAENAAAAAAAAAQEA=\",\"dtype\":\"float64\",\"order\":\"little\",\"shape\":[79]}},\"selected\":{\"id\":\"1737\"},\"selection_policy\":{\"id\":\"1736\"}},\"id\":\"1720\",\"type\":\"ColumnDataSource\"},{\"attributes\":{},\"id\":\"1736\",\"type\":\"UnionRenderers\"},{\"attributes\":{},\"id\":\"1667\",\"type\":\"Title\"},{\"attributes\":{\"click_policy\":\"hide\",\"items\":[{\"id\":\"1717\"},{\"id\":\"1738\"},{\"id\":\"1761\"}]},\"id\":\"1716\",\"type\":\"Legend\"},{\"attributes\":{},\"id\":\"1686\",\"type\":\"WheelZoomTool\"},{\"attributes\":{\"source\":{\"id\":\"1720\"}},\"id\":\"1725\",\"type\":\"CDSView\"},{\"attributes\":{\"overlay\":{\"id\":\"1691\"}},\"id\":\"1687\",\"type\":\"BoxZoomTool\"},{\"attributes\":{},\"id\":\"1708\",\"type\":\"BasicTickFormatter\"},{\"attributes\":{},\"id\":\"1671\",\"type\":\"DataRange1d\"},{\"attributes\":{},\"id\":\"1688\",\"type\":\"SaveTool\"},{\"attributes\":{},\"id\":\"1709\",\"type\":\"AllLabels\"},{\"attributes\":{\"data_source\":{\"id\":\"1720\"},\"glyph\":{\"id\":\"1722\"},\"hover_glyph\":null,\"muted_glyph\":null,\"nonselection_glyph\":{\"id\":\"1723\"},\"view\":{\"id\":\"1725\"}},\"id\":\"1724\",\"type\":\"GlyphRenderer\"},{\"attributes\":{},\"id\":\"1669\",\"type\":\"DataRange1d\"},{\"attributes\":{},\"id\":\"1675\",\"type\":\"LinearScale\"},{\"attributes\":{},\"id\":\"1689\",\"type\":\"ResetTool\"},{\"attributes\":{},\"id\":\"1737\",\"type\":\"Selection\"},{\"attributes\":{},\"id\":\"1690\",\"type\":\"HelpTool\"},{\"attributes\":{\"axis_label\":\"weight\",\"formatter\":{\"id\":\"1708\"},\"major_label_policy\":{\"id\":\"1709\"},\"ticker\":{\"id\":\"1678\"}},\"id\":\"1677\",\"type\":\"LinearAxis\"},{\"attributes\":{\"data_source\":{\"id\":\"1700\"},\"glyph\":{\"id\":\"1702\"},\"hover_glyph\":null,\"muted_glyph\":null,\"nonselection_glyph\":{\"id\":\"1703\"},\"view\":{\"id\":\"1705\"}},\"id\":\"1704\",\"type\":\"GlyphRenderer\"}],\"root_ids\":[\"1666\"]},\"title\":\"Bokeh Application\",\"version\":\"2.3.3\"}};\n",
       "  var render_items = [{\"docid\":\"ef56e777-f5e4-4679-83d3-c336d0111f74\",\"root_ids\":[\"1666\"],\"roots\":{\"1666\":\"6825decc-2e45-4940-b6ec-27ea0d1b0d1f\"}}];\n",
       "  root.Bokeh.embed.embed_items_notebook(docs_json, render_items);\n",
       "\n",
       "  }\n",
       "  if (root.Bokeh !== undefined) {\n",
       "    embed_document(root);\n",
       "  } else {\n",
       "    var attempts = 0;\n",
       "    var timer = setInterval(function(root) {\n",
       "      if (root.Bokeh !== undefined) {\n",
       "        clearInterval(timer);\n",
       "        embed_document(root);\n",
       "      } else {\n",
       "        attempts++;\n",
       "        if (attempts > 100) {\n",
       "          clearInterval(timer);\n",
       "          console.log(\"Bokeh: ERROR: Unable to run BokehJS code because BokehJS library is missing\");\n",
       "        }\n",
       "      }\n",
       "    }, 10, root)\n",
       "  }\n",
       "})(window);"
      ],
      "application/vnd.bokehjs_exec.v0+json": ""
     },
     "metadata": {
      "application/vnd.bokehjs_exec.v0+json": {
       "id": "1666"
      }
     },
     "output_type": "display_data"
    }
   ],
   "source": [
    "fig = df.plot(x='weight', y='mpg', kind='scatter', category='origin', alpha=0.6);"
   ]
  },
  {
   "cell_type": "markdown",
   "metadata": {
    "slideshow": {
     "slide_type": "slide"
    }
   },
   "source": [
    "- We can call the `.plot()` method on the DataFrame as we have seen previously\n",
    "    - `x`, `y`, `kind`, and `alpha` parameters work as previously seen\n",
    "    - `category` is a **pandas-bokeh** parameter, which works similarly to `hue` in seaborn\n",
    "        - **clickable legend** provides datapoint filtering"
   ]
  },
  {
   "cell_type": "code",
   "execution_count": 12,
   "metadata": {
    "slideshow": {
     "slide_type": "slide"
    }
   },
   "outputs": [
    {
     "data": {
      "text/html": [
       "\n",
       "\n",
       "\n",
       "\n",
       "\n",
       "\n",
       "  <div class=\"bk-root\" id=\"5b0e27ab-7b5f-4046-8aac-fca1df84cf9d\" data-root-id=\"1666\"></div>\n"
      ]
     },
     "metadata": {},
     "output_type": "display_data"
    },
    {
     "data": {
      "application/javascript": [
       "(function(root) {\n",
       "  function embed_document(root) {\n",
       "    \n",
       "  var docs_json = {\"ecfb80a2-27b3-42d9-be0d-a1e83ae9a505\":{\"defs\":[],\"roots\":{\"references\":[{\"attributes\":{\"below\":[{\"id\":\"1677\"}],\"center\":[{\"id\":\"1680\"},{\"id\":\"1684\"},{\"id\":\"1716\"}],\"height\":400,\"left\":[{\"id\":\"1681\"}],\"output_backend\":\"webgl\",\"renderers\":[{\"id\":\"1704\"},{\"id\":\"1724\"},{\"id\":\"1745\"}],\"sizing_mode\":\"fixed\",\"title\":{\"id\":\"1667\"},\"toolbar\":{\"id\":\"1692\"},\"toolbar_location\":null,\"x_range\":{\"id\":\"1669\"},\"x_scale\":{\"id\":\"1673\"},\"y_range\":{\"id\":\"1671\"},\"y_scale\":{\"id\":\"1675\"}},\"id\":\"1666\",\"subtype\":\"Figure\",\"type\":\"Plot\"},{\"attributes\":{\"fill_alpha\":{\"value\":0.6},\"fill_color\":{\"value\":\"#ff7f0e\"},\"line_alpha\":{\"value\":0.6},\"line_width\":{\"value\":2},\"size\":{\"value\":10},\"x\":{\"field\":\"__x__values\"},\"y\":{\"field\":\"y\"}},\"id\":\"1722\",\"type\":\"Scatter\"},{\"attributes\":{},\"id\":\"1715\",\"type\":\"Selection\"},{\"attributes\":{},\"id\":\"1759\",\"type\":\"UnionRenderers\"},{\"attributes\":{\"axis\":{\"id\":\"1681\"},\"dimension\":1,\"ticker\":null},\"id\":\"1684\",\"type\":\"Grid\"},{\"attributes\":{\"callback\":null,\"renderers\":[{\"id\":\"1724\"}],\"tooltips\":[[\"weight\",\"@__x__values_original\"],[\"mpg\",\"@y\"],[\"origin\",\"@category\"]]},\"id\":\"1739\",\"type\":\"HoverTool\"},{\"attributes\":{\"fill_alpha\":{\"value\":0.6},\"fill_color\":{\"value\":\"#2ca02c\"},\"line_alpha\":{\"value\":0.6},\"line_width\":{\"value\":2},\"size\":{\"value\":10},\"x\":{\"field\":\"__x__values\"},\"y\":{\"field\":\"y\"}},\"id\":\"1743\",\"type\":\"Scatter\"},{\"attributes\":{\"label\":{\"value\":\"japan \"},\"renderers\":[{\"id\":\"1724\"}]},\"id\":\"1738\",\"type\":\"LegendItem\"},{\"attributes\":{},\"id\":\"1714\",\"type\":\"UnionRenderers\"},{\"attributes\":{},\"id\":\"1760\",\"type\":\"Selection\"},{\"attributes\":{\"axis\":{\"id\":\"1677\"},\"ticker\":null},\"id\":\"1680\",\"type\":\"Grid\"},{\"attributes\":{\"label\":{\"value\":\"usa \"},\"renderers\":[{\"id\":\"1704\"}]},\"id\":\"1717\",\"type\":\"LegendItem\"},{\"attributes\":{},\"id\":\"1711\",\"type\":\"BasicTickFormatter\"},{\"attributes\":{\"source\":{\"id\":\"1741\"}},\"id\":\"1746\",\"type\":\"CDSView\"},{\"attributes\":{},\"id\":\"1682\",\"type\":\"BasicTicker\"},{\"attributes\":{\"axis_label\":\"Fuel efficiency (mpg)\",\"axis_label_text_font_style\":\"bold\",\"formatter\":{\"id\":\"1711\"},\"major_label_policy\":{\"id\":\"1712\"},\"minor_tick_line_width\":0,\"ticker\":{\"id\":\"1682\"}},\"id\":\"1681\",\"type\":\"LinearAxis\"},{\"attributes\":{\"callback\":null,\"renderers\":[{\"id\":\"1704\"}],\"tooltips\":[[\"weight\",\"@__x__values_original\"],[\"mpg\",\"@y\"],[\"origin\",\"@category\"]]},\"id\":\"1718\",\"type\":\"HoverTool\"},{\"attributes\":{\"callback\":null,\"renderers\":[{\"id\":\"1745\"}],\"tooltips\":[[\"weight\",\"@__x__values_original\"],[\"mpg\",\"@y\"],[\"origin\",\"@category\"]]},\"id\":\"1762\",\"type\":\"HoverTool\"},{\"attributes\":{\"fill_alpha\":{\"value\":0.1},\"fill_color\":{\"value\":\"#ff7f0e\"},\"line_alpha\":{\"value\":0.1},\"line_width\":{\"value\":2},\"size\":{\"value\":10},\"x\":{\"field\":\"__x__values\"},\"y\":{\"field\":\"y\"}},\"id\":\"1723\",\"type\":\"Scatter\"},{\"attributes\":{\"data\":{\"__x__values\":[1835,2672,2430,2375,2234,2123,2074,2065,1834,2254,2933,2511,2979,2189,1950,2265,1867,2158,2582,2868,2660,2219,1963,2300,2108,2246,2000,2223,1937,2694,2957,2945,2671,2464,2220,2202,1937,1825,3150,3270,3820,1825,1940,2190,2600,1985,2830,3140,2795,3410,1990,1925,3530,3190,2130,2144,2188,2085,2335,2950,3250,1835,1845,2500,2190,2320,3230,3160,1980,2130],\"__x__values_original\":[1835,2672,2430,2375,2234,2123,2074,2065,1834,2254,2933,2511,2979,2189,1950,2265,1867,2158,2582,2868,2660,2219,1963,2300,2108,2246,2000,2223,1937,2694,2957,2945,2671,2464,2220,2202,1937,1825,3150,3270,3820,1825,1940,2190,2600,1985,2830,3140,2795,3410,1990,1925,3530,3190,2130,2144,2188,2085,2335,2950,3250,1835,1845,2500,2190,2320,3230,3160,1980,2130],\"category\":[\"europe\",\"europe\",\"europe\",\"europe\",\"europe\",\"europe\",\"europe\",\"europe\",\"europe\",\"europe\",\"europe\",\"europe\",\"europe\",\"europe\",\"europe\",\"europe\",\"europe\",\"europe\",\"europe\",\"europe\",\"europe\",\"europe\",\"europe\",\"europe\",\"europe\",\"europe\",\"europe\",\"europe\",\"europe\",\"europe\",\"europe\",\"europe\",\"europe\",\"europe\",\"europe\",\"europe\",\"europe\",\"europe\",\"europe\",\"europe\",\"europe\",\"europe\",\"europe\",\"europe\",\"europe\",\"europe\",\"europe\",\"europe\",\"europe\",\"europe\",\"europe\",\"europe\",\"europe\",\"europe\",\"europe\",\"europe\",\"europe\",\"europe\",\"europe\",\"europe\",\"europe\",\"europe\",\"europe\",\"europe\",\"europe\",\"europe\",\"europe\",\"europe\",\"europe\",\"europe\"],\"y\":{\"__ndarray__\":\"AAAAAAAAOkAAAAAAAAA5QAAAAAAAADhAAAAAAAAAOUAAAAAAAAA6QAAAAAAAADxAAAAAAAAAPkAAAAAAAAA+QAAAAAAAADtAAAAAAAAAN0AAAAAAAAAyQAAAAAAAADZAAAAAAAAANUAAAAAAAAA6QAAAAAAAADpAAAAAAAAAOkAAAAAAAAA9QAAAAAAAADhAAAAAAAAANEAAAAAAAAAzQAAAAAAAADhAAAAAAAAAPUAAAAAAAAA6QAAAAAAAADpAAAAAAAAAOEAAAAAAAAA6QAAAAAAAAD9AAAAAAAAAOUAAAAAAAAA9QAAAAAAAADdAAAAAAAAAN0AAAAAAAAA2QAAAAAAAADlAAAAAAAAAPEAAAAAAAAA5QAAAAAAAADtAAAAAAAAAPUAAAAAAAIA9QAAAAAAAADRAAAAAAAAAM0AAAAAAAIAwQAAAAAAAAEJAAAAAAAAAPUAAAAAAAIA+QAAAAAAAgDVAzczMzMyMRUDNzMzMzEw0QAAAAAAAADFAmpmZmZmZNUAzMzMzMzMwQAAAAAAAgD9AZmZmZmbmP0BmZmZmZmY5QDMzMzMzMztAZmZmZmamQkAAAAAAAMBEQGZmZmZmJkFAZmZmZmYmRkAzMzMzM7NFQDMzMzMzM0JAAAAAAAAAPkAzMzMzM3NEQM3MzMzMzD1AAAAAAACAQUAAAAAAAIBAQAAAAAAAQEFAmpmZmZkZPEAzMzMzM7M+QAAAAAAAAEJAAAAAAAAARkA=\",\"dtype\":\"float64\",\"order\":\"little\",\"shape\":[70]}},\"selected\":{\"id\":\"1760\"},\"selection_policy\":{\"id\":\"1759\"}},\"id\":\"1741\",\"type\":\"ColumnDataSource\"},{\"attributes\":{},\"id\":\"1673\",\"type\":\"LinearScale\"},{\"attributes\":{\"label\":{\"value\":\"europe \"},\"renderers\":[{\"id\":\"1745\"}]},\"id\":\"1761\",\"type\":\"LegendItem\"},{\"attributes\":{},\"id\":\"1678\",\"type\":\"BasicTicker\"},{\"attributes\":{\"data\":{\"__x__values\":[3504,3693,3436,3433,3449,4341,4354,4312,4425,3850,3563,3609,3761,3086,2833,2774,2587,2648,4615,4376,4382,4732,2264,2046,2634,3439,3329,3302,3288,4209,4464,4154,4096,4955,4746,5140,2962,2408,3282,3139,2220,1955,2126,2408,2226,4274,4385,4135,4129,3672,4633,4502,4456,4422,3892,4098,4294,4077,2395,2164,4100,3672,3988,4042,3777,4952,4464,4363,4237,4735,4951,3821,3121,3278,2945,3021,2904,4997,4906,4654,4499,2789,2401,2310,2472,4082,4278,3399,3664,3102,2875,2901,3336,2451,2542,3781,3632,3613,4141,4699,4457,4638,4257,2125,3264,3459,3432,3158,4668,4440,4498,4657,3907,3897,3730,3785,3039,3221,3169,2639,2914,2592,2984,3211,2572,2255,4215,4190,3962,4215,3233,3353,3012,3085,2035,2164,3651,3574,3645,3193,2565,3940,4380,4055,3870,3755,2155,2300,3880,4060,4140,4295,3520,3425,3630,3525,4220,4165,4325,4335,2740,2755,2051,2075,1800,3365,3735,3570,3535,3155,2965,2720,3430,3210,3380,3070,3620,3410,3425,3445,3205,4080,2155,2230,2745,2855,3245,2990,2890,3265,3360,3840,3725,3955,3830,4360,4054,3605,3940,1915,2670,3900,3420,2200,2150,2670,2595,2700,2556,2120,2678,2870,3003,3381,2800,2905,2490,2635,2620,2725,2385,1875,2215,2045,2380,3415,3725,3060,3465,2605,2640,2395,2575,2525,2735,2865,3035,2125,2125,2945,3015,2585,2835,2370,2950,2790,2295,2625,2720],\"__x__values_original\":[3504,3693,3436,3433,3449,4341,4354,4312,4425,3850,3563,3609,3761,3086,2833,2774,2587,2648,4615,4376,4382,4732,2264,2046,2634,3439,3329,3302,3288,4209,4464,4154,4096,4955,4746,5140,2962,2408,3282,3139,2220,1955,2126,2408,2226,4274,4385,4135,4129,3672,4633,4502,4456,4422,3892,4098,4294,4077,2395,2164,4100,3672,3988,4042,3777,4952,4464,4363,4237,4735,4951,3821,3121,3278,2945,3021,2904,4997,4906,4654,4499,2789,2401,2310,2472,4082,4278,3399,3664,3102,2875,2901,3336,2451,2542,3781,3632,3613,4141,4699,4457,4638,4257,2125,3264,3459,3432,3158,4668,4440,4498,4657,3907,3897,3730,3785,3039,3221,3169,2639,2914,2592,2984,3211,2572,2255,4215,4190,3962,4215,3233,3353,3012,3085,2035,2164,3651,3574,3645,3193,2565,3940,4380,4055,3870,3755,2155,2300,3880,4060,4140,4295,3520,3425,3630,3525,4220,4165,4325,4335,2740,2755,2051,2075,1800,3365,3735,3570,3535,3155,2965,2720,3430,3210,3380,3070,3620,3410,3425,3445,3205,4080,2155,2230,2745,2855,3245,2990,2890,3265,3360,3840,3725,3955,3830,4360,4054,3605,3940,1915,2670,3900,3420,2200,2150,2670,2595,2700,2556,2120,2678,2870,3003,3381,2800,2905,2490,2635,2620,2725,2385,1875,2215,2045,2380,3415,3725,3060,3465,2605,2640,2395,2575,2525,2735,2865,3035,2125,2125,2945,3015,2585,2835,2370,2950,2790,2295,2625,2720],\"category\":[\"usa\",\"usa\",\"usa\",\"usa\",\"usa\",\"usa\",\"usa\",\"usa\",\"usa\",\"usa\",\"usa\",\"usa\",\"usa\",\"usa\",\"usa\",\"usa\",\"usa\",\"usa\",\"usa\",\"usa\",\"usa\",\"usa\",\"usa\",\"usa\",\"usa\",\"usa\",\"usa\",\"usa\",\"usa\",\"usa\",\"usa\",\"usa\",\"usa\",\"usa\",\"usa\",\"usa\",\"usa\",\"usa\",\"usa\",\"usa\",\"usa\",\"usa\",\"usa\",\"usa\",\"usa\",\"usa\",\"usa\",\"usa\",\"usa\",\"usa\",\"usa\",\"usa\",\"usa\",\"usa\",\"usa\",\"usa\",\"usa\",\"usa\",\"usa\",\"usa\",\"usa\",\"usa\",\"usa\",\"usa\",\"usa\",\"usa\",\"usa\",\"usa\",\"usa\",\"usa\",\"usa\",\"usa\",\"usa\",\"usa\",\"usa\",\"usa\",\"usa\",\"usa\",\"usa\",\"usa\",\"usa\",\"usa\",\"usa\",\"usa\",\"usa\",\"usa\",\"usa\",\"usa\",\"usa\",\"usa\",\"usa\",\"usa\",\"usa\",\"usa\",\"usa\",\"usa\",\"usa\",\"usa\",\"usa\",\"usa\",\"usa\",\"usa\",\"usa\",\"usa\",\"usa\",\"usa\",\"usa\",\"usa\",\"usa\",\"usa\",\"usa\",\"usa\",\"usa\",\"usa\",\"usa\",\"usa\",\"usa\",\"usa\",\"usa\",\"usa\",\"usa\",\"usa\",\"usa\",\"usa\",\"usa\",\"usa\",\"usa\",\"usa\",\"usa\",\"usa\",\"usa\",\"usa\",\"usa\",\"usa\",\"usa\",\"usa\",\"usa\",\"usa\",\"usa\",\"usa\",\"usa\",\"usa\",\"usa\",\"usa\",\"usa\",\"usa\",\"usa\",\"usa\",\"usa\",\"usa\",\"usa\",\"usa\",\"usa\",\"usa\",\"usa\",\"usa\",\"usa\",\"usa\",\"usa\",\"usa\",\"usa\",\"usa\",\"usa\",\"usa\",\"usa\",\"usa\",\"usa\",\"usa\",\"usa\",\"usa\",\"usa\",\"usa\",\"usa\",\"usa\",\"usa\",\"usa\",\"usa\",\"usa\",\"usa\",\"usa\",\"usa\",\"usa\",\"usa\",\"usa\",\"usa\",\"usa\",\"usa\",\"usa\",\"usa\",\"usa\",\"usa\",\"usa\",\"usa\",\"usa\",\"usa\",\"usa\",\"usa\",\"usa\",\"usa\",\"usa\",\"usa\",\"usa\",\"usa\",\"usa\",\"usa\",\"usa\",\"usa\",\"usa\",\"usa\",\"usa\",\"usa\",\"usa\",\"usa\",\"usa\",\"usa\",\"usa\",\"usa\",\"usa\",\"usa\",\"usa\",\"usa\",\"usa\",\"usa\",\"usa\",\"usa\",\"usa\",\"usa\",\"usa\",\"usa\",\"usa\",\"usa\",\"usa\",\"usa\",\"usa\",\"usa\",\"usa\",\"usa\",\"usa\",\"usa\",\"usa\",\"usa\",\"usa\",\"usa\",\"usa\",\"usa\",\"usa\",\"usa\",\"usa\",\"usa\"],\"y\":{\"__ndarray__\":\"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\",\"dtype\":\"float64\",\"order\":\"little\",\"shape\":[249]}},\"selected\":{\"id\":\"1715\"},\"selection_policy\":{\"id\":\"1714\"}},\"id\":\"1700\",\"type\":\"ColumnDataSource\"},{\"attributes\":{},\"id\":\"1712\",\"type\":\"AllLabels\"},{\"attributes\":{\"fill_alpha\":{\"value\":0.1},\"fill_color\":{\"value\":\"#1f77b4\"},\"line_alpha\":{\"value\":0.1},\"line_width\":{\"value\":2},\"size\":{\"value\":10},\"x\":{\"field\":\"__x__values\"},\"y\":{\"field\":\"y\"}},\"id\":\"1703\",\"type\":\"Scatter\"},{\"attributes\":{\"active_multi\":null,\"active_scroll\":{\"id\":\"1686\"},\"tools\":[{\"id\":\"1685\"},{\"id\":\"1686\"},{\"id\":\"1687\"},{\"id\":\"1688\"},{\"id\":\"1689\"},{\"id\":\"1690\"},{\"id\":\"1718\"},{\"id\":\"1739\"},{\"id\":\"1762\"}]},\"id\":\"1692\",\"type\":\"Toolbar\"},{\"attributes\":{\"source\":{\"id\":\"1700\"}},\"id\":\"1705\",\"type\":\"CDSView\"},{\"attributes\":{\"fill_alpha\":{\"value\":0.1},\"fill_color\":{\"value\":\"#2ca02c\"},\"line_alpha\":{\"value\":0.1},\"line_width\":{\"value\":2},\"size\":{\"value\":10},\"x\":{\"field\":\"__x__values\"},\"y\":{\"field\":\"y\"}},\"id\":\"1744\",\"type\":\"Scatter\"},{\"attributes\":{\"data_source\":{\"id\":\"1741\"},\"glyph\":{\"id\":\"1743\"},\"hover_glyph\":null,\"muted_glyph\":null,\"nonselection_glyph\":{\"id\":\"1744\"},\"view\":{\"id\":\"1746\"}},\"id\":\"1745\",\"type\":\"GlyphRenderer\"},{\"attributes\":{\"fill_alpha\":{\"value\":0.6},\"fill_color\":{\"value\":\"#1f77b4\"},\"line_alpha\":{\"value\":0.6},\"line_width\":{\"value\":2},\"size\":{\"value\":10},\"x\":{\"field\":\"__x__values\"},\"y\":{\"field\":\"y\"}},\"id\":\"1702\",\"type\":\"Scatter\"},{\"attributes\":{},\"id\":\"1685\",\"type\":\"PanTool\"},{\"attributes\":{\"bottom_units\":\"screen\",\"fill_alpha\":0.5,\"fill_color\":\"lightgrey\",\"left_units\":\"screen\",\"level\":\"overlay\",\"line_alpha\":1.0,\"line_color\":\"black\",\"line_dash\":[4,4],\"line_width\":2,\"right_units\":\"screen\",\"syncable\":false,\"top_units\":\"screen\"},\"id\":\"1691\",\"type\":\"BoxAnnotation\"},{\"attributes\":{\"data\":{\"__x__values\":[2372,2130,2130,2228,1773,1613,2278,2330,2288,2506,2100,2279,2379,2124,2807,1950,1836,1649,2003,2489,2391,2171,2702,2545,1795,1795,1990,2155,2930,2045,1945,2265,1985,2815,2720,1985,2070,1800,2560,2300,2515,2405,2135,1975,2020,1968,2019,2711,2542,2434,2265,2110,2110,1850,2145,2910,2420,2290,1755,1760,2065,1975,2050,1985,2210,2350,2615,2635,2900,2930,2025,1970,2160,2205,2245,1965,1965,1995,2665],\"__x__values_original\":[2372,2130,2130,2228,1773,1613,2278,2330,2288,2506,2100,2279,2379,2124,2807,1950,1836,1649,2003,2489,2391,2171,2702,2545,1795,1795,1990,2155,2930,2045,1945,2265,1985,2815,2720,1985,2070,1800,2560,2300,2515,2405,2135,1975,2020,1968,2019,2711,2542,2434,2265,2110,2110,1850,2145,2910,2420,2290,1755,1760,2065,1975,2050,1985,2210,2350,2615,2635,2900,2930,2025,1970,2160,2205,2245,1965,1965,1995,2665],\"category\":[\"japan\",\"japan\",\"japan\",\"japan\",\"japan\",\"japan\",\"japan\",\"japan\",\"japan\",\"japan\",\"japan\",\"japan\",\"japan\",\"japan\",\"japan\",\"japan\",\"japan\",\"japan\",\"japan\",\"japan\",\"japan\",\"japan\",\"japan\",\"japan\",\"japan\",\"japan\",\"japan\",\"japan\",\"japan\",\"japan\",\"japan\",\"japan\",\"japan\",\"japan\",\"japan\",\"japan\",\"japan\",\"japan\",\"japan\",\"japan\",\"japan\",\"japan\",\"japan\",\"japan\",\"japan\",\"japan\",\"japan\",\"japan\",\"japan\",\"japan\",\"japan\",\"japan\",\"japan\",\"japan\",\"japan\",\"japan\",\"japan\",\"japan\",\"japan\",\"japan\",\"japan\",\"japan\",\"japan\",\"japan\",\"japan\",\"japan\",\"japan\",\"japan\",\"japan\",\"japan\",\"japan\",\"japan\",\"japan\",\"japan\",\"japan\",\"japan\",\"japan\",\"japan\",\"japan\"],\"y\":{\"__ndarray__\":\"AAAAAAAAOEAAAAAAAAA7QAAAAAAAADtAAAAAAAAAOUAAAAAAAAA/QAAAAAAAgEFAAAAAAAAAOEAAAAAAAAAzQAAAAAAAADxAAAAAAAAAN0AAAAAAAAA7QAAAAAAAADRAAAAAAAAANkAAAAAAAAAyQAAAAAAAADRAAAAAAAAAP0AAAAAAAABAQAAAAAAAAD9AAAAAAAAAQEAAAAAAAAA4QAAAAAAAADpAAAAAAAAAPUAAAAAAAAA4QAAAAAAAADhAAAAAAACAQEAAAAAAAIBAQAAAAAAAAEBAAAAAAAAAPEAAAAAAAAAzQAAAAAAAgD9AAAAAAADAQEAAAAAAAAA6QAAAAAAAAD5AAAAAAAAANkAAAAAAAIA1QGZmZmZmZkBAMzMzMzOzQ0DNzMzMzAxCQAAAAAAAgDtAMzMzMzMzO0CamZmZmRk1QGZmZmZm5jdAAAAAAACAPUDNzMzMzAxBQM3MzMzMzD9AzczMzMwMQ0CamZmZmZlCQM3MzMzMzD1AzczMzMxMP0AAAAAAAIBCQJqZmZmZGUBAzczMzMxMR0BmZmZmZmZEQM3MzMzMTEZAZmZmZmbmQECamZmZmVlAQDMzMzMzszdAMzMzMzMzQEDNzMzMzIxDQM3MzMzMjEFAZmZmZmYmQEAAAAAAAIBCQJqZmZmZ2UJAzczMzMwMQUCamZmZmdlAQDMzMzMzM0BAMzMzMzNzQECamZmZmZk/QGZmZmZmZjlAMzMzMzMzOEAAAAAAAIBCQAAAAAAAAD9AAAAAAAAAQkAAAAAAAABCQAAAAAAAAEFAAAAAAAAAQ0AAAAAAAABAQAAAAAAAAENAAAAAAAAAQEA=\",\"dtype\":\"float64\",\"order\":\"little\",\"shape\":[79]}},\"selected\":{\"id\":\"1737\"},\"selection_policy\":{\"id\":\"1736\"}},\"id\":\"1720\",\"type\":\"ColumnDataSource\"},{\"attributes\":{},\"id\":\"1736\",\"type\":\"UnionRenderers\"},{\"attributes\":{\"text\":\"Car weight vs fuel efficiency\",\"text_font_size\":\"14pt\"},\"id\":\"1667\",\"type\":\"Title\"},{\"attributes\":{\"click_policy\":\"hide\",\"items\":[{\"id\":\"1717\"},{\"id\":\"1738\"},{\"id\":\"1761\"}]},\"id\":\"1716\",\"type\":\"Legend\"},{\"attributes\":{},\"id\":\"1686\",\"type\":\"WheelZoomTool\"},{\"attributes\":{\"source\":{\"id\":\"1720\"}},\"id\":\"1725\",\"type\":\"CDSView\"},{\"attributes\":{\"overlay\":{\"id\":\"1691\"}},\"id\":\"1687\",\"type\":\"BoxZoomTool\"},{\"attributes\":{},\"id\":\"1708\",\"type\":\"BasicTickFormatter\"},{\"attributes\":{},\"id\":\"1671\",\"type\":\"DataRange1d\"},{\"attributes\":{},\"id\":\"1688\",\"type\":\"SaveTool\"},{\"attributes\":{},\"id\":\"1709\",\"type\":\"AllLabels\"},{\"attributes\":{\"data_source\":{\"id\":\"1720\"},\"glyph\":{\"id\":\"1722\"},\"hover_glyph\":null,\"muted_glyph\":null,\"nonselection_glyph\":{\"id\":\"1723\"},\"view\":{\"id\":\"1725\"}},\"id\":\"1724\",\"type\":\"GlyphRenderer\"},{\"attributes\":{},\"id\":\"1669\",\"type\":\"DataRange1d\"},{\"attributes\":{},\"id\":\"1675\",\"type\":\"LinearScale\"},{\"attributes\":{},\"id\":\"1689\",\"type\":\"ResetTool\"},{\"attributes\":{},\"id\":\"1737\",\"type\":\"Selection\"},{\"attributes\":{},\"id\":\"1690\",\"type\":\"HelpTool\"},{\"attributes\":{\"axis_label\":\"Weight (kg)\",\"axis_label_text_font_style\":\"bold\",\"formatter\":{\"id\":\"1708\"},\"major_label_policy\":{\"id\":\"1709\"},\"minor_tick_line_width\":0,\"ticker\":{\"id\":\"1678\"}},\"id\":\"1677\",\"type\":\"LinearAxis\"},{\"attributes\":{\"data_source\":{\"id\":\"1700\"},\"glyph\":{\"id\":\"1702\"},\"hover_glyph\":null,\"muted_glyph\":null,\"nonselection_glyph\":{\"id\":\"1703\"},\"view\":{\"id\":\"1705\"}},\"id\":\"1704\",\"type\":\"GlyphRenderer\"}],\"root_ids\":[\"1666\"]},\"title\":\"Bokeh Application\",\"version\":\"2.3.3\"}};\n",
       "  var render_items = [{\"docid\":\"ecfb80a2-27b3-42d9-be0d-a1e83ae9a505\",\"root_ids\":[\"1666\"],\"roots\":{\"1666\":\"5b0e27ab-7b5f-4046-8aac-fca1df84cf9d\"}}];\n",
       "  root.Bokeh.embed.embed_items_notebook(docs_json, render_items);\n",
       "\n",
       "  }\n",
       "  if (root.Bokeh !== undefined) {\n",
       "    embed_document(root);\n",
       "  } else {\n",
       "    var attempts = 0;\n",
       "    var timer = setInterval(function(root) {\n",
       "      if (root.Bokeh !== undefined) {\n",
       "        clearInterval(timer);\n",
       "        embed_document(root);\n",
       "      } else {\n",
       "        attempts++;\n",
       "        if (attempts > 100) {\n",
       "          clearInterval(timer);\n",
       "          console.log(\"Bokeh: ERROR: Unable to run BokehJS code because BokehJS library is missing\");\n",
       "        }\n",
       "      }\n",
       "    }, 10, root)\n",
       "  }\n",
       "})(window);"
      ],
      "application/vnd.bokehjs_exec.v0+json": ""
     },
     "metadata": {
      "application/vnd.bokehjs_exec.v0+json": {
       "id": "1666"
      }
     },
     "output_type": "display_data"
    }
   ],
   "source": [
    "fig.title.text = 'Car weight vs fuel efficiency'\n",
    "fig.title.text_font_size = '14pt'\n",
    "fig.xaxis.axis_label, fig.yaxis.axis_label  = ('Weight (kg)', 'Fuel efficiency (mpg)')\n",
    "fig.xaxis.minor_tick_line_width, fig.yaxis.minor_tick_line_width = (0, 0)\n",
    "fig.xaxis.axis_label_text_font_style, fig.yaxis.axis_label_text_font_style = ('bold', 'bold')\n",
    "fig.toolbar_location=None\n",
    "show(fig)"
   ]
  },
  {
   "cell_type": "markdown",
   "metadata": {
    "slideshow": {
     "slide_type": "slide"
    }
   },
   "source": [
    "We can assign the underlying bokeh Figure to a variable (here `fig`) and then customize it using **bokeh Figure methods**.\n",
    "\n",
    "- We changed the `axis_label` and its `font_style` for both `xaxis` and `yaxis`\n",
    "- We changed the `title.text` and its `text_font_size`\n",
    "- We removed the toolbar by setting `toolbar_location` to `None`"
   ]
  },
  {
   "cell_type": "markdown",
   "metadata": {
    "slideshow": {
     "slide_type": "slide"
    }
   },
   "source": [
    "## Jupyter Exercise \n",
    "\n",
    "Plotting with bokeh\n",
    " \n",
    "Open file `bokeh-workbook.ipynb`"
   ]
  }
 ],
 "metadata": {
  "kernelspec": {
   "display_name": "Python 3 (ipykernel)",
   "language": "python",
   "name": "python3"
  },
  "language_info": {
   "codemirror_mode": {
    "name": "ipython",
    "version": 3
   },
   "file_extension": ".py",
   "mimetype": "text/x-python",
   "name": "python",
   "nbconvert_exporter": "python",
   "pygments_lexer": "ipython3",
   "version": "3.7.17"
  }
 },
 "nbformat": 4,
 "nbformat_minor": 4
}

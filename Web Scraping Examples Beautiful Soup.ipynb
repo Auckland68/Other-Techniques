{
 "cells": [
  {
   "cell_type": "markdown",
   "metadata": {},
   "source": [
    "# Web Scraping Beautiful Soup - cars, ecommerce and cryptocurrency"
   ]
  },
  {
   "cell_type": "code",
   "execution_count": 1,
   "metadata": {},
   "outputs": [],
   "source": [
    "import pandas as pd\n",
    "from bs4 import BeautifulSoup\n",
    "import requests\n",
    "import numpy as np\n",
    "import urllib.parse"
   ]
  },
  {
   "cell_type": "markdown",
   "metadata": {},
   "source": [
    "## Cars.com Website"
   ]
  },
  {
   "cell_type": "markdown",
   "metadata": {},
   "source": [
    "## Http Request"
   ]
  },
  {
   "cell_type": "code",
   "execution_count": 2,
   "metadata": {},
   "outputs": [],
   "source": [
    "website = \"https://www.cars.com/shopping/results/?list_price_max=&makes[]=toyota&maximum_distance=all&maximum_distance_expanded=1&maximum_distance_expanded_from=20&models[]=toyota-c_hr&stock_type=new&zip=98109\""
   ]
  },
  {
   "cell_type": "markdown",
   "metadata": {},
   "source": [
    "## Get Request"
   ]
  },
  {
   "cell_type": "code",
   "execution_count": 3,
   "metadata": {},
   "outputs": [],
   "source": [
    "response = requests.get(website)"
   ]
  },
  {
   "cell_type": "markdown",
   "metadata": {},
   "source": [
    "## Status Code"
   ]
  },
  {
   "cell_type": "code",
   "execution_count": 4,
   "metadata": {},
   "outputs": [
    {
     "data": {
      "text/plain": [
       "200"
      ]
     },
     "execution_count": 4,
     "metadata": {},
     "output_type": "execute_result"
    }
   ],
   "source": [
    "response.status_code"
   ]
  },
  {
   "cell_type": "markdown",
   "metadata": {},
   "source": [
    "## Create Soup Object"
   ]
  },
  {
   "cell_type": "code",
   "execution_count": 5,
   "metadata": {},
   "outputs": [],
   "source": [
    "soup = BeautifulSoup(response.content, 'html.parser')"
   ]
  },
  {
   "cell_type": "code",
   "execution_count": 6,
   "metadata": {},
   "outputs": [],
   "source": [
    "#soup"
   ]
  },
  {
   "cell_type": "markdown",
   "metadata": {},
   "source": [
    "## Get details"
   ]
  },
  {
   "cell_type": "code",
   "execution_count": 7,
   "metadata": {},
   "outputs": [],
   "source": [
    "results = soup.find_all('div',{'class':'vehicle-card'})"
   ]
  },
  {
   "cell_type": "code",
   "execution_count": 8,
   "metadata": {},
   "outputs": [
    {
     "data": {
      "text/plain": [
       "20"
      ]
     },
     "execution_count": 8,
     "metadata": {},
     "output_type": "execute_result"
    }
   ],
   "source": [
    "len(results)"
   ]
  },
  {
   "cell_type": "code",
   "execution_count": 9,
   "metadata": {},
   "outputs": [
    {
     "data": {
      "text/plain": [
       "<div class=\"vehicle-card\" data-listing-id=\"2cb3d718-e470-489e-831e-76d2939cc243\" data-tracking-id=\"1\" data-tracking-type=\"srp-vehicle-card\" id=\"2cb3d718-e470-489e-831e-76d2939cc243\" phx-hook=\"VehicleCard\" phx-target=\"5\">\n",
       "<a class=\"vehicle-card-visited-tracking-link\" href=\"/vehicledetail/2cb3d718-e470-489e-831e-76d2939cc243/\" rel=\"nofollow\" tabindex=\"-1\"></a>\n",
       "<div class=\"vehicle-card-main js-gallery-click-card\">\n",
       "<div class=\"vehicle-card-photos js-gallery-click-gallery\">\n",
       "<div class=\"gallery-wrap\">\n",
       "<div class=\"image-wrap\" data-index=\"0\">\n",
       "<img alt=\"\" class=\"vehicle-image\" loading=\"lazy\" src=\"https://platform.cstatic-images.com/large/in/v2/57f56ff8-4cc9-5bb9-91df-bb96d65aa0c1/f9667559-0986-4b17-a79c-25f270406510/UD_HyKRHh9j5fT7RS8kRyQWVkjg.jpg\"/>\n",
       "</div>\n",
       "<div class=\"image-wrap\" data-index=\"1\">\n",
       "<img alt=\"\" class=\"vehicle-image\" loading=\"lazy\" src=\"https://platform.cstatic-images.com/large/in/v2/57f56ff8-4cc9-5bb9-91df-bb96d65aa0c1/f9667559-0986-4b17-a79c-25f270406510/XkdYtEtA9rx4Wesm7qKg4oEMlRg.jpg\"/>\n",
       "</div>\n",
       "<div class=\"image-wrap\" data-index=\"2\">\n",
       "<img alt=\"\" class=\"vehicle-image\" loading=\"lazy\" src=\"https://platform.cstatic-images.com/large/in/v2/57f56ff8-4cc9-5bb9-91df-bb96d65aa0c1/f9667559-0986-4b17-a79c-25f270406510/13qoWiCmzQiF2wiHaPNCEbbsFPs.jpg\"/>\n",
       "</div>\n",
       "<div class=\"image-wrap\" data-index=\"3\">\n",
       "<img alt=\"\" class=\"vehicle-image\" loading=\"lazy\" src=\"https://platform.cstatic-images.com/large/in/v2/57f56ff8-4cc9-5bb9-91df-bb96d65aa0c1/f9667559-0986-4b17-a79c-25f270406510/wwz-yUwZ_sKu5WMuNM73hwKvJ0M.jpg\"/>\n",
       "</div>\n",
       "<div class=\"image-wrap\" data-index=\"4\">\n",
       "<img alt=\"\" class=\"vehicle-image\" loading=\"lazy\" src=\"https://platform.cstatic-images.com/large/in/v2/57f56ff8-4cc9-5bb9-91df-bb96d65aa0c1/f9667559-0986-4b17-a79c-25f270406510/IjqmPmnMVjv7MLNixcD8mDAOewk.jpg\"/>\n",
       "</div>\n",
       "<div class=\"image-wrap\" data-index=\"5\">\n",
       "<div class=\"gallery-view-all\">\n",
       "<img alt=\"\" class=\"vehicle-image js-lazy-load styles-lazy-load\" data-src=\"https://platform.cstatic-images.com/large/in/v2/57f56ff8-4cc9-5bb9-91df-bb96d65aa0c1/f9667559-0986-4b17-a79c-25f270406510/0g_v2yIoecbGs8XqmJDKx11h4hQ.jpg\" src=\"/images/placeholder_10x10.png\"/>\n",
       "<div class=\"sds-button sds-button--secondary-dense\">View all 18 photos</div>\n",
       "</div>\n",
       "</div>\n",
       "</div>\n",
       "<button class=\"image-control-left\">\n",
       "<div class=\"rectangle rectangle-left\">\n",
       "<svg class=\"sds-text-field__icon\" height=\"16\" width=\"16\"><use xlink:href=\"/svg/spritemap-9957805ae2a418ae7507c2b0e074f33e.svg?vsn=d#chevron-down\"></use></svg>\n",
       "</div>\n",
       "</button>\n",
       "<button class=\"image-control-right\">\n",
       "<div class=\"rectangle rectangle-right\">\n",
       "<svg class=\"sds-text-field__icon\" height=\"16\" width=\"16\"><use xlink:href=\"/svg/spritemap-9957805ae2a418ae7507c2b0e074f33e.svg?vsn=d#chevron-down\"></use></svg>\n",
       "</div>\n",
       "</button>\n",
       "<div class=\"gallery-indicator\"><span class=\"gallery-indicator-current-image\">1</span>/18</div>\n",
       "<div class=\"gallery-nav\">\n",
       "<div class=\"image-indicator selected\"></div>\n",
       "<div class=\"image-indicator\"></div>\n",
       "<div class=\"image-indicator\"></div>\n",
       "<div class=\"image-indicator\"></div>\n",
       "<div class=\"image-indicator\"></div>\n",
       "<div class=\"image-indicator\"></div>\n",
       "</div>\n",
       "</div>\n",
       "<div class=\"vehicle-details\">\n",
       "<div class=\"save-vehicle\">\n",
       "<div class=\"favorite\">\n",
       "<button class=\"heart\" data-activity-rule-type=\"page-over-page\" data-index=\"1\" data-linkname=\"save-vehicle-profile-signup\" data-listing-id=\"2cb3d718-e470-489e-831e-76d2939cc243\" id=\"vehicle-heart-1\" onclick=\"event.preventDefault()\" phx-click=\"save_listing\" phx-hook=\"RecordSaveListingAction\" phx-target=\"83\" phx-value-is_vdp=\"false\" phx-value-listing_id=\"2cb3d718-e470-489e-831e-76d2939cc243\">\n",
       "<svg class=\"sds-text-field__icon\" height=\"16\" width=\"16\"><use xlink:href=\"/svg/spritemap-9957805ae2a418ae7507c2b0e074f33e.svg?vsn=d#heart\"></use></svg>\n",
       "<span class=\"text\">Save</span>\n",
       "</button>\n",
       "</div>\n",
       "</div>\n",
       "<p class=\"stock-type\">New</p>\n",
       "<a class=\"vehicle-card-link js-gallery-click-link\" data-activity-rule-type=\"page-over-page\" data-linkname=\"vehicle-listing\" href=\"/vehicledetail/2cb3d718-e470-489e-831e-76d2939cc243/?results_page_number=1&amp;search_instance_id=9b94d9e5-e79d-48cc-8b26-702c40c37dbd&amp;search_zipcode=98109&amp;sponsored%3F=false&amp;vertical_position=1\" rel=\"nofollow\">\n",
       "<h2 class=\"title\">2021 Toyota C-HR XLE</h2>\n",
       "</a>\n",
       "<div class=\"price-section price-section-vehicle-card\">\n",
       "<span class=\"primary-price\">$25,114</span>\n",
       "<span class=\"secondary-price\">MSRP $25,114</span>\n",
       "</div>\n",
       "<div class=\"vehicle-badging\" data-click-intent-id=\"badges-explainer\" data-contents='{\"home_delivery_badge\":true,\"virtual_appointments_badge\":true,\"href_to_vdp\":{\"href_to_vdp\":\"/vehicledetail/2cb3d718-e470-489e-831e-76d2939cc243/?bodystyle=suv&amp;cpo_indicator=false&amp;customer_id=17563&amp;intent_id=badges-explainer&amp;listing_id=2cb3d718-e470-489e-831e-76d2939cc243&amp;make=toyota&amp;model=c_hr&amp;model_year=2021&amp;msrp=25114&amp;price=25114&amp;sponsored%3F=false&amp;stock_type=new&amp;trim=xle\"}}' data-override-payload='{\"bodystyle\":\"suv\",\"cpo_indicator\":false,\"customer_id\":\"17563\",\"horizontal_position\":null,\"listing_id\":\"2cb3d718-e470-489e-831e-76d2939cc243\",\"make\":\"toyota\",\"model\":\"c_hr\",\"model_year\":\"2021\",\"msrp\":\"25114\",\"price\":\"25114\",\"results_page_number\":1,\"sponsored?\":false,\"stock_type\":\"new\",\"trim\":\"xle\",\"vertical_position\":1,\"web_page_type_from\":\"shopping/search-results\"}' data-target=\"#sds-modal\" data-toggle=\"expanda-modal\" tabindex=\"0\">\n",
       "<div class=\"sds-badge sds-badge--home-delivery\">\n",
       "<span class=\"sds-badge__label\">Home Delivery</span>\n",
       "</div>\n",
       "<div class=\"sds-badge sds-badge--virtual-appointments\">\n",
       "<span class=\"sds-badge__label\">Virtual Appointments</span>\n",
       "</div>\n",
       "</div>\n",
       "<div class=\"vehicle-links external-links\">\n",
       "<div class=\"vehicle-deeplink\">\n",
       "<a class=\"sds-link--ext\" data-intent-id=\"srp-vehicle-history-report\" data-linkname=\"vehicle-history\" data-override-payload='{\"page_url\":\"https://www.carfax.com/cfm/check_order.cfm?partner=CDC_1&amp;vin=NMTKHMBX1MR132222\"}' href=\"/external/carfax/?redirect=https%3A%2F%2Fwww.carfax.com%2Fcfm%2Fcheck_order.cfm%3Fpartner%3DCDC_1%26vin%3DNMTKHMBX1MR132222\" rel=\"noopener nofollow\" target=\"_blank\">CARFAX Report<svg class=\"sds-text-field__icon\" height=\"16\" width=\"16\"><use xlink:href=\"/svg/spritemap-9957805ae2a418ae7507c2b0e074f33e.svg?vsn=d#arrow-up-right\"></use></svg></a>\n",
       "</div>\n",
       "</div>\n",
       "<div class=\"vehicle-dealer\">\n",
       "<div class=\"dealer-name\">\n",
       "<strong>Rudy Luther Toyota</strong>\n",
       "</div>\n",
       "<div class=\"sds-rating\">\n",
       "<span class=\"sds-rating__count\">4.8</span>\n",
       "<div class=\"sds-rating__wrapper\">\n",
       "<span class=\"sds-rating__item sds-icon--filled\">\n",
       "<svg fill=\"none\" height=\"24\" stroke=\"#000000\" viewbox=\"0 0 24 24\" width=\"24\" xmlns=\"http://www.w3.org/2000/svg\">\n",
       "<polygon points=\"12 2 15.09 8.26 22 9.27 17 14.14 18.18 21.02 12 17.77 5.82 21.02 7 14.14 2 9.27 8.91 8.26 12 2\" stroke-linecap=\"round\" stroke-linejoin=\"round\" stroke-width=\"2\"></polygon>\n",
       "</svg>\n",
       "</span>\n",
       "<span class=\"sds-rating__item sds-icon--filled\">\n",
       "<svg fill=\"none\" height=\"24\" stroke=\"#000000\" viewbox=\"0 0 24 24\" width=\"24\" xmlns=\"http://www.w3.org/2000/svg\">\n",
       "<polygon points=\"12 2 15.09 8.26 22 9.27 17 14.14 18.18 21.02 12 17.77 5.82 21.02 7 14.14 2 9.27 8.91 8.26 12 2\" stroke-linecap=\"round\" stroke-linejoin=\"round\" stroke-width=\"2\"></polygon>\n",
       "</svg>\n",
       "</span>\n",
       "<span class=\"sds-rating__item sds-icon--filled\">\n",
       "<svg fill=\"none\" height=\"24\" stroke=\"#000000\" viewbox=\"0 0 24 24\" width=\"24\" xmlns=\"http://www.w3.org/2000/svg\">\n",
       "<polygon points=\"12 2 15.09 8.26 22 9.27 17 14.14 18.18 21.02 12 17.77 5.82 21.02 7 14.14 2 9.27 8.91 8.26 12 2\" stroke-linecap=\"round\" stroke-linejoin=\"round\" stroke-width=\"2\"></polygon>\n",
       "</svg>\n",
       "</span>\n",
       "<span class=\"sds-rating__item sds-icon--filled\">\n",
       "<svg fill=\"none\" height=\"24\" stroke=\"#000000\" viewbox=\"0 0 24 24\" width=\"24\" xmlns=\"http://www.w3.org/2000/svg\">\n",
       "<polygon points=\"12 2 15.09 8.26 22 9.27 17 14.14 18.18 21.02 12 17.77 5.82 21.02 7 14.14 2 9.27 8.91 8.26 12 2\" stroke-linecap=\"round\" stroke-linejoin=\"round\" stroke-width=\"2\"></polygon>\n",
       "</svg>\n",
       "</span>\n",
       "<span class=\"sds-rating__item sds-icon--filled\">\n",
       "<svg fill=\"none\" height=\"24\" stroke=\"#000000\" viewbox=\"0 0 24 24\" width=\"24\" xmlns=\"http://www.w3.org/2000/svg\">\n",
       "<polygon points=\"12 2 15.09 8.26 22 9.27 17 14.14 18.18 21.02 12 17.77 5.82 21.02 7 14.14 2 9.27 8.91 8.26 12 2\" stroke-linecap=\"round\" stroke-linejoin=\"round\" stroke-width=\"2\"></polygon>\n",
       "</svg>\n",
       "</span>\n",
       "</div>\n",
       "<span class=\"sds-rating__link sds-button-link\">(2,784 reviews)</span>\n",
       "</div>\n",
       "<div class=\"miles-from\">1,391 mi. from 98109</div>\n",
       "</div>\n",
       "<div class=\"miles-from\">1,391 mi. from 98109</div>\n",
       "</div>\n",
       "<div class=\"contact-buttons\" id=\"2cb3d718-e470-489e-831e-76d2939cc243-lead-btns\">\n",
       "<a class=\"sds-button--secondary contact-by-phone\" data-activity-rule-type=\"custom\" data-call-intent-id=\"srp-call-intent\" data-index=\"1\" data-linkname=\"dealer-phone-srp\" data-listing-id=\"2cb3d718-e470-489e-831e-76d2939cc243\" data-make=\"Toyota\" data-model=\"C-HR\" data-phone-number=\"6513232303\" data-trim=\"XLE\" data-vin=\"NMTKHMBX1MR132222\" data-year=\"2021\" href=\"tel:+1-651-323-2303\" id=\"dealer-phone-1\" phx-hook=\"CallSourceDniSRPCallButton\" phx-update=\"ignore\">Call</a>\n",
       "<button class=\"sds-button lead-form-modal-button\" data-activity-rule-type=\"custom\" data-dealer-customer-id=\"17563\" data-index=\"1\" data-linkname=\"email-lead-form-srp\" data-listing-id=\"2cb3d718-e470-489e-831e-76d2939cc243\" data-sponsored=\"false\" data-sponsored-invariant=\"false\" id=\"lead-form-email-2cb3d718-e470-489e-831e-76d2939cc243\" phx-hook=\"ShowLeadForm\">\n",
       "        Check availability\n",
       "      </button>\n",
       "<button class=\"sds-button lead-form-modal-button--desktop srp\" data-activity-rule-type=\"custom\" data-dealer-customer-id=\"17563\" data-index=\"1\" data-linkname=\"email-lead-form-srp\" data-listing-id=\"2cb3d718-e470-489e-831e-76d2939cc243\" data-sponsored=\"false\" data-sponsored-invariant=\"false\" id=\"lead-form-2cb3d718-e470-489e-831e-76d2939cc243\" phx-hook=\"ShowLeadForm\">\n",
       "        Check availability\n",
       "      </button>\n",
       "</div>\n",
       "</div>\n",
       "</div>"
      ]
     },
     "execution_count": 9,
     "metadata": {},
     "output_type": "execute_result"
    }
   ],
   "source": [
    "results[0]"
   ]
  },
  {
   "cell_type": "markdown",
   "metadata": {},
   "source": [
    "## Get Information of Interest"
   ]
  },
  {
   "cell_type": "markdown",
   "metadata": {},
   "source": [
    "### Name"
   ]
  },
  {
   "cell_type": "code",
   "execution_count": 10,
   "metadata": {},
   "outputs": [
    {
     "data": {
      "text/plain": [
       "'2021 Toyota C-HR XLE'"
      ]
     },
     "execution_count": 10,
     "metadata": {},
     "output_type": "execute_result"
    }
   ],
   "source": [
    "results[0].find('h2').get_text()"
   ]
  },
  {
   "cell_type": "markdown",
   "metadata": {},
   "source": [
    "### Dealer Name"
   ]
  },
  {
   "cell_type": "code",
   "execution_count": 11,
   "metadata": {},
   "outputs": [
    {
     "data": {
      "text/plain": [
       "'Rudy Luther Toyota'"
      ]
     },
     "execution_count": 11,
     "metadata": {},
     "output_type": "execute_result"
    }
   ],
   "source": [
    "results[0].find('div',{'class':'dealer-name'}).get_text().strip()"
   ]
  },
  {
   "cell_type": "markdown",
   "metadata": {},
   "source": [
    "### Rating"
   ]
  },
  {
   "cell_type": "code",
   "execution_count": 12,
   "metadata": {},
   "outputs": [
    {
     "data": {
      "text/plain": [
       "'4.8'"
      ]
     },
     "execution_count": 12,
     "metadata": {},
     "output_type": "execute_result"
    }
   ],
   "source": [
    "results[0].find('span',{'class':'sds-rating__count'}).get_text()"
   ]
  },
  {
   "cell_type": "markdown",
   "metadata": {},
   "source": [
    "### Number of Reviews"
   ]
  },
  {
   "cell_type": "code",
   "execution_count": 13,
   "metadata": {},
   "outputs": [
    {
     "data": {
      "text/plain": [
       "'(2,784 reviews)'"
      ]
     },
     "execution_count": 13,
     "metadata": {},
     "output_type": "execute_result"
    }
   ],
   "source": [
    "results[0].find('span',{'class':'sds-rating__link'}).get_text()"
   ]
  },
  {
   "cell_type": "markdown",
   "metadata": {},
   "source": [
    "### Price"
   ]
  },
  {
   "cell_type": "code",
   "execution_count": 14,
   "metadata": {},
   "outputs": [
    {
     "data": {
      "text/plain": [
       "'$25,114'"
      ]
     },
     "execution_count": 14,
     "metadata": {},
     "output_type": "execute_result"
    }
   ],
   "source": [
    "results[0].find('span',{'class':'primary-price'}).get_text()"
   ]
  },
  {
   "cell_type": "markdown",
   "metadata": {},
   "source": [
    "## Scrape whole page"
   ]
  },
  {
   "cell_type": "code",
   "execution_count": 15,
   "metadata": {},
   "outputs": [],
   "source": [
    "# Create empty lists for the data\n",
    "name  = []\n",
    "dealer_name = []\n",
    "rating  = []\n",
    "reviews = []\n",
    "price = []\n",
    "\n",
    "# for loop and append to the lists\n",
    "for result in results:\n",
    "    try:\n",
    "        name.append(result.find('h2').get_text()) \n",
    "    except:\n",
    "        name.append(\"n/a\")\n",
    "    try:\n",
    "        dealer_name.append(result.find('div',{'class':'dealer-name'}).get_text().strip())\n",
    "    except:\n",
    "        dealer_name.append(\"n/a\")\n",
    "    try:\n",
    "        rating.append(result.find('span',{'class':'sds-rating__count'}).get_text())\n",
    "    except:\n",
    "        rating.append(\"n/a\")\n",
    "    try:\n",
    "        reviews.append(result.find('span',{'class':'sds-rating__link'}).get_text())\n",
    "    except:\n",
    "        reviews.append(\"n/a\")\n",
    "    try:\n",
    "        price.append(result.find('span',{'class':'primary-price'}).get_text())\n",
    "    except:\n",
    "        price.append(\"n/a\")  \n",
    "        "
   ]
  },
  {
   "cell_type": "code",
   "execution_count": 16,
   "metadata": {},
   "outputs": [
    {
     "data": {
      "text/plain": [
       "['$25,114',\n",
       " 'Not Priced',\n",
       " '$25,827',\n",
       " 'Not Priced',\n",
       " 'Not Priced',\n",
       " '$25,504',\n",
       " 'Not Priced',\n",
       " 'Not Priced',\n",
       " 'Call for price',\n",
       " '$25,838',\n",
       " '$25,988',\n",
       " '$25,345',\n",
       " 'Call for price',\n",
       " '$25,757',\n",
       " '$25,292',\n",
       " '$22,554',\n",
       " '$25,652',\n",
       " 'Not Priced',\n",
       " '$24,591',\n",
       " '$23,869']"
      ]
     },
     "execution_count": 16,
     "metadata": {},
     "output_type": "execute_result"
    }
   ],
   "source": [
    "price"
   ]
  },
  {
   "cell_type": "markdown",
   "metadata": {},
   "source": [
    "## Convert to dataframe"
   ]
  },
  {
   "cell_type": "code",
   "execution_count": 17,
   "metadata": {},
   "outputs": [
    {
     "data": {
      "text/html": [
       "<div>\n",
       "<style scoped>\n",
       "    .dataframe tbody tr th:only-of-type {\n",
       "        vertical-align: middle;\n",
       "    }\n",
       "\n",
       "    .dataframe tbody tr th {\n",
       "        vertical-align: top;\n",
       "    }\n",
       "\n",
       "    .dataframe thead th {\n",
       "        text-align: right;\n",
       "    }\n",
       "</style>\n",
       "<table border=\"1\" class=\"dataframe\">\n",
       "  <thead>\n",
       "    <tr style=\"text-align: right;\">\n",
       "      <th></th>\n",
       "      <th>car</th>\n",
       "      <th>dealer</th>\n",
       "      <th>rating</th>\n",
       "      <th>reviews</th>\n",
       "      <th>price</th>\n",
       "    </tr>\n",
       "  </thead>\n",
       "  <tbody>\n",
       "    <tr>\n",
       "      <th>0</th>\n",
       "      <td>2021 Toyota C-HR XLE</td>\n",
       "      <td>Rudy Luther Toyota</td>\n",
       "      <td>4.8</td>\n",
       "      <td>(2,784 reviews)</td>\n",
       "      <td>$25,114</td>\n",
       "    </tr>\n",
       "    <tr>\n",
       "      <th>1</th>\n",
       "      <td>2021 Toyota C-HR XLE</td>\n",
       "      <td>Burnsville Toyota</td>\n",
       "      <td>4.8</td>\n",
       "      <td>(595 reviews)</td>\n",
       "      <td>Not Priced</td>\n",
       "    </tr>\n",
       "    <tr>\n",
       "      <th>2</th>\n",
       "      <td>2021 Toyota C-HR XLE</td>\n",
       "      <td>Smart Motors</td>\n",
       "      <td>4.6</td>\n",
       "      <td>(542 reviews)</td>\n",
       "      <td>$25,827</td>\n",
       "    </tr>\n",
       "    <tr>\n",
       "      <th>3</th>\n",
       "      <td>2021 Toyota C-HR XLE</td>\n",
       "      <td>Elgin Toyota</td>\n",
       "      <td>4.7</td>\n",
       "      <td>(1,632 reviews)</td>\n",
       "      <td>Not Priced</td>\n",
       "    </tr>\n",
       "    <tr>\n",
       "      <th>4</th>\n",
       "      <td>2021 Toyota C-HR XLE</td>\n",
       "      <td>Elgin Toyota</td>\n",
       "      <td>4.7</td>\n",
       "      <td>(1,632 reviews)</td>\n",
       "      <td>Not Priced</td>\n",
       "    </tr>\n",
       "  </tbody>\n",
       "</table>\n",
       "</div>"
      ],
      "text/plain": [
       "                    car              dealer rating          reviews  \\\n",
       "0  2021 Toyota C-HR XLE  Rudy Luther Toyota    4.8  (2,784 reviews)   \n",
       "1  2021 Toyota C-HR XLE   Burnsville Toyota    4.8    (595 reviews)   \n",
       "2  2021 Toyota C-HR XLE        Smart Motors    4.6    (542 reviews)   \n",
       "3  2021 Toyota C-HR XLE        Elgin Toyota    4.7  (1,632 reviews)   \n",
       "4  2021 Toyota C-HR XLE        Elgin Toyota    4.7  (1,632 reviews)   \n",
       "\n",
       "        price  \n",
       "0     $25,114  \n",
       "1  Not Priced  \n",
       "2     $25,827  \n",
       "3  Not Priced  \n",
       "4  Not Priced  "
      ]
     },
     "execution_count": 17,
     "metadata": {},
     "output_type": "execute_result"
    }
   ],
   "source": [
    "cars = pd.DataFrame({\"car\":name,\"dealer\":dealer_name,\"rating\":rating,\"reviews\":reviews,\"price\":price})\n",
    "cars.head()"
   ]
  },
  {
   "cell_type": "code",
   "execution_count": 18,
   "metadata": {},
   "outputs": [],
   "source": [
    "# Strip out unwanted characters\n",
    "cars[\"reviews\"] = cars[\"reviews\"].apply(lambda x: x.strip(\"reviews)\").strip(\"(\"))\n",
    "cars[\"price\"] = cars[\"price\"].apply(lambda x: x.strip(\"$\"))"
   ]
  },
  {
   "cell_type": "code",
   "execution_count": 19,
   "metadata": {},
   "outputs": [
    {
     "data": {
      "text/html": [
       "<div>\n",
       "<style scoped>\n",
       "    .dataframe tbody tr th:only-of-type {\n",
       "        vertical-align: middle;\n",
       "    }\n",
       "\n",
       "    .dataframe tbody tr th {\n",
       "        vertical-align: top;\n",
       "    }\n",
       "\n",
       "    .dataframe thead th {\n",
       "        text-align: right;\n",
       "    }\n",
       "</style>\n",
       "<table border=\"1\" class=\"dataframe\">\n",
       "  <thead>\n",
       "    <tr style=\"text-align: right;\">\n",
       "      <th></th>\n",
       "      <th>car</th>\n",
       "      <th>dealer</th>\n",
       "      <th>rating</th>\n",
       "      <th>reviews</th>\n",
       "      <th>price</th>\n",
       "    </tr>\n",
       "  </thead>\n",
       "  <tbody>\n",
       "    <tr>\n",
       "      <th>0</th>\n",
       "      <td>2021 Toyota C-HR XLE</td>\n",
       "      <td>Rudy Luther Toyota</td>\n",
       "      <td>4.8</td>\n",
       "      <td>2,784</td>\n",
       "      <td>25,114</td>\n",
       "    </tr>\n",
       "    <tr>\n",
       "      <th>1</th>\n",
       "      <td>2021 Toyota C-HR XLE</td>\n",
       "      <td>Burnsville Toyota</td>\n",
       "      <td>4.8</td>\n",
       "      <td>595</td>\n",
       "      <td>Not Priced</td>\n",
       "    </tr>\n",
       "    <tr>\n",
       "      <th>2</th>\n",
       "      <td>2021 Toyota C-HR XLE</td>\n",
       "      <td>Smart Motors</td>\n",
       "      <td>4.6</td>\n",
       "      <td>542</td>\n",
       "      <td>25,827</td>\n",
       "    </tr>\n",
       "    <tr>\n",
       "      <th>3</th>\n",
       "      <td>2021 Toyota C-HR XLE</td>\n",
       "      <td>Elgin Toyota</td>\n",
       "      <td>4.7</td>\n",
       "      <td>1,632</td>\n",
       "      <td>Not Priced</td>\n",
       "    </tr>\n",
       "    <tr>\n",
       "      <th>4</th>\n",
       "      <td>2021 Toyota C-HR XLE</td>\n",
       "      <td>Elgin Toyota</td>\n",
       "      <td>4.7</td>\n",
       "      <td>1,632</td>\n",
       "      <td>Not Priced</td>\n",
       "    </tr>\n",
       "    <tr>\n",
       "      <th>5</th>\n",
       "      <td>2021 Toyota C-HR XLE</td>\n",
       "      <td>Toyota Direct</td>\n",
       "      <td>3.5</td>\n",
       "      <td>141</td>\n",
       "      <td>25,504</td>\n",
       "    </tr>\n",
       "    <tr>\n",
       "      <th>6</th>\n",
       "      <td>2021 Toyota C-HR Nightshade</td>\n",
       "      <td>Morgan City Toyota Ford</td>\n",
       "      <td>n/a</td>\n",
       "      <td>n/a</td>\n",
       "      <td>Not Priced</td>\n",
       "    </tr>\n",
       "    <tr>\n",
       "      <th>7</th>\n",
       "      <td>2021 Toyota C-HR XLE</td>\n",
       "      <td>Antwerpen Toyota</td>\n",
       "      <td>4.8</td>\n",
       "      <td>614</td>\n",
       "      <td>Not Priced</td>\n",
       "    </tr>\n",
       "    <tr>\n",
       "      <th>8</th>\n",
       "      <td>2021 Toyota C-HR XLE</td>\n",
       "      <td>Heritage Toyota Catonsville</td>\n",
       "      <td>4.6</td>\n",
       "      <td>1,331</td>\n",
       "      <td>Call for price</td>\n",
       "    </tr>\n",
       "    <tr>\n",
       "      <th>9</th>\n",
       "      <td>2021 Toyota C-HR XLE</td>\n",
       "      <td>Jack Taylor's Alexandria Toyota</td>\n",
       "      <td>4.5</td>\n",
       "      <td>55</td>\n",
       "      <td>25,838</td>\n",
       "    </tr>\n",
       "    <tr>\n",
       "      <th>10</th>\n",
       "      <td>2021 Toyota C-HR Nightshade</td>\n",
       "      <td>Jack Taylor's Alexandria Toyota</td>\n",
       "      <td>4.5</td>\n",
       "      <td>55</td>\n",
       "      <td>25,988</td>\n",
       "    </tr>\n",
       "    <tr>\n",
       "      <th>11</th>\n",
       "      <td>2021 Toyota C-HR XLE</td>\n",
       "      <td>Jerry's Toyota</td>\n",
       "      <td>4.3</td>\n",
       "      <td>741</td>\n",
       "      <td>25,345</td>\n",
       "    </tr>\n",
       "    <tr>\n",
       "      <th>12</th>\n",
       "      <td>2021 Toyota C-HR XLE</td>\n",
       "      <td>Waldorf Toyota</td>\n",
       "      <td>4.8</td>\n",
       "      <td>50</td>\n",
       "      <td>Call for price</td>\n",
       "    </tr>\n",
       "    <tr>\n",
       "      <th>13</th>\n",
       "      <td>2021 Toyota C-HR XLE</td>\n",
       "      <td>Towne Toyota</td>\n",
       "      <td>4.2</td>\n",
       "      <td>136</td>\n",
       "      <td>25,757</td>\n",
       "    </tr>\n",
       "    <tr>\n",
       "      <th>14</th>\n",
       "      <td>2021 Toyota C-HR XLE</td>\n",
       "      <td>Towne Toyota</td>\n",
       "      <td>4.2</td>\n",
       "      <td>136</td>\n",
       "      <td>25,292</td>\n",
       "    </tr>\n",
       "    <tr>\n",
       "      <th>15</th>\n",
       "      <td>2021 Toyota C-HR LE</td>\n",
       "      <td>Faith's Toyota</td>\n",
       "      <td>2.0</td>\n",
       "      <td>4</td>\n",
       "      <td>22,554</td>\n",
       "    </tr>\n",
       "    <tr>\n",
       "      <th>16</th>\n",
       "      <td>2021 Toyota C-HR XLE</td>\n",
       "      <td>Hendrick Toyota North Charleston</td>\n",
       "      <td>4.8</td>\n",
       "      <td>1,061</td>\n",
       "      <td>25,652</td>\n",
       "    </tr>\n",
       "    <tr>\n",
       "      <th>17</th>\n",
       "      <td>2021 Toyota C-HR XLE</td>\n",
       "      <td>Penn Toyota</td>\n",
       "      <td>4.6</td>\n",
       "      <td>699</td>\n",
       "      <td>Not Priced</td>\n",
       "    </tr>\n",
       "    <tr>\n",
       "      <th>18</th>\n",
       "      <td>2021 Toyota C-HR LE</td>\n",
       "      <td>Toyota of Tampa Bay on Fletcher</td>\n",
       "      <td>4.8</td>\n",
       "      <td>3,041</td>\n",
       "      <td>24,591</td>\n",
       "    </tr>\n",
       "    <tr>\n",
       "      <th>19</th>\n",
       "      <td>2021 Toyota C-HR LE</td>\n",
       "      <td>Ira Toyota of Orleans</td>\n",
       "      <td>4.8</td>\n",
       "      <td>231</td>\n",
       "      <td>23,869</td>\n",
       "    </tr>\n",
       "  </tbody>\n",
       "</table>\n",
       "</div>"
      ],
      "text/plain": [
       "                            car                            dealer rating  \\\n",
       "0          2021 Toyota C-HR XLE                Rudy Luther Toyota    4.8   \n",
       "1          2021 Toyota C-HR XLE                 Burnsville Toyota    4.8   \n",
       "2          2021 Toyota C-HR XLE                      Smart Motors    4.6   \n",
       "3          2021 Toyota C-HR XLE                      Elgin Toyota    4.7   \n",
       "4          2021 Toyota C-HR XLE                      Elgin Toyota    4.7   \n",
       "5          2021 Toyota C-HR XLE                     Toyota Direct    3.5   \n",
       "6   2021 Toyota C-HR Nightshade           Morgan City Toyota Ford    n/a   \n",
       "7          2021 Toyota C-HR XLE                  Antwerpen Toyota    4.8   \n",
       "8          2021 Toyota C-HR XLE       Heritage Toyota Catonsville    4.6   \n",
       "9          2021 Toyota C-HR XLE   Jack Taylor's Alexandria Toyota    4.5   \n",
       "10  2021 Toyota C-HR Nightshade   Jack Taylor's Alexandria Toyota    4.5   \n",
       "11         2021 Toyota C-HR XLE                    Jerry's Toyota    4.3   \n",
       "12         2021 Toyota C-HR XLE                    Waldorf Toyota    4.8   \n",
       "13         2021 Toyota C-HR XLE                      Towne Toyota    4.2   \n",
       "14         2021 Toyota C-HR XLE                      Towne Toyota    4.2   \n",
       "15          2021 Toyota C-HR LE                    Faith's Toyota    2.0   \n",
       "16         2021 Toyota C-HR XLE  Hendrick Toyota North Charleston    4.8   \n",
       "17         2021 Toyota C-HR XLE                       Penn Toyota    4.6   \n",
       "18          2021 Toyota C-HR LE   Toyota of Tampa Bay on Fletcher    4.8   \n",
       "19          2021 Toyota C-HR LE             Ira Toyota of Orleans    4.8   \n",
       "\n",
       "   reviews           price  \n",
       "0   2,784           25,114  \n",
       "1     595       Not Priced  \n",
       "2     542           25,827  \n",
       "3   1,632       Not Priced  \n",
       "4   1,632       Not Priced  \n",
       "5     141           25,504  \n",
       "6      n/a      Not Priced  \n",
       "7     614       Not Priced  \n",
       "8   1,331   Call for price  \n",
       "9      55           25,838  \n",
       "10     55           25,988  \n",
       "11    741           25,345  \n",
       "12     50   Call for price  \n",
       "13    136           25,757  \n",
       "14    136           25,292  \n",
       "15      4           22,554  \n",
       "16  1,061           25,652  \n",
       "17    699       Not Priced  \n",
       "18  3,041           24,591  \n",
       "19    231           23,869  "
      ]
     },
     "execution_count": 19,
     "metadata": {},
     "output_type": "execute_result"
    }
   ],
   "source": [
    "cars"
   ]
  },
  {
   "cell_type": "code",
   "execution_count": 20,
   "metadata": {},
   "outputs": [],
   "source": [
    "website = \"https://www.cars.com/shopping/results/?page=1&page_size=20&list_price_max=&makes[]=toyota&maximum_distance=all&maximum_distance_expanded=1&maximum_distance_expanded_from=20&models[]=toyota-c_hr&stock_type=new&zip=98109\""
   ]
  },
  {
   "cell_type": "code",
   "execution_count": 21,
   "metadata": {},
   "outputs": [],
   "source": [
    "name  = []\n",
    "dealer_name = []\n",
    "rating  = []\n",
    "reviews = []\n",
    "price = []\n",
    "\n",
    "for i in range(1,6):\n",
    "    website = \"https://www.cars.com/shopping/results/?page=\" + str(i) + \"&page_size=20&list_price_max=&makes[]=toyota&maximum_distance=all&maximum_distance_expanded=1&maximum_distance_expanded_from=20&models[]=toyota-c_hr&stock_type=new&zip=98109\"\n",
    "    \n",
    "    response = requests.get(website)\n",
    "    \n",
    "    soup = BeautifulSoup(response.content, 'html.parser')\n",
    "    \n",
    "    results = soup.find_all('div',{'class':'vehicle-card'})\n",
    "    \n",
    "    for result in results:\n",
    "        try:\n",
    "            name.append(result.find('h2').get_text()) \n",
    "        except:\n",
    "            name.append(\"n/a\")\n",
    "        try:\n",
    "            dealer_name.append(result.find('div',{'class':'dealer-name'}).get_text().strip())\n",
    "        except:\n",
    "            dealer_name.append(\"n/a\")\n",
    "        try:\n",
    "            rating.append(result.find('span',{'class':'sds-rating__count'}).get_text())\n",
    "        except:\n",
    "            rating.append(\"n/a\")\n",
    "        try:\n",
    "            reviews.append(result.find('span',{'class':'sds-rating__link'}).get_text())\n",
    "        except:\n",
    "            reviews.append(\"n/a\")\n",
    "        try:\n",
    "            price.append(result.find('span',{'class':'primary-price'}).get_text())\n",
    "        except:\n",
    "            price.append(\"n/a\")  \n",
    "    "
   ]
  },
  {
   "cell_type": "code",
   "execution_count": 22,
   "metadata": {},
   "outputs": [
    {
     "data": {
      "text/html": [
       "<div>\n",
       "<style scoped>\n",
       "    .dataframe tbody tr th:only-of-type {\n",
       "        vertical-align: middle;\n",
       "    }\n",
       "\n",
       "    .dataframe tbody tr th {\n",
       "        vertical-align: top;\n",
       "    }\n",
       "\n",
       "    .dataframe thead th {\n",
       "        text-align: right;\n",
       "    }\n",
       "</style>\n",
       "<table border=\"1\" class=\"dataframe\">\n",
       "  <thead>\n",
       "    <tr style=\"text-align: right;\">\n",
       "      <th></th>\n",
       "      <th>car</th>\n",
       "      <th>dealer</th>\n",
       "      <th>rating</th>\n",
       "      <th>reviews</th>\n",
       "      <th>price</th>\n",
       "    </tr>\n",
       "  </thead>\n",
       "  <tbody>\n",
       "    <tr>\n",
       "      <th>0</th>\n",
       "      <td>2021 Toyota C-HR XLE</td>\n",
       "      <td>Rudy Luther Toyota</td>\n",
       "      <td>4.8</td>\n",
       "      <td>(2,784 reviews)</td>\n",
       "      <td>$25,114</td>\n",
       "    </tr>\n",
       "    <tr>\n",
       "      <th>1</th>\n",
       "      <td>2021 Toyota C-HR XLE</td>\n",
       "      <td>Burnsville Toyota</td>\n",
       "      <td>4.8</td>\n",
       "      <td>(595 reviews)</td>\n",
       "      <td>Not Priced</td>\n",
       "    </tr>\n",
       "    <tr>\n",
       "      <th>2</th>\n",
       "      <td>2021 Toyota C-HR XLE</td>\n",
       "      <td>Smart Motors</td>\n",
       "      <td>4.6</td>\n",
       "      <td>(542 reviews)</td>\n",
       "      <td>$25,827</td>\n",
       "    </tr>\n",
       "    <tr>\n",
       "      <th>3</th>\n",
       "      <td>2021 Toyota C-HR XLE</td>\n",
       "      <td>Elgin Toyota</td>\n",
       "      <td>4.7</td>\n",
       "      <td>(1,632 reviews)</td>\n",
       "      <td>Not Priced</td>\n",
       "    </tr>\n",
       "    <tr>\n",
       "      <th>4</th>\n",
       "      <td>2021 Toyota C-HR XLE</td>\n",
       "      <td>Elgin Toyota</td>\n",
       "      <td>4.7</td>\n",
       "      <td>(1,632 reviews)</td>\n",
       "      <td>Not Priced</td>\n",
       "    </tr>\n",
       "  </tbody>\n",
       "</table>\n",
       "</div>"
      ],
      "text/plain": [
       "                    car              dealer rating          reviews  \\\n",
       "0  2021 Toyota C-HR XLE  Rudy Luther Toyota    4.8  (2,784 reviews)   \n",
       "1  2021 Toyota C-HR XLE   Burnsville Toyota    4.8    (595 reviews)   \n",
       "2  2021 Toyota C-HR XLE        Smart Motors    4.6    (542 reviews)   \n",
       "3  2021 Toyota C-HR XLE        Elgin Toyota    4.7  (1,632 reviews)   \n",
       "4  2021 Toyota C-HR XLE        Elgin Toyota    4.7  (1,632 reviews)   \n",
       "\n",
       "        price  \n",
       "0     $25,114  \n",
       "1  Not Priced  \n",
       "2     $25,827  \n",
       "3  Not Priced  \n",
       "4  Not Priced  "
      ]
     },
     "execution_count": 22,
     "metadata": {},
     "output_type": "execute_result"
    }
   ],
   "source": [
    "cars = pd.DataFrame({\"car\":name,\"dealer\":dealer_name,\"rating\":rating,\"reviews\":reviews,\"price\":price})\n",
    "cars.head()"
   ]
  },
  {
   "cell_type": "code",
   "execution_count": 23,
   "metadata": {},
   "outputs": [],
   "source": [
    "# Strip out unwanted characters\n",
    "cars[\"reviews\"] = cars[\"reviews\"].apply(lambda x: x.strip(\"reviews)\").strip(\"(\"))\n",
    "cars[\"price\"] = cars[\"price\"].apply(lambda x: x.strip(\"$\"))"
   ]
  },
  {
   "cell_type": "code",
   "execution_count": 24,
   "metadata": {},
   "outputs": [
    {
     "data": {
      "text/html": [
       "<div>\n",
       "<style scoped>\n",
       "    .dataframe tbody tr th:only-of-type {\n",
       "        vertical-align: middle;\n",
       "    }\n",
       "\n",
       "    .dataframe tbody tr th {\n",
       "        vertical-align: top;\n",
       "    }\n",
       "\n",
       "    .dataframe thead th {\n",
       "        text-align: right;\n",
       "    }\n",
       "</style>\n",
       "<table border=\"1\" class=\"dataframe\">\n",
       "  <thead>\n",
       "    <tr style=\"text-align: right;\">\n",
       "      <th></th>\n",
       "      <th>car</th>\n",
       "      <th>dealer</th>\n",
       "      <th>rating</th>\n",
       "      <th>reviews</th>\n",
       "      <th>price</th>\n",
       "    </tr>\n",
       "  </thead>\n",
       "  <tbody>\n",
       "    <tr>\n",
       "      <th>0</th>\n",
       "      <td>2021 Toyota C-HR XLE</td>\n",
       "      <td>Rudy Luther Toyota</td>\n",
       "      <td>4.8</td>\n",
       "      <td>2,784</td>\n",
       "      <td>25,114</td>\n",
       "    </tr>\n",
       "    <tr>\n",
       "      <th>1</th>\n",
       "      <td>2021 Toyota C-HR XLE</td>\n",
       "      <td>Burnsville Toyota</td>\n",
       "      <td>4.8</td>\n",
       "      <td>595</td>\n",
       "      <td>Not Priced</td>\n",
       "    </tr>\n",
       "    <tr>\n",
       "      <th>2</th>\n",
       "      <td>2021 Toyota C-HR XLE</td>\n",
       "      <td>Smart Motors</td>\n",
       "      <td>4.6</td>\n",
       "      <td>542</td>\n",
       "      <td>25,827</td>\n",
       "    </tr>\n",
       "    <tr>\n",
       "      <th>3</th>\n",
       "      <td>2021 Toyota C-HR XLE</td>\n",
       "      <td>Elgin Toyota</td>\n",
       "      <td>4.7</td>\n",
       "      <td>1,632</td>\n",
       "      <td>Not Priced</td>\n",
       "    </tr>\n",
       "    <tr>\n",
       "      <th>4</th>\n",
       "      <td>2021 Toyota C-HR XLE</td>\n",
       "      <td>Elgin Toyota</td>\n",
       "      <td>4.7</td>\n",
       "      <td>1,632</td>\n",
       "      <td>Not Priced</td>\n",
       "    </tr>\n",
       "  </tbody>\n",
       "</table>\n",
       "</div>"
      ],
      "text/plain": [
       "                    car              dealer rating reviews       price\n",
       "0  2021 Toyota C-HR XLE  Rudy Luther Toyota    4.8  2,784       25,114\n",
       "1  2021 Toyota C-HR XLE   Burnsville Toyota    4.8    595   Not Priced\n",
       "2  2021 Toyota C-HR XLE        Smart Motors    4.6    542       25,827\n",
       "3  2021 Toyota C-HR XLE        Elgin Toyota    4.7  1,632   Not Priced\n",
       "4  2021 Toyota C-HR XLE        Elgin Toyota    4.7  1,632   Not Priced"
      ]
     },
     "execution_count": 24,
     "metadata": {},
     "output_type": "execute_result"
    }
   ],
   "source": [
    "cars.head()"
   ]
  },
  {
   "cell_type": "markdown",
   "metadata": {},
   "source": [
    "## E-Commerce Website"
   ]
  },
  {
   "cell_type": "code",
   "execution_count": 25,
   "metadata": {},
   "outputs": [],
   "source": [
    "website = \"https://www.laptopsdirect.co.uk/ct/tablet-pcs-and-e-readers/tablet-pcs\""
   ]
  },
  {
   "cell_type": "code",
   "execution_count": 26,
   "metadata": {},
   "outputs": [
    {
     "data": {
      "text/plain": [
       "200"
      ]
     },
     "execution_count": 26,
     "metadata": {},
     "output_type": "execute_result"
    }
   ],
   "source": [
    "response = requests.get(website)\n",
    "response.status_code"
   ]
  },
  {
   "cell_type": "code",
   "execution_count": 27,
   "metadata": {},
   "outputs": [],
   "source": [
    "soup = BeautifulSoup(response.content, 'html.parser') \n",
    "results = soup.find_all('div',{'class':'OfferBox'})"
   ]
  },
  {
   "cell_type": "code",
   "execution_count": 28,
   "metadata": {},
   "outputs": [
    {
     "data": {
      "text/plain": [
       "<div class=\"OfferBox\">\n",
       "<div class=\"merchTopofCentreColumn top5icon\" onload=\"dataLayer.push({'event':'top5IconShown'});\" style=\"display:none; z-index: 20; position: absolute; top: 50px; left: 10px; cursor: pointer;  pointer-events: none; width: 70px;\">\n",
       "<img alt=\"Top 5\" border=\"0\" src=\"https://www.appliancesdirect.co.uk/images/top5-apd.png\"/>\n",
       "</div>\n",
       "<div class=\"sr_image\">\n",
       "<div class=\"sr_compare\">\n",
       "<div class=\"sli_compare\" id=\"1515546_compare\">\n",
       "<input class=\"compare\" onclick=\"AddRemoveFromProductCompareCookie(this, event);\" type=\"checkbox\" value=\"1515546\"/>\n",
       "<input id=\"comphid_1515546\" type=\"hidden\" value=\"Tablet PCs\">\n",
       "<span class=\"compareText\">Compare</span>\n",
       "</input></div>\n",
       "<div class=\"comparedialog\" id=\"msg_1515546\" style=\"display:none;\" title=\"Compare products\">\n",
       "<p>Sorry, you can only compare a maximum of 4 items per category.</p>\n",
       "</div>\n",
       "<div class=\"compBtn\" id=\"compBtn_1515546\">\n",
       "<a href=\"/Compare\" type=\"button\">Compare products »</a>\n",
       "</div>\n",
       "</div>\n",
       "<a href=\"/apple-ipad-wi-fi-32gb-10.2-inch-tablet-space-grey-myl92b-a/version.asp\" onclick=\"EnEcomProdClick('MYL92B/A', 'apple-ipad-wi-fi-32gb-10.2-inch-tablet-space-grey-myl92b-a/version.asp', '1');\" title='Apple iPad 10.2\" 32GB 2020 - Space Grey'>\n",
       "<img alt='Apple iPad 10.2\" 32GB 2020 - Space Grey' border=\"0\" class=\"offerImage\" id=\"productImage_1515546\" pid=\"1515546\" src=\"/Images/MYL92BA_1_Classic.jpg?v=3&amp;width=200&amp;height=200&amp;switchoff=enabled\" title='Apple iPad 10.2\" 32GB 2020 - Space Grey'/>\n",
       "</a>\n",
       "<div class=\"merchTopofCentreColumn plogo plogo-apple\" style=\"\">\n",
       "<img border=\"0\" src=\"/ImagesById/6653146?switchoff=enabled&amp;v=38475\"/>\n",
       "</div>\n",
       "</div>\n",
       "<div class=\"OfferBoxProdInfo\">\n",
       "<div class=\"OfferBoxTitle\">\n",
       "<h3>\n",
       "<a class=\"offerboxtitle\" href=\"/apple-ipad-wi-fi-32gb-10.2-inch-tablet-space-grey-myl92b-a/version.asp\" onclick=\"EnEcomProdClick('MYL92B/A', 'apple-ipad-wi-fi-32gb-10.2-inch-tablet-space-grey-myl92b-a/version.asp', '1');\" title='Apple iPad 10.2\" 32GB 2020 - Space Grey - MYL92B/A'>Apple iPad 10.2\" 32GB 2020 - Space Grey - MYL92B/A</a>\n",
       "</h3>\n",
       "<star-rating product-url=\"apple-ipad-wi-fi-32gb-10.2-inch-tablet-space-grey-myl92b-a/version.asp\" rating-value=\"9.4\" ratings-count=\"2150\"></star-rating>\n",
       "<wishlist-amend currency=\"GBP\" exvatprice=\"283.31\" multiple-mode=\"true\" productavailable=\"true\" productid=\"1515546\" siteid=\"3\" vatrate=\"1.200\"></wishlist-amend>\n",
       "</div>\n",
       "<div class=\"sash-container\">\n",
       "<div class=\"sash-textbanner sash-urgency-red-outline\">\n",
       "<p>sale</p>\n",
       "</div>\n",
       "</div>\n",
       "<div class=\"productInfo\" id=\"productInfo_1515546\">\n",
       "<ul>\n",
       "<li><span class=\"proddescvalue\">A12 Bionic</span> <span class=\"proddesctitle\">Processor</span></li>\n",
       "<li><span class=\"proddescvalue\">10.2Inch</span> <span class=\"proddesctitle\">Display</span></li>\n",
       "<li><span class=\"proddescvalue\">32GB</span> <span class=\"proddesctitle\">Storage</span></li>\n",
       "<li><span class=\"proddescvalue\">3GB</span> <span class=\"proddesctitle\">RAM</span></li>\n",
       "<li><span class=\"proddescvalue\">1 year warranty</span></li>\n",
       "</ul>\n",
       "</div>\n",
       "</div>\n",
       "<div class=\"OfferBoxPrice\">\n",
       "<div class=\"accpricemsgs\">\n",
       "</div>\n",
       "<span class=\"offerpricetext\">Only </span>\n",
       "<span class=\"offerprice\">£339.97<span class=\"tilesUnitText\"></span></span>\n",
       "<div class=\"accpricemsgs\">\n",
       "</div>\n",
       "<a class=\"finance\" onclick=\"ga('send', 'event', 'product page', 'Pay Later');\">\n",
       "<span class=\"financemessage\">or </span>\n",
       "<span class=\"financeprice\">£16.32 a month</span>\n",
       "<span class=\"paypal-credit-ab-test-show\"><span class=\"paypalcredit-srtext\">0% finance available <span class=\"paypal-credit-logo\"></span></span></span>\n",
       "</a>\n",
       "<div class=\"Availability\" id=\"availability_1515546\"></div>\n",
       "<a class=\"offerboxlink btn-prime\" href=\"/apple-ipad-wi-fi-32gb-10.2-inch-tablet-space-grey-myl92b-a/version.asp\" onclick=\"document.location.href='/apple-ipad-wi-fi-32gb-10.2-inch-tablet-space-grey-myl92b-a/version.asp'; EnEcomProdClick('MYL92B/A', 'apple-ipad-wi-fi-32gb-10.2-inch-tablet-space-grey-myl92b-a/version.asp', '1'); return false;\" title='Apple iPad 10.2\" 32GB 2020 - Space Grey'>Find Out More</a>\n",
       "<div class=\"quickview\">\n",
       "<a class=\"dialoganchor btn-second\" id=\"alink_1515546\" onclick=\"CaptureProductClick(39152,1515546,8,24,1,1,10) ; ga('send', 'event', 'QuickView', 'quick view – view', 'MYL92B/A');\" style=\"cursor:pointer\">Quick View</a>\n",
       "</div>\n",
       "</div>\n",
       "<script type=\"text/javascript\">\n",
       "            $(function () {\n",
       "                if ('False' == 'True') {\n",
       "                    //get the keywords for videos\n",
       "                    GetKeywordsForSearchPage('1515546')\n",
       "                }\n",
       "            });\n",
       "        </script>\n",
       "</div>"
      ]
     },
     "execution_count": 28,
     "metadata": {},
     "output_type": "execute_result"
    }
   ],
   "source": [
    "results[0]"
   ]
  },
  {
   "cell_type": "markdown",
   "metadata": {},
   "source": [
    "### Name"
   ]
  },
  {
   "cell_type": "code",
   "execution_count": 29,
   "metadata": {},
   "outputs": [
    {
     "data": {
      "text/plain": [
       "'Apple iPad 10.2\" 32GB 2020 - Space Grey - MYL92B/A'"
      ]
     },
     "execution_count": 29,
     "metadata": {},
     "output_type": "execute_result"
    }
   ],
   "source": [
    "results[0].find('a',{'class':'offerboxtitle'}).get_text()"
   ]
  },
  {
   "cell_type": "markdown",
   "metadata": {},
   "source": [
    "### Price"
   ]
  },
  {
   "cell_type": "code",
   "execution_count": 30,
   "metadata": {},
   "outputs": [
    {
     "data": {
      "text/plain": [
       "'£339.97'"
      ]
     },
     "execution_count": 30,
     "metadata": {},
     "output_type": "execute_result"
    }
   ],
   "source": [
    "results[0].find('span',{'class':'offerprice'}).get_text()"
   ]
  },
  {
   "cell_type": "markdown",
   "metadata": {},
   "source": [
    "### Rating"
   ]
  },
  {
   "cell_type": "code",
   "execution_count": 31,
   "metadata": {},
   "outputs": [
    {
     "data": {
      "text/plain": [
       "'9.4'"
      ]
     },
     "execution_count": 31,
     "metadata": {},
     "output_type": "execute_result"
    }
   ],
   "source": [
    "results[0].find('star-rating').get('rating-value')"
   ]
  },
  {
   "cell_type": "markdown",
   "metadata": {},
   "source": [
    "### Review Count"
   ]
  },
  {
   "cell_type": "code",
   "execution_count": 32,
   "metadata": {},
   "outputs": [
    {
     "data": {
      "text/plain": [
       "'2150'"
      ]
     },
     "execution_count": 32,
     "metadata": {},
     "output_type": "execute_result"
    }
   ],
   "source": [
    "results[0].find('star-rating').get('ratings-count')"
   ]
  },
  {
   "cell_type": "markdown",
   "metadata": {},
   "source": [
    "### Relative URL"
   ]
  },
  {
   "cell_type": "code",
   "execution_count": 33,
   "metadata": {},
   "outputs": [],
   "source": [
    "relative_url = results[0].find('a',{'class':'offerboxtitle'}).get('href')"
   ]
  },
  {
   "cell_type": "code",
   "execution_count": 34,
   "metadata": {},
   "outputs": [],
   "source": [
    "root_url = \"https://www.laptopsdirect.co.uk\""
   ]
  },
  {
   "cell_type": "code",
   "execution_count": 35,
   "metadata": {},
   "outputs": [],
   "source": [
    "combined_url = root_url + relative_url"
   ]
  },
  {
   "cell_type": "code",
   "execution_count": 36,
   "metadata": {},
   "outputs": [
    {
     "data": {
      "text/plain": [
       "'https://www.laptopsdirect.co.uk/apple-ipad-wi-fi-32gb-10.2-inch-tablet-space-grey-myl92b-a/version.asp'"
      ]
     },
     "execution_count": 36,
     "metadata": {},
     "output_type": "execute_result"
    }
   ],
   "source": [
    "combined_url"
   ]
  },
  {
   "cell_type": "markdown",
   "metadata": {},
   "source": [
    "### Product details"
   ]
  },
  {
   "cell_type": "code",
   "execution_count": 37,
   "metadata": {},
   "outputs": [
    {
     "data": {
      "text/plain": [
       "'A12 Bionic Processor, 10.2Inch Display, 32GB Storage, 3GB RAM, 1 year warranty'"
      ]
     },
     "execution_count": 37,
     "metadata": {},
     "output_type": "execute_result"
    }
   ],
   "source": [
    "results[0].find('div',{'class':'productInfo'}).get_text().strip().replace('\\n',', ')"
   ]
  },
  {
   "cell_type": "markdown",
   "metadata": {},
   "source": [
    "## Scrape all results on a page"
   ]
  },
  {
   "cell_type": "code",
   "execution_count": 38,
   "metadata": {},
   "outputs": [],
   "source": [
    "name  = []\n",
    "price = []\n",
    "rating  = []\n",
    "reviews = []\n",
    "url = []\n",
    "product_details = []\n",
    "\n",
    "for result in results:\n",
    "    try:\n",
    "        name.append(result.find('a',{'class':'offerboxtitle'}).get_text())\n",
    "    except:\n",
    "        name.append(\"n/a\")\n",
    "    try:\n",
    "        price.append(result.find('span',{'class':'offerprice'}).get_text())\n",
    "    except:\n",
    "        price.append(\"n/a\")\n",
    "    try:\n",
    "        rating.append(result.find('star-rating').get('rating-value'))\n",
    "    except:\n",
    "        rating.append(\"n/a\")\n",
    "    try:\n",
    "        reviews.append(result.find('star-rating').get('ratings-count'))\n",
    "    except:\n",
    "        reviews.append(\"n/a\")\n",
    "    try:\n",
    "        url.append(result.find('a',{'class':'offerboxtitle'}).get('href'))\n",
    "    except:\n",
    "        url.append(\"n/a\")\n",
    "    try:\n",
    "        product_details.append(result.find('div',{'class':'productInfo'}).get_text().strip().replace('\\n',', '))\n",
    "    except:\n",
    "        product_details.append(\"n/a\")"
   ]
  },
  {
   "cell_type": "code",
   "execution_count": 39,
   "metadata": {},
   "outputs": [],
   "source": [
    "combined_urls = []\n",
    "for link in url:\n",
    "    combined_urls.append(urllib.parse.urljoin(root_url,link))\n",
    "    "
   ]
  },
  {
   "cell_type": "code",
   "execution_count": 40,
   "metadata": {},
   "outputs": [],
   "source": [
    "tablets = pd.DataFrame({'name':name,'price':price,'rating':rating,'reviews':reviews,'url':combined_urls})"
   ]
  },
  {
   "cell_type": "code",
   "execution_count": 41,
   "metadata": {},
   "outputs": [
    {
     "data": {
      "text/html": [
       "<div>\n",
       "<style scoped>\n",
       "    .dataframe tbody tr th:only-of-type {\n",
       "        vertical-align: middle;\n",
       "    }\n",
       "\n",
       "    .dataframe tbody tr th {\n",
       "        vertical-align: top;\n",
       "    }\n",
       "\n",
       "    .dataframe thead th {\n",
       "        text-align: right;\n",
       "    }\n",
       "</style>\n",
       "<table border=\"1\" class=\"dataframe\">\n",
       "  <thead>\n",
       "    <tr style=\"text-align: right;\">\n",
       "      <th></th>\n",
       "      <th>name</th>\n",
       "      <th>price</th>\n",
       "      <th>rating</th>\n",
       "      <th>reviews</th>\n",
       "      <th>url</th>\n",
       "    </tr>\n",
       "  </thead>\n",
       "  <tbody>\n",
       "    <tr>\n",
       "      <th>0</th>\n",
       "      <td>Apple iPad 10.2\" 32GB 2020 - Space Grey - MYL9...</td>\n",
       "      <td>£339.97</td>\n",
       "      <td>9.4</td>\n",
       "      <td>2150</td>\n",
       "      <td>https://www.laptopsdirect.co.uk/apple-ipad-wi-...</td>\n",
       "    </tr>\n",
       "    <tr>\n",
       "      <th>1</th>\n",
       "      <td>Apple iPad 10.2\" 128GB 2020 - Space Grey - MYL...</td>\n",
       "      <td>£449.97</td>\n",
       "      <td>9.5</td>\n",
       "      <td>1578</td>\n",
       "      <td>https://www.laptopsdirect.co.uk/apple-ipad-wi-...</td>\n",
       "    </tr>\n",
       "    <tr>\n",
       "      <th>2</th>\n",
       "      <td>Apple iPad 10.2\" 32GB 2020 - Silver - MYLA2B/A</td>\n",
       "      <td>£319.97</td>\n",
       "      <td>9.5</td>\n",
       "      <td>889</td>\n",
       "      <td>https://www.laptopsdirect.co.uk/apple-ipad-wi-...</td>\n",
       "    </tr>\n",
       "    <tr>\n",
       "      <th>3</th>\n",
       "      <td>Apple iPad 10.2\" 32GB 2020 - Gold - MYLC2B/A</td>\n",
       "      <td>£327.97</td>\n",
       "      <td>9.6</td>\n",
       "      <td>1350</td>\n",
       "      <td>https://www.laptopsdirect.co.uk/apple-ipad-wi-...</td>\n",
       "    </tr>\n",
       "    <tr>\n",
       "      <th>4</th>\n",
       "      <td>Samsung Galaxy Tab Active 3 64GB LTE 8'' Table...</td>\n",
       "      <td>£429.97</td>\n",
       "      <td>9</td>\n",
       "      <td>3</td>\n",
       "      <td>https://www.laptopsdirect.co.uk/samsung-galaxy...</td>\n",
       "    </tr>\n",
       "  </tbody>\n",
       "</table>\n",
       "</div>"
      ],
      "text/plain": [
       "                                                name    price rating reviews  \\\n",
       "0  Apple iPad 10.2\" 32GB 2020 - Space Grey - MYL9...  £339.97    9.4    2150   \n",
       "1  Apple iPad 10.2\" 128GB 2020 - Space Grey - MYL...  £449.97    9.5    1578   \n",
       "2     Apple iPad 10.2\" 32GB 2020 - Silver - MYLA2B/A  £319.97    9.5     889   \n",
       "3       Apple iPad 10.2\" 32GB 2020 - Gold - MYLC2B/A  £327.97    9.6    1350   \n",
       "4  Samsung Galaxy Tab Active 3 64GB LTE 8'' Table...  £429.97      9       3   \n",
       "\n",
       "                                                 url  \n",
       "0  https://www.laptopsdirect.co.uk/apple-ipad-wi-...  \n",
       "1  https://www.laptopsdirect.co.uk/apple-ipad-wi-...  \n",
       "2  https://www.laptopsdirect.co.uk/apple-ipad-wi-...  \n",
       "3  https://www.laptopsdirect.co.uk/apple-ipad-wi-...  \n",
       "4  https://www.laptopsdirect.co.uk/samsung-galaxy...  "
      ]
     },
     "execution_count": 41,
     "metadata": {},
     "output_type": "execute_result"
    }
   ],
   "source": [
    "tablets.head()"
   ]
  },
  {
   "cell_type": "code",
   "execution_count": 42,
   "metadata": {},
   "outputs": [],
   "source": [
    "tablets[\"price\"] = tablets[\"price\"].apply(lambda x: x.replace(\"£\",\"\"))"
   ]
  },
  {
   "cell_type": "code",
   "execution_count": 43,
   "metadata": {},
   "outputs": [
    {
     "data": {
      "text/html": [
       "<div>\n",
       "<style scoped>\n",
       "    .dataframe tbody tr th:only-of-type {\n",
       "        vertical-align: middle;\n",
       "    }\n",
       "\n",
       "    .dataframe tbody tr th {\n",
       "        vertical-align: top;\n",
       "    }\n",
       "\n",
       "    .dataframe thead th {\n",
       "        text-align: right;\n",
       "    }\n",
       "</style>\n",
       "<table border=\"1\" class=\"dataframe\">\n",
       "  <thead>\n",
       "    <tr style=\"text-align: right;\">\n",
       "      <th></th>\n",
       "      <th>name</th>\n",
       "      <th>price</th>\n",
       "      <th>rating</th>\n",
       "      <th>reviews</th>\n",
       "      <th>url</th>\n",
       "    </tr>\n",
       "  </thead>\n",
       "  <tbody>\n",
       "    <tr>\n",
       "      <th>0</th>\n",
       "      <td>Apple iPad 10.2\" 32GB 2020 - Space Grey - MYL9...</td>\n",
       "      <td>339.97</td>\n",
       "      <td>9.4</td>\n",
       "      <td>2150</td>\n",
       "      <td>https://www.laptopsdirect.co.uk/apple-ipad-wi-...</td>\n",
       "    </tr>\n",
       "    <tr>\n",
       "      <th>1</th>\n",
       "      <td>Apple iPad 10.2\" 128GB 2020 - Space Grey - MYL...</td>\n",
       "      <td>449.97</td>\n",
       "      <td>9.5</td>\n",
       "      <td>1578</td>\n",
       "      <td>https://www.laptopsdirect.co.uk/apple-ipad-wi-...</td>\n",
       "    </tr>\n",
       "    <tr>\n",
       "      <th>2</th>\n",
       "      <td>Apple iPad 10.2\" 32GB 2020 - Silver - MYLA2B/A</td>\n",
       "      <td>319.97</td>\n",
       "      <td>9.5</td>\n",
       "      <td>889</td>\n",
       "      <td>https://www.laptopsdirect.co.uk/apple-ipad-wi-...</td>\n",
       "    </tr>\n",
       "    <tr>\n",
       "      <th>3</th>\n",
       "      <td>Apple iPad 10.2\" 32GB 2020 - Gold - MYLC2B/A</td>\n",
       "      <td>327.97</td>\n",
       "      <td>9.6</td>\n",
       "      <td>1350</td>\n",
       "      <td>https://www.laptopsdirect.co.uk/apple-ipad-wi-...</td>\n",
       "    </tr>\n",
       "    <tr>\n",
       "      <th>4</th>\n",
       "      <td>Samsung Galaxy Tab Active 3 64GB LTE 8'' Table...</td>\n",
       "      <td>429.97</td>\n",
       "      <td>9</td>\n",
       "      <td>3</td>\n",
       "      <td>https://www.laptopsdirect.co.uk/samsung-galaxy...</td>\n",
       "    </tr>\n",
       "  </tbody>\n",
       "</table>\n",
       "</div>"
      ],
      "text/plain": [
       "                                                name   price rating reviews  \\\n",
       "0  Apple iPad 10.2\" 32GB 2020 - Space Grey - MYL9...  339.97    9.4    2150   \n",
       "1  Apple iPad 10.2\" 128GB 2020 - Space Grey - MYL...  449.97    9.5    1578   \n",
       "2     Apple iPad 10.2\" 32GB 2020 - Silver - MYLA2B/A  319.97    9.5     889   \n",
       "3       Apple iPad 10.2\" 32GB 2020 - Gold - MYLC2B/A  327.97    9.6    1350   \n",
       "4  Samsung Galaxy Tab Active 3 64GB LTE 8'' Table...  429.97      9       3   \n",
       "\n",
       "                                                 url  \n",
       "0  https://www.laptopsdirect.co.uk/apple-ipad-wi-...  \n",
       "1  https://www.laptopsdirect.co.uk/apple-ipad-wi-...  \n",
       "2  https://www.laptopsdirect.co.uk/apple-ipad-wi-...  \n",
       "3  https://www.laptopsdirect.co.uk/apple-ipad-wi-...  \n",
       "4  https://www.laptopsdirect.co.uk/samsung-galaxy...  "
      ]
     },
     "execution_count": 43,
     "metadata": {},
     "output_type": "execute_result"
    }
   ],
   "source": [
    "tablets.head()"
   ]
  },
  {
   "cell_type": "markdown",
   "metadata": {},
   "source": [
    "## Multiple Pages"
   ]
  },
  {
   "cell_type": "code",
   "execution_count": 44,
   "metadata": {},
   "outputs": [],
   "source": [
    "name  = []\n",
    "price = []\n",
    "rating  = []\n",
    "reviews = []\n",
    "url = []\n",
    "product_details = []\n",
    "\n",
    "\n",
    "\n",
    "for i in range(1,6):\n",
    "    website = \"https://www.laptopsdirect.co.uk/ct/tablet-pcs-and-e-readers/tablet-pcs\"\n",
    "    \n",
    "    response = requests.get(website)\n",
    "    \n",
    "    soup = BeautifulSoup(response.content, 'html.parser')\n",
    "    \n",
    "    results = soup.find_all('div',{'class':'OfferBox'})\n",
    "    \n",
    "    for result in results:\n",
    "        try:\n",
    "            name.append(result.find('a',{'class':'offerboxtitle'}).get_text())\n",
    "        except:\n",
    "            name.append(\"n/a\")\n",
    "        try:\n",
    "            price.append(result.find('span',{'class':'offerprice'}).get_text())\n",
    "        except:\n",
    "            price.append(\"n/a\")\n",
    "        try:\n",
    "            rating.append(result.find('star-rating').get('rating-value'))\n",
    "        except:\n",
    "            rating.append(\"n/a\")\n",
    "        try:\n",
    "            reviews.append(result.find('star-rating').get('ratings-count'))\n",
    "        except:\n",
    "            reviews.append(\"n/a\")\n",
    "        try:\n",
    "            url.append(result.find('a',{'class':'offerboxtitle'}).get('href'))\n",
    "        except:\n",
    "            url.append(\"n/a\")\n",
    "        try:\n",
    "            product_details.append(result.find('div',{'class':'productInfo'}).get_text().strip().replace('\\n',', '))\n",
    "        except:\n",
    "            product_details.append(\"n/a\")\n",
    "            \n",
    "    combined_urls = []\n",
    "    for link in url:\n",
    "        combined_urls.append(urllib.parse.urljoin(root_url,link))     "
   ]
  },
  {
   "cell_type": "code",
   "execution_count": 45,
   "metadata": {},
   "outputs": [],
   "source": [
    "tablets = pd.DataFrame({'name':name,'price':price,'rating':rating,'reviews':reviews,'url':combined_urls})"
   ]
  },
  {
   "cell_type": "code",
   "execution_count": 46,
   "metadata": {},
   "outputs": [
    {
     "data": {
      "text/plain": [
       "(120, 5)"
      ]
     },
     "execution_count": 46,
     "metadata": {},
     "output_type": "execute_result"
    }
   ],
   "source": [
    "tablets.shape"
   ]
  },
  {
   "cell_type": "code",
   "execution_count": 47,
   "metadata": {},
   "outputs": [
    {
     "data": {
      "text/html": [
       "<div>\n",
       "<style scoped>\n",
       "    .dataframe tbody tr th:only-of-type {\n",
       "        vertical-align: middle;\n",
       "    }\n",
       "\n",
       "    .dataframe tbody tr th {\n",
       "        vertical-align: top;\n",
       "    }\n",
       "\n",
       "    .dataframe thead th {\n",
       "        text-align: right;\n",
       "    }\n",
       "</style>\n",
       "<table border=\"1\" class=\"dataframe\">\n",
       "  <thead>\n",
       "    <tr style=\"text-align: right;\">\n",
       "      <th></th>\n",
       "      <th>name</th>\n",
       "      <th>price</th>\n",
       "      <th>rating</th>\n",
       "      <th>reviews</th>\n",
       "      <th>url</th>\n",
       "    </tr>\n",
       "  </thead>\n",
       "  <tbody>\n",
       "    <tr>\n",
       "      <th>0</th>\n",
       "      <td>Apple iPad 10.2\" 32GB 2020 - Space Grey - MYL9...</td>\n",
       "      <td>£339.97</td>\n",
       "      <td>9.4</td>\n",
       "      <td>2150</td>\n",
       "      <td>https://www.laptopsdirect.co.uk/apple-ipad-wi-...</td>\n",
       "    </tr>\n",
       "    <tr>\n",
       "      <th>1</th>\n",
       "      <td>Apple iPad 10.2\" 128GB 2020 - Space Grey - MYL...</td>\n",
       "      <td>£449.97</td>\n",
       "      <td>9.5</td>\n",
       "      <td>1578</td>\n",
       "      <td>https://www.laptopsdirect.co.uk/apple-ipad-wi-...</td>\n",
       "    </tr>\n",
       "    <tr>\n",
       "      <th>2</th>\n",
       "      <td>Apple iPad 10.2\" 32GB 2020 - Silver - MYLA2B/A</td>\n",
       "      <td>£319.97</td>\n",
       "      <td>9.5</td>\n",
       "      <td>889</td>\n",
       "      <td>https://www.laptopsdirect.co.uk/apple-ipad-wi-...</td>\n",
       "    </tr>\n",
       "    <tr>\n",
       "      <th>3</th>\n",
       "      <td>Apple iPad 10.2\" 32GB 2020 - Gold - MYLC2B/A</td>\n",
       "      <td>£327.97</td>\n",
       "      <td>9.6</td>\n",
       "      <td>1350</td>\n",
       "      <td>https://www.laptopsdirect.co.uk/apple-ipad-wi-...</td>\n",
       "    </tr>\n",
       "    <tr>\n",
       "      <th>4</th>\n",
       "      <td>Samsung Galaxy Tab Active 3 64GB LTE 8'' Table...</td>\n",
       "      <td>£429.97</td>\n",
       "      <td>9</td>\n",
       "      <td>3</td>\n",
       "      <td>https://www.laptopsdirect.co.uk/samsung-galaxy...</td>\n",
       "    </tr>\n",
       "  </tbody>\n",
       "</table>\n",
       "</div>"
      ],
      "text/plain": [
       "                                                name    price rating reviews  \\\n",
       "0  Apple iPad 10.2\" 32GB 2020 - Space Grey - MYL9...  £339.97    9.4    2150   \n",
       "1  Apple iPad 10.2\" 128GB 2020 - Space Grey - MYL...  £449.97    9.5    1578   \n",
       "2     Apple iPad 10.2\" 32GB 2020 - Silver - MYLA2B/A  £319.97    9.5     889   \n",
       "3       Apple iPad 10.2\" 32GB 2020 - Gold - MYLC2B/A  £327.97    9.6    1350   \n",
       "4  Samsung Galaxy Tab Active 3 64GB LTE 8'' Table...  £429.97      9       3   \n",
       "\n",
       "                                                 url  \n",
       "0  https://www.laptopsdirect.co.uk/apple-ipad-wi-...  \n",
       "1  https://www.laptopsdirect.co.uk/apple-ipad-wi-...  \n",
       "2  https://www.laptopsdirect.co.uk/apple-ipad-wi-...  \n",
       "3  https://www.laptopsdirect.co.uk/apple-ipad-wi-...  \n",
       "4  https://www.laptopsdirect.co.uk/samsung-galaxy...  "
      ]
     },
     "execution_count": 47,
     "metadata": {},
     "output_type": "execute_result"
    }
   ],
   "source": [
    "tablets.head()"
   ]
  },
  {
   "cell_type": "markdown",
   "metadata": {},
   "source": [
    "## Cryptocurrency Website"
   ]
  },
  {
   "cell_type": "code",
   "execution_count": 48,
   "metadata": {},
   "outputs": [],
   "source": [
    "website = \"https://www.coingecko.com/en\""
   ]
  },
  {
   "cell_type": "code",
   "execution_count": 49,
   "metadata": {},
   "outputs": [
    {
     "data": {
      "text/plain": [
       "200"
      ]
     },
     "execution_count": 49,
     "metadata": {},
     "output_type": "execute_result"
    }
   ],
   "source": [
    "response = requests.get(website)\n",
    "response.status_code"
   ]
  },
  {
   "cell_type": "code",
   "execution_count": 50,
   "metadata": {},
   "outputs": [],
   "source": [
    "soup = BeautifulSoup(response.content, 'html.parser') \n",
    "results = soup.find('table',{'class':'table-scrollable'}).find(\"tbody\").find_all(\"tr\")"
   ]
  },
  {
   "cell_type": "code",
   "execution_count": 51,
   "metadata": {},
   "outputs": [
    {
     "data": {
      "text/plain": [
       "100"
      ]
     },
     "execution_count": 51,
     "metadata": {},
     "output_type": "execute_result"
    }
   ],
   "source": [
    "len(results)"
   ]
  },
  {
   "cell_type": "code",
   "execution_count": 52,
   "metadata": {},
   "outputs": [
    {
     "data": {
      "text/plain": [
       "<tr>\n",
       "<td class=\"pl-1 pr-0\" style=\"width: 1px;\">\n",
       "<div class=\"dropdown-menu p-3 dropdown-popup dropdown-menu-content portfolios-dropdown\"></div>\n",
       "<i aria-expanded=\"false\" aria-haspopup=\"true\" class=\"far cursor-pointer fa-star\" data-action=\"click-&gt;favorites#trigger\" data-coin-id=\"1\" data-coin-image=\"https://assets.coingecko.com/coins/images/1/thumb/bitcoin.png?1547033579\" data-coin-slug=\"bitcoin\" data-coin-symbol=\"btc\" data-new-portfolio-button-label='&lt;span class=\"translation_missing\" title=\"translation missing: en.layouts.application.portfolio.add_to_new_portfolio\"&gt;Add To New Portfolio&lt;/span&gt;' data-new-portfolio-confirm-button=\"new-portfolio-form-confirm-button\" data-new-portfolio-confirm-modal=\"new-portfolio-form-modal\" data-price-btc=\"1.0\" data-removable=\"false\" data-source=\"star_button\" data-target=\"favorites.solidStar\" data-toast-success-hyperlink-text=\"Start your portfolio - Add a transaction!\" data-toast-success-message=\"BTC added to Portfolio\" data-toggle=\"dropdown\" data-unfavorite-coin-confirm-button=\"unfavorite-coin-confirm-button\" data-unfavorite-coin-confirm-modal=\"unfavorite-coin-confirm-modal\"></i>\n",
       "</td>\n",
       "<td class=\"table-number text-center text-xs\" style=\"min-width: 28px;\">\n",
       "1\n",
       "</td>\n",
       "<td class=\"py-0 coin-name\" data-sort=\"Bitcoin\">\n",
       "<div class=\"tw-flex\">\n",
       "<div class=\"coin-icon mr-2 center flex-column\">\n",
       "<img alt=\"bitcoin (BTC)\" class=\"lazy\" data-src=\"https://assets.coingecko.com/coins/images/1/thumb/bitcoin.png?1547033579\" data-srcset=\"https://assets.coingecko.com/coins/images/1/thumb_2x/bitcoin.png?1547033579 2x\" src=\"https://static.coingecko.com/s/missing_thumb-8e0db816ffd421c40794282644e1baa73e174b7b84f04c07e624691b2f42efc9.png\"/>\n",
       "</div>\n",
       "<div class=\"center\">\n",
       "<a class=\"tw-hidden lg:tw-flex font-bold tw-items-center tw-justify-between\" href=\"/en/coins/bitcoin\" style=\"width: 115px;\">\n",
       "Bitcoin\n",
       "</a> <a class=\"d-lg-none font-bold\" href=\"/en/coins/bitcoin\">\n",
       "BTC\n",
       "</a> <span class=\"tw-hidden d-lg-inline font-normal text-3xs ml-2\">\n",
       "BTC\n",
       "</span>\n",
       "<div id=\"token-btc-js\"></div>\n",
       "</div>\n",
       "</div>\n",
       "</td>\n",
       "<td class=\"td-price price text-right\" data-sort=\"47727.7458186943\" style=\"min-width: 106px;\">\n",
       "<span class=\"no-wrap\" data-coin-id=\"1\" data-coin-symbol=\"btc\" data-price-btc=\"1.0\" data-target=\"price.price\">$47,728</span>\n",
       "</td>\n",
       "<td class=\"td-change1h change1h stat-percent text-right col-market\" data-sort=\"-0.3978847576589298\">\n",
       "<span class=\"text-danger\" data-24h=\"false\" data-coin-id=\"1\" data-down-class=\"text-danger\" data-json='{\"aed\":-0.39818304877490196,\"ars\":-0.4471143856588937,\"aud\":-0.21036122720703415,\"bch\":0.5885823736473658,\"bdt\":-0.3978847576588012,\"bhd\":-0.39788475765871945,\"bmd\":-0.3978847576589298,\"bnb\":0.524676205750871,\"brl\":-0.3583384374894132,\"btc\":0.0,\"cad\":-0.4263755117719028,\"chf\":-0.42651888867595905,\"clp\":-0.3978847576586257,\"cny\":-0.39788475765906317,\"czk\":-0.5031801155519758,\"dkk\":-0.45352894144427236,\"dot\":0.6327095835858874,\"eos\":0.6874124232021532,\"eth\":0.27501653484211236,\"eur\":-0.44717116937185564,\"gbp\":-0.4305938680758632,\"hkd\":-0.4143951138263375,\"huf\":-0.48725259999322673,\"idr\":-0.3978847576587114,\"ils\":-0.35402236374645096,\"inr\":-0.3978847576589034,\"jpy\":-0.3485045642547876,\"krw\":-0.3978847576588519,\"kwd\":-0.39788475765839687,\"lkr\":-0.3978847576588339,\"ltc\":1.2954593253205138,\"mmk\":-0.3978847576588905,\"mxn\":-0.41435369455094906,\"myr\":-0.3978847576583986,\"ngn\":-0.39788475765924525,\"nok\":-0.28340852873394945,\"nzd\":-0.29324676362176316,\"php\":-0.44711572422901646,\"pkr\":-0.39788475765882136,\"pln\":-0.5543039013836817,\"rub\":-0.43047971137739605,\"sar\":-0.40043471052647267,\"sek\":-0.5281184587358537,\"sgd\":-0.3299141121599779,\"thb\":-0.3796085735069559,\"try\":-0.39414017646258365,\"twd\":-0.3978847576589716,\"uah\":-0.397884757659108,\"usd\":-0.3978847576589298,\"vef\":-0.3978847576587293,\"vnd\":-0.45450528313798016,\"xag\":-0.42001714306616966,\"xau\":-0.39788475765866044,\"xdr\":-0.39788475765881987,\"xlm\":0.5545892458289564,\"xrp\":0.30434314359196435,\"yfi\":0.14752332860988038,\"zar\":0.18650641407280588,\"bits\":-0.09421356115620441,\"link\":0.6247658722475248,\"sats\":-0.09421356115620116}' data-target=\"percent-change.percent\" data-up-class=\"text-green\">-0.4%</span>\n",
       "</td>\n",
       "<td class=\"td-change24h change24h stat-percent text-right col-market\" data-sort=\"-1.0720917671602648\">\n",
       "<span class=\"text-danger\" data-24h=\"true\" data-coin-id=\"1\" data-down-class=\"text-danger\" data-json='{\"aed\":-1.0723880391426508,\"ars\":-1.1209881596641706,\"aud\":-1.082658277227752,\"bch\":1.05036299572701,\"bdt\":-1.0720917671603114,\"bhd\":-1.0720917671604073,\"bmd\":-1.0720917671602648,\"bnb\":-2.2669163781718495,\"brl\":-1.0328131361475645,\"btc\":0.0,\"cad\":-1.1003896672753957,\"chf\":-1.1070031425780065,\"clp\":-1.0720917671599663,\"cny\":-1.0720917671603043,\"czk\":-1.1766743804679203,\"dkk\":-1.1273592953030627,\"dot\":-0.10418567907489762,\"eos\":5.171397022235724,\"eth\":1.0071479011389928,\"eur\":-1.121044559008097,\"gbp\":-1.1045794695130462,\"hkd\":-1.0964842984394867,\"huf\":-1.160854678308467,\"idr\":-1.0720917671600618,\"ils\":-1.0285262779200044,\"inr\":-1.0720917671603092,\"jpy\":-1.0230458284298158,\"krw\":-1.0720917671602475,\"kwd\":-1.072091767160072,\"lkr\":-1.0720917671601489,\"ltc\":1.483011508027952,\"mmk\":-1.0720917671601529,\"mxn\":-1.0884492257702714,\"myr\":-1.0720917671597125,\"ngn\":-1.0720917671602295,\"nok\":-1.1923407174189915,\"nzd\":-1.0002280132604708,\"php\":-1.1209894891733618,\"pkr\":-1.0720917671601342,\"pln\":-1.2274521092431152,\"rub\":-1.104466085541616,\"sar\":-1.0746244593890024,\"sek\":-1.2014439159334998,\"sgd\":-1.00458121515949,\"thb\":-1.0903444231374648,\"try\":-1.0683725330450624,\"twd\":-1.0720917671598087,\"uah\":-1.0720917671603563,\"usd\":-1.0720917671602648,\"vef\":-1.0720917671601418,\"vnd\":-1.128329028137155,\"xag\":-1.0940743383858123,\"xau\":-1.1015929589425972,\"xdr\":-1.0720917671602255,\"xlm\":-0.3487335309474824,\"xrp\":-0.22743513773585317,\"yfi\":0.7007370314541579,\"zar\":-0.4916563409798502,\"bits\":0.09195425093611645,\"link\":0.40329058531957196,\"sats\":0.09195425093611831}' data-target=\"percent-change.percent\" data-up-class=\"text-green\">-1.1%</span>\n",
       "</td>\n",
       "<td class=\"td-change7d change7d stat-percent text-right col-market\" data-sort=\"5.600562427751434\" style=\"width: 70px;\">\n",
       "<span class=\"text-green\" data-24h=\"false\" data-coin-id=\"1\" data-down-class=\"text-danger\" data-json='{\"aed\":5.601396201141321,\"ars\":5.831893206521439,\"aud\":6.897115030473657,\"bch\":9.14554442432203,\"bdt\":5.74099961600065,\"bhd\":5.5582648349194494,\"bmd\":5.600562427751434,\"bnb\":2.5342186821094255,\"brl\":6.5104262138233935,\"btc\":0.0,\"cad\":6.131362757301054,\"chf\":7.229448948724694,\"clp\":5.071528333961699,\"cny\":5.959430313660888,\"czk\":6.414313004352776,\"dkk\":6.312486320089218,\"dot\":-3.5438516047048116,\"eos\":-2.914467121600516,\"eth\":2.6097593401558163,\"eur\":6.34764882491396,\"gbp\":6.291899456975364,\"hkd\":5.643330808278925,\"huf\":7.175125978211852,\"idr\":5.638334445241893,\"ils\":5.851086453022748,\"inr\":5.848527940720951,\"jpy\":5.647157892844681,\"krw\":6.650811532024369,\"kwd\":5.765021369527225,\"lkr\":5.535579189322599,\"ltc\":7.007727366888139,\"mmk\":17.12383294285096,\"mxn\":6.241589647551457,\"myr\":6.494076191796575,\"ngn\":5.677562570493304,\"nok\":5.870972609913972,\"nzd\":6.795629748240996,\"php\":5.794300549505521,\"pkr\":5.544422966176938,\"pln\":7.359607566313778,\"rub\":5.123468619921715,\"sar\":5.574096403638191,\"sek\":6.068109171210687,\"sgd\":6.176281446014289,\"thb\":7.603185238708986,\"try\":7.788755202539856,\"twd\":6.106339670126229,\"uah\":5.439387627946578,\"usd\":5.600562427751434,\"vef\":5.60056242775157,\"vnd\":5.975345125280344,\"xag\":11.89268889480495,\"xau\":7.592313448780868,\"xdr\":5.809611654946496,\"xlm\":7.393954842150562,\"xrp\":6.465028183654481,\"yfi\":4.8127621721875125,\"zar\":9.80738872628045,\"bits\":-0.055416395978562856,\"link\":2.0264770599586113,\"sats\":-0.05541639597855682}' data-target=\"percent-change.percent\" data-up-class=\"text-green\">5.6%</span>\n",
       "</td>\n",
       "<td class=\"td-liquidity_score lit text-right %&gt; col-market\" data-sort=\"561684.431255408\" style=\"width: 155px;\">\n",
       "<span class=\"no-wrap\" data-no-decimal=\"true\" data-price-btc=\"561684.431255408\" data-target=\"price.price\">$26,802,575,781</span>\n",
       "</td>\n",
       "<td class=\"td-market_cap cap col-market cap-price text-right\" data-sort=\"18820668.0\" style=\"width: 155px;\">\n",
       "<span class=\"no-wrap\" data-price-btc=\"18820668.0\" data-target=\"price.price\">$898,391,098,703</span>\n",
       "</td>\n",
       "<td class=\"p-0 pl-2 text-center\" style=\"width: 135px;\">\n",
       "<a href=\"/en/coins/bitcoin\">\n",
       "<img alt=\"bitcoin (BTC) 7d chart\" class=\"lazy\" data-src=\"https://www.coingecko.com/coins/1/sparkline\" data-srcset=\"https://www.coingecko.com/coins/1/sparkline 1x\" src=\"https://static.coingecko.com/s/blank-b1442e85b03bdcaf66dc58c7abb98745dd2687d86350be9a298a1d9382ac849b.gif\"/>\n",
       "</a> </td>\n",
       "</tr>"
      ]
     },
     "execution_count": 52,
     "metadata": {},
     "output_type": "execute_result"
    }
   ],
   "source": [
    "results[0]"
   ]
  },
  {
   "cell_type": "markdown",
   "metadata": {},
   "source": [
    "### Name"
   ]
  },
  {
   "cell_type": "code",
   "execution_count": 53,
   "metadata": {},
   "outputs": [
    {
     "data": {
      "text/plain": [
       "'Bitcoin'"
      ]
     },
     "execution_count": 53,
     "metadata": {},
     "output_type": "execute_result"
    }
   ],
   "source": [
    "results[0].find('a',{'class':'tw-hidden lg:tw-flex font-bold tw-items-center tw-justify-between'}).get_text().strip()"
   ]
  },
  {
   "cell_type": "markdown",
   "metadata": {},
   "source": [
    "### Price"
   ]
  },
  {
   "cell_type": "code",
   "execution_count": 54,
   "metadata": {},
   "outputs": [
    {
     "data": {
      "text/plain": [
       "'$47,728'"
      ]
     },
     "execution_count": 54,
     "metadata": {},
     "output_type": "execute_result"
    }
   ],
   "source": [
    "results[0].find('td',{'class':'td-price'}).get_text().strip()"
   ]
  },
  {
   "cell_type": "markdown",
   "metadata": {},
   "source": [
    "### 1hr Change"
   ]
  },
  {
   "cell_type": "code",
   "execution_count": 55,
   "metadata": {},
   "outputs": [
    {
     "data": {
      "text/plain": [
       "'-0.4%'"
      ]
     },
     "execution_count": 55,
     "metadata": {},
     "output_type": "execute_result"
    }
   ],
   "source": [
    "results[0].find('td',{'class':'td-change1h'}).get_text().strip()"
   ]
  },
  {
   "cell_type": "markdown",
   "metadata": {},
   "source": [
    "### 24 hr Change"
   ]
  },
  {
   "cell_type": "code",
   "execution_count": 56,
   "metadata": {},
   "outputs": [
    {
     "data": {
      "text/plain": [
       "'-1.1%'"
      ]
     },
     "execution_count": 56,
     "metadata": {},
     "output_type": "execute_result"
    }
   ],
   "source": [
    "results[0].find('td',{'class':'td-change24h'}).get_text().strip()"
   ]
  },
  {
   "cell_type": "markdown",
   "metadata": {},
   "source": [
    "### 7 day Change"
   ]
  },
  {
   "cell_type": "code",
   "execution_count": 57,
   "metadata": {},
   "outputs": [
    {
     "data": {
      "text/plain": [
       "'5.6%'"
      ]
     },
     "execution_count": 57,
     "metadata": {},
     "output_type": "execute_result"
    }
   ],
   "source": [
    "results[0].find('td',{'class':'td-change7d'}).get_text().strip()"
   ]
  },
  {
   "cell_type": "markdown",
   "metadata": {},
   "source": [
    "### 24 hr Volume"
   ]
  },
  {
   "cell_type": "code",
   "execution_count": 58,
   "metadata": {},
   "outputs": [
    {
     "data": {
      "text/plain": [
       "<td class=\"td-liquidity_score lit text-right %&gt; col-market\" data-sort=\"561684.431255408\" style=\"width: 155px;\">\n",
       "<span class=\"no-wrap\" data-no-decimal=\"true\" data-price-btc=\"561684.431255408\" data-target=\"price.price\">$26,802,575,781</span>\n",
       "</td>"
      ]
     },
     "execution_count": 58,
     "metadata": {},
     "output_type": "execute_result"
    }
   ],
   "source": [
    "results[0].find('td',{'class':'td-liquidity_score lit text-right %> col-market'})"
   ]
  },
  {
   "cell_type": "markdown",
   "metadata": {},
   "source": [
    "### Market Cap"
   ]
  },
  {
   "cell_type": "code",
   "execution_count": 59,
   "metadata": {},
   "outputs": [
    {
     "data": {
      "text/plain": [
       "'$898,391,098,703'"
      ]
     },
     "execution_count": 59,
     "metadata": {},
     "output_type": "execute_result"
    }
   ],
   "source": [
    "results[0].find('td',{'class':'td-market_cap cap col-market cap-price text-right'}).get_text().strip()"
   ]
  },
  {
   "cell_type": "code",
   "execution_count": 60,
   "metadata": {},
   "outputs": [],
   "source": [
    "name = []\n",
    "price = []\n",
    "change_1h = []\n",
    "change_24h = []\n",
    "change_7d = []\n",
    "market_cap = []\n",
    "\n",
    "for result in results:\n",
    "    try:\n",
    "        name.append(result.find('a',{'class':'tw-hidden lg:tw-flex font-bold tw-items-center tw-justify-between'}).get_text().strip())\n",
    "    except:\n",
    "        name.append(\"n/a\")\n",
    "    try:\n",
    "        price.append(result.find('td',{'class':'td-price'}).get_text().strip())\n",
    "    except:\n",
    "        price.append(\"n/a\")\n",
    "    try:\n",
    "        change_1h.append(result.find('td',{'class':'td-change1h'}).get_text().strip())\n",
    "    except:\n",
    "        change_1h.append(\"n/a\")\n",
    "    try:\n",
    "        change_24h.append(result.find('td',{'class':'td-change24h'}).get_text().strip())\n",
    "    except:\n",
    "        change_24h.append(\"n/a\")\n",
    "    try:\n",
    "        change_7d.append(result.find('td',{'class':'td-change7d'}).get_text().strip())\n",
    "    except:\n",
    "        change_7d.append(\"n/a\")\n",
    "    try:\n",
    "        market_cap.append(result.find('td',{'class':'td-market_cap cap col-market cap-price text-right'}).get_text().strip())\n",
    "    except:\n",
    "        market_cap.append(\"n/a\")\n",
    "        "
   ]
  },
  {
   "cell_type": "code",
   "execution_count": 103,
   "metadata": {},
   "outputs": [],
   "source": [
    "crypto = pd.DataFrame({'name':name,'price':price,'1hr change':change_1h,'24h change':change_24h,\n",
    "                       '7d change':change_7d,'market cap':market_cap })"
   ]
  },
  {
   "cell_type": "code",
   "execution_count": 63,
   "metadata": {},
   "outputs": [],
   "source": [
    "name = []\n",
    "price = []\n",
    "change_1h = []\n",
    "change_24h = []\n",
    "change_7d = []\n",
    "market_cap = []\n",
    "\n",
    "\n",
    "for i in range(1,11):\n",
    "    \n",
    "    website = \"https://www.coingecko.com/en?page=\" + str(i)\n",
    "    response = requests.get(website)\n",
    "    soup = BeautifulSoup(response.content, 'html.parser') \n",
    "    results = soup.find('table',{'class':'table-scrollable'}).find(\"tbody\").find_all(\"tr\")\n",
    "    \n",
    "    for result in results:\n",
    "        try:\n",
    "            name.append(result.find('a',{'class':'tw-hidden lg:tw-flex font-bold tw-items-center tw-justify-between'}).get_text().strip())\n",
    "        except:\n",
    "            name.append(\"n/a\")\n",
    "        try:\n",
    "            price.append(result.find('td',{'class':'td-price'}).get_text().strip())\n",
    "        except:\n",
    "            price.append(\"n/a\")\n",
    "        try:\n",
    "            change_1h.append(result.find('td',{'class':'td-change1h'}).get_text().strip())\n",
    "        except:\n",
    "            change_1h.append(\"n/a\")\n",
    "        try:\n",
    "            change_24h.append(result.find('td',{'class':'td-change24h'}).get_text().strip())\n",
    "        except:\n",
    "            change_24h.append(\"n/a\")\n",
    "        try:\n",
    "            change_7d.append(result.find('td',{'class':'td-change7d'}).get_text().strip())\n",
    "        except:\n",
    "            change_7d.append(\"n/a\")\n",
    "        try:\n",
    "            market_cap.append(result.find('td',{'class':'td-market_cap cap col-market cap-price text-right'}).get_text().strip())\n",
    "        except:\n",
    "            market_cap.append(\"n/a\")\n",
    "        \n",
    "    \n",
    "    "
   ]
  },
  {
   "cell_type": "code",
   "execution_count": 176,
   "metadata": {},
   "outputs": [],
   "source": [
    "crypto = pd.DataFrame({'name':name,'price':price,'1hr change':change_1h,'24h change':change_24h,\n",
    "                       '7d change':change_7d,'market cap':market_cap })"
   ]
  },
  {
   "cell_type": "code",
   "execution_count": 177,
   "metadata": {},
   "outputs": [],
   "source": [
    "crypto['price'] = crypto[\"price\"].apply(lambda x: x.replace(\"$\",\"\"))\n",
    "crypto['1hr change'] = crypto[\"1hr change\"].apply(lambda x: x.replace(\"%\",\"\"))\n",
    "crypto['24h change'] = crypto[\"24h change\"].apply(lambda x: x.replace(\"%\",\"\"))\n",
    "crypto['7d change'] = crypto[\"7d change\"].apply(lambda x: x.replace(\"%\",\"\"))\n",
    "crypto['market cap'] = crypto[\"market cap\"].apply(lambda x: x.replace(\"$\",\"\"))\n",
    "crypto['market cap'] = crypto[\"market cap\"].apply(lambda x: x.replace(\",\",\"\"))\n",
    "crypto['price'] = crypto[\"price\"].apply(lambda x: x.replace(\",\",\"\"))"
   ]
  },
  {
   "cell_type": "code",
   "execution_count": 178,
   "metadata": {},
   "outputs": [
    {
     "data": {
      "text/html": [
       "<div>\n",
       "<style scoped>\n",
       "    .dataframe tbody tr th:only-of-type {\n",
       "        vertical-align: middle;\n",
       "    }\n",
       "\n",
       "    .dataframe tbody tr th {\n",
       "        vertical-align: top;\n",
       "    }\n",
       "\n",
       "    .dataframe thead th {\n",
       "        text-align: right;\n",
       "    }\n",
       "</style>\n",
       "<table border=\"1\" class=\"dataframe\">\n",
       "  <thead>\n",
       "    <tr style=\"text-align: right;\">\n",
       "      <th></th>\n",
       "      <th>name</th>\n",
       "      <th>price</th>\n",
       "      <th>1hr change</th>\n",
       "      <th>24h change</th>\n",
       "      <th>7d change</th>\n",
       "      <th>market cap</th>\n",
       "    </tr>\n",
       "  </thead>\n",
       "  <tbody>\n",
       "    <tr>\n",
       "      <th>0</th>\n",
       "      <td>Bitcoin</td>\n",
       "      <td>47728</td>\n",
       "      <td>-0.4</td>\n",
       "      <td>-1.1</td>\n",
       "      <td>5.6</td>\n",
       "      <td>898391098703</td>\n",
       "    </tr>\n",
       "    <tr>\n",
       "      <th>1</th>\n",
       "      <td>Ethereum</td>\n",
       "      <td>3363.08</td>\n",
       "      <td>-0.5</td>\n",
       "      <td>-2.1</td>\n",
       "      <td>2.9</td>\n",
       "      <td>395467452974</td>\n",
       "    </tr>\n",
       "    <tr>\n",
       "      <th>2</th>\n",
       "      <td>Cardano</td>\n",
       "      <td>2.34</td>\n",
       "      <td>-0.9</td>\n",
       "      <td>-1.2</td>\n",
       "      <td>-10.4</td>\n",
       "      <td>75104255685</td>\n",
       "    </tr>\n",
       "    <tr>\n",
       "      <th>3</th>\n",
       "      <td>Tether</td>\n",
       "      <td>1.00</td>\n",
       "      <td>-0.6</td>\n",
       "      <td>0.2</td>\n",
       "      <td>0.0</td>\n",
       "      <td>69489698872</td>\n",
       "    </tr>\n",
       "    <tr>\n",
       "      <th>4</th>\n",
       "      <td>Binance Coin</td>\n",
       "      <td>416.19</td>\n",
       "      <td>-0.9</td>\n",
       "      <td>1.2</td>\n",
       "      <td>3.0</td>\n",
       "      <td>64313793781</td>\n",
       "    </tr>\n",
       "  </tbody>\n",
       "</table>\n",
       "</div>"
      ],
      "text/plain": [
       "           name    price 1hr change 24h change 7d change    market cap\n",
       "0       Bitcoin    47728       -0.4       -1.1       5.6  898391098703\n",
       "1      Ethereum  3363.08       -0.5       -2.1       2.9  395467452974\n",
       "2       Cardano     2.34       -0.9       -1.2     -10.4   75104255685\n",
       "3        Tether     1.00       -0.6        0.2       0.0   69489698872\n",
       "4  Binance Coin   416.19       -0.9        1.2       3.0   64313793781"
      ]
     },
     "execution_count": 178,
     "metadata": {},
     "output_type": "execute_result"
    }
   ],
   "source": [
    "crypto.head()"
   ]
  },
  {
   "cell_type": "code",
   "execution_count": 179,
   "metadata": {},
   "outputs": [],
   "source": [
    "cols = ['price', '1hr change', '24h change', '7d change', 'market cap']\n",
    "crypto[cols] = crypto[cols].apply(pd.to_numeric, errors='coerce', axis=1)"
   ]
  },
  {
   "cell_type": "code",
   "execution_count": 180,
   "metadata": {},
   "outputs": [],
   "source": [
    "crypto[\"market cap\"] = crypto[\"market cap\"].apply(lambda x: x/1000000)"
   ]
  },
  {
   "cell_type": "code",
   "execution_count": 181,
   "metadata": {},
   "outputs": [],
   "source": [
    "crypto = crypto.round(decimals = 1)"
   ]
  },
  {
   "cell_type": "code",
   "execution_count": 182,
   "metadata": {},
   "outputs": [],
   "source": [
    "crypto = crypto.rename(columns={\"name\": \"Coin\", \"price\": \"Price ($)\", \"1hr change\":\"1hr change (%)\",\n",
    "                                \"24h change\":\"24hr change (%)\", \"7d change\":\"7d change (%)\",\"market cap\": \"Market Cap ($m)\"}, errors=\"raise\")"
   ]
  },
  {
   "cell_type": "code",
   "execution_count": 186,
   "metadata": {},
   "outputs": [
    {
     "name": "stdout",
     "output_type": "stream",
     "text": [
      "<class 'pandas.core.frame.DataFrame'>\n",
      "RangeIndex: 1000 entries, 0 to 999\n",
      "Data columns (total 6 columns):\n",
      " #   Column           Non-Null Count  Dtype  \n",
      "---  ------           --------------  -----  \n",
      " 0   Coin             1000 non-null   object \n",
      " 1   Price ($)        1000 non-null   float64\n",
      " 2   1hr change (%)   964 non-null    float64\n",
      " 3   24hr change (%)  989 non-null    float64\n",
      " 4   7d change (%)    987 non-null    float64\n",
      " 5   Market Cap ($m)  1000 non-null   float64\n",
      "dtypes: float64(5), object(1)\n",
      "memory usage: 47.0+ KB\n"
     ]
    }
   ],
   "source": [
    "crypto.info()"
   ]
  }
 ],
 "metadata": {
  "kernelspec": {
   "display_name": "Python 3",
   "language": "python",
   "name": "python3"
  },
  "language_info": {
   "codemirror_mode": {
    "name": "ipython",
    "version": 3
   },
   "file_extension": ".py",
   "mimetype": "text/x-python",
   "name": "python",
   "nbconvert_exporter": "python",
   "pygments_lexer": "ipython3",
   "version": "3.8.5"
  }
 },
 "nbformat": 4,
 "nbformat_minor": 4
}

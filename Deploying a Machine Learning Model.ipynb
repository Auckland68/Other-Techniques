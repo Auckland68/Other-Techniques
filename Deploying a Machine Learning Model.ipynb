{
 "cells": [
  {
   "cell_type": "markdown",
   "id": "80d1788d",
   "metadata": {},
   "source": [
    "# Deploying a Machine Learning Model"
   ]
  },
  {
   "cell_type": "code",
   "execution_count": 105,
   "id": "240c744d",
   "metadata": {},
   "outputs": [],
   "source": [
    "import pandas as pd\n",
    "import numpy as np\n",
    "from sklearn.model_selection import train_test_split\n",
    "from sklearn.linear_model import LinearRegression\n",
    "from sklearn.ensemble import RandomForestRegressor\n",
    "from sklearn.metrics import r2_score\n",
    "\n",
    "import json\n",
    "import pickle\n",
    "import joblib\n",
    "\n",
    "from sklearn.svm import LinearSVC\n",
    "from sklearn.feature_extraction.text import TfidfVectorizer\n",
    "from sklearn.metrics import accuracy_score\n",
    "\n",
    "from sklearn.pipeline import Pipeline\n",
    "from sklearn.linear_model import LogisticRegression\n",
    "from sklearn.tree import DecisionTreeClassifier\n",
    "from sklearn.svm import LinearSVC"
   ]
  },
  {
   "cell_type": "code",
   "execution_count": 9,
   "id": "03c1a02b",
   "metadata": {},
   "outputs": [
    {
     "data": {
      "text/html": [
       "<div>\n",
       "<style scoped>\n",
       "    .dataframe tbody tr th:only-of-type {\n",
       "        vertical-align: middle;\n",
       "    }\n",
       "\n",
       "    .dataframe tbody tr th {\n",
       "        vertical-align: top;\n",
       "    }\n",
       "\n",
       "    .dataframe thead th {\n",
       "        text-align: right;\n",
       "    }\n",
       "</style>\n",
       "<table border=\"1\" class=\"dataframe\">\n",
       "  <thead>\n",
       "    <tr style=\"text-align: right;\">\n",
       "      <th></th>\n",
       "      <th>car_ID</th>\n",
       "      <th>symboling</th>\n",
       "      <th>CarName</th>\n",
       "      <th>fueltype</th>\n",
       "      <th>aspiration</th>\n",
       "      <th>doornumber</th>\n",
       "      <th>carbody</th>\n",
       "      <th>drivewheel</th>\n",
       "      <th>enginelocation</th>\n",
       "      <th>wheelbase</th>\n",
       "      <th>...</th>\n",
       "      <th>enginesize</th>\n",
       "      <th>fuelsystem</th>\n",
       "      <th>boreratio</th>\n",
       "      <th>stroke</th>\n",
       "      <th>compressionratio</th>\n",
       "      <th>horsepower</th>\n",
       "      <th>peakrpm</th>\n",
       "      <th>citympg</th>\n",
       "      <th>highwaympg</th>\n",
       "      <th>price</th>\n",
       "    </tr>\n",
       "  </thead>\n",
       "  <tbody>\n",
       "    <tr>\n",
       "      <th>0</th>\n",
       "      <td>1</td>\n",
       "      <td>3</td>\n",
       "      <td>alfa-romero giulia</td>\n",
       "      <td>gas</td>\n",
       "      <td>std</td>\n",
       "      <td>two</td>\n",
       "      <td>convertible</td>\n",
       "      <td>rwd</td>\n",
       "      <td>front</td>\n",
       "      <td>88.6</td>\n",
       "      <td>...</td>\n",
       "      <td>130</td>\n",
       "      <td>mpfi</td>\n",
       "      <td>3.47</td>\n",
       "      <td>2.68</td>\n",
       "      <td>9.0</td>\n",
       "      <td>111</td>\n",
       "      <td>5000</td>\n",
       "      <td>21</td>\n",
       "      <td>27</td>\n",
       "      <td>13495.0</td>\n",
       "    </tr>\n",
       "    <tr>\n",
       "      <th>1</th>\n",
       "      <td>2</td>\n",
       "      <td>3</td>\n",
       "      <td>alfa-romero stelvio</td>\n",
       "      <td>gas</td>\n",
       "      <td>std</td>\n",
       "      <td>two</td>\n",
       "      <td>convertible</td>\n",
       "      <td>rwd</td>\n",
       "      <td>front</td>\n",
       "      <td>88.6</td>\n",
       "      <td>...</td>\n",
       "      <td>130</td>\n",
       "      <td>mpfi</td>\n",
       "      <td>3.47</td>\n",
       "      <td>2.68</td>\n",
       "      <td>9.0</td>\n",
       "      <td>111</td>\n",
       "      <td>5000</td>\n",
       "      <td>21</td>\n",
       "      <td>27</td>\n",
       "      <td>16500.0</td>\n",
       "    </tr>\n",
       "    <tr>\n",
       "      <th>2</th>\n",
       "      <td>3</td>\n",
       "      <td>1</td>\n",
       "      <td>alfa-romero Quadrifoglio</td>\n",
       "      <td>gas</td>\n",
       "      <td>std</td>\n",
       "      <td>two</td>\n",
       "      <td>hatchback</td>\n",
       "      <td>rwd</td>\n",
       "      <td>front</td>\n",
       "      <td>94.5</td>\n",
       "      <td>...</td>\n",
       "      <td>152</td>\n",
       "      <td>mpfi</td>\n",
       "      <td>2.68</td>\n",
       "      <td>3.47</td>\n",
       "      <td>9.0</td>\n",
       "      <td>154</td>\n",
       "      <td>5000</td>\n",
       "      <td>19</td>\n",
       "      <td>26</td>\n",
       "      <td>16500.0</td>\n",
       "    </tr>\n",
       "    <tr>\n",
       "      <th>3</th>\n",
       "      <td>4</td>\n",
       "      <td>2</td>\n",
       "      <td>audi 100 ls</td>\n",
       "      <td>gas</td>\n",
       "      <td>std</td>\n",
       "      <td>four</td>\n",
       "      <td>sedan</td>\n",
       "      <td>fwd</td>\n",
       "      <td>front</td>\n",
       "      <td>99.8</td>\n",
       "      <td>...</td>\n",
       "      <td>109</td>\n",
       "      <td>mpfi</td>\n",
       "      <td>3.19</td>\n",
       "      <td>3.40</td>\n",
       "      <td>10.0</td>\n",
       "      <td>102</td>\n",
       "      <td>5500</td>\n",
       "      <td>24</td>\n",
       "      <td>30</td>\n",
       "      <td>13950.0</td>\n",
       "    </tr>\n",
       "    <tr>\n",
       "      <th>4</th>\n",
       "      <td>5</td>\n",
       "      <td>2</td>\n",
       "      <td>audi 100ls</td>\n",
       "      <td>gas</td>\n",
       "      <td>std</td>\n",
       "      <td>four</td>\n",
       "      <td>sedan</td>\n",
       "      <td>4wd</td>\n",
       "      <td>front</td>\n",
       "      <td>99.4</td>\n",
       "      <td>...</td>\n",
       "      <td>136</td>\n",
       "      <td>mpfi</td>\n",
       "      <td>3.19</td>\n",
       "      <td>3.40</td>\n",
       "      <td>8.0</td>\n",
       "      <td>115</td>\n",
       "      <td>5500</td>\n",
       "      <td>18</td>\n",
       "      <td>22</td>\n",
       "      <td>17450.0</td>\n",
       "    </tr>\n",
       "  </tbody>\n",
       "</table>\n",
       "<p>5 rows × 26 columns</p>\n",
       "</div>"
      ],
      "text/plain": [
       "   car_ID  symboling                   CarName fueltype aspiration doornumber  \\\n",
       "0       1          3        alfa-romero giulia      gas        std        two   \n",
       "1       2          3       alfa-romero stelvio      gas        std        two   \n",
       "2       3          1  alfa-romero Quadrifoglio      gas        std        two   \n",
       "3       4          2               audi 100 ls      gas        std       four   \n",
       "4       5          2                audi 100ls      gas        std       four   \n",
       "\n",
       "       carbody drivewheel enginelocation  wheelbase  ...  enginesize  \\\n",
       "0  convertible        rwd          front       88.6  ...         130   \n",
       "1  convertible        rwd          front       88.6  ...         130   \n",
       "2    hatchback        rwd          front       94.5  ...         152   \n",
       "3        sedan        fwd          front       99.8  ...         109   \n",
       "4        sedan        4wd          front       99.4  ...         136   \n",
       "\n",
       "   fuelsystem  boreratio  stroke compressionratio horsepower  peakrpm citympg  \\\n",
       "0        mpfi       3.47    2.68              9.0        111     5000      21   \n",
       "1        mpfi       3.47    2.68              9.0        111     5000      21   \n",
       "2        mpfi       2.68    3.47              9.0        154     5000      19   \n",
       "3        mpfi       3.19    3.40             10.0        102     5500      24   \n",
       "4        mpfi       3.19    3.40              8.0        115     5500      18   \n",
       "\n",
       "   highwaympg    price  \n",
       "0          27  13495.0  \n",
       "1          27  16500.0  \n",
       "2          26  16500.0  \n",
       "3          30  13950.0  \n",
       "4          22  17450.0  \n",
       "\n",
       "[5 rows x 26 columns]"
      ]
     },
     "execution_count": 9,
     "metadata": {},
     "output_type": "execute_result"
    }
   ],
   "source": [
    "automobiles_data = pd.read_csv('CarPrice_Assignment.csv')\n",
    "automobiles_data.head()"
   ]
  },
  {
   "cell_type": "code",
   "execution_count": 10,
   "id": "ae41a82c",
   "metadata": {},
   "outputs": [
    {
     "data": {
      "text/plain": [
       "Index(['car_ID', 'symboling', 'CarName', 'fueltype', 'aspiration',\n",
       "       'doornumber', 'carbody', 'drivewheel', 'enginelocation', 'wheelbase',\n",
       "       'carlength', 'carwidth', 'carheight', 'curbweight', 'enginetype',\n",
       "       'cylindernumber', 'enginesize', 'fuelsystem', 'boreratio', 'stroke',\n",
       "       'compressionratio', 'horsepower', 'peakrpm', 'citympg', 'highwaympg',\n",
       "       'price'],\n",
       "      dtype='object')"
      ]
     },
     "execution_count": 10,
     "metadata": {},
     "output_type": "execute_result"
    }
   ],
   "source": [
    "automobiles_data.columns"
   ]
  },
  {
   "cell_type": "code",
   "execution_count": 11,
   "id": "96dd5d63",
   "metadata": {},
   "outputs": [
    {
     "data": {
      "text/plain": [
       "0.9524726308208324"
      ]
     },
     "execution_count": 11,
     "metadata": {},
     "output_type": "execute_result"
    }
   ],
   "source": [
    "automobiles_data.drop(['car_ID', 'symboling', 'CarName'], axis=1, inplace=True)\n",
    "automobiles_data = pd.get_dummies(automobiles_data)\n",
    "X = automobiles_data.drop('price', axis=1)\n",
    "Y = automobiles_data['price']\n",
    "x_train, x_test, y_train, y_test = train_test_split(X, Y, test_size=0.2)\n",
    "model = LinearRegression().fit(x_train, y_train)\n",
    "Training_score = model.score(x_train, y_train)\n",
    "Training_score"
   ]
  },
  {
   "cell_type": "code",
   "execution_count": 12,
   "id": "952c4b2d",
   "metadata": {},
   "outputs": [
    {
     "data": {
      "text/plain": [
       "array([ 6968.65433598, 11415.43217009,  9827.77321467,  5623.5126642 ,\n",
       "       10068.41164879, 12746.52210289,  9625.4516695 , 22695.09698012,\n",
       "       22148.62446333, 23038.65134346,  8086.65706804, 20852.81494455,\n",
       "       16700.49482128,  6651.94122743,  9654.6061529 , 17310.77961364,\n",
       "        5816.65667342, 10192.86044991,  5843.70942777,  7235.80030504,\n",
       "        6246.36046902,  6353.34669817,  9824.31463402,  8127.71966258,\n",
       "       21395.20937332, 12742.21572763,  4650.8136346 ,  9902.50924999,\n",
       "        6344.44025224, 10192.86044991, 10707.00408064,  6703.20923635,\n",
       "        8918.46992923,  6609.35700828, 11415.43217009, 15726.775899  ,\n",
       "       21056.96527575, 12262.79248057,  5261.96049257,  7571.5215979 ,\n",
       "        8202.30401691])"
      ]
     },
     "execution_count": 12,
     "metadata": {},
     "output_type": "execute_result"
    }
   ],
   "source": [
    "y_pred = model.predict(x_test)\n",
    "y_pred"
   ]
  },
  {
   "cell_type": "code",
   "execution_count": 13,
   "id": "db84bcf6",
   "metadata": {},
   "outputs": [
    {
     "data": {
      "text/plain": [
       "0.6819329853598544"
      ]
     },
     "execution_count": 13,
     "metadata": {},
     "output_type": "execute_result"
    }
   ],
   "source": [
    "Testing_score = r2_score(y_test, y_pred)\n",
    "Testing_score"
   ]
  },
  {
   "cell_type": "code",
   "execution_count": 14,
   "id": "2afa8af6",
   "metadata": {},
   "outputs": [
    {
     "data": {
      "text/plain": [
       "array([ 5.71853161e+01, -6.98221693e+01,  8.14642527e+02, -9.55971959e+00,\n",
       "        3.33780718e+00,  1.09515717e+02, -1.63330934e+02, -4.69404034e+03,\n",
       "       -1.12569224e+03,  6.68111814e+00,  2.22577889e+00, -1.21840071e+02,\n",
       "        1.83051113e+02,  5.42362043e+03, -5.42362043e+03, -7.22511537e+02,\n",
       "        7.22511537e+02, -2.89248488e+01,  2.89248488e+01,  2.11728885e+03,\n",
       "       -3.94297463e+02, -1.07187926e+03,  1.42304474e+02, -7.93416602e+02,\n",
       "        2.57298211e+02, -4.50947581e+02,  1.93649370e+02, -3.87786090e+03,\n",
       "        3.87786090e+03,  2.93995909e+03, -7.71821792e+03,  1.42025851e+03,\n",
       "        5.32983358e+03,  1.93356551e+03, -5.44095593e+03,  1.53555717e+03,\n",
       "        7.32379216e+03, -4.69619104e+03, -5.80819302e+03, -3.31479983e+02,\n",
       "        3.34447523e+03, -1.36796051e+03,  1.53555717e+03,  2.34952770e+02,\n",
       "       -1.50131870e+02,  1.53555717e+03,  5.42362043e+03, -3.60935381e+03,\n",
       "       -1.85779465e+02, -3.05815276e+03, -1.90712453e+02])"
      ]
     },
     "execution_count": 14,
     "metadata": {},
     "output_type": "execute_result"
    }
   ],
   "source": [
    "model.coef_"
   ]
  },
  {
   "cell_type": "code",
   "execution_count": 15,
   "id": "8098b79b",
   "metadata": {},
   "outputs": [
    {
     "data": {
      "text/plain": [
       "-33665.54408718407"
      ]
     },
     "execution_count": 15,
     "metadata": {},
     "output_type": "execute_result"
    }
   ],
   "source": [
    "model.intercept_"
   ]
  },
  {
   "cell_type": "markdown",
   "id": "4d8e79a7",
   "metadata": {},
   "source": [
    "## Json"
   ]
  },
  {
   "cell_type": "code",
   "execution_count": 16,
   "id": "d2433c2c",
   "metadata": {},
   "outputs": [],
   "source": [
    "model_param = {}\n",
    "model_param['coef'] = list(model.coef_)\n",
    "model_param['intercept'] = model.intercept_.tolist()"
   ]
  },
  {
   "cell_type": "code",
   "execution_count": 22,
   "id": "512c3a78",
   "metadata": {},
   "outputs": [
    {
     "data": {
      "text/plain": [
       "'{\\n    \"coef\": [\\n        57.185316057711525,\\n        -69.8221693160876,\\n        814.6425265794649,\\n        -9.559719588249173,\\n        3.33780717876364,\\n        109.51571742114119,\\n        -163.33093358662487,\\n        -4694.040344857842,\\n        -1125.69224196711,\\n        6.681118136968735,\\n        2.225778890618585,\\n        -121.84007106962554,\\n        183.05111320754668,\\n        5423.620427079603,\\n        -5423.620427079561,\\n        -722.5115368880727,\\n        722.5115368881063,\\n        -28.924848824721437,\\n        28.924848824700746,\\n        2117.2888521579707,\\n        -394.29746305501385,\\n        -1071.8792601118225,\\n        142.30447350715013,\\n        -793.4166024981992,\\n        257.2982106548832,\\n        -450.94758112914303,\\n        193.64937047441754,\\n        -3877.860899152042,\\n        3877.860899152018,\\n        2939.9590872674885,\\n        -7718.2179189412755,\\n        1420.258510592952,\\n        5329.833579535889,\\n        1933.5655084580228,\\n        -5440.955933030538,\\n        1535.5571661173362,\\n        7323.792155230633,\\n        -4696.191037951096,\\n        -5808.193019534897,\\n        -331.4799832409633,\\n        3344.4752259865336,\\n        -1367.9605066075396,\\n        1535.5571661173208,\\n        234.95276998488583,\\n        -150.13187031045047,\\n        1535.5571661173208,\\n        5423.620427079572,\\n        -3609.3538115202973,\\n        -185.77946473509576,\\n        -3058.1527635694,\\n        -190.7124530464514\\n    ],\\n    \"intercept\": -33665.54408718407\\n}'"
      ]
     },
     "execution_count": 22,
     "metadata": {},
     "output_type": "execute_result"
    }
   ],
   "source": [
    "json_txt = json.dumps(model_param, indent=4)\n",
    "json_txt"
   ]
  },
  {
   "cell_type": "code",
   "execution_count": 23,
   "id": "a4339a63",
   "metadata": {},
   "outputs": [],
   "source": [
    "with open('models/regressor_param.txt', 'w') as file:\n",
    "    \n",
    "    file.write(json_txt)"
   ]
  },
  {
   "cell_type": "code",
   "execution_count": 24,
   "id": "9fc57bd8",
   "metadata": {},
   "outputs": [],
   "source": [
    "with open('models/regressor_param.txt', 'r') as file:\n",
    "    \n",
    "    json_text=json.load(file)"
   ]
  },
  {
   "cell_type": "code",
   "execution_count": 25,
   "id": "9cf5cc46",
   "metadata": {},
   "outputs": [],
   "source": [
    "json_model = LinearRegression()"
   ]
  },
  {
   "cell_type": "code",
   "execution_count": 26,
   "id": "eae3f42b",
   "metadata": {},
   "outputs": [],
   "source": [
    "json_model.coef_ = np.array(json_text['coef'])\n",
    "json_model.intercept_ = np.array(json_text['intercept'])"
   ]
  },
  {
   "cell_type": "code",
   "execution_count": 27,
   "id": "9e062911",
   "metadata": {},
   "outputs": [
    {
     "data": {
      "text/plain": [
       "0.6819329853598544"
      ]
     },
     "execution_count": 27,
     "metadata": {},
     "output_type": "execute_result"
    }
   ],
   "source": [
    "y_pred = json_model.predict(x_test)\n",
    "r2_score(y_test, y_pred)"
   ]
  },
  {
   "cell_type": "code",
   "execution_count": 28,
   "id": "c6f930ea",
   "metadata": {},
   "outputs": [
    {
     "data": {
      "text/plain": [
       "0.6819329853598544"
      ]
     },
     "execution_count": 28,
     "metadata": {},
     "output_type": "execute_result"
    }
   ],
   "source": [
    "Testing_score"
   ]
  },
  {
   "cell_type": "markdown",
   "id": "35d59d98",
   "metadata": {},
   "source": [
    "## Pickle"
   ]
  },
  {
   "cell_type": "code",
   "execution_count": 34,
   "id": "c388d655",
   "metadata": {},
   "outputs": [],
   "source": [
    "pickle.dump(model, open('models/model.pkl', 'wb'))"
   ]
  },
  {
   "cell_type": "code",
   "execution_count": 36,
   "id": "dbe74605",
   "metadata": {},
   "outputs": [
    {
     "data": {
      "text/plain": [
       "0.6819329853598544"
      ]
     },
     "execution_count": 36,
     "metadata": {},
     "output_type": "execute_result"
    }
   ],
   "source": [
    "pickle_model = pickle.load(open('models/model.pkl', 'rb'))\n",
    "y_pred = pickle_model.predict(x_test)\n",
    "r2_score(y_test, y_pred)"
   ]
  },
  {
   "cell_type": "code",
   "execution_count": 37,
   "id": "172ae154",
   "metadata": {},
   "outputs": [
    {
     "data": {
      "text/plain": [
       "0.6819329853598544"
      ]
     },
     "execution_count": 37,
     "metadata": {},
     "output_type": "execute_result"
    }
   ],
   "source": [
    "Testing_score"
   ]
  },
  {
   "cell_type": "markdown",
   "id": "e3457ce1",
   "metadata": {},
   "source": [
    "## Joblib"
   ]
  },
  {
   "cell_type": "markdown",
   "id": "f510f6c6",
   "metadata": {},
   "source": [
    "Better for more complex models"
   ]
  },
  {
   "cell_type": "code",
   "execution_count": 38,
   "id": "eff55d0a",
   "metadata": {},
   "outputs": [
    {
     "data": {
      "text/plain": [
       "['models/model.joblib']"
      ]
     },
     "execution_count": 38,
     "metadata": {},
     "output_type": "execute_result"
    }
   ],
   "source": [
    "filename = 'models/model.joblib'\n",
    "joblib.dump(model, filename)"
   ]
  },
  {
   "cell_type": "code",
   "execution_count": 39,
   "id": "e9db93c5",
   "metadata": {},
   "outputs": [
    {
     "data": {
      "text/plain": [
       "0.6819329853598544"
      ]
     },
     "execution_count": 39,
     "metadata": {},
     "output_type": "execute_result"
    }
   ],
   "source": [
    "joblib_model = joblib.load(filename)\n",
    "y_pred = joblib_model.predict(x_test)\n",
    "r2_score(y_test, y_pred)"
   ]
  },
  {
   "cell_type": "code",
   "execution_count": 40,
   "id": "1e6a873c",
   "metadata": {},
   "outputs": [
    {
     "data": {
      "text/plain": [
       "0.6819329853598544"
      ]
     },
     "execution_count": 40,
     "metadata": {},
     "output_type": "execute_result"
    }
   ],
   "source": [
    "Testing_score"
   ]
  },
  {
   "cell_type": "markdown",
   "id": "311aaa9d",
   "metadata": {},
   "source": [
    "## Checkpointing"
   ]
  },
  {
   "cell_type": "code",
   "execution_count": 50,
   "id": "6e1de4a1",
   "metadata": {},
   "outputs": [],
   "source": [
    "automobile_train = pd.read_csv('automobiles_file1.csv')\n",
    "automobile_test = pd.read_csv('automobiles_test.csv')"
   ]
  },
  {
   "cell_type": "code",
   "execution_count": 51,
   "id": "2cb3240c",
   "metadata": {},
   "outputs": [],
   "source": [
    "x_train = automobile_train.drop('price', axis=1)\n",
    "y_train = automobile_train['price']\n",
    "x_test = automobile_test.drop('price', axis=1)\n",
    "y_test = automobile_test['price']"
   ]
  },
  {
   "cell_type": "code",
   "execution_count": 52,
   "id": "0aa1d77c",
   "metadata": {},
   "outputs": [
    {
     "data": {
      "text/plain": [
       "RandomForestRegressor(n_estimators=5, warm_start=True)"
      ]
     },
     "execution_count": 52,
     "metadata": {},
     "output_type": "execute_result"
    }
   ],
   "source": [
    "# Note warm_start = True (important to specify)\n",
    "regressor_model = RandomForestRegressor(n_estimators=5, warm_start=True)\n",
    "rfr_model = regressor_model.fit(x_train, y_train)\n",
    "rfr_model"
   ]
  },
  {
   "cell_type": "code",
   "execution_count": 53,
   "id": "f87019e4",
   "metadata": {},
   "outputs": [
    {
     "data": {
      "text/plain": [
       "0.968980495127033"
      ]
     },
     "execution_count": 53,
     "metadata": {},
     "output_type": "execute_result"
    }
   ],
   "source": [
    "training_score = rfr_model.score(x_train, y_train)\n",
    "training_score"
   ]
  },
  {
   "cell_type": "code",
   "execution_count": 54,
   "id": "2a8a90b0",
   "metadata": {},
   "outputs": [],
   "source": [
    "y_pred = rfr_model.predict(x_test)"
   ]
  },
  {
   "cell_type": "code",
   "execution_count": 55,
   "id": "9b3bab5e",
   "metadata": {},
   "outputs": [
    {
     "data": {
      "text/plain": [
       "0.7901445851130071"
      ]
     },
     "execution_count": 55,
     "metadata": {},
     "output_type": "execute_result"
    }
   ],
   "source": [
    "testing_score = r2_score(y_test, y_pred)\n",
    "testing_score"
   ]
  },
  {
   "cell_type": "code",
   "execution_count": 61,
   "id": "f4882508",
   "metadata": {},
   "outputs": [],
   "source": [
    "rfr_model_param = {}\n",
    "\n",
    "rfr_model_param['model'] = rfr_model\n",
    "#rfr_model_param['sklearn_version'] = scikit_learn_version\n",
    "rfr_model_param['r2_score'] = testing_score"
   ]
  },
  {
   "cell_type": "code",
   "execution_count": 62,
   "id": "affc088c",
   "metadata": {},
   "outputs": [
    {
     "data": {
      "text/plain": [
       "{'model': RandomForestRegressor(n_estimators=5, warm_start=True),\n",
       " 'r2_score': 0.7901445851130071}"
      ]
     },
     "execution_count": 62,
     "metadata": {},
     "output_type": "execute_result"
    }
   ],
   "source": [
    "rfr_model_param"
   ]
  },
  {
   "cell_type": "code",
   "execution_count": 63,
   "id": "f681ce01",
   "metadata": {},
   "outputs": [],
   "source": [
    "filename = 'models/rfr_model_checkpoint.joblib'"
   ]
  },
  {
   "cell_type": "code",
   "execution_count": 64,
   "id": "278ccac4",
   "metadata": {},
   "outputs": [
    {
     "data": {
      "text/plain": [
       "['models/rfr_model_checkpoint.joblib']"
      ]
     },
     "execution_count": 64,
     "metadata": {},
     "output_type": "execute_result"
    }
   ],
   "source": [
    "# Dump parameters from the model\n",
    "joblib.dump(rfr_model_param, filename)"
   ]
  },
  {
   "cell_type": "code",
   "execution_count": 66,
   "id": "6d38d467",
   "metadata": {},
   "outputs": [
    {
     "data": {
      "text/plain": [
       "RandomForestRegressor(n_estimators=5, warm_start=True)"
      ]
     },
     "execution_count": 66,
     "metadata": {},
     "output_type": "execute_result"
    }
   ],
   "source": [
    "# Reload the parameters\n",
    "joblib_model = joblib.load(filename)\n",
    "joblib_model['model']"
   ]
  },
  {
   "cell_type": "code",
   "execution_count": 68,
   "id": "4f9d33ea",
   "metadata": {},
   "outputs": [],
   "source": [
    "#joblib_model['sklearn_version']"
   ]
  },
  {
   "cell_type": "code",
   "execution_count": 67,
   "id": "677b54df",
   "metadata": {},
   "outputs": [
    {
     "data": {
      "text/plain": [
       "RandomForestRegressor(n_estimators=15, warm_start=True)"
      ]
     },
     "execution_count": 67,
     "metadata": {},
     "output_type": "execute_result"
    }
   ],
   "source": [
    "# Specify the model - NEED TO CHANGE THE NUMBER OF ESTIMATORS OR IT WILL NOT WORK!!\n",
    "joblib_model['model'].n_estimators = 15\n",
    "joblib_model['model']"
   ]
  },
  {
   "cell_type": "code",
   "execution_count": 71,
   "id": "f6198a9a",
   "metadata": {},
   "outputs": [
    {
     "data": {
      "text/plain": [
       "0.9594087841805642"
      ]
     },
     "execution_count": 71,
     "metadata": {},
     "output_type": "execute_result"
    }
   ],
   "source": [
    "# Read in the new data, process and then fit the trained model on this new data\n",
    "automobile_retrain = pd.read_csv('automobiles_file2.csv')\n",
    "x_train = automobile_retrain.drop('price', axis=1)\n",
    "y_train = automobile_retrain['price']\n",
    "rfr_retrained_model = joblib_model['model'].fit(x_train, y_train)\n",
    "retrained_training_score = rfr_retrained_model.score(x_train, y_train)\n",
    "retrained_training_score"
   ]
  },
  {
   "cell_type": "code",
   "execution_count": 72,
   "id": "3814bf41",
   "metadata": {},
   "outputs": [],
   "source": [
    "# predicted values\n",
    "y_pred = rfr_retrained_model.predict(x_test)"
   ]
  },
  {
   "cell_type": "code",
   "execution_count": 73,
   "id": "84b1ea8d",
   "metadata": {},
   "outputs": [
    {
     "data": {
      "text/plain": [
       "0.9014806315817481"
      ]
     },
     "execution_count": 73,
     "metadata": {},
     "output_type": "execute_result"
    }
   ],
   "source": [
    "retrained_testing_score = r2_score(y_test, y_pred)\n",
    "retrained_testing_score"
   ]
  },
  {
   "cell_type": "code",
   "execution_count": 74,
   "id": "2b823905",
   "metadata": {},
   "outputs": [
    {
     "data": {
      "text/plain": [
       "0.7901445851130071"
      ]
     },
     "execution_count": 74,
     "metadata": {},
     "output_type": "execute_result"
    }
   ],
   "source": [
    "rfr_model_param['r2_score']"
   ]
  },
  {
   "cell_type": "code",
   "execution_count": 76,
   "id": "9f0bc5ad",
   "metadata": {},
   "outputs": [],
   "source": [
    "# Get the parameters of the new model\n",
    "retrained_rfr_model_param = {}\n",
    "\n",
    "retrained_rfr_model_param['model'] = rfr_retrained_model\n",
    "#retrained_rfr_model_param['sklearn_version'] = scikit_learn_version\n",
    "retrained_rfr_model_param['r2_score'] = retrained_testing_score"
   ]
  },
  {
   "cell_type": "code",
   "execution_count": 77,
   "id": "a7257ac2",
   "metadata": {},
   "outputs": [],
   "source": [
    "filename = 'models/retrained_rfr_model_checkpoint.joblib'"
   ]
  },
  {
   "cell_type": "code",
   "execution_count": 78,
   "id": "7302ff65",
   "metadata": {},
   "outputs": [
    {
     "data": {
      "text/plain": [
       "['models/retrained_rfr_model_checkpoint.joblib']"
      ]
     },
     "execution_count": 78,
     "metadata": {},
     "output_type": "execute_result"
    }
   ],
   "source": [
    "# Save the latest model by joblib dump\n",
    "joblib.dump(retrained_rfr_model_param, filename)"
   ]
  },
  {
   "cell_type": "markdown",
   "id": "112d6451",
   "metadata": {},
   "source": [
    "## Serializing Pre-processors"
   ]
  },
  {
   "cell_type": "code",
   "execution_count": 81,
   "id": "9568c6cc",
   "metadata": {},
   "outputs": [
    {
     "data": {
      "text/html": [
       "<div>\n",
       "<style scoped>\n",
       "    .dataframe tbody tr th:only-of-type {\n",
       "        vertical-align: middle;\n",
       "    }\n",
       "\n",
       "    .dataframe tbody tr th {\n",
       "        vertical-align: top;\n",
       "    }\n",
       "\n",
       "    .dataframe thead th {\n",
       "        text-align: right;\n",
       "    }\n",
       "</style>\n",
       "<table border=\"1\" class=\"dataframe\">\n",
       "  <thead>\n",
       "    <tr style=\"text-align: right;\">\n",
       "      <th></th>\n",
       "      <th>Label</th>\n",
       "      <th>Text</th>\n",
       "    </tr>\n",
       "  </thead>\n",
       "  <tbody>\n",
       "    <tr>\n",
       "      <th>1145</th>\n",
       "      <td>1</td>\n",
       "      <td>and I liked Mission Impossible which I saw for...</td>\n",
       "    </tr>\n",
       "    <tr>\n",
       "      <th>1382</th>\n",
       "      <td>1</td>\n",
       "      <td>Mission Impossible 3 was excellent.</td>\n",
       "    </tr>\n",
       "    <tr>\n",
       "      <th>2027</th>\n",
       "      <td>1</td>\n",
       "      <td>I love Harry Potter.</td>\n",
       "    </tr>\n",
       "    <tr>\n",
       "      <th>2403</th>\n",
       "      <td>1</td>\n",
       "      <td>I love the Harry Potter series if you can coun...</td>\n",
       "    </tr>\n",
       "    <tr>\n",
       "      <th>5945</th>\n",
       "      <td>0</td>\n",
       "      <td>These Harry Potter movies really suck.</td>\n",
       "    </tr>\n",
       "    <tr>\n",
       "      <th>1259</th>\n",
       "      <td>1</td>\n",
       "      <td>Which is why i said silent hill turned into re...</td>\n",
       "    </tr>\n",
       "    <tr>\n",
       "      <th>1149</th>\n",
       "      <td>1</td>\n",
       "      <td>I hate it though, because I really like his Mi...</td>\n",
       "    </tr>\n",
       "    <tr>\n",
       "      <th>1346</th>\n",
       "      <td>1</td>\n",
       "      <td>i love kirsten / leah / kate escapades and mis...</td>\n",
       "    </tr>\n",
       "    <tr>\n",
       "      <th>76</th>\n",
       "      <td>1</td>\n",
       "      <td>The Da Vinci Code  is awesome though.</td>\n",
       "    </tr>\n",
       "    <tr>\n",
       "      <th>5086</th>\n",
       "      <td>0</td>\n",
       "      <td>As much as I hate Harry Potter, You gotta love...</td>\n",
       "    </tr>\n",
       "  </tbody>\n",
       "</table>\n",
       "</div>"
      ],
      "text/plain": [
       "      Label                                               Text\n",
       "1145      1  and I liked Mission Impossible which I saw for...\n",
       "1382      1                Mission Impossible 3 was excellent.\n",
       "2027      1                               I love Harry Potter.\n",
       "2403      1  I love the Harry Potter series if you can coun...\n",
       "5945      0             These Harry Potter movies really suck.\n",
       "1259      1  Which is why i said silent hill turned into re...\n",
       "1149      1  I hate it though, because I really like his Mi...\n",
       "1346      1  i love kirsten / leah / kate escapades and mis...\n",
       "76        1              The Da Vinci Code  is awesome though.\n",
       "5086      0  As much as I hate Harry Potter, You gotta love..."
      ]
     },
     "execution_count": 81,
     "metadata": {},
     "output_type": "execute_result"
    }
   ],
   "source": [
    "sentimental_data = pd.read_csv('sentimental_analysis_data.csv', \n",
    "                               header=None, \n",
    "                               names=['Label', 'Text'], \n",
    "                               sep='\\t')\n",
    "\n",
    "sentimental_data.sample(10)"
   ]
  },
  {
   "cell_type": "code",
   "execution_count": 82,
   "id": "7753c73b",
   "metadata": {},
   "outputs": [
    {
     "data": {
      "text/plain": [
       "LinearSVC(tol=0.001)"
      ]
     },
     "execution_count": 82,
     "metadata": {},
     "output_type": "execute_result"
    }
   ],
   "source": [
    "X = sentimental_data['Text']\n",
    "Y = sentimental_data['Label']\n",
    "x_train, x_test, y_train, y_test = train_test_split(X, Y, test_size=0.2)\n",
    "tfidf_vect = TfidfVectorizer(max_features=15)\n",
    "x_trans = tfidf_vect.fit_transform(x_train)\n",
    "classifier = LinearSVC(C=1.0, max_iter=1000, tol=1e-3)\n",
    "linear_svc_model = classifier.fit(x_trans, y_train)\n",
    "linear_svc_model"
   ]
  },
  {
   "cell_type": "code",
   "execution_count": 83,
   "id": "565dafd6",
   "metadata": {},
   "outputs": [
    {
     "data": {
      "text/html": [
       "<div>\n",
       "<style scoped>\n",
       "    .dataframe tbody tr th:only-of-type {\n",
       "        vertical-align: middle;\n",
       "    }\n",
       "\n",
       "    .dataframe tbody tr th {\n",
       "        vertical-align: top;\n",
       "    }\n",
       "\n",
       "    .dataframe thead th {\n",
       "        text-align: right;\n",
       "    }\n",
       "</style>\n",
       "<table border=\"1\" class=\"dataframe\">\n",
       "  <thead>\n",
       "    <tr style=\"text-align: right;\">\n",
       "      <th></th>\n",
       "      <th>y_test</th>\n",
       "      <th>y_pred</th>\n",
       "    </tr>\n",
       "  </thead>\n",
       "  <tbody>\n",
       "    <tr>\n",
       "      <th>2959</th>\n",
       "      <td>1</td>\n",
       "      <td>1</td>\n",
       "    </tr>\n",
       "    <tr>\n",
       "      <th>1732</th>\n",
       "      <td>1</td>\n",
       "      <td>0</td>\n",
       "    </tr>\n",
       "    <tr>\n",
       "      <th>6135</th>\n",
       "      <td>0</td>\n",
       "      <td>1</td>\n",
       "    </tr>\n",
       "    <tr>\n",
       "      <th>262</th>\n",
       "      <td>1</td>\n",
       "      <td>0</td>\n",
       "    </tr>\n",
       "    <tr>\n",
       "      <th>1076</th>\n",
       "      <td>1</td>\n",
       "      <td>1</td>\n",
       "    </tr>\n",
       "  </tbody>\n",
       "</table>\n",
       "</div>"
      ],
      "text/plain": [
       "      y_test  y_pred\n",
       "2959       1       1\n",
       "1732       1       0\n",
       "6135       0       1\n",
       "262        1       0\n",
       "1076       1       1"
      ]
     },
     "execution_count": 83,
     "metadata": {},
     "output_type": "execute_result"
    }
   ],
   "source": [
    "x_test_trans = tfidf_vect.fit_transform(x_test)\n",
    "y_pred = linear_svc_model.predict(x_test_trans)\n",
    "pred_results = pd.DataFrame({'y_test': y_test,\n",
    "                             'y_pred': y_pred})\n",
    "\n",
    "pred_results.sample(5)"
   ]
  },
  {
   "cell_type": "code",
   "execution_count": 86,
   "id": "b3d159e3",
   "metadata": {},
   "outputs": [
    {
     "data": {
      "text/plain": [
       "0.6697976878612717"
      ]
     },
     "execution_count": 86,
     "metadata": {},
     "output_type": "execute_result"
    }
   ],
   "source": [
    "accuracy = accuracy_score(y_test, y_pred)\n",
    "accuracy"
   ]
  },
  {
   "cell_type": "code",
   "execution_count": 88,
   "id": "8a6af537",
   "metadata": {},
   "outputs": [],
   "source": [
    "text_clf_param = {}\n",
    "\n",
    "text_clf_param['preprocessing'] = tfidf_vect\n",
    "text_clf_param['model'] = linear_svc_model\n",
    "#text_clf_param['sklearn_version'] = scikit_version\n",
    "text_clf_param['accuracy'] = accuracy"
   ]
  },
  {
   "cell_type": "code",
   "execution_count": 89,
   "id": "2ac31aec",
   "metadata": {},
   "outputs": [
    {
     "data": {
      "text/plain": [
       "TfidfVectorizer(max_features=15)"
      ]
     },
     "execution_count": 89,
     "metadata": {},
     "output_type": "execute_result"
    }
   ],
   "source": [
    "filename = 'models/text_clf_checkpoint.joblib'\n",
    "joblib.dump(text_clf_param, filename)\n",
    "clf_checkpoint = joblib.load(filename)\n",
    "reloaded_vect = clf_checkpoint['preprocessing']\n",
    "reloaded_vect"
   ]
  },
  {
   "cell_type": "code",
   "execution_count": 90,
   "id": "98fc05cb",
   "metadata": {},
   "outputs": [
    {
     "data": {
      "text/plain": [
       "LinearSVC(tol=0.001)"
      ]
     },
     "execution_count": 90,
     "metadata": {},
     "output_type": "execute_result"
    }
   ],
   "source": [
    "clf_model = clf_checkpoint['model']\n",
    "clf_model"
   ]
  },
  {
   "cell_type": "code",
   "execution_count": 93,
   "id": "050b0771",
   "metadata": {},
   "outputs": [
    {
     "data": {
      "text/plain": [
       "0.6697976878612717"
      ]
     },
     "execution_count": 93,
     "metadata": {},
     "output_type": "execute_result"
    }
   ],
   "source": [
    "x_test_trans_new = reloaded_vect.fit_transform(x_test)\n",
    "y_pred = clf_model.predict(x_test_trans_new)\n",
    "accuracy_score(y_test, y_pred)\n",
    "clf_checkpoint['accuracy']"
   ]
  },
  {
   "cell_type": "markdown",
   "id": "5d4112d0",
   "metadata": {},
   "source": [
    "## Pipelines"
   ]
  },
  {
   "cell_type": "code",
   "execution_count": 95,
   "id": "6bb5bb4b",
   "metadata": {},
   "outputs": [],
   "source": [
    "clf_pipeline = Pipeline(steps=[('tfidf_vect', tfidf_vect), ('classifier', classifier)])\n",
    "pipeline_model = clf_pipeline.fit(x_train, y_train)"
   ]
  },
  {
   "cell_type": "code",
   "execution_count": 96,
   "id": "d55e3dd9",
   "metadata": {},
   "outputs": [
    {
     "data": {
      "text/plain": [
       "Pipeline(steps=[('tfidf_vect', TfidfVectorizer(max_features=15)),\n",
       "                ('classifier', LinearSVC(tol=0.001))])"
      ]
     },
     "execution_count": 96,
     "metadata": {},
     "output_type": "execute_result"
    }
   ],
   "source": [
    "pipeline_model"
   ]
  },
  {
   "cell_type": "code",
   "execution_count": 97,
   "id": "4ac56e53",
   "metadata": {},
   "outputs": [
    {
     "data": {
      "text/plain": [
       "0.8966763005780347"
      ]
     },
     "execution_count": 97,
     "metadata": {},
     "output_type": "execute_result"
    }
   ],
   "source": [
    "y_pred = pipeline_model.predict(x_test)\n",
    "accuracy = accuracy_score(y_test, y_pred)\n",
    "accuracy"
   ]
  },
  {
   "cell_type": "code",
   "execution_count": 98,
   "id": "d81aec42",
   "metadata": {},
   "outputs": [],
   "source": [
    "pipe_clf_param = {}\n",
    "\n",
    "pipe_clf_param['pipeline_clf'] = pipeline_model\n",
    "#pipe_clf_param['sklearn_version'] = scikit_version\n",
    "pipe_clf_param['accuracy'] = accuracy"
   ]
  },
  {
   "cell_type": "code",
   "execution_count": 99,
   "id": "d6cb0f13",
   "metadata": {},
   "outputs": [
    {
     "data": {
      "text/plain": [
       "{'pipeline_clf': Pipeline(steps=[('tfidf_vect', TfidfVectorizer(max_features=15)),\n",
       "                 ('classifier', LinearSVC(tol=0.001))]),\n",
       " 'accuracy': 0.8966763005780347}"
      ]
     },
     "execution_count": 99,
     "metadata": {},
     "output_type": "execute_result"
    }
   ],
   "source": [
    "pipe_clf_param"
   ]
  },
  {
   "cell_type": "code",
   "execution_count": 100,
   "id": "c661abc4",
   "metadata": {},
   "outputs": [],
   "source": [
    "filename = 'models/pipe_clf_checkpoint.joblib'\n",
    "joblib.dump(pipe_clf_param, filename)\n",
    "pipe_clf_checkpoint = joblib.load(filename)"
   ]
  },
  {
   "cell_type": "code",
   "execution_count": 101,
   "id": "e8c4e6b7",
   "metadata": {},
   "outputs": [
    {
     "data": {
      "text/plain": [
       "Pipeline(steps=[('tfidf_vect', TfidfVectorizer(max_features=15)),\n",
       "                ('classifier', LinearSVC(tol=0.001))])"
      ]
     },
     "execution_count": 101,
     "metadata": {},
     "output_type": "execute_result"
    }
   ],
   "source": [
    "reloaded_pipeline = pipe_clf_checkpoint['pipeline_clf']\n",
    "reloaded_pipeline"
   ]
  },
  {
   "cell_type": "code",
   "execution_count": 102,
   "id": "70e7e9d1",
   "metadata": {},
   "outputs": [
    {
     "data": {
      "text/plain": [
       "0.8966763005780347"
      ]
     },
     "execution_count": 102,
     "metadata": {},
     "output_type": "execute_result"
    }
   ],
   "source": [
    "y_pred = reloaded_pipeline.predict(x_test)\n",
    "accuracy_score(y_test, y_pred)\n",
    "pipe_clf_checkpoint['accuracy']"
   ]
  },
  {
   "cell_type": "markdown",
   "id": "26d195ff",
   "metadata": {},
   "source": [
    "## Models for Serverless Deployment"
   ]
  },
  {
   "cell_type": "code",
   "execution_count": 110,
   "id": "8a2f1c5f",
   "metadata": {},
   "outputs": [
    {
     "data": {
      "text/plain": [
       "0.8973988439306358"
      ]
     },
     "execution_count": 110,
     "metadata": {},
     "output_type": "execute_result"
    }
   ],
   "source": [
    "logistic_clf = LogisticRegression(solver='liblinear')\n",
    "clf_pipeline = Pipeline(steps=[('tfidf_vect', tfidf_vect), ('classifier', logistic_clf)])\n",
    "pipeline_model = clf_pipeline.fit(x_train, y_train)\n",
    "y_pred = pipeline_model.predict(x_test)\n",
    "Accuracy_score = accuracy_score(y_test, y_pred)\n",
    "Accuracy_score"
   ]
  },
  {
   "cell_type": "code",
   "execution_count": 118,
   "id": "77ac982f",
   "metadata": {},
   "outputs": [],
   "source": [
    "pickle.dump(pipeline_model, open('Models/logistic_clf.pkl', 'wb'))"
   ]
  },
  {
   "cell_type": "code",
   "execution_count": 119,
   "id": "ebf7f072",
   "metadata": {},
   "outputs": [
    {
     "data": {
      "text/plain": [
       "0.8952312138728323"
      ]
     },
     "execution_count": 119,
     "metadata": {},
     "output_type": "execute_result"
    }
   ],
   "source": [
    "decision_tree_clf = DecisionTreeClassifier(max_depth=10)\n",
    "clf_pipeline = Pipeline(steps=[('tfidf_vect', tfidf_vect), ('classifier', decision_tree_clf)])\n",
    "pipeline_model = clf_pipeline.fit(x_train, y_train)\n",
    "y_pred = pipeline_model.predict(x_test)\n",
    "Accuracy_score = accuracy_score(y_test, y_pred)\n",
    "Accuracy_score"
   ]
  },
  {
   "cell_type": "code",
   "execution_count": 122,
   "id": "eb541f71",
   "metadata": {},
   "outputs": [],
   "source": [
    "pickle.dump(pipeline_model, open('Models/decision_tree_clf.pkl', 'wb'))"
   ]
  },
  {
   "cell_type": "code",
   "execution_count": 121,
   "id": "4a75b174",
   "metadata": {},
   "outputs": [
    {
     "data": {
      "text/plain": [
       "0.8966763005780347"
      ]
     },
     "execution_count": 121,
     "metadata": {},
     "output_type": "execute_result"
    }
   ],
   "source": [
    "linear_svc_clf = LinearSVC(C=1.0, max_iter=100)\n",
    "clf_pipeline = Pipeline(steps=[('tfidf_vect', tfidf_vect), ('classifier', linear_svc_clf)])\n",
    "pipeline_model = clf_pipeline.fit(x_train, y_train)\n",
    "y_pred = pipeline_model.predict(x_test)\n",
    "Accuracy_score = accuracy_score(y_test, y_pred)\n",
    "Accuracy_score"
   ]
  },
  {
   "cell_type": "code",
   "execution_count": 123,
   "id": "7d5f00dd",
   "metadata": {},
   "outputs": [],
   "source": [
    "pickle.dump(pipeline_model, open('Models/linear_svc_clf.pkl', 'wb'))"
   ]
  },
  {
   "cell_type": "markdown",
   "id": "cc876116",
   "metadata": {},
   "source": []
  }
 ],
 "metadata": {
  "kernelspec": {
   "display_name": "Python 3",
   "language": "python",
   "name": "python3"
  },
  "language_info": {
   "codemirror_mode": {
    "name": "ipython",
    "version": 3
   },
   "file_extension": ".py",
   "mimetype": "text/x-python",
   "name": "python",
   "nbconvert_exporter": "python",
   "pygments_lexer": "ipython3",
   "version": "3.8.8"
  }
 },
 "nbformat": 4,
 "nbformat_minor": 5
}

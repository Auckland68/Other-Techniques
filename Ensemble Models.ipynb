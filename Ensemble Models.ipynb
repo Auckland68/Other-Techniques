{
 "cells": [
  {
   "cell_type": "markdown",
   "metadata": {},
   "source": [
    "# Ensemble Models in Scikit Learn"
   ]
  },
  {
   "cell_type": "code",
   "execution_count": 246,
   "metadata": {},
   "outputs": [],
   "source": [
    "import sklearn\n",
    "\n",
    "import numpy as np\n",
    "import pandas as pd\n",
    "\n",
    "import seaborn as sns\n",
    "import matplotlib\n",
    "import matplotlib.pyplot as plt\n",
    "\n",
    "from sklearn.model_selection import train_test_split\n",
    "from sklearn.ensemble import VotingClassifier\n",
    "from sklearn.linear_model import LogisticRegression\n",
    "from sklearn.svm import SVC\n",
    "from sklearn.naive_bayes import GaussianNB\n",
    "from sklearn.metrics import accuracy_score\n",
    "from sklearn.metrics import classification_report, confusion_matrix\n",
    "\n",
    "from sklearn.tree import DecisionTreeRegressor\n",
    "from sklearn.ensemble import BaggingRegressor\n",
    "from sklearn.metrics import r2_score\n",
    "\n",
    "from sklearn.tree import DecisionTreeClassifier\n",
    "from sklearn.ensemble import BaggingClassifier\n",
    "from sklearn.metrics import accuracy_score\n",
    "\n",
    "from sklearn.ensemble import RandomForestRegressor\n",
    "\n",
    "from sklearn.ensemble import ExtraTreesRegressor \n",
    "from sklearn.ensemble import RandomForestClassifier\n",
    "from sklearn.ensemble import ExtraTreesClassifier\n",
    "\n",
    "from sklearn.ensemble import AdaBoostRegressor\n",
    "from sklearn.ensemble import AdaBoostClassifier\n",
    "\n",
    "from sklearn.ensemble import GradientBoostingRegressor\n",
    "from sklearn.metrics import mean_squared_error\n",
    "from sklearn.model_selection import GridSearchCV\n",
    "\n",
    "from sklearn.neighbors import KNeighborsClassifier\n",
    "from sklearn.naive_bayes import GaussianNB\n",
    "from sklearn.linear_model import LogisticRegression"
   ]
  },
  {
   "cell_type": "markdown",
   "metadata": {},
   "source": [
    "https://www.kaggle.com/itsmesunil/bank-loan-modelling"
   ]
  },
  {
   "cell_type": "markdown",
   "metadata": {},
   "source": [
    "1.ID - customer's ID\n",
    "\n",
    "2.Age - customer's age in completed years\n",
    "\n",
    "3.Experience - years of professional experience\n",
    "\n",
    "4.Income - annual income of the customer ($000)\n",
    "\n",
    "5.ZIP Code - home address zip code\n",
    "\n",
    "6.Family - family size of the customers\n",
    "\n",
    "7.CCAvg - avg. spending on credit cards per month ($000)\n",
    "\n",
    "8.Education - Education level 1: Undergrad, 2:Graduate, 3:Advanced/Professional\n",
    "\n",
    "9.Mortgage - Value of house mortgage if any ($000)\n",
    "\n",
    "10.Personal Loan - Did this customer accept the personal loan offered in the last campaign?\n",
    "\n",
    "11.Securities Account - Does the customer have a securities account with the bank?\n",
    "\n",
    "12.CD Account - Does the customer have a certificate of deposit (CD) account with the bank?\n",
    "\n",
    "13.Online - Does the customer use internet banking facilities?\n",
    "\n",
    "14.CreditCard - Does the customer use a credit card issued by UniversalBank?"
   ]
  },
  {
   "cell_type": "markdown",
   "metadata": {},
   "source": [
    "# Bank Data"
   ]
  },
  {
   "cell_type": "code",
   "execution_count": 2,
   "metadata": {},
   "outputs": [
    {
     "data": {
      "text/html": [
       "<div>\n",
       "<style scoped>\n",
       "    .dataframe tbody tr th:only-of-type {\n",
       "        vertical-align: middle;\n",
       "    }\n",
       "\n",
       "    .dataframe tbody tr th {\n",
       "        vertical-align: top;\n",
       "    }\n",
       "\n",
       "    .dataframe thead th {\n",
       "        text-align: right;\n",
       "    }\n",
       "</style>\n",
       "<table border=\"1\" class=\"dataframe\">\n",
       "  <thead>\n",
       "    <tr style=\"text-align: right;\">\n",
       "      <th></th>\n",
       "      <th>ID</th>\n",
       "      <th>Age</th>\n",
       "      <th>Experience</th>\n",
       "      <th>Income</th>\n",
       "      <th>ZIP Code</th>\n",
       "      <th>Family</th>\n",
       "      <th>CCAvg</th>\n",
       "      <th>Education</th>\n",
       "      <th>Mortgage</th>\n",
       "      <th>Personal Loan</th>\n",
       "      <th>Securities Account</th>\n",
       "      <th>CD Account</th>\n",
       "      <th>Online</th>\n",
       "      <th>CreditCard</th>\n",
       "    </tr>\n",
       "  </thead>\n",
       "  <tbody>\n",
       "    <tr>\n",
       "      <th>0</th>\n",
       "      <td>1</td>\n",
       "      <td>34</td>\n",
       "      <td>9</td>\n",
       "      <td>180</td>\n",
       "      <td>93023</td>\n",
       "      <td>1</td>\n",
       "      <td>8.9</td>\n",
       "      <td>3</td>\n",
       "      <td>0</td>\n",
       "      <td>1</td>\n",
       "      <td>0</td>\n",
       "      <td>0</td>\n",
       "      <td>0</td>\n",
       "      <td>0</td>\n",
       "    </tr>\n",
       "    <tr>\n",
       "      <th>1</th>\n",
       "      <td>2</td>\n",
       "      <td>38</td>\n",
       "      <td>14</td>\n",
       "      <td>130</td>\n",
       "      <td>95010</td>\n",
       "      <td>4</td>\n",
       "      <td>4.7</td>\n",
       "      <td>3</td>\n",
       "      <td>134</td>\n",
       "      <td>1</td>\n",
       "      <td>0</td>\n",
       "      <td>0</td>\n",
       "      <td>0</td>\n",
       "      <td>0</td>\n",
       "    </tr>\n",
       "    <tr>\n",
       "      <th>2</th>\n",
       "      <td>3</td>\n",
       "      <td>46</td>\n",
       "      <td>21</td>\n",
       "      <td>193</td>\n",
       "      <td>91604</td>\n",
       "      <td>2</td>\n",
       "      <td>8.1</td>\n",
       "      <td>3</td>\n",
       "      <td>0</td>\n",
       "      <td>1</td>\n",
       "      <td>0</td>\n",
       "      <td>0</td>\n",
       "      <td>0</td>\n",
       "      <td>0</td>\n",
       "    </tr>\n",
       "    <tr>\n",
       "      <th>3</th>\n",
       "      <td>4</td>\n",
       "      <td>38</td>\n",
       "      <td>13</td>\n",
       "      <td>119</td>\n",
       "      <td>94104</td>\n",
       "      <td>1</td>\n",
       "      <td>3.3</td>\n",
       "      <td>2</td>\n",
       "      <td>0</td>\n",
       "      <td>1</td>\n",
       "      <td>0</td>\n",
       "      <td>1</td>\n",
       "      <td>1</td>\n",
       "      <td>1</td>\n",
       "    </tr>\n",
       "    <tr>\n",
       "      <th>4</th>\n",
       "      <td>5</td>\n",
       "      <td>42</td>\n",
       "      <td>18</td>\n",
       "      <td>141</td>\n",
       "      <td>94114</td>\n",
       "      <td>3</td>\n",
       "      <td>5.0</td>\n",
       "      <td>3</td>\n",
       "      <td>0</td>\n",
       "      <td>1</td>\n",
       "      <td>1</td>\n",
       "      <td>1</td>\n",
       "      <td>1</td>\n",
       "      <td>0</td>\n",
       "    </tr>\n",
       "  </tbody>\n",
       "</table>\n",
       "</div>"
      ],
      "text/plain": [
       "   ID  Age  Experience  Income  ZIP Code  Family  CCAvg  Education  Mortgage  \\\n",
       "0   1   34           9     180     93023       1    8.9          3         0   \n",
       "1   2   38          14     130     95010       4    4.7          3       134   \n",
       "2   3   46          21     193     91604       2    8.1          3         0   \n",
       "3   4   38          13     119     94104       1    3.3          2         0   \n",
       "4   5   42          18     141     94114       3    5.0          3         0   \n",
       "\n",
       "   Personal Loan  Securities Account  CD Account  Online  CreditCard  \n",
       "0              1                   0           0       0           0  \n",
       "1              1                   0           0       0           0  \n",
       "2              1                   0           0       0           0  \n",
       "3              1                   0           1       1           1  \n",
       "4              1                   1           1       1           0  "
      ]
     },
     "execution_count": 2,
     "metadata": {},
     "output_type": "execute_result"
    }
   ],
   "source": [
    "bank_data = pd.read_csv('datasets/bank_data.csv')\n",
    "bank_data.head()"
   ]
  },
  {
   "cell_type": "code",
   "execution_count": 3,
   "metadata": {},
   "outputs": [
    {
     "data": {
      "text/plain": [
       "Index(['ID', 'Age', 'Experience', 'Income', 'ZIP Code', 'Family', 'CCAvg',\n",
       "       'Education', 'Mortgage', 'Personal Loan', 'Securities Account',\n",
       "       'CD Account', 'Online', 'CreditCard'],\n",
       "      dtype='object')"
      ]
     },
     "execution_count": 3,
     "metadata": {},
     "output_type": "execute_result"
    }
   ],
   "source": [
    "bank_data.columns"
   ]
  },
  {
   "cell_type": "code",
   "execution_count": 4,
   "metadata": {},
   "outputs": [
    {
     "data": {
      "text/plain": [
       "(480, 14)"
      ]
     },
     "execution_count": 4,
     "metadata": {},
     "output_type": "execute_result"
    }
   ],
   "source": [
    "bank_data.shape"
   ]
  },
  {
   "cell_type": "code",
   "execution_count": 6,
   "metadata": {},
   "outputs": [
    {
     "data": {
      "text/html": [
       "<div>\n",
       "<style scoped>\n",
       "    .dataframe tbody tr th:only-of-type {\n",
       "        vertical-align: middle;\n",
       "    }\n",
       "\n",
       "    .dataframe tbody tr th {\n",
       "        vertical-align: top;\n",
       "    }\n",
       "\n",
       "    .dataframe thead th {\n",
       "        text-align: right;\n",
       "    }\n",
       "</style>\n",
       "<table border=\"1\" class=\"dataframe\">\n",
       "  <thead>\n",
       "    <tr style=\"text-align: right;\">\n",
       "      <th></th>\n",
       "      <th>ID</th>\n",
       "      <th>Age</th>\n",
       "      <th>Experience</th>\n",
       "      <th>Income</th>\n",
       "      <th>ZIP Code</th>\n",
       "      <th>Family</th>\n",
       "      <th>CCAvg</th>\n",
       "      <th>Education</th>\n",
       "      <th>Mortgage</th>\n",
       "      <th>Personal Loan</th>\n",
       "      <th>Securities Account</th>\n",
       "      <th>CD Account</th>\n",
       "      <th>Online</th>\n",
       "      <th>CreditCard</th>\n",
       "    </tr>\n",
       "  </thead>\n",
       "  <tbody>\n",
       "    <tr>\n",
       "      <th>count</th>\n",
       "      <td>480.000000</td>\n",
       "      <td>480.000000</td>\n",
       "      <td>480.000000</td>\n",
       "      <td>480.000000</td>\n",
       "      <td>480.000000</td>\n",
       "      <td>480.000000</td>\n",
       "      <td>480.000000</td>\n",
       "      <td>480.000000</td>\n",
       "      <td>480.000000</td>\n",
       "      <td>480.0</td>\n",
       "      <td>480.000000</td>\n",
       "      <td>480.000000</td>\n",
       "      <td>480.00000</td>\n",
       "      <td>480.000000</td>\n",
       "    </tr>\n",
       "    <tr>\n",
       "      <th>mean</th>\n",
       "      <td>240.500000</td>\n",
       "      <td>45.066667</td>\n",
       "      <td>19.843750</td>\n",
       "      <td>144.745833</td>\n",
       "      <td>93153.202083</td>\n",
       "      <td>2.612500</td>\n",
       "      <td>3.905354</td>\n",
       "      <td>2.233333</td>\n",
       "      <td>100.845833</td>\n",
       "      <td>1.0</td>\n",
       "      <td>0.125000</td>\n",
       "      <td>0.291667</td>\n",
       "      <td>0.60625</td>\n",
       "      <td>0.297917</td>\n",
       "    </tr>\n",
       "    <tr>\n",
       "      <th>std</th>\n",
       "      <td>138.708327</td>\n",
       "      <td>11.590964</td>\n",
       "      <td>11.582443</td>\n",
       "      <td>31.584429</td>\n",
       "      <td>1759.223753</td>\n",
       "      <td>1.115393</td>\n",
       "      <td>2.097681</td>\n",
       "      <td>0.753373</td>\n",
       "      <td>160.847862</td>\n",
       "      <td>0.0</td>\n",
       "      <td>0.331064</td>\n",
       "      <td>0.455004</td>\n",
       "      <td>0.48909</td>\n",
       "      <td>0.457820</td>\n",
       "    </tr>\n",
       "    <tr>\n",
       "      <th>min</th>\n",
       "      <td>1.000000</td>\n",
       "      <td>26.000000</td>\n",
       "      <td>0.000000</td>\n",
       "      <td>60.000000</td>\n",
       "      <td>90016.000000</td>\n",
       "      <td>1.000000</td>\n",
       "      <td>0.000000</td>\n",
       "      <td>1.000000</td>\n",
       "      <td>0.000000</td>\n",
       "      <td>1.0</td>\n",
       "      <td>0.000000</td>\n",
       "      <td>0.000000</td>\n",
       "      <td>0.00000</td>\n",
       "      <td>0.000000</td>\n",
       "    </tr>\n",
       "    <tr>\n",
       "      <th>25%</th>\n",
       "      <td>120.750000</td>\n",
       "      <td>35.000000</td>\n",
       "      <td>9.000000</td>\n",
       "      <td>122.000000</td>\n",
       "      <td>91908.750000</td>\n",
       "      <td>2.000000</td>\n",
       "      <td>2.600000</td>\n",
       "      <td>2.000000</td>\n",
       "      <td>0.000000</td>\n",
       "      <td>1.0</td>\n",
       "      <td>0.000000</td>\n",
       "      <td>0.000000</td>\n",
       "      <td>0.00000</td>\n",
       "      <td>0.000000</td>\n",
       "    </tr>\n",
       "    <tr>\n",
       "      <th>50%</th>\n",
       "      <td>240.500000</td>\n",
       "      <td>45.000000</td>\n",
       "      <td>20.000000</td>\n",
       "      <td>142.500000</td>\n",
       "      <td>93407.000000</td>\n",
       "      <td>3.000000</td>\n",
       "      <td>3.800000</td>\n",
       "      <td>2.000000</td>\n",
       "      <td>0.000000</td>\n",
       "      <td>1.0</td>\n",
       "      <td>0.000000</td>\n",
       "      <td>0.000000</td>\n",
       "      <td>1.00000</td>\n",
       "      <td>0.000000</td>\n",
       "    </tr>\n",
       "    <tr>\n",
       "      <th>75%</th>\n",
       "      <td>360.250000</td>\n",
       "      <td>55.000000</td>\n",
       "      <td>30.000000</td>\n",
       "      <td>172.000000</td>\n",
       "      <td>94705.500000</td>\n",
       "      <td>4.000000</td>\n",
       "      <td>5.347500</td>\n",
       "      <td>3.000000</td>\n",
       "      <td>192.500000</td>\n",
       "      <td>1.0</td>\n",
       "      <td>0.000000</td>\n",
       "      <td>1.000000</td>\n",
       "      <td>1.00000</td>\n",
       "      <td>1.000000</td>\n",
       "    </tr>\n",
       "    <tr>\n",
       "      <th>max</th>\n",
       "      <td>480.000000</td>\n",
       "      <td>65.000000</td>\n",
       "      <td>41.000000</td>\n",
       "      <td>203.000000</td>\n",
       "      <td>96008.000000</td>\n",
       "      <td>4.000000</td>\n",
       "      <td>10.000000</td>\n",
       "      <td>3.000000</td>\n",
       "      <td>617.000000</td>\n",
       "      <td>1.0</td>\n",
       "      <td>1.000000</td>\n",
       "      <td>1.000000</td>\n",
       "      <td>1.00000</td>\n",
       "      <td>1.000000</td>\n",
       "    </tr>\n",
       "  </tbody>\n",
       "</table>\n",
       "</div>"
      ],
      "text/plain": [
       "               ID         Age  Experience      Income      ZIP Code  \\\n",
       "count  480.000000  480.000000  480.000000  480.000000    480.000000   \n",
       "mean   240.500000   45.066667   19.843750  144.745833  93153.202083   \n",
       "std    138.708327   11.590964   11.582443   31.584429   1759.223753   \n",
       "min      1.000000   26.000000    0.000000   60.000000  90016.000000   \n",
       "25%    120.750000   35.000000    9.000000  122.000000  91908.750000   \n",
       "50%    240.500000   45.000000   20.000000  142.500000  93407.000000   \n",
       "75%    360.250000   55.000000   30.000000  172.000000  94705.500000   \n",
       "max    480.000000   65.000000   41.000000  203.000000  96008.000000   \n",
       "\n",
       "           Family       CCAvg   Education    Mortgage  Personal Loan  \\\n",
       "count  480.000000  480.000000  480.000000  480.000000          480.0   \n",
       "mean     2.612500    3.905354    2.233333  100.845833            1.0   \n",
       "std      1.115393    2.097681    0.753373  160.847862            0.0   \n",
       "min      1.000000    0.000000    1.000000    0.000000            1.0   \n",
       "25%      2.000000    2.600000    2.000000    0.000000            1.0   \n",
       "50%      3.000000    3.800000    2.000000    0.000000            1.0   \n",
       "75%      4.000000    5.347500    3.000000  192.500000            1.0   \n",
       "max      4.000000   10.000000    3.000000  617.000000            1.0   \n",
       "\n",
       "       Securities Account  CD Account     Online  CreditCard  \n",
       "count          480.000000  480.000000  480.00000  480.000000  \n",
       "mean             0.125000    0.291667    0.60625    0.297917  \n",
       "std              0.331064    0.455004    0.48909    0.457820  \n",
       "min              0.000000    0.000000    0.00000    0.000000  \n",
       "25%              0.000000    0.000000    0.00000    0.000000  \n",
       "50%              0.000000    0.000000    1.00000    0.000000  \n",
       "75%              0.000000    1.000000    1.00000    1.000000  \n",
       "max              1.000000    1.000000    1.00000    1.000000  "
      ]
     },
     "execution_count": 6,
     "metadata": {},
     "output_type": "execute_result"
    }
   ],
   "source": [
    "bank_data.describe()"
   ]
  },
  {
   "cell_type": "code",
   "execution_count": 8,
   "metadata": {},
   "outputs": [],
   "source": [
    "bank_data = bank_data.drop(['ID', 'Experience', 'ZIP Code', 'CCAvg', 'Personal Loan'], axis=1)"
   ]
  },
  {
   "cell_type": "code",
   "execution_count": 9,
   "metadata": {},
   "outputs": [
    {
     "data": {
      "text/html": [
       "<div>\n",
       "<style scoped>\n",
       "    .dataframe tbody tr th:only-of-type {\n",
       "        vertical-align: middle;\n",
       "    }\n",
       "\n",
       "    .dataframe tbody tr th {\n",
       "        vertical-align: top;\n",
       "    }\n",
       "\n",
       "    .dataframe thead th {\n",
       "        text-align: right;\n",
       "    }\n",
       "</style>\n",
       "<table border=\"1\" class=\"dataframe\">\n",
       "  <thead>\n",
       "    <tr style=\"text-align: right;\">\n",
       "      <th></th>\n",
       "      <th>Age</th>\n",
       "      <th>Income</th>\n",
       "      <th>Family</th>\n",
       "      <th>Education</th>\n",
       "      <th>Mortgage</th>\n",
       "      <th>Securities Account</th>\n",
       "      <th>CD Account</th>\n",
       "      <th>Online</th>\n",
       "      <th>CreditCard</th>\n",
       "    </tr>\n",
       "  </thead>\n",
       "  <tbody>\n",
       "    <tr>\n",
       "      <th>0</th>\n",
       "      <td>34</td>\n",
       "      <td>180</td>\n",
       "      <td>1</td>\n",
       "      <td>3</td>\n",
       "      <td>0</td>\n",
       "      <td>0</td>\n",
       "      <td>0</td>\n",
       "      <td>0</td>\n",
       "      <td>0</td>\n",
       "    </tr>\n",
       "    <tr>\n",
       "      <th>1</th>\n",
       "      <td>38</td>\n",
       "      <td>130</td>\n",
       "      <td>4</td>\n",
       "      <td>3</td>\n",
       "      <td>134</td>\n",
       "      <td>0</td>\n",
       "      <td>0</td>\n",
       "      <td>0</td>\n",
       "      <td>0</td>\n",
       "    </tr>\n",
       "    <tr>\n",
       "      <th>2</th>\n",
       "      <td>46</td>\n",
       "      <td>193</td>\n",
       "      <td>2</td>\n",
       "      <td>3</td>\n",
       "      <td>0</td>\n",
       "      <td>0</td>\n",
       "      <td>0</td>\n",
       "      <td>0</td>\n",
       "      <td>0</td>\n",
       "    </tr>\n",
       "    <tr>\n",
       "      <th>3</th>\n",
       "      <td>38</td>\n",
       "      <td>119</td>\n",
       "      <td>1</td>\n",
       "      <td>2</td>\n",
       "      <td>0</td>\n",
       "      <td>0</td>\n",
       "      <td>1</td>\n",
       "      <td>1</td>\n",
       "      <td>1</td>\n",
       "    </tr>\n",
       "    <tr>\n",
       "      <th>4</th>\n",
       "      <td>42</td>\n",
       "      <td>141</td>\n",
       "      <td>3</td>\n",
       "      <td>3</td>\n",
       "      <td>0</td>\n",
       "      <td>1</td>\n",
       "      <td>1</td>\n",
       "      <td>1</td>\n",
       "      <td>0</td>\n",
       "    </tr>\n",
       "  </tbody>\n",
       "</table>\n",
       "</div>"
      ],
      "text/plain": [
       "   Age  Income  Family  Education  Mortgage  Securities Account  CD Account  \\\n",
       "0   34     180       1          3         0                   0           0   \n",
       "1   38     130       4          3       134                   0           0   \n",
       "2   46     193       2          3         0                   0           0   \n",
       "3   38     119       1          2         0                   0           1   \n",
       "4   42     141       3          3         0                   1           1   \n",
       "\n",
       "   Online  CreditCard  \n",
       "0       0           0  \n",
       "1       0           0  \n",
       "2       0           0  \n",
       "3       1           1  \n",
       "4       1           0  "
      ]
     },
     "execution_count": 9,
     "metadata": {},
     "output_type": "execute_result"
    }
   ],
   "source": [
    "bank_data.head()"
   ]
  },
  {
   "cell_type": "code",
   "execution_count": 10,
   "metadata": {},
   "outputs": [
    {
     "name": "stdout",
     "output_type": "stream",
     "text": [
      "<class 'pandas.core.frame.DataFrame'>\n",
      "RangeIndex: 480 entries, 0 to 479\n",
      "Data columns (total 9 columns):\n",
      " #   Column              Non-Null Count  Dtype\n",
      "---  ------              --------------  -----\n",
      " 0   Age                 480 non-null    int64\n",
      " 1   Income              480 non-null    int64\n",
      " 2   Family              480 non-null    int64\n",
      " 3   Education           480 non-null    int64\n",
      " 4   Mortgage            480 non-null    int64\n",
      " 5   Securities Account  480 non-null    int64\n",
      " 6   CD Account          480 non-null    int64\n",
      " 7   Online              480 non-null    int64\n",
      " 8   CreditCard          480 non-null    int64\n",
      "dtypes: int64(9)\n",
      "memory usage: 33.9 KB\n"
     ]
    }
   ],
   "source": [
    "bank_data.info()"
   ]
  },
  {
   "cell_type": "code",
   "execution_count": 12,
   "metadata": {},
   "outputs": [
    {
     "data": {
      "text/plain": [
       "Age                    40\n",
       "Income                102\n",
       "Family                  4\n",
       "Education               3\n",
       "Mortgage              141\n",
       "Securities Account      2\n",
       "CD Account              2\n",
       "Online                  2\n",
       "CreditCard              2\n",
       "dtype: int64"
      ]
     },
     "execution_count": 12,
     "metadata": {},
     "output_type": "execute_result"
    }
   ],
   "source": [
    "bank_data.apply(lambda x: len(x.unique()))"
   ]
  },
  {
   "cell_type": "code",
   "execution_count": 11,
   "metadata": {},
   "outputs": [
    {
     "data": {
      "text/html": [
       "<div>\n",
       "<style scoped>\n",
       "    .dataframe tbody tr th:only-of-type {\n",
       "        vertical-align: middle;\n",
       "    }\n",
       "\n",
       "    .dataframe tbody tr th {\n",
       "        vertical-align: top;\n",
       "    }\n",
       "\n",
       "    .dataframe thead th {\n",
       "        text-align: right;\n",
       "    }\n",
       "</style>\n",
       "<table border=\"1\" class=\"dataframe\">\n",
       "  <thead>\n",
       "    <tr style=\"text-align: right;\">\n",
       "      <th></th>\n",
       "      <th>Age</th>\n",
       "      <th>Income</th>\n",
       "      <th>Family</th>\n",
       "      <th>Education</th>\n",
       "      <th>Mortgage</th>\n",
       "      <th>Securities Account</th>\n",
       "      <th>CD Account</th>\n",
       "      <th>Online</th>\n",
       "      <th>CreditCard</th>\n",
       "    </tr>\n",
       "  </thead>\n",
       "  <tbody>\n",
       "    <tr>\n",
       "      <th>count</th>\n",
       "      <td>480.000000</td>\n",
       "      <td>480.000000</td>\n",
       "      <td>480.000000</td>\n",
       "      <td>480.000000</td>\n",
       "      <td>480.000000</td>\n",
       "      <td>480.000000</td>\n",
       "      <td>480.000000</td>\n",
       "      <td>480.00000</td>\n",
       "      <td>480.000000</td>\n",
       "    </tr>\n",
       "    <tr>\n",
       "      <th>mean</th>\n",
       "      <td>45.066667</td>\n",
       "      <td>144.745833</td>\n",
       "      <td>2.612500</td>\n",
       "      <td>2.233333</td>\n",
       "      <td>100.845833</td>\n",
       "      <td>0.125000</td>\n",
       "      <td>0.291667</td>\n",
       "      <td>0.60625</td>\n",
       "      <td>0.297917</td>\n",
       "    </tr>\n",
       "    <tr>\n",
       "      <th>std</th>\n",
       "      <td>11.590964</td>\n",
       "      <td>31.584429</td>\n",
       "      <td>1.115393</td>\n",
       "      <td>0.753373</td>\n",
       "      <td>160.847862</td>\n",
       "      <td>0.331064</td>\n",
       "      <td>0.455004</td>\n",
       "      <td>0.48909</td>\n",
       "      <td>0.457820</td>\n",
       "    </tr>\n",
       "    <tr>\n",
       "      <th>min</th>\n",
       "      <td>26.000000</td>\n",
       "      <td>60.000000</td>\n",
       "      <td>1.000000</td>\n",
       "      <td>1.000000</td>\n",
       "      <td>0.000000</td>\n",
       "      <td>0.000000</td>\n",
       "      <td>0.000000</td>\n",
       "      <td>0.00000</td>\n",
       "      <td>0.000000</td>\n",
       "    </tr>\n",
       "    <tr>\n",
       "      <th>25%</th>\n",
       "      <td>35.000000</td>\n",
       "      <td>122.000000</td>\n",
       "      <td>2.000000</td>\n",
       "      <td>2.000000</td>\n",
       "      <td>0.000000</td>\n",
       "      <td>0.000000</td>\n",
       "      <td>0.000000</td>\n",
       "      <td>0.00000</td>\n",
       "      <td>0.000000</td>\n",
       "    </tr>\n",
       "    <tr>\n",
       "      <th>50%</th>\n",
       "      <td>45.000000</td>\n",
       "      <td>142.500000</td>\n",
       "      <td>3.000000</td>\n",
       "      <td>2.000000</td>\n",
       "      <td>0.000000</td>\n",
       "      <td>0.000000</td>\n",
       "      <td>0.000000</td>\n",
       "      <td>1.00000</td>\n",
       "      <td>0.000000</td>\n",
       "    </tr>\n",
       "    <tr>\n",
       "      <th>75%</th>\n",
       "      <td>55.000000</td>\n",
       "      <td>172.000000</td>\n",
       "      <td>4.000000</td>\n",
       "      <td>3.000000</td>\n",
       "      <td>192.500000</td>\n",
       "      <td>0.000000</td>\n",
       "      <td>1.000000</td>\n",
       "      <td>1.00000</td>\n",
       "      <td>1.000000</td>\n",
       "    </tr>\n",
       "    <tr>\n",
       "      <th>max</th>\n",
       "      <td>65.000000</td>\n",
       "      <td>203.000000</td>\n",
       "      <td>4.000000</td>\n",
       "      <td>3.000000</td>\n",
       "      <td>617.000000</td>\n",
       "      <td>1.000000</td>\n",
       "      <td>1.000000</td>\n",
       "      <td>1.00000</td>\n",
       "      <td>1.000000</td>\n",
       "    </tr>\n",
       "  </tbody>\n",
       "</table>\n",
       "</div>"
      ],
      "text/plain": [
       "              Age      Income      Family   Education    Mortgage  \\\n",
       "count  480.000000  480.000000  480.000000  480.000000  480.000000   \n",
       "mean    45.066667  144.745833    2.612500    2.233333  100.845833   \n",
       "std     11.590964   31.584429    1.115393    0.753373  160.847862   \n",
       "min     26.000000   60.000000    1.000000    1.000000    0.000000   \n",
       "25%     35.000000  122.000000    2.000000    2.000000    0.000000   \n",
       "50%     45.000000  142.500000    3.000000    2.000000    0.000000   \n",
       "75%     55.000000  172.000000    4.000000    3.000000  192.500000   \n",
       "max     65.000000  203.000000    4.000000    3.000000  617.000000   \n",
       "\n",
       "       Securities Account  CD Account     Online  CreditCard  \n",
       "count          480.000000  480.000000  480.00000  480.000000  \n",
       "mean             0.125000    0.291667    0.60625    0.297917  \n",
       "std              0.331064    0.455004    0.48909    0.457820  \n",
       "min              0.000000    0.000000    0.00000    0.000000  \n",
       "25%              0.000000    0.000000    0.00000    0.000000  \n",
       "50%              0.000000    0.000000    1.00000    0.000000  \n",
       "75%              0.000000    1.000000    1.00000    1.000000  \n",
       "max              1.000000    1.000000    1.00000    1.000000  "
      ]
     },
     "execution_count": 11,
     "metadata": {},
     "output_type": "execute_result"
    }
   ],
   "source": [
    "bank_data.describe()"
   ]
  },
  {
   "cell_type": "code",
   "execution_count": 24,
   "metadata": {},
   "outputs": [
    {
     "data": {
      "image/png": "[encoded data removed]",
      "text/plain": [
       "<Figure size 576x288 with 1 Axes>"
      ]
     },
     "metadata": {
      "needs_background": "light"
     },
     "output_type": "display_data"
    }
   ],
   "source": [
    "fig, ax = plt.subplots(figsize=(8,4))\n",
    "\n",
    "plt.scatter( bank_data['Income'], bank_data['Age'])\n",
    "plt.title(\"Age Against Income\")\n",
    "plt.xlabel('Income')\n",
    "ax = plt.ylabel('Age')\n",
    "\n"
   ]
  },
  {
   "cell_type": "markdown",
   "metadata": {},
   "source": [
    "No observable relationship between age and income"
   ]
  },
  {
   "cell_type": "code",
   "execution_count": 23,
   "metadata": {},
   "outputs": [
    {
     "data": {
      "image/png": "[encoded data removed]",
      "text/plain": [
       "<Figure size 576x432 with 1 Axes>"
      ]
     },
     "metadata": {
      "needs_background": "light"
     },
     "output_type": "display_data"
    }
   ],
   "source": [
    "fig, ax = plt.subplots(figsize=(8,6))\n",
    "x = bank_data['CreditCard']\n",
    "y = bank_data['Income']\n",
    "plt.title(\"Boxplot of Income by Credit Card Ownership\")\n",
    "ax = sns.boxplot(x = x, y = y)"
   ]
  },
  {
   "cell_type": "markdown",
   "metadata": {},
   "source": [
    "Average income for those with and without a credit card is similar"
   ]
  },
  {
   "cell_type": "code",
   "execution_count": 25,
   "metadata": {},
   "outputs": [
    {
     "data": {
      "image/png": "[encoded data removed]",
      "text/plain": [
       "<Figure size 576x432 with 1 Axes>"
      ]
     },
     "metadata": {
      "needs_background": "light"
     },
     "output_type": "display_data"
    }
   ],
   "source": [
    "fig, ax = plt.subplots(figsize=(8,6))\n",
    "x = bank_data['CreditCard']\n",
    "y = bank_data['Age']\n",
    "plt.title(\"Boxplot of Age by Credit Card Ownership\")\n",
    "ax = sns.boxplot(x = x, y = y)"
   ]
  },
  {
   "cell_type": "markdown",
   "metadata": {},
   "source": [
    "Average age for those with and without a credit card is similar"
   ]
  },
  {
   "cell_type": "code",
   "execution_count": 26,
   "metadata": {},
   "outputs": [
    {
     "data": {
      "image/png": "[encoded data removed]",
      "text/plain": [
       "<Figure size 576x432 with 1 Axes>"
      ]
     },
     "metadata": {
      "needs_background": "light"
     },
     "output_type": "display_data"
    }
   ],
   "source": [
    "fig, ax = plt.subplots(figsize=(8,6))\n",
    "x = bank_data['CreditCard']\n",
    "y = bank_data['Mortgage']\n",
    "plt.title(\"Boxplot of Mortgage Ownership by Credit Card Ownership\")\n",
    "ax = sns.boxplot(x = x, y = y)"
   ]
  },
  {
   "cell_type": "markdown",
   "metadata": {},
   "source": [
    "More mortgage outliers for those without a credit card but with a mortgage"
   ]
  },
  {
   "cell_type": "code",
   "execution_count": 29,
   "metadata": {},
   "outputs": [
    {
     "data": {
      "image/png": "[encoded data removed]",
      "text/plain": [
       "<Figure size 576x432 with 1 Axes>"
      ]
     },
     "metadata": {
      "needs_background": "light"
     },
     "output_type": "display_data"
    }
   ],
   "source": [
    "plt.figure(figsize=(8,6))\n",
    "sns.countplot(x='Family', data = bank_data, hue = 'CreditCard')\n",
    "ax = plt.title(\"Credit Card Ownership by Family Size\")"
   ]
  },
  {
   "cell_type": "markdown",
   "metadata": {},
   "source": [
    "Most people do not have a credit card but of those who do, the number increases with the size of family"
   ]
  },
  {
   "cell_type": "code",
   "execution_count": 30,
   "metadata": {},
   "outputs": [
    {
     "data": {
      "image/png": "[encoded data removed]",
      "text/plain": [
       "<Figure size 576x432 with 1 Axes>"
      ]
     },
     "metadata": {
      "needs_background": "light"
     },
     "output_type": "display_data"
    }
   ],
   "source": [
    "plt.figure(figsize=(8,6))\n",
    "sns.countplot(x='Education', data = bank_data, hue = 'CreditCard')\n",
    "ax = plt.title(\"Credit Card Ownership by Education\")"
   ]
  },
  {
   "cell_type": "markdown",
   "metadata": {},
   "source": [
    "More higher educated people tend to have a credit card"
   ]
  },
  {
   "cell_type": "code",
   "execution_count": 31,
   "metadata": {},
   "outputs": [
    {
     "data": {
      "text/html": [
       "<div>\n",
       "<style scoped>\n",
       "    .dataframe tbody tr th:only-of-type {\n",
       "        vertical-align: middle;\n",
       "    }\n",
       "\n",
       "    .dataframe tbody tr th {\n",
       "        vertical-align: top;\n",
       "    }\n",
       "\n",
       "    .dataframe thead th {\n",
       "        text-align: right;\n",
       "    }\n",
       "</style>\n",
       "<table border=\"1\" class=\"dataframe\">\n",
       "  <thead>\n",
       "    <tr style=\"text-align: right;\">\n",
       "      <th>CreditCard</th>\n",
       "      <th>0</th>\n",
       "      <th>1</th>\n",
       "    </tr>\n",
       "    <tr>\n",
       "      <th>Securities Account</th>\n",
       "      <th></th>\n",
       "      <th></th>\n",
       "    </tr>\n",
       "  </thead>\n",
       "  <tbody>\n",
       "    <tr>\n",
       "      <th>0</th>\n",
       "      <td>294</td>\n",
       "      <td>126</td>\n",
       "    </tr>\n",
       "    <tr>\n",
       "      <th>1</th>\n",
       "      <td>43</td>\n",
       "      <td>17</td>\n",
       "    </tr>\n",
       "  </tbody>\n",
       "</table>\n",
       "</div>"
      ],
      "text/plain": [
       "CreditCard            0    1\n",
       "Securities Account          \n",
       "0                   294  126\n",
       "1                    43   17"
      ]
     },
     "execution_count": 31,
     "metadata": {},
     "output_type": "execute_result"
    }
   ],
   "source": [
    "pd.crosstab(bank_data['Securities Account'], bank_data['CreditCard'])"
   ]
  },
  {
   "cell_type": "markdown",
   "metadata": {},
   "source": [
    "Those without a credit card also tend to not have a securities account"
   ]
  },
  {
   "cell_type": "code",
   "execution_count": 32,
   "metadata": {},
   "outputs": [
    {
     "data": {
      "text/html": [
       "<div>\n",
       "<style scoped>\n",
       "    .dataframe tbody tr th:only-of-type {\n",
       "        vertical-align: middle;\n",
       "    }\n",
       "\n",
       "    .dataframe tbody tr th {\n",
       "        vertical-align: top;\n",
       "    }\n",
       "\n",
       "    .dataframe thead th {\n",
       "        text-align: right;\n",
       "    }\n",
       "</style>\n",
       "<table border=\"1\" class=\"dataframe\">\n",
       "  <thead>\n",
       "    <tr style=\"text-align: right;\">\n",
       "      <th></th>\n",
       "      <th>Age</th>\n",
       "      <th>Income</th>\n",
       "      <th>Family</th>\n",
       "      <th>Education</th>\n",
       "      <th>Mortgage</th>\n",
       "      <th>Securities Account</th>\n",
       "      <th>CD Account</th>\n",
       "      <th>Online</th>\n",
       "      <th>CreditCard</th>\n",
       "    </tr>\n",
       "  </thead>\n",
       "  <tbody>\n",
       "    <tr>\n",
       "      <th>Age</th>\n",
       "      <td>1.000000</td>\n",
       "      <td>0.021260</td>\n",
       "      <td>-0.001712</td>\n",
       "      <td>-0.009196</td>\n",
       "      <td>0.041622</td>\n",
       "      <td>-0.008705</td>\n",
       "      <td>0.053308</td>\n",
       "      <td>0.028577</td>\n",
       "      <td>0.026542</td>\n",
       "    </tr>\n",
       "    <tr>\n",
       "      <th>Income</th>\n",
       "      <td>0.021260</td>\n",
       "      <td>1.000000</td>\n",
       "      <td>-0.020876</td>\n",
       "      <td>0.122170</td>\n",
       "      <td>0.189672</td>\n",
       "      <td>-0.053058</td>\n",
       "      <td>0.069669</td>\n",
       "      <td>0.075136</td>\n",
       "      <td>0.013477</td>\n",
       "    </tr>\n",
       "    <tr>\n",
       "      <th>Family</th>\n",
       "      <td>-0.001712</td>\n",
       "      <td>-0.020876</td>\n",
       "      <td>1.000000</td>\n",
       "      <td>-0.239996</td>\n",
       "      <td>0.070556</td>\n",
       "      <td>-0.106005</td>\n",
       "      <td>-0.003085</td>\n",
       "      <td>-0.039178</td>\n",
       "      <td>0.050746</td>\n",
       "    </tr>\n",
       "    <tr>\n",
       "      <th>Education</th>\n",
       "      <td>-0.009196</td>\n",
       "      <td>0.122170</td>\n",
       "      <td>-0.239996</td>\n",
       "      <td>1.000000</td>\n",
       "      <td>-0.026044</td>\n",
       "      <td>-0.041852</td>\n",
       "      <td>-0.071054</td>\n",
       "      <td>0.000567</td>\n",
       "      <td>-0.038536</td>\n",
       "    </tr>\n",
       "    <tr>\n",
       "      <th>Mortgage</th>\n",
       "      <td>0.041622</td>\n",
       "      <td>0.189672</td>\n",
       "      <td>0.070556</td>\n",
       "      <td>-0.026044</td>\n",
       "      <td>1.000000</td>\n",
       "      <td>-0.016809</td>\n",
       "      <td>0.084738</td>\n",
       "      <td>0.063899</td>\n",
       "      <td>0.039181</td>\n",
       "    </tr>\n",
       "    <tr>\n",
       "      <th>Securities Account</th>\n",
       "      <td>-0.008705</td>\n",
       "      <td>-0.053058</td>\n",
       "      <td>-0.106005</td>\n",
       "      <td>-0.041852</td>\n",
       "      <td>-0.016809</td>\n",
       "      <td>1.000000</td>\n",
       "      <td>0.464282</td>\n",
       "      <td>0.059631</td>\n",
       "      <td>-0.012052</td>\n",
       "    </tr>\n",
       "    <tr>\n",
       "      <th>CD Account</th>\n",
       "      <td>0.053308</td>\n",
       "      <td>0.069669</td>\n",
       "      <td>-0.003085</td>\n",
       "      <td>-0.071054</td>\n",
       "      <td>0.084738</td>\n",
       "      <td>0.464282</td>\n",
       "      <td>1.000000</td>\n",
       "      <td>0.385804</td>\n",
       "      <td>0.514046</td>\n",
       "    </tr>\n",
       "    <tr>\n",
       "      <th>Online</th>\n",
       "      <td>0.028577</td>\n",
       "      <td>0.075136</td>\n",
       "      <td>-0.039178</td>\n",
       "      <td>0.000567</td>\n",
       "      <td>0.063899</td>\n",
       "      <td>0.059631</td>\n",
       "      <td>0.385804</td>\n",
       "      <td>1.000000</td>\n",
       "      <td>-0.043762</td>\n",
       "    </tr>\n",
       "    <tr>\n",
       "      <th>CreditCard</th>\n",
       "      <td>0.026542</td>\n",
       "      <td>0.013477</td>\n",
       "      <td>0.050746</td>\n",
       "      <td>-0.038536</td>\n",
       "      <td>0.039181</td>\n",
       "      <td>-0.012052</td>\n",
       "      <td>0.514046</td>\n",
       "      <td>-0.043762</td>\n",
       "      <td>1.000000</td>\n",
       "    </tr>\n",
       "  </tbody>\n",
       "</table>\n",
       "</div>"
      ],
      "text/plain": [
       "                         Age    Income    Family  Education  Mortgage  \\\n",
       "Age                 1.000000  0.021260 -0.001712  -0.009196  0.041622   \n",
       "Income              0.021260  1.000000 -0.020876   0.122170  0.189672   \n",
       "Family             -0.001712 -0.020876  1.000000  -0.239996  0.070556   \n",
       "Education          -0.009196  0.122170 -0.239996   1.000000 -0.026044   \n",
       "Mortgage            0.041622  0.189672  0.070556  -0.026044  1.000000   \n",
       "Securities Account -0.008705 -0.053058 -0.106005  -0.041852 -0.016809   \n",
       "CD Account          0.053308  0.069669 -0.003085  -0.071054  0.084738   \n",
       "Online              0.028577  0.075136 -0.039178   0.000567  0.063899   \n",
       "CreditCard          0.026542  0.013477  0.050746  -0.038536  0.039181   \n",
       "\n",
       "                    Securities Account  CD Account    Online  CreditCard  \n",
       "Age                          -0.008705    0.053308  0.028577    0.026542  \n",
       "Income                       -0.053058    0.069669  0.075136    0.013477  \n",
       "Family                       -0.106005   -0.003085 -0.039178    0.050746  \n",
       "Education                    -0.041852   -0.071054  0.000567   -0.038536  \n",
       "Mortgage                     -0.016809    0.084738  0.063899    0.039181  \n",
       "Securities Account            1.000000    0.464282  0.059631   -0.012052  \n",
       "CD Account                    0.464282    1.000000  0.385804    0.514046  \n",
       "Online                        0.059631    0.385804  1.000000   -0.043762  \n",
       "CreditCard                   -0.012052    0.514046 -0.043762    1.000000  "
      ]
     },
     "execution_count": 32,
     "metadata": {},
     "output_type": "execute_result"
    }
   ],
   "source": [
    "bank_data_corr = bank_data.corr()\n",
    "bank_data_corr"
   ]
  },
  {
   "cell_type": "code",
   "execution_count": 33,
   "metadata": {},
   "outputs": [
    {
     "data": {
      "image/png": "[encoded data removed]",
      "text/plain": [
       "<Figure size 720x576 with 2 Axes>"
      ]
     },
     "metadata": {
      "needs_background": "light"
     },
     "output_type": "display_data"
    }
   ],
   "source": [
    "plt.figure(figsize=(10, 8))\n",
    "ax = sns.heatmap(bank_data_corr, annot=True)"
   ]
  },
  {
   "cell_type": "markdown",
   "metadata": {},
   "source": [
    "The highest correlation with credit card ownership is whether the customer has a CD account"
   ]
  },
  {
   "cell_type": "code",
   "execution_count": 39,
   "metadata": {},
   "outputs": [],
   "source": [
    "X = bank_data.drop('CreditCard', axis=1)\n",
    "y = bank_data['CreditCard']"
   ]
  },
  {
   "cell_type": "code",
   "execution_count": 40,
   "metadata": {},
   "outputs": [
    {
     "data": {
      "text/html": [
       "<div>\n",
       "<style scoped>\n",
       "    .dataframe tbody tr th:only-of-type {\n",
       "        vertical-align: middle;\n",
       "    }\n",
       "\n",
       "    .dataframe tbody tr th {\n",
       "        vertical-align: top;\n",
       "    }\n",
       "\n",
       "    .dataframe thead th {\n",
       "        text-align: right;\n",
       "    }\n",
       "</style>\n",
       "<table border=\"1\" class=\"dataframe\">\n",
       "  <thead>\n",
       "    <tr style=\"text-align: right;\">\n",
       "      <th></th>\n",
       "      <th>Age</th>\n",
       "      <th>Income</th>\n",
       "      <th>Family</th>\n",
       "      <th>Education</th>\n",
       "      <th>Mortgage</th>\n",
       "      <th>Securities Account</th>\n",
       "      <th>CD Account</th>\n",
       "      <th>Online</th>\n",
       "    </tr>\n",
       "  </thead>\n",
       "  <tbody>\n",
       "    <tr>\n",
       "      <th>0</th>\n",
       "      <td>34</td>\n",
       "      <td>180</td>\n",
       "      <td>1</td>\n",
       "      <td>3</td>\n",
       "      <td>0</td>\n",
       "      <td>0</td>\n",
       "      <td>0</td>\n",
       "      <td>0</td>\n",
       "    </tr>\n",
       "    <tr>\n",
       "      <th>1</th>\n",
       "      <td>38</td>\n",
       "      <td>130</td>\n",
       "      <td>4</td>\n",
       "      <td>3</td>\n",
       "      <td>134</td>\n",
       "      <td>0</td>\n",
       "      <td>0</td>\n",
       "      <td>0</td>\n",
       "    </tr>\n",
       "    <tr>\n",
       "      <th>2</th>\n",
       "      <td>46</td>\n",
       "      <td>193</td>\n",
       "      <td>2</td>\n",
       "      <td>3</td>\n",
       "      <td>0</td>\n",
       "      <td>0</td>\n",
       "      <td>0</td>\n",
       "      <td>0</td>\n",
       "    </tr>\n",
       "    <tr>\n",
       "      <th>3</th>\n",
       "      <td>38</td>\n",
       "      <td>119</td>\n",
       "      <td>1</td>\n",
       "      <td>2</td>\n",
       "      <td>0</td>\n",
       "      <td>0</td>\n",
       "      <td>1</td>\n",
       "      <td>1</td>\n",
       "    </tr>\n",
       "    <tr>\n",
       "      <th>4</th>\n",
       "      <td>42</td>\n",
       "      <td>141</td>\n",
       "      <td>3</td>\n",
       "      <td>3</td>\n",
       "      <td>0</td>\n",
       "      <td>1</td>\n",
       "      <td>1</td>\n",
       "      <td>1</td>\n",
       "    </tr>\n",
       "  </tbody>\n",
       "</table>\n",
       "</div>"
      ],
      "text/plain": [
       "   Age  Income  Family  Education  Mortgage  Securities Account  CD Account  \\\n",
       "0   34     180       1          3         0                   0           0   \n",
       "1   38     130       4          3       134                   0           0   \n",
       "2   46     193       2          3         0                   0           0   \n",
       "3   38     119       1          2         0                   0           1   \n",
       "4   42     141       3          3         0                   1           1   \n",
       "\n",
       "   Online  \n",
       "0       0  \n",
       "1       0  \n",
       "2       0  \n",
       "3       1  \n",
       "4       1  "
      ]
     },
     "execution_count": 40,
     "metadata": {},
     "output_type": "execute_result"
    }
   ],
   "source": [
    "X.head()"
   ]
  },
  {
   "cell_type": "code",
   "execution_count": 42,
   "metadata": {},
   "outputs": [
    {
     "data": {
      "text/plain": [
       "0    0\n",
       "1    0\n",
       "2    0\n",
       "3    1\n",
       "4    0\n",
       "Name: CreditCard, dtype: int64"
      ]
     },
     "execution_count": 42,
     "metadata": {},
     "output_type": "execute_result"
    }
   ],
   "source": [
    "y.head()"
   ]
  },
  {
   "cell_type": "code",
   "execution_count": 67,
   "metadata": {},
   "outputs": [
    {
     "name": "stdout",
     "output_type": "stream",
     "text": [
      "(384, 8) (384,) (96, 8) (96,)\n"
     ]
    }
   ],
   "source": [
    "x_train, x_test, y_train, y_test = train_test_split(X, Y, test_size=0.2)\n",
    "print(x_train.shape, y_train.shape, x_test.shape, y_test.shape)"
   ]
  },
  {
   "cell_type": "code",
   "execution_count": 77,
   "metadata": {},
   "outputs": [],
   "source": [
    "log_clf = LogisticRegression(C=1, solver='liblinear')\n",
    "svc_clf = SVC(C=1, kernel='linear', gamma='auto', probability = True)\n",
    "naive_clf = GaussianNB()"
   ]
  },
  {
   "cell_type": "code",
   "execution_count": 78,
   "metadata": {},
   "outputs": [
    {
     "name": "stdout",
     "output_type": "stream",
     "text": [
      "LogisticRegression 0.8645833333333334\n",
      "SVC 0.8541666666666666\n",
      "GaussianNB 0.8229166666666666\n"
     ]
    }
   ],
   "source": [
    "for clf in (log_clf, svc_clf, naive_clf):\n",
    "    \n",
    "    clf.fit(x_train, y_train)\n",
    "    y_pred = clf.predict(x_test)\n",
    "    \n",
    "    print(clf.__class__.__name__, accuracy_score(y_test, y_pred))"
   ]
  },
  {
   "cell_type": "markdown",
   "metadata": {},
   "source": [
    "## Hard Voting - majority vote"
   ]
  },
  {
   "cell_type": "code",
   "execution_count": 79,
   "metadata": {},
   "outputs": [],
   "source": [
    "voting_clf_hard = VotingClassifier(estimators=[('lr', log_clf), \n",
    "                                               ('svc', svc_clf), \n",
    "                                               ('naive', naive_clf)],\n",
    "                                   voting='hard')"
   ]
  },
  {
   "cell_type": "code",
   "execution_count": 80,
   "metadata": {},
   "outputs": [
    {
     "data": {
      "text/plain": [
       "VotingClassifier(estimators=[('lr',\n",
       "                              LogisticRegression(C=1, solver='liblinear')),\n",
       "                             ('svc',\n",
       "                              SVC(C=1, gamma='auto', kernel='linear',\n",
       "                                  probability=True)),\n",
       "                             ('naive', GaussianNB())])"
      ]
     },
     "execution_count": 80,
     "metadata": {},
     "output_type": "execute_result"
    }
   ],
   "source": [
    "voting_clf_hard.fit(x_train, y_train)"
   ]
  },
  {
   "cell_type": "code",
   "execution_count": 81,
   "metadata": {},
   "outputs": [],
   "source": [
    "y_pred = voting_clf_hard.predict(x_test)"
   ]
  },
  {
   "cell_type": "code",
   "execution_count": 82,
   "metadata": {},
   "outputs": [
    {
     "data": {
      "text/plain": [
       "0.8645833333333334"
      ]
     },
     "execution_count": 82,
     "metadata": {},
     "output_type": "execute_result"
    }
   ],
   "source": [
    "accuracy_score(y_test, y_pred)"
   ]
  },
  {
   "cell_type": "code",
   "execution_count": 83,
   "metadata": {},
   "outputs": [
    {
     "name": "stdout",
     "output_type": "stream",
     "text": [
      "              precision    recall  f1-score   support\n",
      "\n",
      "           0       0.88      0.95      0.91        73\n",
      "           1       0.78      0.61      0.68        23\n",
      "\n",
      "    accuracy                           0.86        96\n",
      "   macro avg       0.83      0.78      0.80        96\n",
      "weighted avg       0.86      0.86      0.86        96\n",
      "\n"
     ]
    }
   ],
   "source": [
    "print(classification_report(y_test, y_pred))"
   ]
  },
  {
   "cell_type": "code",
   "execution_count": 84,
   "metadata": {},
   "outputs": [
    {
     "name": "stdout",
     "output_type": "stream",
     "text": [
      "[[69  4]\n",
      " [ 9 14]]\n"
     ]
    }
   ],
   "source": [
    "print(confusion_matrix(y_test, y_pred))"
   ]
  },
  {
   "cell_type": "code",
   "execution_count": 85,
   "metadata": {},
   "outputs": [
    {
     "name": "stdout",
     "output_type": "stream",
     "text": [
      "LogisticRegression 0.8645833333333334\n",
      "SVC 0.8541666666666666\n",
      "GaussianNB 0.8229166666666666\n",
      "VotingClassifier 0.8645833333333334\n"
     ]
    }
   ],
   "source": [
    "for clf_hard in (log_clf, svc_clf, naive_clf, voting_clf_hard):\n",
    "    \n",
    "    clf_hard.fit(x_train, y_train)\n",
    "    y_pred = clf_hard.predict(x_test)\n",
    "    \n",
    "    print(clf_hard.__class__.__name__, accuracy_score(y_test, y_pred))"
   ]
  },
  {
   "cell_type": "markdown",
   "metadata": {},
   "source": [
    "## Soft Voting - using probabilities"
   ]
  },
  {
   "cell_type": "code",
   "execution_count": 86,
   "metadata": {},
   "outputs": [
    {
     "data": {
      "text/plain": [
       "array([[0.67073849, 0.32926151],\n",
       "       [0.72795137, 0.27204863],\n",
       "       [0.71477679, 0.28522321],\n",
       "       [0.6830311 , 0.3169689 ],\n",
       "       [0.21816629, 0.78183371],\n",
       "       [0.95453243, 0.04546757],\n",
       "       [0.65940024, 0.34059976],\n",
       "       [0.72374618, 0.27625382],\n",
       "       [0.71617871, 0.28382129],\n",
       "       [0.94838828, 0.05161172]])"
      ]
     },
     "execution_count": 86,
     "metadata": {},
     "output_type": "execute_result"
    }
   ],
   "source": [
    "y_pred_probs = log_clf.predict_proba(x_test)\n",
    "y_pred_probs[:10]"
   ]
  },
  {
   "cell_type": "code",
   "execution_count": 87,
   "metadata": {},
   "outputs": [
    {
     "data": {
      "text/plain": [
       "array([[0.9060513 , 0.0939487 ],\n",
       "       [0.79686173, 0.20313827],\n",
       "       [0.89546957, 0.10453043],\n",
       "       [0.87900941, 0.12099059],\n",
       "       [0.08249232, 0.91750768],\n",
       "       [0.92705195, 0.07294805],\n",
       "       [0.82399444, 0.17600556],\n",
       "       [0.86670782, 0.13329218],\n",
       "       [0.87942877, 0.12057123],\n",
       "       [0.88238016, 0.11761984]])"
      ]
     },
     "execution_count": 87,
     "metadata": {},
     "output_type": "execute_result"
    }
   ],
   "source": [
    "y_pred_probs = naive_clf.predict_proba(x_test)\n",
    "y_pred_probs[:10]"
   ]
  },
  {
   "cell_type": "code",
   "execution_count": 89,
   "metadata": {},
   "outputs": [
    {
     "data": {
      "text/plain": [
       "array([[0.79283395, 0.20716605],\n",
       "       [0.79283464, 0.20716536],\n",
       "       [0.79284705, 0.20715295],\n",
       "       [0.79284998, 0.20715002],\n",
       "       [0.12975023, 0.87024977],\n",
       "       [0.89595214, 0.10404786],\n",
       "       [0.79289115, 0.20710885],\n",
       "       [0.79290714, 0.20709286],\n",
       "       [0.79279071, 0.20720929],\n",
       "       [0.89597076, 0.10402924]])"
      ]
     },
     "execution_count": 89,
     "metadata": {},
     "output_type": "execute_result"
    }
   ],
   "source": [
    "y_pred_probs = svc_clf.predict_proba(x_test)\n",
    "y_pred_probs[:10]"
   ]
  },
  {
   "cell_type": "markdown",
   "metadata": {},
   "source": [
    "Soft voting classifier (voting='soft') predict the class with the highest class probability, averaged over all the individual classifiers. \n"
   ]
  },
  {
   "cell_type": "code",
   "execution_count": 90,
   "metadata": {},
   "outputs": [],
   "source": [
    "svc_clf_soft = SVC(C=1, kernel='linear', gamma='auto', probability=True)\n",
    "voting_clf_soft = VotingClassifier(estimators=[('lr', log_clf), \n",
    "                                               ('svc', svc_clf_soft), \n",
    "                                               ('naive', naive_clf)],\n",
    "                                   voting='soft', \n",
    "                                   weights = [0.40, 0.30, 0.30])"
   ]
  },
  {
   "cell_type": "code",
   "execution_count": 91,
   "metadata": {},
   "outputs": [
    {
     "name": "stdout",
     "output_type": "stream",
     "text": [
      "LogisticRegression 0.8645833333333334\n",
      "SVC 0.8541666666666666\n",
      "GaussianNB 0.8229166666666666\n",
      "VotingClassifier 0.8645833333333334\n"
     ]
    }
   ],
   "source": [
    "for clf_soft in (log_clf, svc_clf_soft, naive_clf, voting_clf_soft):\n",
    "    \n",
    "    clf_soft.fit(x_train, y_train)\n",
    "    y_pred = clf_soft.predict(x_test)\n",
    "    \n",
    "    print(clf_soft.__class__.__name__, accuracy_score(y_test, y_pred))"
   ]
  },
  {
   "cell_type": "markdown",
   "metadata": {},
   "source": [
    "## Bagging and Pasting"
   ]
  },
  {
   "cell_type": "markdown",
   "metadata": {},
   "source": [
    "Source: https://www.kaggle.com/maajdl/yeh-concret-data"
   ]
  },
  {
   "cell_type": "markdown",
   "metadata": {},
   "source": [
    "Cement -  kg in a m3 mixture [m3 - meter cubic]  \n",
    "Blast Furnace Slag - kg in a m3 mixture  \n",
    "Fly Ash - kg in a m3 mixture   \n",
    "Water - kg in a m3 mixture  \n",
    "Superplasticizer - kg in a m3 mixture  \n",
    "Coarse Aggregate - kg in a m3 mixture   \n",
    "Fine Aggregate - kg in a m3 mixture   \n",
    "Age - Day (1~365)   \n",
    "Concrete compressive strength - MPa [Megapascal (MPa) is a measure of the compressive strength of concrete. It lets                                        inspectors know how much pressure can be applied to the concrete before it cracks or fails]"
   ]
  },
  {
   "cell_type": "code",
   "execution_count": 92,
   "metadata": {},
   "outputs": [
    {
     "data": {
      "text/html": [
       "<div>\n",
       "<style scoped>\n",
       "    .dataframe tbody tr th:only-of-type {\n",
       "        vertical-align: middle;\n",
       "    }\n",
       "\n",
       "    .dataframe tbody tr th {\n",
       "        vertical-align: top;\n",
       "    }\n",
       "\n",
       "    .dataframe thead th {\n",
       "        text-align: right;\n",
       "    }\n",
       "</style>\n",
       "<table border=\"1\" class=\"dataframe\">\n",
       "  <thead>\n",
       "    <tr style=\"text-align: right;\">\n",
       "      <th></th>\n",
       "      <th>cement</th>\n",
       "      <th>slag</th>\n",
       "      <th>flyash</th>\n",
       "      <th>water</th>\n",
       "      <th>superplasticizer</th>\n",
       "      <th>coarseaggregate</th>\n",
       "      <th>fineaggregate</th>\n",
       "      <th>age</th>\n",
       "      <th>csMPa</th>\n",
       "    </tr>\n",
       "  </thead>\n",
       "  <tbody>\n",
       "    <tr>\n",
       "      <th>0</th>\n",
       "      <td>540.0</td>\n",
       "      <td>0.0</td>\n",
       "      <td>0.0</td>\n",
       "      <td>162.0</td>\n",
       "      <td>2.5</td>\n",
       "      <td>1040.0</td>\n",
       "      <td>676.0</td>\n",
       "      <td>28</td>\n",
       "      <td>79.99</td>\n",
       "    </tr>\n",
       "    <tr>\n",
       "      <th>1</th>\n",
       "      <td>540.0</td>\n",
       "      <td>0.0</td>\n",
       "      <td>0.0</td>\n",
       "      <td>162.0</td>\n",
       "      <td>2.5</td>\n",
       "      <td>1055.0</td>\n",
       "      <td>676.0</td>\n",
       "      <td>28</td>\n",
       "      <td>61.89</td>\n",
       "    </tr>\n",
       "    <tr>\n",
       "      <th>2</th>\n",
       "      <td>332.5</td>\n",
       "      <td>142.5</td>\n",
       "      <td>0.0</td>\n",
       "      <td>228.0</td>\n",
       "      <td>0.0</td>\n",
       "      <td>932.0</td>\n",
       "      <td>594.0</td>\n",
       "      <td>270</td>\n",
       "      <td>40.27</td>\n",
       "    </tr>\n",
       "    <tr>\n",
       "      <th>3</th>\n",
       "      <td>332.5</td>\n",
       "      <td>142.5</td>\n",
       "      <td>0.0</td>\n",
       "      <td>228.0</td>\n",
       "      <td>0.0</td>\n",
       "      <td>932.0</td>\n",
       "      <td>594.0</td>\n",
       "      <td>365</td>\n",
       "      <td>41.05</td>\n",
       "    </tr>\n",
       "    <tr>\n",
       "      <th>4</th>\n",
       "      <td>198.6</td>\n",
       "      <td>132.4</td>\n",
       "      <td>0.0</td>\n",
       "      <td>192.0</td>\n",
       "      <td>0.0</td>\n",
       "      <td>978.4</td>\n",
       "      <td>825.5</td>\n",
       "      <td>360</td>\n",
       "      <td>44.30</td>\n",
       "    </tr>\n",
       "  </tbody>\n",
       "</table>\n",
       "</div>"
      ],
      "text/plain": [
       "   cement   slag  flyash  water  superplasticizer  coarseaggregate  \\\n",
       "0   540.0    0.0     0.0  162.0               2.5           1040.0   \n",
       "1   540.0    0.0     0.0  162.0               2.5           1055.0   \n",
       "2   332.5  142.5     0.0  228.0               0.0            932.0   \n",
       "3   332.5  142.5     0.0  228.0               0.0            932.0   \n",
       "4   198.6  132.4     0.0  192.0               0.0            978.4   \n",
       "\n",
       "   fineaggregate  age  csMPa  \n",
       "0          676.0   28  79.99  \n",
       "1          676.0   28  61.89  \n",
       "2          594.0  270  40.27  \n",
       "3          594.0  365  41.05  \n",
       "4          825.5  360  44.30  "
      ]
     },
     "execution_count": 92,
     "metadata": {},
     "output_type": "execute_result"
    }
   ],
   "source": [
    "concrete_data = pd.read_csv('datasets/concrete_data.csv')\n",
    "concrete_data.head()"
   ]
  },
  {
   "cell_type": "code",
   "execution_count": 93,
   "metadata": {},
   "outputs": [
    {
     "name": "stdout",
     "output_type": "stream",
     "text": [
      "<class 'pandas.core.frame.DataFrame'>\n",
      "RangeIndex: 1030 entries, 0 to 1029\n",
      "Data columns (total 9 columns):\n",
      " #   Column            Non-Null Count  Dtype  \n",
      "---  ------            --------------  -----  \n",
      " 0   cement            1030 non-null   float64\n",
      " 1   slag              1030 non-null   float64\n",
      " 2   flyash            1030 non-null   float64\n",
      " 3   water             1030 non-null   float64\n",
      " 4   superplasticizer  1030 non-null   float64\n",
      " 5   coarseaggregate   1030 non-null   float64\n",
      " 6   fineaggregate     1030 non-null   float64\n",
      " 7   age               1030 non-null   int64  \n",
      " 8   csMPa             1030 non-null   float64\n",
      "dtypes: float64(8), int64(1)\n",
      "memory usage: 72.5 KB\n"
     ]
    }
   ],
   "source": [
    "concrete_data.info()"
   ]
  },
  {
   "cell_type": "code",
   "execution_count": 96,
   "metadata": {},
   "outputs": [
    {
     "data": {
      "text/html": [
       "<div>\n",
       "<style scoped>\n",
       "    .dataframe tbody tr th:only-of-type {\n",
       "        vertical-align: middle;\n",
       "    }\n",
       "\n",
       "    .dataframe tbody tr th {\n",
       "        vertical-align: top;\n",
       "    }\n",
       "\n",
       "    .dataframe thead th {\n",
       "        text-align: right;\n",
       "    }\n",
       "</style>\n",
       "<table border=\"1\" class=\"dataframe\">\n",
       "  <thead>\n",
       "    <tr style=\"text-align: right;\">\n",
       "      <th></th>\n",
       "      <th>cement</th>\n",
       "      <th>slag</th>\n",
       "      <th>flyash</th>\n",
       "      <th>water</th>\n",
       "      <th>superplasticizer</th>\n",
       "      <th>coarseaggregate</th>\n",
       "      <th>fineaggregate</th>\n",
       "      <th>age</th>\n",
       "      <th>csMPa</th>\n",
       "    </tr>\n",
       "  </thead>\n",
       "  <tbody>\n",
       "    <tr>\n",
       "      <th>count</th>\n",
       "      <td>1030.000000</td>\n",
       "      <td>1030.000000</td>\n",
       "      <td>1030.000000</td>\n",
       "      <td>1030.000000</td>\n",
       "      <td>1030.000000</td>\n",
       "      <td>1030.000000</td>\n",
       "      <td>1030.000000</td>\n",
       "      <td>1030.000000</td>\n",
       "      <td>1030.000000</td>\n",
       "    </tr>\n",
       "    <tr>\n",
       "      <th>mean</th>\n",
       "      <td>281.167864</td>\n",
       "      <td>73.895825</td>\n",
       "      <td>54.188350</td>\n",
       "      <td>181.567282</td>\n",
       "      <td>6.204660</td>\n",
       "      <td>972.918932</td>\n",
       "      <td>773.580485</td>\n",
       "      <td>45.662136</td>\n",
       "      <td>35.817961</td>\n",
       "    </tr>\n",
       "    <tr>\n",
       "      <th>std</th>\n",
       "      <td>104.506364</td>\n",
       "      <td>86.279342</td>\n",
       "      <td>63.997004</td>\n",
       "      <td>21.354219</td>\n",
       "      <td>5.973841</td>\n",
       "      <td>77.753954</td>\n",
       "      <td>80.175980</td>\n",
       "      <td>63.169912</td>\n",
       "      <td>16.705742</td>\n",
       "    </tr>\n",
       "    <tr>\n",
       "      <th>min</th>\n",
       "      <td>102.000000</td>\n",
       "      <td>0.000000</td>\n",
       "      <td>0.000000</td>\n",
       "      <td>121.800000</td>\n",
       "      <td>0.000000</td>\n",
       "      <td>801.000000</td>\n",
       "      <td>594.000000</td>\n",
       "      <td>1.000000</td>\n",
       "      <td>2.330000</td>\n",
       "    </tr>\n",
       "    <tr>\n",
       "      <th>25%</th>\n",
       "      <td>192.375000</td>\n",
       "      <td>0.000000</td>\n",
       "      <td>0.000000</td>\n",
       "      <td>164.900000</td>\n",
       "      <td>0.000000</td>\n",
       "      <td>932.000000</td>\n",
       "      <td>730.950000</td>\n",
       "      <td>7.000000</td>\n",
       "      <td>23.710000</td>\n",
       "    </tr>\n",
       "    <tr>\n",
       "      <th>50%</th>\n",
       "      <td>272.900000</td>\n",
       "      <td>22.000000</td>\n",
       "      <td>0.000000</td>\n",
       "      <td>185.000000</td>\n",
       "      <td>6.400000</td>\n",
       "      <td>968.000000</td>\n",
       "      <td>779.500000</td>\n",
       "      <td>28.000000</td>\n",
       "      <td>34.445000</td>\n",
       "    </tr>\n",
       "    <tr>\n",
       "      <th>75%</th>\n",
       "      <td>350.000000</td>\n",
       "      <td>142.950000</td>\n",
       "      <td>118.300000</td>\n",
       "      <td>192.000000</td>\n",
       "      <td>10.200000</td>\n",
       "      <td>1029.400000</td>\n",
       "      <td>824.000000</td>\n",
       "      <td>56.000000</td>\n",
       "      <td>46.135000</td>\n",
       "    </tr>\n",
       "    <tr>\n",
       "      <th>max</th>\n",
       "      <td>540.000000</td>\n",
       "      <td>359.400000</td>\n",
       "      <td>200.100000</td>\n",
       "      <td>247.000000</td>\n",
       "      <td>32.200000</td>\n",
       "      <td>1145.000000</td>\n",
       "      <td>992.600000</td>\n",
       "      <td>365.000000</td>\n",
       "      <td>82.600000</td>\n",
       "    </tr>\n",
       "  </tbody>\n",
       "</table>\n",
       "</div>"
      ],
      "text/plain": [
       "            cement         slag       flyash        water  superplasticizer  \\\n",
       "count  1030.000000  1030.000000  1030.000000  1030.000000       1030.000000   \n",
       "mean    281.167864    73.895825    54.188350   181.567282          6.204660   \n",
       "std     104.506364    86.279342    63.997004    21.354219          5.973841   \n",
       "min     102.000000     0.000000     0.000000   121.800000          0.000000   \n",
       "25%     192.375000     0.000000     0.000000   164.900000          0.000000   \n",
       "50%     272.900000    22.000000     0.000000   185.000000          6.400000   \n",
       "75%     350.000000   142.950000   118.300000   192.000000         10.200000   \n",
       "max     540.000000   359.400000   200.100000   247.000000         32.200000   \n",
       "\n",
       "       coarseaggregate  fineaggregate          age        csMPa  \n",
       "count      1030.000000    1030.000000  1030.000000  1030.000000  \n",
       "mean        972.918932     773.580485    45.662136    35.817961  \n",
       "std          77.753954      80.175980    63.169912    16.705742  \n",
       "min         801.000000     594.000000     1.000000     2.330000  \n",
       "25%         932.000000     730.950000     7.000000    23.710000  \n",
       "50%         968.000000     779.500000    28.000000    34.445000  \n",
       "75%        1029.400000     824.000000    56.000000    46.135000  \n",
       "max        1145.000000     992.600000   365.000000    82.600000  "
      ]
     },
     "execution_count": 96,
     "metadata": {},
     "output_type": "execute_result"
    }
   ],
   "source": [
    "concrete_data.describe()"
   ]
  },
  {
   "cell_type": "code",
   "execution_count": 103,
   "metadata": {},
   "outputs": [
    {
     "data": {
      "image/png": "[encoded data removed]",
      "text/plain": [
       "<Figure size 576x288 with 1 Axes>"
      ]
     },
     "metadata": {
      "needs_background": "light"
     },
     "output_type": "display_data"
    }
   ],
   "source": [
    "fig, ax = plt.subplots(figsize=(8,4))\n",
    "plt.scatter(concrete_data['cement'], concrete_data['csMPa'], s = 10)\n",
    "plt.title(\"Cement Content by Strength\")\n",
    "plt.xlabel('cement')\n",
    "ax = plt.ylabel('csMPa')"
   ]
  },
  {
   "cell_type": "code",
   "execution_count": 107,
   "metadata": {},
   "outputs": [
    {
     "data": {
      "image/png": "[encoded data removed]",
      "text/plain": [
       "<Figure size 576x288 with 1 Axes>"
      ]
     },
     "metadata": {
      "needs_background": "light"
     },
     "output_type": "display_data"
    }
   ],
   "source": [
    "fig, ax = plt.subplots(figsize=(8,4))\n",
    "plt.scatter(concrete_data['water'], concrete_data['csMPa'], s= 10)\n",
    "plt.title(\"Cement Strength by Water Content\")\n",
    "plt.xlabel('water')\n",
    "ax = plt.ylabel('csMPa')"
   ]
  },
  {
   "cell_type": "code",
   "execution_count": 113,
   "metadata": {},
   "outputs": [
    {
     "data": {
      "image/png": "[encoded data removed]",
      "text/plain": [
       "<Figure size 576x288 with 1 Axes>"
      ]
     },
     "metadata": {
      "needs_background": "light"
     },
     "output_type": "display_data"
    }
   ],
   "source": [
    "fig, ax = plt.subplots(figsize=(8,4))\n",
    "plt.scatter(concrete_data['superplasticizer'], concrete_data['csMPa'], s = 10)\n",
    "plt.title(\"Cement Strength by Amount of Plasticizer\")\n",
    "plt.xlabel('superplasticizer')\n",
    "ax = plt.ylabel('csMPa')"
   ]
  },
  {
   "cell_type": "code",
   "execution_count": 120,
   "metadata": {},
   "outputs": [
    {
     "data": {
      "image/png": "[encoded data removed]",
      "text/plain": [
       "<Figure size 576x288 with 1 Axes>"
      ]
     },
     "metadata": {
      "needs_background": "light"
     },
     "output_type": "display_data"
    }
   ],
   "source": [
    "fig, ax = plt.subplots(figsize=(8,4))\n",
    "plt.scatter(concrete_data['water'], concrete_data['superplasticizer'], s = 10)\n",
    "plt.title(\"Superplasticizer by Amount of Water\")\n",
    "plt.xlabel('water')\n",
    "ax = plt.ylabel('superplasticizer')"
   ]
  },
  {
   "cell_type": "code",
   "execution_count": 118,
   "metadata": {},
   "outputs": [
    {
     "data": {
      "image/png": "[encoded data removed]",
      "text/plain": [
       "<Figure size 576x288 with 1 Axes>"
      ]
     },
     "metadata": {
      "needs_background": "light"
     },
     "output_type": "display_data"
    }
   ],
   "source": [
    "# Striplot is like scatter plot for categorical data\n",
    "fig, ax = plt.subplots(figsize=(8,4))\n",
    "sns.stripplot(x = concrete_data['age'], y = concrete_data['csMPa'])\n",
    "ax = plt.title(\"Concrete Strength by Age\")"
   ]
  },
  {
   "cell_type": "code",
   "execution_count": 121,
   "metadata": {},
   "outputs": [
    {
     "data": {
      "text/html": [
       "<div>\n",
       "<style scoped>\n",
       "    .dataframe tbody tr th:only-of-type {\n",
       "        vertical-align: middle;\n",
       "    }\n",
       "\n",
       "    .dataframe tbody tr th {\n",
       "        vertical-align: top;\n",
       "    }\n",
       "\n",
       "    .dataframe thead th {\n",
       "        text-align: right;\n",
       "    }\n",
       "</style>\n",
       "<table border=\"1\" class=\"dataframe\">\n",
       "  <thead>\n",
       "    <tr style=\"text-align: right;\">\n",
       "      <th></th>\n",
       "      <th>cement</th>\n",
       "      <th>slag</th>\n",
       "      <th>flyash</th>\n",
       "      <th>water</th>\n",
       "      <th>superplasticizer</th>\n",
       "      <th>coarseaggregate</th>\n",
       "      <th>fineaggregate</th>\n",
       "      <th>age</th>\n",
       "      <th>csMPa</th>\n",
       "    </tr>\n",
       "  </thead>\n",
       "  <tbody>\n",
       "    <tr>\n",
       "      <th>cement</th>\n",
       "      <td>1.000000</td>\n",
       "      <td>-0.275216</td>\n",
       "      <td>-0.397467</td>\n",
       "      <td>-0.081587</td>\n",
       "      <td>0.092386</td>\n",
       "      <td>-0.109349</td>\n",
       "      <td>-0.222718</td>\n",
       "      <td>0.081946</td>\n",
       "      <td>0.497832</td>\n",
       "    </tr>\n",
       "    <tr>\n",
       "      <th>slag</th>\n",
       "      <td>-0.275216</td>\n",
       "      <td>1.000000</td>\n",
       "      <td>-0.323580</td>\n",
       "      <td>0.107252</td>\n",
       "      <td>0.043270</td>\n",
       "      <td>-0.283999</td>\n",
       "      <td>-0.281603</td>\n",
       "      <td>-0.044246</td>\n",
       "      <td>0.134829</td>\n",
       "    </tr>\n",
       "    <tr>\n",
       "      <th>flyash</th>\n",
       "      <td>-0.397467</td>\n",
       "      <td>-0.323580</td>\n",
       "      <td>1.000000</td>\n",
       "      <td>-0.256984</td>\n",
       "      <td>0.377503</td>\n",
       "      <td>-0.009961</td>\n",
       "      <td>0.079108</td>\n",
       "      <td>-0.154371</td>\n",
       "      <td>-0.105755</td>\n",
       "    </tr>\n",
       "    <tr>\n",
       "      <th>water</th>\n",
       "      <td>-0.081587</td>\n",
       "      <td>0.107252</td>\n",
       "      <td>-0.256984</td>\n",
       "      <td>1.000000</td>\n",
       "      <td>-0.657533</td>\n",
       "      <td>-0.182294</td>\n",
       "      <td>-0.450661</td>\n",
       "      <td>0.277618</td>\n",
       "      <td>-0.289633</td>\n",
       "    </tr>\n",
       "    <tr>\n",
       "      <th>superplasticizer</th>\n",
       "      <td>0.092386</td>\n",
       "      <td>0.043270</td>\n",
       "      <td>0.377503</td>\n",
       "      <td>-0.657533</td>\n",
       "      <td>1.000000</td>\n",
       "      <td>-0.265999</td>\n",
       "      <td>0.222691</td>\n",
       "      <td>-0.192700</td>\n",
       "      <td>0.366079</td>\n",
       "    </tr>\n",
       "    <tr>\n",
       "      <th>coarseaggregate</th>\n",
       "      <td>-0.109349</td>\n",
       "      <td>-0.283999</td>\n",
       "      <td>-0.009961</td>\n",
       "      <td>-0.182294</td>\n",
       "      <td>-0.265999</td>\n",
       "      <td>1.000000</td>\n",
       "      <td>-0.178481</td>\n",
       "      <td>-0.003016</td>\n",
       "      <td>-0.164935</td>\n",
       "    </tr>\n",
       "    <tr>\n",
       "      <th>fineaggregate</th>\n",
       "      <td>-0.222718</td>\n",
       "      <td>-0.281603</td>\n",
       "      <td>0.079108</td>\n",
       "      <td>-0.450661</td>\n",
       "      <td>0.222691</td>\n",
       "      <td>-0.178481</td>\n",
       "      <td>1.000000</td>\n",
       "      <td>-0.156095</td>\n",
       "      <td>-0.167241</td>\n",
       "    </tr>\n",
       "    <tr>\n",
       "      <th>age</th>\n",
       "      <td>0.081946</td>\n",
       "      <td>-0.044246</td>\n",
       "      <td>-0.154371</td>\n",
       "      <td>0.277618</td>\n",
       "      <td>-0.192700</td>\n",
       "      <td>-0.003016</td>\n",
       "      <td>-0.156095</td>\n",
       "      <td>1.000000</td>\n",
       "      <td>0.328873</td>\n",
       "    </tr>\n",
       "    <tr>\n",
       "      <th>csMPa</th>\n",
       "      <td>0.497832</td>\n",
       "      <td>0.134829</td>\n",
       "      <td>-0.105755</td>\n",
       "      <td>-0.289633</td>\n",
       "      <td>0.366079</td>\n",
       "      <td>-0.164935</td>\n",
       "      <td>-0.167241</td>\n",
       "      <td>0.328873</td>\n",
       "      <td>1.000000</td>\n",
       "    </tr>\n",
       "  </tbody>\n",
       "</table>\n",
       "</div>"
      ],
      "text/plain": [
       "                    cement      slag    flyash     water  superplasticizer  \\\n",
       "cement            1.000000 -0.275216 -0.397467 -0.081587          0.092386   \n",
       "slag             -0.275216  1.000000 -0.323580  0.107252          0.043270   \n",
       "flyash           -0.397467 -0.323580  1.000000 -0.256984          0.377503   \n",
       "water            -0.081587  0.107252 -0.256984  1.000000         -0.657533   \n",
       "superplasticizer  0.092386  0.043270  0.377503 -0.657533          1.000000   \n",
       "coarseaggregate  -0.109349 -0.283999 -0.009961 -0.182294         -0.265999   \n",
       "fineaggregate    -0.222718 -0.281603  0.079108 -0.450661          0.222691   \n",
       "age               0.081946 -0.044246 -0.154371  0.277618         -0.192700   \n",
       "csMPa             0.497832  0.134829 -0.105755 -0.289633          0.366079   \n",
       "\n",
       "                  coarseaggregate  fineaggregate       age     csMPa  \n",
       "cement                  -0.109349      -0.222718  0.081946  0.497832  \n",
       "slag                    -0.283999      -0.281603 -0.044246  0.134829  \n",
       "flyash                  -0.009961       0.079108 -0.154371 -0.105755  \n",
       "water                   -0.182294      -0.450661  0.277618 -0.289633  \n",
       "superplasticizer        -0.265999       0.222691 -0.192700  0.366079  \n",
       "coarseaggregate          1.000000      -0.178481 -0.003016 -0.164935  \n",
       "fineaggregate           -0.178481       1.000000 -0.156095 -0.167241  \n",
       "age                     -0.003016      -0.156095  1.000000  0.328873  \n",
       "csMPa                   -0.164935      -0.167241  0.328873  1.000000  "
      ]
     },
     "execution_count": 121,
     "metadata": {},
     "output_type": "execute_result"
    }
   ],
   "source": [
    "concrete_data_corr = concrete_data.corr()\n",
    "concrete_data_corr"
   ]
  },
  {
   "cell_type": "code",
   "execution_count": 123,
   "metadata": {},
   "outputs": [
    {
     "data": {
      "image/png": "[encoded data removed]",
      "text/plain": [
       "<Figure size 576x432 with 2 Axes>"
      ]
     },
     "metadata": {
      "needs_background": "light"
     },
     "output_type": "display_data"
    }
   ],
   "source": [
    "fig, ax = plt.subplots(figsize=(8,6))\n",
    "ax = sns.heatmap(concrete_data_corr, annot=True)"
   ]
  },
  {
   "cell_type": "markdown",
   "metadata": {},
   "source": [
    "The age and amount of superplasticizer is positively correlated with the strength of concrete. The amount of water is negatively correlated with the strength."
   ]
  },
  {
   "cell_type": "code",
   "execution_count": 125,
   "metadata": {},
   "outputs": [],
   "source": [
    "X = concrete_data.drop('csMPa', axis=1)\n",
    "Y = concrete_data['csMPa']\n",
    "x_train, x_test, y_train, y_test = train_test_split(X, Y, test_size=0.2)"
   ]
  },
  {
   "cell_type": "markdown",
   "metadata": {},
   "source": [
    "## Pasting - without replacement"
   ]
  },
  {
   "cell_type": "markdown",
   "metadata": {},
   "source": [
    "Trains on different subsets of the training data"
   ]
  },
  {
   "cell_type": "code",
   "execution_count": 126,
   "metadata": {},
   "outputs": [],
   "source": [
    "# Bootstrap = False. Max samples = 1 means all samples are used\n",
    "bag_reg = BaggingRegressor(DecisionTreeRegressor(), \n",
    "                           n_estimators = 500,\n",
    "                           bootstrap = False,\n",
    "                           max_samples = 1.0,\n",
    "                           n_jobs = -1)"
   ]
  },
  {
   "cell_type": "code",
   "execution_count": 127,
   "metadata": {},
   "outputs": [
    {
     "data": {
      "text/plain": [
       "BaggingRegressor(base_estimator=DecisionTreeRegressor(), bootstrap=False,\n",
       "                 n_estimators=500, n_jobs=-1)"
      ]
     },
     "execution_count": 127,
     "metadata": {},
     "output_type": "execute_result"
    }
   ],
   "source": [
    "bag_reg.fit(x_train, y_train)"
   ]
  },
  {
   "cell_type": "code",
   "execution_count": 128,
   "metadata": {},
   "outputs": [],
   "source": [
    "y_pred = bag_reg.predict(x_test)"
   ]
  },
  {
   "cell_type": "code",
   "execution_count": 129,
   "metadata": {},
   "outputs": [
    {
     "data": {
      "text/html": [
       "<div>\n",
       "<style scoped>\n",
       "    .dataframe tbody tr th:only-of-type {\n",
       "        vertical-align: middle;\n",
       "    }\n",
       "\n",
       "    .dataframe tbody tr th {\n",
       "        vertical-align: top;\n",
       "    }\n",
       "\n",
       "    .dataframe thead th {\n",
       "        text-align: right;\n",
       "    }\n",
       "</style>\n",
       "<table border=\"1\" class=\"dataframe\">\n",
       "  <thead>\n",
       "    <tr style=\"text-align: right;\">\n",
       "      <th></th>\n",
       "      <th>Actual</th>\n",
       "      <th>Predicted</th>\n",
       "    </tr>\n",
       "  </thead>\n",
       "  <tbody>\n",
       "    <tr>\n",
       "      <th>732</th>\n",
       "      <td>9.01</td>\n",
       "      <td>17.62282</td>\n",
       "    </tr>\n",
       "    <tr>\n",
       "      <th>232</th>\n",
       "      <td>50.77</td>\n",
       "      <td>53.90000</td>\n",
       "    </tr>\n",
       "    <tr>\n",
       "      <th>674</th>\n",
       "      <td>13.57</td>\n",
       "      <td>11.41000</td>\n",
       "    </tr>\n",
       "    <tr>\n",
       "      <th>89</th>\n",
       "      <td>39.30</td>\n",
       "      <td>34.79524</td>\n",
       "    </tr>\n",
       "    <tr>\n",
       "      <th>842</th>\n",
       "      <td>15.57</td>\n",
       "      <td>15.57000</td>\n",
       "    </tr>\n",
       "    <tr>\n",
       "      <th>846</th>\n",
       "      <td>65.91</td>\n",
       "      <td>65.91000</td>\n",
       "    </tr>\n",
       "    <tr>\n",
       "      <th>243</th>\n",
       "      <td>40.86</td>\n",
       "      <td>35.34000</td>\n",
       "    </tr>\n",
       "    <tr>\n",
       "      <th>19</th>\n",
       "      <td>42.62</td>\n",
       "      <td>42.23000</td>\n",
       "    </tr>\n",
       "    <tr>\n",
       "      <th>618</th>\n",
       "      <td>26.94</td>\n",
       "      <td>27.63000</td>\n",
       "    </tr>\n",
       "    <tr>\n",
       "      <th>247</th>\n",
       "      <td>39.59</td>\n",
       "      <td>36.40416</td>\n",
       "    </tr>\n",
       "  </tbody>\n",
       "</table>\n",
       "</div>"
      ],
      "text/plain": [
       "     Actual  Predicted\n",
       "732    9.01   17.62282\n",
       "232   50.77   53.90000\n",
       "674   13.57   11.41000\n",
       "89    39.30   34.79524\n",
       "842   15.57   15.57000\n",
       "846   65.91   65.91000\n",
       "243   40.86   35.34000\n",
       "19    42.62   42.23000\n",
       "618   26.94   27.63000\n",
       "247   39.59   36.40416"
      ]
     },
     "execution_count": 129,
     "metadata": {},
     "output_type": "execute_result"
    }
   ],
   "source": [
    "df = pd.DataFrame({\n",
    "    'Actual': y_test,\n",
    "    'Predicted': y_pred\n",
    "})\n",
    "\n",
    "df.sample(10)"
   ]
  },
  {
   "cell_type": "code",
   "execution_count": 132,
   "metadata": {},
   "outputs": [
    {
     "data": {
      "text/plain": [
       "0.8785978411084701"
      ]
     },
     "execution_count": 132,
     "metadata": {},
     "output_type": "execute_result"
    }
   ],
   "source": [
    "r2_score(y_test, y_pred)"
   ]
  },
  {
   "cell_type": "code",
   "execution_count": 135,
   "metadata": {},
   "outputs": [
    {
     "data": {
      "image/png": "[encoded data removed]",
      "text/plain": [
       "<Figure size 1008x432 with 1 Axes>"
      ]
     },
     "metadata": {
      "needs_background": "light"
     },
     "output_type": "display_data"
    }
   ],
   "source": [
    "plt.figure(figsize = (14,6))\n",
    "plt.plot(y_pred, label='Predicted')\n",
    "plt.plot(y_test.values, label='Actual')\n",
    "plt.ylabel('csMPa', fontsize=15)\n",
    "plt.title(\"Predicted Values against Actual Values\", fontsize = 20)\n",
    "plt.legend()\n",
    "plt.show()"
   ]
  },
  {
   "cell_type": "markdown",
   "metadata": {},
   "source": [
    "## Bagging - with replacement"
   ]
  },
  {
   "cell_type": "markdown",
   "metadata": {},
   "source": [
    "So 63% of the training instances are sampled on average for each predictor. By setting oob_score=True we are doing an automatic evaluation after training using the remaining 37% of the training instance which is not sampled and this data is called out-of-bags(oob)."
   ]
  },
  {
   "cell_type": "code",
   "execution_count": 136,
   "metadata": {},
   "outputs": [
    {
     "data": {
      "text/plain": [
       "BaggingRegressor(base_estimator=DecisionTreeRegressor(), max_samples=0.8,\n",
       "                 n_estimators=500, n_jobs=-1, oob_score=True)"
      ]
     },
     "execution_count": 136,
     "metadata": {},
     "output_type": "execute_result"
    }
   ],
   "source": [
    "# Here max samples is 0.8. Bootstrap = True means there is replacement. Out of bag evaluation = True then after training each\n",
    "## predictor, those not used during training are used to evaluate the predictor.\n",
    "bag_reg = BaggingRegressor(DecisionTreeRegressor(), \n",
    "                           n_estimators = 500,\n",
    "                           bootstrap = True,\n",
    "                           max_samples = 0.8,\n",
    "                           n_jobs = -1,\n",
    "                           oob_score = True)\n",
    "\n",
    "bag_reg.fit(x_train, y_train)"
   ]
  },
  {
   "cell_type": "code",
   "execution_count": 137,
   "metadata": {},
   "outputs": [
    {
     "data": {
      "text/plain": [
       "0.9056156381214339"
      ]
     },
     "execution_count": 137,
     "metadata": {},
     "output_type": "execute_result"
    }
   ],
   "source": [
    "bag_reg.oob_score_"
   ]
  },
  {
   "cell_type": "code",
   "execution_count": 138,
   "metadata": {},
   "outputs": [
    {
     "data": {
      "text/plain": [
       "0.9259414664051738"
      ]
     },
     "execution_count": 138,
     "metadata": {},
     "output_type": "execute_result"
    }
   ],
   "source": [
    "y_pred = bag_reg.predict(x_test)\n",
    "r2_score(y_test, y_pred)"
   ]
  },
  {
   "cell_type": "markdown",
   "metadata": {},
   "source": [
    "## Random Subspaces"
   ]
  },
  {
   "cell_type": "code",
   "execution_count": 139,
   "metadata": {},
   "outputs": [
    {
     "data": {
      "text/plain": [
       "BaggingRegressor(base_estimator=DecisionTreeRegressor(), bootstrap=False,\n",
       "                 bootstrap_features=True, max_features=0.8, n_estimators=500,\n",
       "                 n_jobs=-1)"
      ]
     },
     "execution_count": 139,
     "metadata": {},
     "output_type": "execute_result"
    }
   ],
   "source": [
    "# All the samples are used for each predictor. Each only trained with a fraction of the features (bootstrap features = True).\n",
    "## Max features is 0.8\n",
    "bag_reg = BaggingRegressor(DecisionTreeRegressor(), \n",
    "                           n_estimators=500,\n",
    "                           bootstrap=False,\n",
    "                           max_samples=1.0,\n",
    "                           bootstrap_features=True,\n",
    "                           max_features=0.8,\n",
    "                           n_jobs=-1)\n",
    "\n",
    "bag_reg.fit(x_train, y_train)"
   ]
  },
  {
   "cell_type": "code",
   "execution_count": 140,
   "metadata": {},
   "outputs": [
    {
     "data": {
      "text/plain": [
       "0.8326537524477717"
      ]
     },
     "execution_count": 140,
     "metadata": {},
     "output_type": "execute_result"
    }
   ],
   "source": [
    "y_pred = bag_reg.predict(x_test)\n",
    "r2_score(y_test, y_pred)"
   ]
  },
  {
   "cell_type": "markdown",
   "metadata": {},
   "source": [
    "# Classification Model Using Pasting, Bagging and Random Patches "
   ]
  },
  {
   "cell_type": "markdown",
   "metadata": {},
   "source": [
    "## Pasting"
   ]
  },
  {
   "cell_type": "code",
   "execution_count": 142,
   "metadata": {},
   "outputs": [],
   "source": [
    "X = bank_data.drop('CreditCard', axis=1)\n",
    "Y = bank_data['CreditCard']\n",
    "x_train, x_test, y_train, y_test = train_test_split(X, Y, test_size=0.2)"
   ]
  },
  {
   "cell_type": "code",
   "execution_count": 144,
   "metadata": {},
   "outputs": [],
   "source": [
    "bag_clf = BaggingClassifier(DecisionTreeClassifier(), \n",
    "                            n_estimators = 400,\n",
    "                            bootstrap = False,\n",
    "                            max_samples = 1.0,\n",
    "                            n_jobs = -1)"
   ]
  },
  {
   "cell_type": "code",
   "execution_count": 145,
   "metadata": {},
   "outputs": [
    {
     "data": {
      "text/plain": [
       "BaggingClassifier(base_estimator=DecisionTreeClassifier(), bootstrap=False,\n",
       "                  n_estimators=400, n_jobs=-1)"
      ]
     },
     "execution_count": 145,
     "metadata": {},
     "output_type": "execute_result"
    }
   ],
   "source": [
    "bag_clf.fit(x_train, y_train)"
   ]
  },
  {
   "cell_type": "code",
   "execution_count": 146,
   "metadata": {},
   "outputs": [],
   "source": [
    "y_pred = bag_clf.predict(x_test)"
   ]
  },
  {
   "cell_type": "code",
   "execution_count": 147,
   "metadata": {},
   "outputs": [
    {
     "data": {
      "text/plain": [
       "0.7291666666666666"
      ]
     },
     "execution_count": 147,
     "metadata": {},
     "output_type": "execute_result"
    }
   ],
   "source": [
    "accuracy_score(y_test, y_pred)"
   ]
  },
  {
   "cell_type": "markdown",
   "metadata": {},
   "source": [
    "## Bagging"
   ]
  },
  {
   "cell_type": "code",
   "execution_count": 149,
   "metadata": {},
   "outputs": [
    {
     "data": {
      "text/plain": [
       "BaggingClassifier(base_estimator=DecisionTreeClassifier(), max_samples=0.7,\n",
       "                  n_estimators=400, n_jobs=-1, oob_score=True)"
      ]
     },
     "execution_count": 149,
     "metadata": {},
     "output_type": "execute_result"
    }
   ],
   "source": [
    "bag_clf = BaggingClassifier(DecisionTreeClassifier(), \n",
    "                            n_estimators = 400,\n",
    "                            bootstrap = True,\n",
    "                            max_samples = 0.7,\n",
    "                            n_jobs = -1,\n",
    "                            oob_score = True)\n",
    "\n",
    "bag_clf.fit(x_train, y_train)"
   ]
  },
  {
   "cell_type": "code",
   "execution_count": 150,
   "metadata": {},
   "outputs": [
    {
     "data": {
      "text/plain": [
       "0.7838541666666666"
      ]
     },
     "execution_count": 150,
     "metadata": {},
     "output_type": "execute_result"
    }
   ],
   "source": [
    "bag_clf.oob_score_"
   ]
  },
  {
   "cell_type": "code",
   "execution_count": 151,
   "metadata": {},
   "outputs": [
    {
     "data": {
      "text/plain": [
       "0.8020833333333334"
      ]
     },
     "execution_count": 151,
     "metadata": {},
     "output_type": "execute_result"
    }
   ],
   "source": [
    "y_pred = bag_clf.predict(x_test)\n",
    "\n",
    "accuracy_score(y_test, y_pred)"
   ]
  },
  {
   "cell_type": "markdown",
   "metadata": {},
   "source": [
    "## Random Patches"
   ]
  },
  {
   "cell_type": "markdown",
   "metadata": {},
   "source": [
    "Use sample of features AND samples to train predictors. Max samples is a number not proportion here"
   ]
  },
  {
   "cell_type": "code",
   "execution_count": 152,
   "metadata": {},
   "outputs": [
    {
     "data": {
      "text/plain": [
       "BaggingClassifier(base_estimator=DecisionTreeClassifier(), bootstrap=False,\n",
       "                  bootstrap_features=True, max_features=0.8, max_samples=100,\n",
       "                  n_estimators=400, n_jobs=-1)"
      ]
     },
     "execution_count": 152,
     "metadata": {},
     "output_type": "execute_result"
    }
   ],
   "source": [
    "bag_clf = BaggingClassifier(DecisionTreeClassifier(), \n",
    "                            n_estimators = 400,\n",
    "                            bootstrap = False,\n",
    "                            max_samples = 100,\n",
    "                            bootstrap_features = True,\n",
    "                            max_features = 0.8,\n",
    "                            n_jobs = -1)\n",
    "\n",
    "bag_clf.fit(x_train, y_train)"
   ]
  },
  {
   "cell_type": "code",
   "execution_count": 153,
   "metadata": {},
   "outputs": [
    {
     "data": {
      "text/plain": [
       "0.7916666666666666"
      ]
     },
     "execution_count": 153,
     "metadata": {},
     "output_type": "execute_result"
    }
   ],
   "source": [
    "y_pred = bag_clf.predict(x_test)\n",
    "\n",
    "accuracy_score(y_test, y_pred)"
   ]
  },
  {
   "cell_type": "code",
   "execution_count": 154,
   "metadata": {},
   "outputs": [
    {
     "name": "stdout",
     "output_type": "stream",
     "text": [
      "              precision    recall  f1-score   support\n",
      "\n",
      "           0       0.82      0.91      0.86        69\n",
      "           1       0.68      0.48      0.57        27\n",
      "\n",
      "    accuracy                           0.79        96\n",
      "   macro avg       0.75      0.70      0.71        96\n",
      "weighted avg       0.78      0.79      0.78        96\n",
      "\n"
     ]
    }
   ],
   "source": [
    "print(classification_report(y_test, y_pred))"
   ]
  },
  {
   "cell_type": "markdown",
   "metadata": {},
   "source": [
    "# Random Forest Regressor"
   ]
  },
  {
   "cell_type": "markdown",
   "metadata": {},
   "source": [
    "Equivalent to the Decision Tree Regressor and the Bagging Regressor"
   ]
  },
  {
   "cell_type": "code",
   "execution_count": 157,
   "metadata": {},
   "outputs": [],
   "source": [
    "X = concrete_data.drop('csMPa', axis=1)\n",
    "Y = concrete_data['csMPa']\n",
    "x_train, x_test, y_train, y_test = train_test_split(X, Y, test_size=0.2)"
   ]
  },
  {
   "cell_type": "code",
   "execution_count": 158,
   "metadata": {},
   "outputs": [
    {
     "data": {
      "text/plain": [
       "RandomForestRegressor(max_leaf_nodes=12, n_estimators=600, n_jobs=-1)"
      ]
     },
     "execution_count": 158,
     "metadata": {},
     "output_type": "execute_result"
    }
   ],
   "source": [
    "rnd_reg = RandomForestRegressor(n_estimators=600, max_leaf_nodes=12, n_jobs=-1)\n",
    "rnd_reg.fit(x_train, y_train)"
   ]
  },
  {
   "cell_type": "code",
   "execution_count": 159,
   "metadata": {},
   "outputs": [
    {
     "data": {
      "text/plain": [
       "0.7252321238234951"
      ]
     },
     "execution_count": 159,
     "metadata": {},
     "output_type": "execute_result"
    }
   ],
   "source": [
    "y_pred = rnd_reg.predict(x_test)\n",
    "r2_score(y_test, y_pred)"
   ]
  },
  {
   "cell_type": "code",
   "execution_count": 160,
   "metadata": {},
   "outputs": [
    {
     "data": {
      "text/plain": [
       "age                 0.387356\n",
       "cement              0.378992\n",
       "water               0.120647\n",
       "slag                0.062348\n",
       "superplasticizer    0.036105\n",
       "flyash              0.006522\n",
       "fineaggregate       0.004259\n",
       "coarseaggregate     0.003771\n",
       "dtype: float64"
      ]
     },
     "execution_count": 160,
     "metadata": {},
     "output_type": "execute_result"
    }
   ],
   "source": [
    "important_features = pd.Series(rnd_reg.feature_importances_, index=X.columns).\\\n",
    "                        sort_values(ascending=False)\n",
    "\n",
    "important_features"
   ]
  },
  {
   "cell_type": "markdown",
   "metadata": {},
   "source": [
    "## Bagging Regressor (same as the Random Forest)"
   ]
  },
  {
   "cell_type": "code",
   "execution_count": 161,
   "metadata": {},
   "outputs": [
    {
     "data": {
      "text/plain": [
       "BaggingRegressor(base_estimator=DecisionTreeRegressor(max_leaf_nodes=12,\n",
       "                                                      splitter='random'),\n",
       "                 n_estimators=600, n_jobs=-1)"
      ]
     },
     "execution_count": 161,
     "metadata": {},
     "output_type": "execute_result"
    }
   ],
   "source": [
    "bag_reg = BaggingRegressor(DecisionTreeRegressor(splitter='random', max_leaf_nodes=12), \n",
    "                                                 n_estimators=600,\n",
    "                                                 bootstrap=True,\n",
    "                                                 max_samples=1.0,\n",
    "                                                 n_jobs=-1)\n",
    "bag_reg.fit(x_train, y_train)"
   ]
  },
  {
   "cell_type": "code",
   "execution_count": 162,
   "metadata": {},
   "outputs": [
    {
     "data": {
      "text/plain": [
       "0.686197921987159"
      ]
     },
     "execution_count": 162,
     "metadata": {},
     "output_type": "execute_result"
    }
   ],
   "source": [
    "y_pred = bag_reg.predict(x_test)\n",
    "\n",
    "r2_score(y_test, y_pred)"
   ]
  },
  {
   "cell_type": "markdown",
   "metadata": {},
   "source": [
    "The score is lower so the random forest did better - maybe due to extra randomness"
   ]
  },
  {
   "cell_type": "markdown",
   "metadata": {},
   "source": [
    "## Extra Trees Regressor"
   ]
  },
  {
   "cell_type": "markdown",
   "metadata": {},
   "source": [
    "Use randomness in the splitting threshold"
   ]
  },
  {
   "cell_type": "code",
   "execution_count": 164,
   "metadata": {},
   "outputs": [
    {
     "data": {
      "text/plain": [
       "ExtraTreesRegressor(max_leaf_nodes=12, n_estimators=600, n_jobs=-1)"
      ]
     },
     "execution_count": 164,
     "metadata": {},
     "output_type": "execute_result"
    }
   ],
   "source": [
    "extra_reg = ExtraTreesRegressor(n_estimators=600, max_leaf_nodes=12, n_jobs=-1)\n",
    "extra_reg.fit(x_train, y_train)"
   ]
  },
  {
   "cell_type": "code",
   "execution_count": 165,
   "metadata": {},
   "outputs": [
    {
     "data": {
      "text/plain": [
       "0.6881220714943002"
      ]
     },
     "execution_count": 165,
     "metadata": {},
     "output_type": "execute_result"
    }
   ],
   "source": [
    "y_pred = extra_reg.predict(x_test)\n",
    "\n",
    "r2_score(y_test, y_pred)"
   ]
  },
  {
   "cell_type": "code",
   "execution_count": 166,
   "metadata": {},
   "outputs": [
    {
     "data": {
      "text/plain": [
       "age                 0.366174\n",
       "cement              0.328453\n",
       "water               0.098749\n",
       "superplasticizer    0.096260\n",
       "slag                0.052607\n",
       "flyash              0.035432\n",
       "fineaggregate       0.015598\n",
       "coarseaggregate     0.006727\n",
       "dtype: float64"
      ]
     },
     "execution_count": 166,
     "metadata": {},
     "output_type": "execute_result"
    }
   ],
   "source": [
    "important_features = pd.Series(extra_reg.feature_importances_, index=X.columns).\\\n",
    "                        sort_values(ascending=False)\n",
    "\n",
    "important_features"
   ]
  },
  {
   "cell_type": "markdown",
   "metadata": {},
   "source": [
    "# Random Forest Classification"
   ]
  },
  {
   "cell_type": "code",
   "execution_count": 174,
   "metadata": {},
   "outputs": [],
   "source": [
    "X = bank_data.drop('CreditCard', axis=1)\n",
    "Y = bank_data['CreditCard']\n",
    "x_train, x_test, y_train, y_test = train_test_split(X, Y, test_size=0.2)"
   ]
  },
  {
   "cell_type": "code",
   "execution_count": 175,
   "metadata": {},
   "outputs": [
    {
     "data": {
      "text/plain": [
       "RandomForestClassifier(max_leaf_nodes=16, n_estimators=400, n_jobs=-1)"
      ]
     },
     "execution_count": 175,
     "metadata": {},
     "output_type": "execute_result"
    }
   ],
   "source": [
    "rnd_clf = RandomForestClassifier(n_estimators = 400,\n",
    "                                 max_leaf_nodes = 16,\n",
    "                                 n_jobs = -1)\n",
    "\n",
    "rnd_clf.fit(x_train, y_train)"
   ]
  },
  {
   "cell_type": "code",
   "execution_count": 176,
   "metadata": {},
   "outputs": [],
   "source": [
    "y_pred = rnd_clf.predict(x_test)"
   ]
  },
  {
   "cell_type": "code",
   "execution_count": 177,
   "metadata": {},
   "outputs": [
    {
     "data": {
      "text/plain": [
       "0.7395833333333334"
      ]
     },
     "execution_count": 177,
     "metadata": {},
     "output_type": "execute_result"
    }
   ],
   "source": [
    "accuracy_score(y_test, y_pred)"
   ]
  },
  {
   "cell_type": "code",
   "execution_count": 178,
   "metadata": {},
   "outputs": [
    {
     "data": {
      "text/plain": [
       "CD Account            0.446723\n",
       "Income                0.148009\n",
       "Age                   0.131882\n",
       "Mortgage              0.076271\n",
       "Online                0.060283\n",
       "Securities Account    0.053946\n",
       "Family                0.048380\n",
       "Education             0.034506\n",
       "dtype: float64"
      ]
     },
     "execution_count": 178,
     "metadata": {},
     "output_type": "execute_result"
    }
   ],
   "source": [
    "important_features = pd.Series(rnd_clf.feature_importances_, index=X.columns).\\\n",
    "                        sort_values(ascending=False)\n",
    "\n",
    "important_features"
   ]
  },
  {
   "cell_type": "code",
   "execution_count": 179,
   "metadata": {},
   "outputs": [
    {
     "data": {
      "image/png": "[encoded data removed]",
      "text/plain": [
       "<Figure size 576x432 with 1 Axes>"
      ]
     },
     "metadata": {
      "needs_background": "light"
     },
     "output_type": "display_data"
    }
   ],
   "source": [
    "import matplotlib.pyplot as plt\n",
    "import seaborn as sns\n",
    "\n",
    "fig, ax = plt.subplots(figsize=(8,6))\n",
    "sns.barplot( x = important_features.index, y = important_features, palette = \"RdBu\")\n",
    "\n",
    "plt.xlabel('Features')\n",
    "plt.ylabel('Feature Importance')\n",
    "\n",
    "plt.title(\"Important Features\")\n",
    "plt.show()"
   ]
  },
  {
   "cell_type": "markdown",
   "metadata": {},
   "source": [
    "# Bagging Classifier (same as the Random Forest)"
   ]
  },
  {
   "cell_type": "code",
   "execution_count": 181,
   "metadata": {},
   "outputs": [
    {
     "data": {
      "text/plain": [
       "BaggingClassifier(base_estimator=DecisionTreeClassifier(max_leaf_nodes=12,\n",
       "                                                        splitter='random'),\n",
       "                  n_estimators=400, n_jobs=-1)"
      ]
     },
     "execution_count": 181,
     "metadata": {},
     "output_type": "execute_result"
    }
   ],
   "source": [
    "bag_clf = BaggingClassifier(DecisionTreeClassifier(splitter ='random', max_leaf_nodes=12), \n",
    "                                                   n_estimators = 400, \n",
    "                                                   max_samples = 1.0,\n",
    "                                                   bootstrap = True,\n",
    "                                                   n_jobs = -1)\n",
    "\n",
    "bag_clf.fit(x_train, y_train)"
   ]
  },
  {
   "cell_type": "code",
   "execution_count": 182,
   "metadata": {},
   "outputs": [
    {
     "data": {
      "text/plain": [
       "0.8125"
      ]
     },
     "execution_count": 182,
     "metadata": {},
     "output_type": "execute_result"
    }
   ],
   "source": [
    "y_pred = bag_clf.predict(x_test)\n",
    "\n",
    "accuracy_score(y_test, y_pred)"
   ]
  },
  {
   "cell_type": "markdown",
   "metadata": {},
   "source": [
    "## Extra Trees Classifier"
   ]
  },
  {
   "cell_type": "code",
   "execution_count": 184,
   "metadata": {},
   "outputs": [
    {
     "data": {
      "text/plain": [
       "ExtraTreesClassifier(max_leaf_nodes=16, n_estimators=600, n_jobs=-1)"
      ]
     },
     "execution_count": 184,
     "metadata": {},
     "output_type": "execute_result"
    }
   ],
   "source": [
    "extra_clf = ExtraTreesClassifier(n_estimators = 600,\n",
    "                                 max_leaf_nodes = 16,\n",
    "                                 n_jobs = -1)\n",
    "\n",
    "extra_clf.fit(x_train, y_train)"
   ]
  },
  {
   "cell_type": "code",
   "execution_count": 185,
   "metadata": {},
   "outputs": [
    {
     "data": {
      "text/plain": [
       "0.7916666666666666"
      ]
     },
     "execution_count": 185,
     "metadata": {},
     "output_type": "execute_result"
    }
   ],
   "source": [
    "y_pred = extra_clf.predict(x_test)\n",
    "\n",
    "accuracy_score(y_test, y_pred)"
   ]
  },
  {
   "cell_type": "markdown",
   "metadata": {},
   "source": [
    "# Adaboost Methods"
   ]
  },
  {
   "cell_type": "markdown",
   "metadata": {},
   "source": [
    "## Regressor"
   ]
  },
  {
   "cell_type": "markdown",
   "metadata": {},
   "source": [
    "Adaptive boosting - use a series of sequential learners in an ensemble with each learning from the previous. A lower learning rate will require more estimators."
   ]
  },
  {
   "cell_type": "code",
   "execution_count": 189,
   "metadata": {},
   "outputs": [],
   "source": [
    "X = concrete_data.drop('csMPa', axis=1)\n",
    "Y = concrete_data['csMPa']\n",
    "x_train, x_test, y_train, y_test = train_test_split(X, Y, test_size=0.2)"
   ]
  },
  {
   "cell_type": "code",
   "execution_count": 190,
   "metadata": {},
   "outputs": [
    {
     "data": {
      "text/plain": [
       "AdaBoostRegressor(base_estimator=DecisionTreeRegressor(max_depth=4),\n",
       "                  n_estimators=100)"
      ]
     },
     "execution_count": 190,
     "metadata": {},
     "output_type": "execute_result"
    }
   ],
   "source": [
    "ada_reg = AdaBoostRegressor(DecisionTreeRegressor(max_depth=4), \n",
    "                            n_estimators=100, \n",
    "                            learning_rate=1.0)\n",
    "\n",
    "ada_reg.fit(x_train, y_train)"
   ]
  },
  {
   "cell_type": "code",
   "execution_count": 191,
   "metadata": {},
   "outputs": [
    {
     "data": {
      "text/plain": [
       "array([1.62306663, 1.43780557, 1.24552712, 0.86806971, 0.96804016,\n",
       "       0.95485625, 1.62100186, 0.85045487, 1.01841518, 1.26505436,\n",
       "       1.04302603, 0.76822086, 0.99645456, 0.77165366, 1.31345188,\n",
       "       0.63476023, 1.03782433, 1.11650448, 1.1869039 , 0.94332339,\n",
       "       0.77807874, 1.49389466, 0.6844851 , 1.02202663, 0.81773923,\n",
       "       0.62916045, 1.05321798, 0.78853586, 1.07909684, 1.02766496,\n",
       "       0.37349713, 0.74496257, 0.88195605, 1.13469198, 1.49343249,\n",
       "       0.81029755, 1.23606056, 0.74234392, 0.70203649, 1.07751455,\n",
       "       0.48299529, 0.93934159, 0.42814029, 0.86034207, 0.64668982,\n",
       "       0.41230037, 0.4995678 , 0.63420118, 0.42717326, 0.93460734,\n",
       "       0.9442368 , 0.66656473, 0.79283541, 0.40853214, 0.89387754,\n",
       "       0.47159989, 0.33950426, 0.40731596, 0.9608124 , 1.06854988,\n",
       "       1.07268469, 0.43146235, 0.87807855, 0.53066818, 0.41412051,\n",
       "       0.66306672, 0.61155584, 0.79782915, 1.03929326, 0.83446141,\n",
       "       1.07325736, 0.80166814, 0.63416407, 0.63956753, 0.89488408,\n",
       "       0.9670104 , 1.07555813, 0.75059516, 0.87198839, 1.04092063,\n",
       "       0.86306559, 0.66304078, 0.46847942, 0.69001587, 0.64968545,\n",
       "       0.91642924, 1.25799899, 1.07218929, 0.80285711, 0.68352626,\n",
       "       1.04274453, 0.98063593, 0.73455619, 0.94693011, 0.69635747,\n",
       "       1.0931725 , 0.80799942, 0.87766699, 0.60992726, 0.58908295])"
      ]
     },
     "execution_count": 191,
     "metadata": {},
     "output_type": "execute_result"
    }
   ],
   "source": [
    "ada_reg.estimator_weights_"
   ]
  },
  {
   "cell_type": "code",
   "execution_count": 192,
   "metadata": {},
   "outputs": [],
   "source": [
    "y_pred = ada_reg.predict(x_test)"
   ]
  },
  {
   "cell_type": "code",
   "execution_count": 193,
   "metadata": {},
   "outputs": [
    {
     "data": {
      "text/plain": [
       "0.8697519166713329"
      ]
     },
     "execution_count": 193,
     "metadata": {},
     "output_type": "execute_result"
    }
   ],
   "source": [
    "r2_score(y_test, y_pred)"
   ]
  },
  {
   "cell_type": "markdown",
   "metadata": {},
   "source": [
    "## Adaboost with regularization"
   ]
  },
  {
   "cell_type": "code",
   "execution_count": 194,
   "metadata": {},
   "outputs": [
    {
     "data": {
      "text/plain": [
       "AdaBoostRegressor(base_estimator=DecisionTreeRegressor(max_depth=2),\n",
       "                  learning_rate=0.5, n_estimators=200)"
      ]
     },
     "execution_count": 194,
     "metadata": {},
     "output_type": "execute_result"
    }
   ],
   "source": [
    "# Increased estimators, reduced learning rate (the contribution of each learner halved), changed the depth of the decision trees.\n",
    "ada_reg = AdaBoostRegressor(DecisionTreeRegressor(max_depth=2), \n",
    "                            n_estimators=200, \n",
    "                            learning_rate=0.5)\n",
    "\n",
    "ada_reg.fit(x_train, y_train)"
   ]
  },
  {
   "cell_type": "code",
   "execution_count": 195,
   "metadata": {},
   "outputs": [
    {
     "data": {
      "text/plain": [
       "array([0.62513431, 0.60059148, 0.56585782, 0.48867139, 0.47030362,\n",
       "       0.47924805, 0.4197039 , 0.38217332, 0.48130746, 0.27593654,\n",
       "       0.35427559, 0.36025595, 0.49201604, 0.45961371, 0.33393095,\n",
       "       0.39157937, 0.28570243, 0.48427963, 0.47422629, 0.31896099,\n",
       "       0.44376124, 0.48909067, 0.22779327, 0.36358909, 0.24296893,\n",
       "       0.51593013, 0.37491415, 0.34627966, 0.41569214, 0.43994729,\n",
       "       0.32176668, 0.33663572, 0.47985862, 0.30549657, 0.4320351 ,\n",
       "       0.24249951, 0.40726012, 0.29987041, 0.22305985, 0.35976211,\n",
       "       0.59498983, 0.38335978, 0.48259228, 0.31310602, 0.27089906,\n",
       "       0.48319962, 0.36518116, 0.42245417, 0.24031991, 0.17753465,\n",
       "       0.28360336, 0.57474705, 0.42154784, 0.15547435, 0.30076781,\n",
       "       0.25388574, 0.39626722, 0.28779303, 0.26296709, 0.37793151,\n",
       "       0.11407872, 0.53052365, 0.51761296, 0.41360732, 0.38505488,\n",
       "       0.29866469, 0.33994959, 0.12785166, 0.36212986, 0.18906884,\n",
       "       0.32931001, 0.41495175, 0.35783998, 0.30177282, 0.17089211,\n",
       "       0.31646046, 0.19802589, 0.42969906, 0.09489791, 0.10178483,\n",
       "       0.28729276, 0.22432809, 0.42185206, 0.23612783, 0.43804562,\n",
       "       0.36437225, 0.38429205, 0.17289288, 0.06368333, 0.41677893,\n",
       "       0.16603185, 0.25336754, 0.1566017 , 0.42598468, 0.54376205,\n",
       "       0.14469054, 0.21132046, 0.41126712, 0.22582514, 0.34365946,\n",
       "       0.11989124, 0.38479925, 0.31387799, 0.17029019, 0.35572974,\n",
       "       0.39755755, 0.30154833, 0.33172917, 0.42685925, 0.25138992,\n",
       "       0.43178063, 0.31052745, 0.11949643, 0.24687952, 0.42075466,\n",
       "       0.13151386, 0.22229392, 0.19981095, 0.15360063, 0.21798486,\n",
       "       0.43828765, 0.1246629 , 0.41640127, 0.40484158, 0.21121096,\n",
       "       0.23439383, 0.32877199, 0.39033408, 0.16651316, 0.0463896 ,\n",
       "       0.48475197, 0.39025189, 0.37338033, 0.08596155, 0.28633774,\n",
       "       0.12997004, 0.61263853, 0.15074201, 0.57755514, 0.39752109,\n",
       "       0.2317819 , 0.34791452, 0.15876827, 0.31956525, 0.15478252,\n",
       "       0.23556126, 0.42111224, 0.39208922, 0.38711807, 0.30685104,\n",
       "       0.40779371, 0.20867359, 0.64903007, 0.24097055, 0.30888994,\n",
       "       0.19123843, 0.33005144, 0.30297178, 0.13095116, 0.13254721,\n",
       "       0.1345379 , 0.37645321, 0.03769462, 0.09037472, 0.16501793,\n",
       "       0.1786374 , 0.64344376, 0.1351335 , 0.36872478, 0.38753004,\n",
       "       0.14669215, 0.46994544, 0.23139169, 0.12726148, 0.13778244,\n",
       "       0.3010179 , 0.09919176, 0.12927823, 0.34608011, 0.42277431,\n",
       "       0.17243152, 0.09588184, 0.34100026, 0.32010363, 0.18297621,\n",
       "       0.        , 0.        , 0.        , 0.        , 0.        ,\n",
       "       0.        , 0.        , 0.        , 0.        , 0.        ,\n",
       "       0.        , 0.        , 0.        , 0.        , 0.        ])"
      ]
     },
     "execution_count": 195,
     "metadata": {},
     "output_type": "execute_result"
    }
   ],
   "source": [
    "ada_reg.estimator_weights_"
   ]
  },
  {
   "cell_type": "code",
   "execution_count": 196,
   "metadata": {},
   "outputs": [],
   "source": [
    "y_pred = ada_reg.predict(x_test)"
   ]
  },
  {
   "cell_type": "code",
   "execution_count": 197,
   "metadata": {},
   "outputs": [
    {
     "data": {
      "text/plain": [
       "0.7337714159576629"
      ]
     },
     "execution_count": 197,
     "metadata": {},
     "output_type": "execute_result"
    }
   ],
   "source": [
    "r2_score(y_test, y_pred)"
   ]
  },
  {
   "cell_type": "markdown",
   "metadata": {},
   "source": [
    "# Adaboost Classification"
   ]
  },
  {
   "cell_type": "code",
   "execution_count": 200,
   "metadata": {},
   "outputs": [],
   "source": [
    "X = bank_data.drop('CreditCard', axis=1)\n",
    "Y = bank_data['CreditCard']\n",
    "x_train, x_test, y_train, y_test = train_test_split(X, Y, test_size=0.2)"
   ]
  },
  {
   "cell_type": "code",
   "execution_count": 201,
   "metadata": {},
   "outputs": [
    {
     "data": {
      "text/plain": [
       "AdaBoostClassifier(algorithm='SAMME',\n",
       "                   base_estimator=DecisionTreeClassifier(max_depth=1),\n",
       "                   n_estimators=100)"
      ]
     },
     "execution_count": 201,
     "metadata": {},
     "output_type": "execute_result"
    }
   ],
   "source": [
    "ada_clf = AdaBoostClassifier(DecisionTreeClassifier(max_depth=1), \n",
    "                             n_estimators=100, \n",
    "                             algorithm='SAMME', \n",
    "                             learning_rate=1.0)\n",
    "\n",
    "ada_clf.fit(x_train, y_train)"
   ]
  },
  {
   "cell_type": "code",
   "execution_count": 202,
   "metadata": {},
   "outputs": [
    {
     "data": {
      "text/plain": [
       "array([1.38304233, 0.96034308, 0.54334618, 0.38853293, 0.55495404,\n",
       "       0.36588108, 0.25147373, 0.24952412, 0.41309928, 0.34769176,\n",
       "       0.23251595, 0.15262046, 0.21330919, 0.33517301, 0.18231437,\n",
       "       0.19317665, 0.24272204, 0.12254963, 0.18236013, 0.107523  ,\n",
       "       0.09809599, 0.19932572, 0.2481002 , 0.07002702, 0.07884487,\n",
       "       0.19765892, 0.1321831 , 0.21328385, 0.23372731, 0.11772332,\n",
       "       0.08184505, 0.08738885, 0.08073683, 0.14178294, 0.14518875,\n",
       "       0.05809483, 0.02343474, 0.02316331, 0.0228981 , 0.0226389 ,\n",
       "       0.0223855 , 0.0221377 , 0.02189534, 0.07607159, 0.10991895,\n",
       "       0.16619412, 0.15201992, 0.06774957, 0.02174158, 0.02150776,\n",
       "       0.02127892, 0.0210549 , 0.02083555, 0.02062072, 0.02041028,\n",
       "       0.02020408, 0.02012361, 0.01992314, 0.02000603, 0.07076644,\n",
       "       0.06650315, 0.01987356, 0.02041416, 0.02020789, 0.02000575,\n",
       "       0.01980761, 0.01968598, 0.01949409, 0.01961712, 0.01942657,\n",
       "       0.01930959, 0.01912494, 0.01924323, 0.01905984, 0.01894726,\n",
       "       0.01876944, 0.01888327, 0.05592374, 0.05430794, 0.01873599,\n",
       "       0.01859704, 0.0184257 , 0.01856528, 0.01839452, 0.01826061,\n",
       "       0.01809539, 0.01822989, 0.12942584, 0.22737834, 0.1751537 ,\n",
       "       0.05399133, 0.09376825, 0.08898993, 0.05475321, 0.01844995,\n",
       "       0.01897641, 0.13812964, 0.14394004, 0.12840843, 0.11531509])"
      ]
     },
     "execution_count": 202,
     "metadata": {},
     "output_type": "execute_result"
    }
   ],
   "source": [
    "ada_clf.estimator_weights_"
   ]
  },
  {
   "cell_type": "code",
   "execution_count": 203,
   "metadata": {},
   "outputs": [],
   "source": [
    "y_pred = ada_clf.predict(x_test)"
   ]
  },
  {
   "cell_type": "code",
   "execution_count": 204,
   "metadata": {},
   "outputs": [
    {
     "data": {
      "text/plain": [
       "0.8645833333333334"
      ]
     },
     "execution_count": 204,
     "metadata": {},
     "output_type": "execute_result"
    }
   ],
   "source": [
    "accuracy_score(y_test, y_pred)"
   ]
  },
  {
   "cell_type": "code",
   "execution_count": 205,
   "metadata": {},
   "outputs": [
    {
     "data": {
      "text/plain": [
       "AdaBoostClassifier(base_estimator=DecisionTreeClassifier(max_depth=1),\n",
       "                   learning_rate=0.5, n_estimators=100)"
      ]
     },
     "execution_count": 205,
     "metadata": {},
     "output_type": "execute_result"
    }
   ],
   "source": [
    "# max depth = 1 is known as decision stumps\n",
    "ada_clf = AdaBoostClassifier(DecisionTreeClassifier(max_depth=1), \n",
    "                             n_estimators=100, \n",
    "                             algorithm='SAMME.R', \n",
    "                             learning_rate=0.5)\n",
    "\n",
    "ada_clf.fit(x_train, y_train)"
   ]
  },
  {
   "cell_type": "code",
   "execution_count": 206,
   "metadata": {},
   "outputs": [
    {
     "data": {
      "text/plain": [
       "0.8229166666666666"
      ]
     },
     "execution_count": 206,
     "metadata": {},
     "output_type": "execute_result"
    }
   ],
   "source": [
    "y_pred = ada_clf.predict(x_test)\n",
    "accuracy_score(y_test, y_pred)"
   ]
  },
  {
   "cell_type": "markdown",
   "metadata": {},
   "source": [
    "# Gradient Boosting"
   ]
  },
  {
   "cell_type": "markdown",
   "metadata": {},
   "source": [
    "## Regressor - Each Learner Results fed to the Next"
   ]
  },
  {
   "cell_type": "code",
   "execution_count": 210,
   "metadata": {},
   "outputs": [],
   "source": [
    "X = concrete_data.drop('csMPa', axis=1)\n",
    "Y = concrete_data['csMPa']"
   ]
  },
  {
   "cell_type": "code",
   "execution_count": 211,
   "metadata": {},
   "outputs": [],
   "source": [
    "x_train, x_test, y_train, y_test = train_test_split(X, Y, test_size=0.2)"
   ]
  },
  {
   "cell_type": "code",
   "execution_count": 212,
   "metadata": {},
   "outputs": [
    {
     "data": {
      "text/plain": [
       "DecisionTreeRegressor(max_depth=3)"
      ]
     },
     "execution_count": 212,
     "metadata": {},
     "output_type": "execute_result"
    }
   ],
   "source": [
    "tree_reg1 = DecisionTreeRegressor(max_depth=3)\n",
    "tree_reg1.fit(x_train, y_train)"
   ]
  },
  {
   "cell_type": "code",
   "execution_count": 213,
   "metadata": {},
   "outputs": [
    {
     "data": {
      "text/plain": [
       "397     2.963654\n",
       "832    -6.206346\n",
       "975     3.184894\n",
       "1029   -7.995106\n",
       "87      8.773551\n",
       "698     1.284894\n",
       "776     5.533551\n",
       "248     3.904894\n",
       "677    -7.946449\n",
       "121     4.780405\n",
       "Name: csMPa, dtype: float64"
      ]
     },
     "execution_count": 213,
     "metadata": {},
     "output_type": "execute_result"
    }
   ],
   "source": [
    "y2 = y_train - tree_reg1.predict(x_train)\n",
    "\n",
    "y2[:10]"
   ]
  },
  {
   "cell_type": "code",
   "execution_count": 214,
   "metadata": {},
   "outputs": [
    {
     "data": {
      "text/plain": [
       "DecisionTreeRegressor(max_depth=4)"
      ]
     },
     "execution_count": 214,
     "metadata": {},
     "output_type": "execute_result"
    }
   ],
   "source": [
    "tree_reg2 = DecisionTreeRegressor(max_depth=4)\n",
    "tree_reg2.fit(x_train, y2)"
   ]
  },
  {
   "cell_type": "code",
   "execution_count": 215,
   "metadata": {},
   "outputs": [
    {
     "data": {
      "text/plain": [
       "397      5.514879\n",
       "832     -3.655121\n",
       "975     -2.021006\n",
       "1029    -5.443880\n",
       "87     -10.850943\n",
       "698      3.836120\n",
       "776      8.030556\n",
       "248     12.854491\n",
       "677     -5.395224\n",
       "121     -0.425495\n",
       "Name: csMPa, dtype: float64"
      ]
     },
     "execution_count": 215,
     "metadata": {},
     "output_type": "execute_result"
    }
   ],
   "source": [
    "y3 = y2 - tree_reg2.predict(x_train)\n",
    "\n",
    "y3[:10]"
   ]
  },
  {
   "cell_type": "code",
   "execution_count": 216,
   "metadata": {},
   "outputs": [
    {
     "data": {
      "text/plain": [
       "DecisionTreeRegressor(max_depth=5)"
      ]
     },
     "execution_count": 216,
     "metadata": {},
     "output_type": "execute_result"
    }
   ],
   "source": [
    "tree_reg3 = DecisionTreeRegressor(max_depth=5)\n",
    "tree_reg3.fit(x_train, y3)"
   ]
  },
  {
   "cell_type": "code",
   "execution_count": 217,
   "metadata": {},
   "outputs": [],
   "source": [
    "y_pred = sum(tree.predict(x_test) for tree in (tree_reg1, tree_reg2, tree_reg3))"
   ]
  },
  {
   "cell_type": "code",
   "execution_count": 218,
   "metadata": {},
   "outputs": [
    {
     "data": {
      "text/plain": [
       "0.7867844792401982"
      ]
     },
     "execution_count": 218,
     "metadata": {},
     "output_type": "execute_result"
    }
   ],
   "source": [
    "r2_score(y_test, y_pred)"
   ]
  },
  {
   "cell_type": "code",
   "execution_count": 219,
   "metadata": {},
   "outputs": [
    {
     "data": {
      "text/plain": [
       "397     6.198322\n",
       "832    -2.971678\n",
       "975    -1.337564\n",
       "1029   -4.760438\n",
       "87     -3.606925\n",
       "698     4.519562\n",
       "776     6.181489\n",
       "248     7.845646\n",
       "677    -7.244290\n",
       "121     0.257947\n",
       "Name: csMPa, dtype: float64"
      ]
     },
     "execution_count": 219,
     "metadata": {},
     "output_type": "execute_result"
    }
   ],
   "source": [
    "y4 = y3 - tree_reg3.predict(x_train)\n",
    "\n",
    "y4[:10]"
   ]
  },
  {
   "cell_type": "code",
   "execution_count": 220,
   "metadata": {},
   "outputs": [
    {
     "data": {
      "text/plain": [
       "DecisionTreeRegressor(max_depth=5)"
      ]
     },
     "execution_count": 220,
     "metadata": {},
     "output_type": "execute_result"
    }
   ],
   "source": [
    "tree_reg4 = DecisionTreeRegressor(max_depth=5)\n",
    "tree_reg4.fit(x_train, y4)"
   ]
  },
  {
   "cell_type": "code",
   "execution_count": 221,
   "metadata": {},
   "outputs": [
    {
     "data": {
      "text/plain": [
       "0.8280778855036737"
      ]
     },
     "execution_count": 221,
     "metadata": {},
     "output_type": "execute_result"
    }
   ],
   "source": [
    "y_pred = sum(tree.predict(x_test) for tree in (tree_reg1, tree_reg2, tree_reg3, tree_reg4))\n",
    "r2_score(y_test, y_pred)"
   ]
  },
  {
   "cell_type": "markdown",
   "metadata": {},
   "source": [
    "## Gradient Boosting"
   ]
  },
  {
   "cell_type": "code",
   "execution_count": 223,
   "metadata": {},
   "outputs": [
    {
     "data": {
      "text/plain": [
       "0.7624334939744566"
      ]
     },
     "execution_count": 223,
     "metadata": {},
     "output_type": "execute_result"
    }
   ],
   "source": [
    "gbr = GradientBoostingRegressor(max_depth=3, n_estimators=3, learning_rate=1.0)\n",
    "gbr.fit(x_train, y_train)\n",
    "y_pred = gbr.predict(x_test)\n",
    "r2_score(y_test, y_pred)"
   ]
  },
  {
   "cell_type": "code",
   "execution_count": 226,
   "metadata": {},
   "outputs": [
    {
     "data": {
      "text/plain": [
       "0.30286191633427006"
      ]
     },
     "execution_count": 226,
     "metadata": {},
     "output_type": "execute_result"
    }
   ],
   "source": [
    "# Set learning rate to 0.1\n",
    "gbr = GradientBoostingRegressor(max_depth=3, n_estimators=3, learning_rate=0.1)\n",
    "gbr.fit(x_train, y_train)\n",
    "y_pred = gbr.predict(x_test)\n",
    "r2_score(y_test, y_pred)"
   ]
  },
  {
   "cell_type": "code",
   "execution_count": 225,
   "metadata": {},
   "outputs": [
    {
     "data": {
      "text/plain": [
       "0.8449377686325963"
      ]
     },
     "execution_count": 225,
     "metadata": {},
     "output_type": "execute_result"
    }
   ],
   "source": [
    "# Set number of estimators to 30\n",
    "gbr = GradientBoostingRegressor(max_depth=3, n_estimators=30, learning_rate=0.1)\n",
    "gbr.fit(x_train, y_train)\n",
    "y_pred = gbr.predict(x_test)\n",
    "r2_score(y_test, y_pred)"
   ]
  },
  {
   "cell_type": "markdown",
   "metadata": {},
   "source": [
    "## Hyperparameter Tuning of Gradient Boosting"
   ]
  },
  {
   "cell_type": "markdown",
   "metadata": {},
   "source": [
    "Find the right number of parameters"
   ]
  },
  {
   "cell_type": "code",
   "execution_count": 230,
   "metadata": {},
   "outputs": [
    {
     "data": {
      "text/plain": [
       "0.8526760102042061"
      ]
     },
     "execution_count": 230,
     "metadata": {},
     "output_type": "execute_result"
    }
   ],
   "source": [
    "# Baseline model\n",
    "X = concrete_data.drop('csMPa', axis=1)\n",
    "Y = concrete_data['csMPa']\n",
    "X = X.drop(['flyash', 'coarseaggregate', 'fineaggregate'], axis=1)\n",
    "x_train, x_test, y_train, y_test = train_test_split(X, Y, test_size=0.2)\n",
    "baseline = GradientBoostingRegressor(max_depth=3, n_estimators=50)\n",
    "baseline.fit(x_train, y_train)\n",
    "y_pred = baseline.predict(x_test)\n",
    "r2_score(y_test, y_pred)"
   ]
  },
  {
   "cell_type": "code",
   "execution_count": 231,
   "metadata": {},
   "outputs": [
    {
     "data": {
      "text/plain": [
       "age                 0.390083\n",
       "cement              0.330464\n",
       "water               0.095666\n",
       "slag                0.093219\n",
       "superplasticizer    0.090568\n",
       "dtype: float64"
      ]
     },
     "execution_count": 231,
     "metadata": {},
     "output_type": "execute_result"
    }
   ],
   "source": [
    "important_features = pd.Series(baseline.feature_importances_, index=X.columns).\\\n",
    "                        sort_values(ascending=False)\n",
    "\n",
    "important_features"
   ]
  },
  {
   "cell_type": "code",
   "execution_count": 232,
   "metadata": {},
   "outputs": [
    {
     "data": {
      "image/png": "[encoded data removed]",
      "text/plain": [
       "<Figure size 720x576 with 1 Axes>"
      ]
     },
     "metadata": {
      "needs_background": "light"
     },
     "output_type": "display_data"
    }
   ],
   "source": [
    "# View important features\n",
    "fig, ax = plt.subplots(figsize=(10, 8))\n",
    "sns.barplot( x = important_features.index, y = important_features, palette = \"RdBu\")\n",
    "\n",
    "plt.xlabel('Features')\n",
    "plt.ylabel('Feature Importance')\n",
    "\n",
    "plt.title(\"Important Features\")\n",
    "plt.show()"
   ]
  },
  {
   "cell_type": "code",
   "execution_count": 235,
   "metadata": {},
   "outputs": [
    {
     "data": {
      "text/plain": [
       "{'n_estimators': 500}"
      ]
     },
     "execution_count": 235,
     "metadata": {},
     "output_type": "execute_result"
    }
   ],
   "source": [
    "# Set the range of parameters and gridsearch\n",
    "gbr = GradientBoostingRegressor(max_depth=3)\n",
    "parameters = {'n_estimators': [1, 5, 10, 50, 100, 200, 300, 400, 500]}\n",
    "gridsearch_reg = GridSearchCV(estimator=gbr, param_grid=parameters, cv=3)\n",
    "gridsearch_reg.fit(x_train, y_train)\n",
    "gridsearch_reg.best_params_"
   ]
  },
  {
   "cell_type": "code",
   "execution_count": 237,
   "metadata": {},
   "outputs": [
    {
     "data": {
      "text/plain": [
       "0.9241283748278447"
      ]
     },
     "execution_count": 237,
     "metadata": {},
     "output_type": "execute_result"
    }
   ],
   "source": [
    "# Shuffle and resplit and use the best parameter of 500 estimators\n",
    "x_train, x_test, y_train, y_test = train_test_split(X, Y, test_size=0.2)\n",
    "gbr_best = GradientBoostingRegressor(max_depth=3, \n",
    "                                n_estimators = gridsearch_reg.best_params_['n_estimators'])\n",
    "\n",
    "gbr_best.fit(x_train, y_train)\n",
    "y_pred = gbr_best.predict(x_test)\n",
    "r2_score(y_test, y_pred)"
   ]
  },
  {
   "cell_type": "markdown",
   "metadata": {},
   "source": [
    "Add estimators until the model stops improving - use the warm_start = True"
   ]
  },
  {
   "cell_type": "code",
   "execution_count": 239,
   "metadata": {},
   "outputs": [],
   "source": [
    "gbr = GradientBoostingRegressor(max_depth=3, warm_start=True)"
   ]
  },
  {
   "cell_type": "code",
   "execution_count": 240,
   "metadata": {},
   "outputs": [
    {
     "name": "stdout",
     "output_type": "stream",
     "text": [
      "No. of estimators:  1\n",
      "Validation error:  223.24098762230298\n",
      "No. of estimators:  2\n",
      "Validation error:  198.3536357012926\n",
      "No. of estimators:  3\n",
      "Validation error:  172.6500540029362\n",
      "No. of estimators:  4\n",
      "Validation error:  155.07589228951062\n",
      "No. of estimators:  5\n",
      "Validation error:  138.0216809759594\n",
      "No. of estimators:  6\n",
      "Validation error:  124.98059585414856\n",
      "No. of estimators:  7\n",
      "Validation error:  111.7374771413388\n",
      "No. of estimators:  8\n",
      "Validation error:  102.37487772390183\n",
      "No. of estimators:  9\n",
      "Validation error:  93.36241798337566\n",
      "No. of estimators:  10\n",
      "Validation error:  87.21723356750067\n",
      "No. of estimators:  11\n",
      "Validation error:  81.49690887391145\n",
      "No. of estimators:  12\n",
      "Validation error:  76.5965091857773\n",
      "No. of estimators:  13\n",
      "Validation error:  71.26480683614547\n",
      "No. of estimators:  14\n",
      "Validation error:  66.12347560092547\n",
      "No. of estimators:  15\n",
      "Validation error:  62.948527142088615\n",
      "No. of estimators:  16\n",
      "Validation error:  60.29213701867046\n",
      "No. of estimators:  17\n",
      "Validation error:  57.343511446204786\n",
      "No. of estimators:  18\n",
      "Validation error:  54.36814788893341\n",
      "No. of estimators:  19\n",
      "Validation error:  52.46287454202072\n",
      "No. of estimators:  20\n",
      "Validation error:  50.032498752279125\n",
      "No. of estimators:  21\n",
      "Validation error:  47.629685716929956\n",
      "No. of estimators:  22\n",
      "Validation error:  45.56425713327787\n",
      "No. of estimators:  23\n",
      "Validation error:  44.01844783889504\n",
      "No. of estimators:  24\n",
      "Validation error:  43.36942095503816\n",
      "No. of estimators:  25\n",
      "Validation error:  42.49414936293004\n",
      "No. of estimators:  26\n",
      "Validation error:  41.609585627628846\n",
      "No. of estimators:  27\n",
      "Validation error:  40.727069316047064\n",
      "No. of estimators:  28\n",
      "Validation error:  39.76271288939003\n",
      "No. of estimators:  29\n",
      "Validation error:  39.00354172984727\n",
      "No. of estimators:  30\n",
      "Validation error:  38.222050966943506\n",
      "No. of estimators:  31\n",
      "Validation error:  37.70839179195256\n",
      "No. of estimators:  32\n",
      "Validation error:  37.40591407018376\n",
      "No. of estimators:  33\n",
      "Validation error:  37.04599188235832\n",
      "No. of estimators:  34\n",
      "Validation error:  36.476980092005\n",
      "No. of estimators:  35\n",
      "Validation error:  35.694729656105345\n",
      "No. of estimators:  36\n",
      "Validation error:  35.594364165641416\n",
      "No. of estimators:  37\n",
      "Validation error:  35.06652827320848\n",
      "No. of estimators:  38\n",
      "Validation error:  34.682300257558126\n",
      "No. of estimators:  39\n",
      "Validation error:  34.64923523642798\n",
      "No. of estimators:  40\n",
      "Validation error:  34.338022017783224\n",
      "No. of estimators:  41\n",
      "Validation error:  34.05162612547524\n",
      "No. of estimators:  42\n",
      "Validation error:  33.63417506742122\n",
      "No. of estimators:  43\n",
      "Validation error:  33.185113742265735\n",
      "No. of estimators:  44\n",
      "Validation error:  33.160998263406356\n",
      "No. of estimators:  45\n",
      "Validation error:  33.06939955234817\n",
      "No. of estimators:  46\n",
      "Validation error:  32.998593466613855\n",
      "No. of estimators:  47\n",
      "Validation error:  32.602858281023416\n",
      "No. of estimators:  48\n",
      "Validation error:  32.56629116602798\n",
      "No. of estimators:  49\n",
      "Validation error:  32.24990040030688\n",
      "No. of estimators:  50\n",
      "Validation error:  32.29100979448697\n",
      "No. of estimators:  51\n",
      "Validation error:  32.13982959886937\n",
      "No. of estimators:  52\n",
      "Validation error:  31.877064148176924\n",
      "No. of estimators:  53\n",
      "Validation error:  31.487173287769522\n",
      "No. of estimators:  54\n",
      "Validation error:  31.254813866773002\n",
      "No. of estimators:  55\n",
      "Validation error:  31.2533149611987\n",
      "No. of estimators:  56\n",
      "Validation error:  31.0544956392633\n",
      "No. of estimators:  57\n",
      "Validation error:  30.886523660800343\n",
      "No. of estimators:  58\n",
      "Validation error:  30.601144804944465\n",
      "No. of estimators:  59\n",
      "Validation error:  30.585662378195213\n",
      "No. of estimators:  60\n",
      "Validation error:  30.505918138420217\n",
      "No. of estimators:  61\n",
      "Validation error:  30.33793675027142\n",
      "No. of estimators:  62\n",
      "Validation error:  30.231574143307874\n",
      "No. of estimators:  63\n",
      "Validation error:  29.883868652426422\n",
      "No. of estimators:  64\n",
      "Validation error:  29.877115928444795\n",
      "No. of estimators:  65\n",
      "Validation error:  29.803918027473497\n",
      "No. of estimators:  66\n",
      "Validation error:  29.84312679307148\n",
      "No. of estimators:  67\n",
      "Validation error:  29.65705613265592\n",
      "No. of estimators:  68\n",
      "Validation error:  29.55951634256496\n",
      "No. of estimators:  69\n",
      "Validation error:  29.21641379608779\n",
      "No. of estimators:  70\n",
      "Validation error:  29.197330710396837\n",
      "No. of estimators:  71\n",
      "Validation error:  29.210597925834115\n",
      "No. of estimators:  72\n",
      "Validation error:  29.126601945780415\n",
      "No. of estimators:  73\n",
      "Validation error:  28.908231714878788\n",
      "No. of estimators:  74\n",
      "Validation error:  28.811444953270378\n",
      "No. of estimators:  75\n",
      "Validation error:  28.701227780157275\n",
      "No. of estimators:  76\n",
      "Validation error:  28.573790142177018\n",
      "No. of estimators:  77\n",
      "Validation error:  28.56538943516756\n",
      "No. of estimators:  78\n",
      "Validation error:  28.478409358335355\n",
      "No. of estimators:  79\n",
      "Validation error:  28.41822255939816\n",
      "No. of estimators:  80\n",
      "Validation error:  28.41244533651798\n",
      "No. of estimators:  81\n",
      "Validation error:  28.394205319219157\n",
      "No. of estimators:  82\n",
      "Validation error:  28.223289469415736\n",
      "No. of estimators:  83\n",
      "Validation error:  28.133849337667108\n",
      "No. of estimators:  84\n",
      "Validation error:  28.03235572215726\n",
      "No. of estimators:  85\n",
      "Validation error:  27.899478993499613\n",
      "No. of estimators:  86\n",
      "Validation error:  27.819990016570124\n",
      "No. of estimators:  87\n",
      "Validation error:  27.6520484528336\n",
      "No. of estimators:  88\n",
      "Validation error:  27.705014658435758\n",
      "No. of estimators:  89\n",
      "Validation error:  27.573853482470856\n",
      "No. of estimators:  90\n",
      "Validation error:  27.571431199924096\n",
      "No. of estimators:  91\n",
      "Validation error:  27.39754656818178\n",
      "No. of estimators:  92\n",
      "Validation error:  27.33419993518952\n",
      "No. of estimators:  93\n",
      "Validation error:  27.34432794050808\n",
      "No. of estimators:  94\n",
      "Validation error:  27.25006941026399\n",
      "No. of estimators:  95\n",
      "Validation error:  27.185810133297746\n",
      "No. of estimators:  96\n",
      "Validation error:  27.15871382437917\n",
      "No. of estimators:  97\n",
      "Validation error:  27.102205005767935\n",
      "No. of estimators:  98\n",
      "Validation error:  27.04320789204021\n",
      "No. of estimators:  99\n",
      "Validation error:  26.852705045677492\n",
      "No. of estimators:  100\n",
      "Validation error:  26.817636936957886\n",
      "No. of estimators:  101\n",
      "Validation error:  26.811980959399655\n",
      "No. of estimators:  102\n",
      "Validation error:  26.705945915798523\n",
      "No. of estimators:  103\n",
      "Validation error:  26.71627990460096\n",
      "No. of estimators:  104\n",
      "Validation error:  26.676916607120113\n",
      "No. of estimators:  105\n",
      "Validation error:  26.569276983339666\n",
      "No. of estimators:  106\n",
      "Validation error:  26.636113963649382\n",
      "No. of estimators:  107\n",
      "Validation error:  26.519315765923185\n",
      "No. of estimators:  108\n",
      "Validation error:  26.46069331449293\n",
      "No. of estimators:  109\n",
      "Validation error:  26.431259021708627\n",
      "No. of estimators:  110\n",
      "Validation error:  26.446203427317364\n",
      "No. of estimators:  111\n",
      "Validation error:  26.499239212698626\n",
      "No. of estimators:  112\n",
      "Validation error:  26.509275517691695\n",
      "No. of estimators:  113\n",
      "Validation error:  26.587179667959724\n",
      "No. of estimators:  114\n",
      "Validation error:  26.45417966977849\n",
      "No. of estimators:  115\n",
      "Validation error:  26.414146033024647\n",
      "No. of estimators:  116\n",
      "Validation error:  26.359593369931947\n",
      "No. of estimators:  117\n",
      "Validation error:  26.344311657675128\n",
      "No. of estimators:  118\n",
      "Validation error:  26.141147649267925\n",
      "No. of estimators:  119\n",
      "Validation error:  26.016394740650032\n",
      "No. of estimators:  120\n",
      "Validation error:  26.007269811365113\n",
      "No. of estimators:  121\n",
      "Validation error:  25.9684661235865\n",
      "No. of estimators:  122\n",
      "Validation error:  25.97013863156965\n",
      "No. of estimators:  123\n",
      "Validation error:  25.955759564677113\n",
      "No. of estimators:  124\n",
      "Validation error:  25.91052032447773\n",
      "No. of estimators:  125\n",
      "Validation error:  25.809308349439526\n",
      "No. of estimators:  126\n",
      "Validation error:  25.72326763626874\n",
      "No. of estimators:  127\n",
      "Validation error:  25.749605061795354\n",
      "No. of estimators:  128\n",
      "Validation error:  25.63268885918373\n",
      "No. of estimators:  129\n",
      "Validation error:  25.556653562139793\n",
      "No. of estimators:  130\n",
      "Validation error:  25.52934853901852\n",
      "No. of estimators:  131\n",
      "Validation error:  25.50987973260351\n",
      "No. of estimators:  132\n",
      "Validation error:  25.464865481892755\n",
      "No. of estimators:  133\n",
      "Validation error:  25.43398415470216\n",
      "No. of estimators:  134\n",
      "Validation error:  25.40074859646102\n",
      "No. of estimators:  135\n",
      "Validation error:  25.376096117137035\n",
      "No. of estimators:  136\n",
      "Validation error:  25.35066536238804\n",
      "No. of estimators:  137\n",
      "Validation error:  25.312776411340728\n",
      "No. of estimators:  138\n",
      "Validation error:  25.277589333098298\n",
      "No. of estimators:  139\n",
      "Validation error:  25.233248275256603\n",
      "No. of estimators:  140\n",
      "Validation error:  25.172061855677025\n",
      "No. of estimators:  141\n",
      "Validation error:  25.15704341686674\n",
      "No. of estimators:  142\n",
      "Validation error:  25.063150779606183\n"
     ]
    },
    {
     "name": "stdout",
     "output_type": "stream",
     "text": [
      "No. of estimators:  143\n",
      "Validation error:  25.10409133208314\n",
      "No. of estimators:  144\n",
      "Validation error:  25.068631086436874\n",
      "No. of estimators:  145\n",
      "Validation error:  25.02949913140045\n",
      "No. of estimators:  146\n",
      "Validation error:  24.985487384024648\n",
      "No. of estimators:  147\n",
      "Validation error:  24.941010486354593\n",
      "No. of estimators:  148\n",
      "Validation error:  24.947397419405664\n",
      "No. of estimators:  149\n",
      "Validation error:  24.937039131530494\n",
      "No. of estimators:  150\n",
      "Validation error:  24.917133131149875\n",
      "No. of estimators:  151\n",
      "Validation error:  24.954828087788705\n",
      "No. of estimators:  152\n",
      "Validation error:  24.912881621012367\n",
      "No. of estimators:  153\n",
      "Validation error:  24.877998714427633\n",
      "No. of estimators:  154\n",
      "Validation error:  24.81248840904902\n",
      "No. of estimators:  155\n",
      "Validation error:  24.759037614144912\n",
      "No. of estimators:  156\n",
      "Validation error:  24.75881147534977\n",
      "No. of estimators:  157\n",
      "Validation error:  24.67567997045404\n",
      "No. of estimators:  158\n",
      "Validation error:  24.628540573968493\n",
      "No. of estimators:  159\n",
      "Validation error:  24.64702654112105\n",
      "No. of estimators:  160\n",
      "Validation error:  24.6233697473514\n",
      "No. of estimators:  161\n",
      "Validation error:  24.620389567066983\n",
      "No. of estimators:  162\n",
      "Validation error:  24.687046407334467\n",
      "No. of estimators:  163\n",
      "Validation error:  24.746332304838973\n",
      "No. of estimators:  164\n",
      "Validation error:  24.704732936191267\n",
      "No. of estimators:  165\n",
      "Validation error:  24.699219520474895\n",
      "No. of estimators:  166\n",
      "Validation error:  24.69850293308656\n",
      "No. of estimators:  167\n",
      "Validation error:  24.6234957902682\n",
      "No. of estimators:  168\n",
      "Validation error:  24.607340525418056\n",
      "No. of estimators:  169\n",
      "Validation error:  24.5266467278578\n",
      "No. of estimators:  170\n",
      "Validation error:  24.464872719823283\n",
      "No. of estimators:  171\n",
      "Validation error:  24.460417668464324\n",
      "No. of estimators:  172\n",
      "Validation error:  24.390923874259112\n",
      "No. of estimators:  173\n",
      "Validation error:  24.40142424975147\n",
      "No. of estimators:  174\n",
      "Validation error:  24.331580909108485\n",
      "No. of estimators:  175\n",
      "Validation error:  24.306882562191262\n",
      "No. of estimators:  176\n",
      "Validation error:  24.243745579914716\n",
      "No. of estimators:  177\n",
      "Validation error:  24.1227465187101\n",
      "No. of estimators:  178\n",
      "Validation error:  24.10880118358455\n",
      "No. of estimators:  179\n",
      "Validation error:  24.058235364057214\n",
      "No. of estimators:  180\n",
      "Validation error:  24.030188059389996\n",
      "No. of estimators:  181\n",
      "Validation error:  23.959540697476186\n",
      "No. of estimators:  182\n",
      "Validation error:  23.952476311644805\n",
      "No. of estimators:  183\n",
      "Validation error:  23.927878458900672\n",
      "No. of estimators:  184\n",
      "Validation error:  23.896308741387383\n",
      "No. of estimators:  185\n",
      "Validation error:  23.892491967250155\n",
      "No. of estimators:  186\n",
      "Validation error:  23.955018609587572\n",
      "No. of estimators:  187\n",
      "Validation error:  23.891998206811138\n",
      "No. of estimators:  188\n",
      "Validation error:  23.79811306888063\n",
      "No. of estimators:  189\n",
      "Validation error:  23.816591943203033\n",
      "No. of estimators:  190\n",
      "Validation error:  23.806012525368555\n",
      "No. of estimators:  191\n",
      "Validation error:  23.796722258869043\n",
      "No. of estimators:  192\n",
      "Validation error:  23.683587247687154\n",
      "No. of estimators:  193\n",
      "Validation error:  23.661128203474256\n",
      "No. of estimators:  194\n",
      "Validation error:  23.642379404007794\n",
      "No. of estimators:  195\n",
      "Validation error:  23.54477411266759\n",
      "No. of estimators:  196\n",
      "Validation error:  23.538919263841848\n",
      "No. of estimators:  197\n",
      "Validation error:  23.516995567112865\n",
      "No. of estimators:  198\n",
      "Validation error:  23.4924881473131\n",
      "No. of estimators:  199\n",
      "Validation error:  23.48789322953323\n",
      "No. of estimators:  200\n",
      "Validation error:  23.450777168635337\n",
      "No. of estimators:  201\n",
      "Validation error:  23.452787072532118\n",
      "No. of estimators:  202\n",
      "Validation error:  23.361463254734463\n",
      "No. of estimators:  203\n",
      "Validation error:  23.383989299540296\n",
      "No. of estimators:  204\n",
      "Validation error:  23.356824770986204\n",
      "No. of estimators:  205\n",
      "Validation error:  23.230199674313486\n",
      "No. of estimators:  206\n",
      "Validation error:  23.215754955855996\n",
      "No. of estimators:  207\n",
      "Validation error:  23.221064506650787\n",
      "No. of estimators:  208\n",
      "Validation error:  23.100829816702603\n",
      "No. of estimators:  209\n",
      "Validation error:  23.08879948940701\n",
      "No. of estimators:  210\n",
      "Validation error:  23.07517215607652\n",
      "No. of estimators:  211\n",
      "Validation error:  23.028987998555447\n",
      "No. of estimators:  212\n",
      "Validation error:  23.02884729070984\n",
      "No. of estimators:  213\n",
      "Validation error:  22.981165886783796\n",
      "No. of estimators:  214\n",
      "Validation error:  22.950306011208376\n",
      "No. of estimators:  215\n",
      "Validation error:  22.981218698616473\n",
      "No. of estimators:  216\n",
      "Validation error:  22.93267278942495\n",
      "No. of estimators:  217\n",
      "Validation error:  22.91332271116029\n",
      "No. of estimators:  218\n",
      "Validation error:  22.835771872591323\n",
      "No. of estimators:  219\n",
      "Validation error:  22.815218583677165\n",
      "No. of estimators:  220\n",
      "Validation error:  22.821278000222172\n",
      "No. of estimators:  221\n",
      "Validation error:  22.835522094270697\n",
      "No. of estimators:  222\n",
      "Validation error:  22.81731726534849\n",
      "No. of estimators:  223\n",
      "Validation error:  22.807636010740396\n",
      "No. of estimators:  224\n",
      "Validation error:  22.77806225751579\n",
      "No. of estimators:  225\n",
      "Validation error:  22.656969051861264\n",
      "No. of estimators:  226\n",
      "Validation error:  22.645269513919065\n",
      "No. of estimators:  227\n",
      "Validation error:  22.612053625240257\n",
      "No. of estimators:  228\n",
      "Validation error:  22.6422854598822\n",
      "No. of estimators:  229\n",
      "Validation error:  22.62492898726665\n",
      "No. of estimators:  230\n",
      "Validation error:  22.58948592775277\n",
      "No. of estimators:  231\n",
      "Validation error:  22.564519694784764\n",
      "No. of estimators:  232\n",
      "Validation error:  22.494878963069823\n",
      "No. of estimators:  233\n",
      "Validation error:  22.437522332400224\n",
      "No. of estimators:  234\n",
      "Validation error:  22.438376626643564\n",
      "No. of estimators:  235\n",
      "Validation error:  22.417297109818314\n",
      "No. of estimators:  236\n",
      "Validation error:  22.426321164968197\n",
      "No. of estimators:  237\n",
      "Validation error:  22.41771942980064\n",
      "No. of estimators:  238\n",
      "Validation error:  22.407587000300214\n",
      "No. of estimators:  239\n",
      "Validation error:  22.397166426713316\n",
      "No. of estimators:  240\n",
      "Validation error:  22.351980449993754\n",
      "No. of estimators:  241\n",
      "Validation error:  22.356898867066615\n",
      "No. of estimators:  242\n",
      "Validation error:  22.366269686241978\n",
      "No. of estimators:  243\n",
      "Validation error:  22.371465542676976\n",
      "No. of estimators:  244\n",
      "Validation error:  22.34006751131888\n",
      "No. of estimators:  245\n",
      "Validation error:  22.320987218139546\n",
      "No. of estimators:  246\n",
      "Validation error:  22.2975006068474\n",
      "No. of estimators:  247\n",
      "Validation error:  22.23951046656524\n",
      "No. of estimators:  248\n",
      "Validation error:  22.221947850387217\n",
      "No. of estimators:  249\n",
      "Validation error:  22.199502628328634\n",
      "No. of estimators:  250\n",
      "Validation error:  22.170532960261102\n",
      "No. of estimators:  251\n",
      "Validation error:  22.118733569958682\n",
      "No. of estimators:  252\n",
      "Validation error:  22.124976627613417\n",
      "No. of estimators:  253\n",
      "Validation error:  22.11540556591266\n",
      "No. of estimators:  254\n",
      "Validation error:  22.092067447285373\n",
      "No. of estimators:  255\n",
      "Validation error:  22.057447385419135\n",
      "No. of estimators:  256\n",
      "Validation error:  22.07479446331954\n",
      "No. of estimators:  257\n",
      "Validation error:  22.06988141832217\n",
      "No. of estimators:  258\n",
      "Validation error:  21.960911154905993\n",
      "No. of estimators:  259\n",
      "Validation error:  21.96189877427986\n",
      "No. of estimators:  260\n",
      "Validation error:  21.952907081043758\n",
      "No. of estimators:  261\n",
      "Validation error:  21.920416199613385\n",
      "No. of estimators:  262\n",
      "Validation error:  21.922002810678347\n",
      "No. of estimators:  263\n",
      "Validation error:  21.92183684242006\n",
      "No. of estimators:  264\n",
      "Validation error:  21.915247800925783\n",
      "No. of estimators:  265\n",
      "Validation error:  21.88909716172929\n",
      "No. of estimators:  266\n",
      "Validation error:  21.87203433898066\n",
      "No. of estimators:  267\n",
      "Validation error:  21.834533102724585\n",
      "No. of estimators:  268\n",
      "Validation error:  21.823975701869433\n",
      "No. of estimators:  269\n",
      "Validation error:  21.825437735309066\n",
      "No. of estimators:  270\n",
      "Validation error:  21.820473346727074\n",
      "No. of estimators:  271\n",
      "Validation error:  21.79761298949239\n",
      "No. of estimators:  272\n",
      "Validation error:  21.82715450966339\n",
      "No. of estimators:  273\n",
      "Validation error:  21.820959398111565\n",
      "No. of estimators:  274\n",
      "Validation error:  21.812304791066012\n",
      "No. of estimators:  275\n",
      "Validation error:  21.789013044468014\n",
      "No. of estimators:  276\n",
      "Validation error:  21.7586826322976\n",
      "No. of estimators:  277\n",
      "Validation error:  21.761484623975377\n",
      "No. of estimators:  278\n",
      "Validation error:  21.75445155444933\n",
      "No. of estimators:  279\n",
      "Validation error:  21.731968902633003\n",
      "No. of estimators:  280\n",
      "Validation error:  21.721505250010583\n",
      "No. of estimators:  281\n",
      "Validation error:  21.69427269765727\n",
      "No. of estimators:  282\n",
      "Validation error:  21.671398824188095\n",
      "No. of estimators:  283\n",
      "Validation error:  21.634824627137082\n"
     ]
    },
    {
     "name": "stdout",
     "output_type": "stream",
     "text": [
      "No. of estimators:  284\n",
      "Validation error:  21.715405906384998\n",
      "No. of estimators:  285\n",
      "Validation error:  21.705636608191973\n",
      "No. of estimators:  286\n",
      "Validation error:  21.70274954538663\n",
      "No. of estimators:  287\n",
      "Validation error:  21.672544692684426\n",
      "No. of estimators:  288\n",
      "Validation error:  21.648965021357544\n",
      "No. of estimators:  289\n",
      "Validation error:  21.624961235118338\n",
      "No. of estimators:  290\n",
      "Validation error:  21.63594677120677\n",
      "No. of estimators:  291\n",
      "Validation error:  21.636397132569794\n",
      "No. of estimators:  292\n",
      "Validation error:  21.620385976961007\n",
      "No. of estimators:  293\n",
      "Validation error:  21.613806886417663\n",
      "No. of estimators:  294\n",
      "Validation error:  21.649673388189907\n",
      "No. of estimators:  295\n",
      "Validation error:  21.65355317859188\n",
      "No. of estimators:  296\n",
      "Validation error:  21.648019238704176\n",
      "No. of estimators:  297\n",
      "Validation error:  21.651007455174913\n",
      "No. of estimators:  298\n",
      "Validation error:  21.676832916633902\n",
      "No. of estimators:  299\n",
      "Validation error:  21.640788874193028\n",
      "No. of estimators:  300\n",
      "Validation error:  21.638262391277184\n",
      "No. of estimators:  301\n",
      "Validation error:  21.568761024471605\n",
      "No. of estimators:  302\n",
      "Validation error:  21.560491046620832\n",
      "No. of estimators:  303\n",
      "Validation error:  21.540586667257344\n",
      "No. of estimators:  304\n",
      "Validation error:  21.537378466438835\n",
      "No. of estimators:  305\n",
      "Validation error:  21.513251745869727\n",
      "No. of estimators:  306\n",
      "Validation error:  21.510908215298763\n",
      "No. of estimators:  307\n",
      "Validation error:  21.48050921490992\n",
      "No. of estimators:  308\n",
      "Validation error:  21.475073251490365\n",
      "No. of estimators:  309\n",
      "Validation error:  21.458839098833202\n",
      "No. of estimators:  310\n",
      "Validation error:  21.45688821115626\n",
      "No. of estimators:  311\n",
      "Validation error:  21.430971210399004\n",
      "No. of estimators:  312\n",
      "Validation error:  21.42028868156738\n",
      "No. of estimators:  313\n",
      "Validation error:  21.413877436880096\n",
      "No. of estimators:  314\n",
      "Validation error:  21.388760090810152\n",
      "No. of estimators:  315\n",
      "Validation error:  21.385063999908603\n",
      "No. of estimators:  316\n",
      "Validation error:  21.387786993422772\n",
      "No. of estimators:  317\n",
      "Validation error:  21.371832286073\n",
      "No. of estimators:  318\n",
      "Validation error:  21.373888067913953\n",
      "No. of estimators:  319\n",
      "Validation error:  21.356996890850823\n",
      "No. of estimators:  320\n",
      "Validation error:  21.360416039658826\n",
      "No. of estimators:  321\n",
      "Validation error:  21.345333062110367\n",
      "No. of estimators:  322\n",
      "Validation error:  21.3267546812589\n",
      "No. of estimators:  323\n",
      "Validation error:  21.323556446413047\n",
      "No. of estimators:  324\n",
      "Validation error:  21.318811558576783\n",
      "No. of estimators:  325\n",
      "Validation error:  21.31056772749934\n",
      "No. of estimators:  326\n",
      "Validation error:  21.309600675627063\n",
      "No. of estimators:  327\n",
      "Validation error:  21.278517782131026\n",
      "No. of estimators:  328\n",
      "Validation error:  21.278816265926103\n",
      "No. of estimators:  329\n",
      "Validation error:  21.258448816266043\n",
      "No. of estimators:  330\n",
      "Validation error:  21.170289131365376\n",
      "No. of estimators:  331\n",
      "Validation error:  21.163623779029862\n",
      "No. of estimators:  332\n",
      "Validation error:  21.119994161216763\n",
      "No. of estimators:  333\n",
      "Validation error:  21.068957053136522\n",
      "No. of estimators:  334\n",
      "Validation error:  21.0490862648788\n",
      "No. of estimators:  335\n",
      "Validation error:  21.042705443686735\n",
      "No. of estimators:  336\n",
      "Validation error:  21.02932630506242\n",
      "No. of estimators:  337\n",
      "Validation error:  21.02798937269805\n",
      "No. of estimators:  338\n",
      "Validation error:  20.995667355380444\n",
      "No. of estimators:  339\n",
      "Validation error:  20.931808158362802\n",
      "No. of estimators:  340\n",
      "Validation error:  20.954059858501093\n",
      "No. of estimators:  341\n",
      "Validation error:  20.962974465802848\n",
      "No. of estimators:  342\n",
      "Validation error:  20.97004213063288\n",
      "No. of estimators:  343\n",
      "Validation error:  20.94886363046019\n",
      "No. of estimators:  344\n",
      "Validation error:  20.95449554163866\n",
      "No. of estimators:  345\n",
      "Validation error:  20.930683251419484\n",
      "No. of estimators:  346\n",
      "Validation error:  20.92239358079572\n",
      "No. of estimators:  347\n",
      "Validation error:  20.922435333886405\n",
      "No. of estimators:  348\n",
      "Validation error:  20.926035712049973\n",
      "No. of estimators:  349\n",
      "Validation error:  20.942812775527706\n",
      "No. of estimators:  350\n",
      "Validation error:  20.88448410878582\n",
      "No. of estimators:  351\n",
      "Validation error:  20.870722658093143\n",
      "No. of estimators:  352\n",
      "Validation error:  20.858002747306255\n",
      "No. of estimators:  353\n",
      "Validation error:  20.856705365392955\n",
      "No. of estimators:  354\n",
      "Validation error:  20.84887458886606\n",
      "No. of estimators:  355\n",
      "Validation error:  20.820635031830953\n",
      "No. of estimators:  356\n",
      "Validation error:  20.81195802379229\n",
      "No. of estimators:  357\n",
      "Validation error:  20.817787986306502\n",
      "No. of estimators:  358\n",
      "Validation error:  20.7540043764289\n",
      "No. of estimators:  359\n",
      "Validation error:  20.74756625707293\n",
      "No. of estimators:  360\n",
      "Validation error:  20.723514522112108\n",
      "No. of estimators:  361\n",
      "Validation error:  20.648693271622392\n",
      "No. of estimators:  362\n",
      "Validation error:  20.636188881749167\n",
      "No. of estimators:  363\n",
      "Validation error:  20.640525645110852\n",
      "No. of estimators:  364\n",
      "Validation error:  20.63429862798668\n",
      "No. of estimators:  365\n",
      "Validation error:  20.59845471498291\n",
      "No. of estimators:  366\n",
      "Validation error:  20.594229252423563\n",
      "No. of estimators:  367\n",
      "Validation error:  20.533789557979723\n",
      "No. of estimators:  368\n",
      "Validation error:  20.502160982014374\n",
      "No. of estimators:  369\n",
      "Validation error:  20.474788342858027\n",
      "No. of estimators:  370\n",
      "Validation error:  20.426468228544316\n",
      "No. of estimators:  371\n",
      "Validation error:  20.416872352152325\n",
      "No. of estimators:  372\n",
      "Validation error:  20.424334577591306\n",
      "No. of estimators:  373\n",
      "Validation error:  20.41010443851302\n",
      "No. of estimators:  374\n",
      "Validation error:  20.40359644532157\n",
      "No. of estimators:  375\n",
      "Validation error:  20.377465154173574\n",
      "No. of estimators:  376\n",
      "Validation error:  20.370872812553838\n",
      "No. of estimators:  377\n",
      "Validation error:  20.35712308604847\n",
      "No. of estimators:  378\n",
      "Validation error:  20.348915033693327\n",
      "No. of estimators:  379\n",
      "Validation error:  20.346192468736696\n",
      "No. of estimators:  380\n",
      "Validation error:  20.332138214787513\n",
      "No. of estimators:  381\n",
      "Validation error:  20.317643761542065\n",
      "No. of estimators:  382\n",
      "Validation error:  20.30608630768251\n",
      "No. of estimators:  383\n",
      "Validation error:  20.273602203423835\n",
      "No. of estimators:  384\n",
      "Validation error:  20.22347705493076\n",
      "No. of estimators:  385\n",
      "Validation error:  20.19644790157849\n",
      "No. of estimators:  386\n",
      "Validation error:  20.19402263860255\n",
      "No. of estimators:  387\n",
      "Validation error:  20.197705599008508\n",
      "No. of estimators:  388\n",
      "Validation error:  20.181048370296978\n",
      "No. of estimators:  389\n",
      "Validation error:  20.18056374536852\n",
      "No. of estimators:  390\n",
      "Validation error:  20.192642204057815\n",
      "No. of estimators:  391\n",
      "Validation error:  20.19360175224267\n",
      "No. of estimators:  392\n",
      "Validation error:  20.156688735386613\n",
      "No. of estimators:  393\n",
      "Validation error:  20.06257772665454\n",
      "No. of estimators:  394\n",
      "Validation error:  20.061124920292546\n",
      "No. of estimators:  395\n",
      "Validation error:  20.048106340351683\n",
      "No. of estimators:  396\n",
      "Validation error:  20.028324517835586\n",
      "No. of estimators:  397\n",
      "Validation error:  20.035299882269086\n",
      "No. of estimators:  398\n",
      "Validation error:  20.023654461687915\n",
      "No. of estimators:  399\n",
      "Validation error:  19.974757317848237\n",
      "No. of estimators:  400\n",
      "Validation error:  19.970951886563913\n",
      "No. of estimators:  401\n",
      "Validation error:  19.943730407062592\n",
      "No. of estimators:  402\n",
      "Validation error:  19.92291541095665\n",
      "No. of estimators:  403\n",
      "Validation error:  19.900063574624415\n",
      "No. of estimators:  404\n",
      "Validation error:  19.898902703061207\n",
      "No. of estimators:  405\n",
      "Validation error:  19.90265273010285\n",
      "No. of estimators:  406\n",
      "Validation error:  19.89554227300431\n",
      "No. of estimators:  407\n",
      "Validation error:  19.82127841137229\n",
      "No. of estimators:  408\n",
      "Validation error:  19.806117543140367\n",
      "No. of estimators:  409\n",
      "Validation error:  19.79337842650939\n",
      "No. of estimators:  410\n",
      "Validation error:  19.814245610861484\n",
      "No. of estimators:  411\n",
      "Validation error:  19.809815346935917\n",
      "No. of estimators:  412\n",
      "Validation error:  19.790069532988163\n",
      "No. of estimators:  413\n",
      "Validation error:  19.788516204819555\n",
      "No. of estimators:  414\n",
      "Validation error:  19.79364040540732\n",
      "No. of estimators:  415\n",
      "Validation error:  19.7874458683606\n",
      "No. of estimators:  416\n",
      "Validation error:  19.830561278549737\n",
      "No. of estimators:  417\n",
      "Validation error:  19.82508723134724\n",
      "No. of estimators:  418\n",
      "Validation error:  19.82132742747416\n",
      "No. of estimators:  419\n",
      "Validation error:  19.817794004566917\n",
      "No. of estimators:  420\n",
      "Validation error:  19.797543734530358\n",
      "No. of estimators:  421\n",
      "Validation error:  19.799960546350775\n",
      "No. of estimators:  422\n",
      "Validation error:  19.762376732967965\n",
      "No. of estimators:  423\n",
      "Validation error:  19.76895852755452\n"
     ]
    },
    {
     "name": "stdout",
     "output_type": "stream",
     "text": [
      "No. of estimators:  424\n",
      "Validation error:  19.67758165596528\n",
      "No. of estimators:  425\n",
      "Validation error:  19.677362714535207\n",
      "No. of estimators:  426\n",
      "Validation error:  19.66783209880664\n",
      "No. of estimators:  427\n",
      "Validation error:  19.657240530973162\n",
      "No. of estimators:  428\n",
      "Validation error:  19.651014598227082\n",
      "No. of estimators:  429\n",
      "Validation error:  19.654873349847364\n",
      "No. of estimators:  430\n",
      "Validation error:  19.692975548064727\n",
      "No. of estimators:  431\n",
      "Validation error:  19.69749058362953\n",
      "No. of estimators:  432\n",
      "Validation error:  19.639382653316584\n",
      "No. of estimators:  433\n",
      "Validation error:  19.631702146429173\n",
      "No. of estimators:  434\n",
      "Validation error:  19.619883734566436\n",
      "No. of estimators:  435\n",
      "Validation error:  19.624186524323854\n",
      "No. of estimators:  436\n",
      "Validation error:  19.612988035219878\n",
      "No. of estimators:  437\n",
      "Validation error:  19.603064505543006\n",
      "No. of estimators:  438\n",
      "Validation error:  19.590427965471406\n",
      "No. of estimators:  439\n",
      "Validation error:  19.587443091605795\n",
      "No. of estimators:  440\n",
      "Validation error:  19.58571283266309\n",
      "No. of estimators:  441\n",
      "Validation error:  19.585833553220958\n",
      "No. of estimators:  442\n",
      "Validation error:  19.584654953829173\n",
      "No. of estimators:  443\n",
      "Validation error:  19.5904128765192\n",
      "No. of estimators:  444\n",
      "Validation error:  19.567084539106702\n",
      "No. of estimators:  445\n",
      "Validation error:  19.555024889531893\n",
      "No. of estimators:  446\n",
      "Validation error:  19.53510123579889\n",
      "No. of estimators:  447\n",
      "Validation error:  19.50419507079598\n",
      "No. of estimators:  448\n",
      "Validation error:  19.504012834398168\n",
      "No. of estimators:  449\n",
      "Validation error:  19.501205115286005\n",
      "No. of estimators:  450\n",
      "Validation error:  19.501840232520195\n",
      "No. of estimators:  451\n",
      "Validation error:  19.49576410354674\n",
      "No. of estimators:  452\n",
      "Validation error:  19.490148036473133\n",
      "No. of estimators:  453\n",
      "Validation error:  19.47526419715264\n",
      "No. of estimators:  454\n",
      "Validation error:  19.462520513648833\n",
      "No. of estimators:  455\n",
      "Validation error:  19.428690292060814\n",
      "No. of estimators:  456\n",
      "Validation error:  19.414002830410663\n",
      "No. of estimators:  457\n",
      "Validation error:  19.41777281615355\n",
      "No. of estimators:  458\n",
      "Validation error:  19.428673871659296\n",
      "No. of estimators:  459\n",
      "Validation error:  19.436130406432948\n",
      "No. of estimators:  460\n",
      "Validation error:  19.36912036458935\n",
      "No. of estimators:  461\n",
      "Validation error:  19.362857008116176\n",
      "No. of estimators:  462\n",
      "Validation error:  19.366232710054568\n",
      "No. of estimators:  463\n",
      "Validation error:  19.380115858635943\n",
      "No. of estimators:  464\n",
      "Validation error:  19.37779012010414\n",
      "No. of estimators:  465\n",
      "Validation error:  19.32505767280974\n",
      "No. of estimators:  466\n",
      "Validation error:  19.340222209025526\n",
      "No. of estimators:  467\n",
      "Validation error:  19.35042680436821\n",
      "No. of estimators:  468\n",
      "Validation error:  19.35398061352111\n",
      "No. of estimators:  469\n",
      "Validation error:  19.34863305264465\n",
      "No. of estimators:  470\n",
      "Validation error:  19.32065563973475\n",
      "No. of estimators:  471\n",
      "Validation error:  19.318890709122957\n",
      "No. of estimators:  472\n",
      "Validation error:  19.324578456568453\n",
      "No. of estimators:  473\n",
      "Validation error:  19.277056403772637\n",
      "No. of estimators:  474\n",
      "Validation error:  19.258088265620913\n",
      "No. of estimators:  475\n",
      "Validation error:  19.255981454811597\n",
      "No. of estimators:  476\n",
      "Validation error:  19.271685576903906\n",
      "No. of estimators:  477\n",
      "Validation error:  19.270691635861752\n",
      "No. of estimators:  478\n",
      "Validation error:  19.265772376799216\n",
      "No. of estimators:  479\n",
      "Validation error:  19.265021389352047\n",
      "No. of estimators:  480\n",
      "Validation error:  19.278138445023902\n",
      "No. of estimators:  481\n",
      "Validation error:  19.26803715216615\n",
      "No. of estimators:  482\n",
      "Validation error:  19.259054508993607\n",
      "No. of estimators:  483\n",
      "Validation error:  19.25955430445759\n",
      "No. of estimators:  484\n",
      "Validation error:  19.256008120077112\n",
      "No. of estimators:  485\n",
      "Validation error:  19.255368789351618\n",
      "No. of estimators:  486\n",
      "Validation error:  19.25354566572069\n",
      "No. of estimators:  487\n",
      "Validation error:  19.24387774806691\n",
      "No. of estimators:  488\n",
      "Validation error:  19.23237767056824\n",
      "No. of estimators:  489\n",
      "Validation error:  19.229388289473683\n",
      "No. of estimators:  490\n",
      "Validation error:  19.222454974682538\n",
      "No. of estimators:  491\n",
      "Validation error:  19.215596654549806\n",
      "No. of estimators:  492\n",
      "Validation error:  19.217223858062898\n",
      "No. of estimators:  493\n",
      "Validation error:  19.214949986441255\n",
      "No. of estimators:  494\n",
      "Validation error:  19.16849795972479\n",
      "No. of estimators:  495\n",
      "Validation error:  19.16030295182104\n",
      "No. of estimators:  496\n",
      "Validation error:  19.151113664254183\n",
      "No. of estimators:  497\n",
      "Validation error:  19.109272329466645\n",
      "No. of estimators:  498\n",
      "Validation error:  19.101246230483103\n",
      "No. of estimators:  499\n",
      "Validation error:  19.09829398914349\n",
      "No. of estimators:  500\n",
      "Validation error:  19.091768501830288\n",
      "No. of estimators:  501\n",
      "Validation error:  19.057996379060974\n",
      "No. of estimators:  502\n",
      "Validation error:  19.03843824820248\n",
      "No. of estimators:  503\n",
      "Validation error:  18.997376329852635\n",
      "No. of estimators:  504\n",
      "Validation error:  18.991028391637403\n",
      "No. of estimators:  505\n",
      "Validation error:  19.006674113359527\n",
      "No. of estimators:  506\n",
      "Validation error:  19.000097449744764\n",
      "No. of estimators:  507\n",
      "Validation error:  18.978505032045895\n",
      "No. of estimators:  508\n",
      "Validation error:  18.886322676718336\n",
      "No. of estimators:  509\n",
      "Validation error:  18.861990610007275\n",
      "No. of estimators:  510\n",
      "Validation error:  18.871651890013638\n",
      "No. of estimators:  511\n",
      "Validation error:  18.864408582895674\n",
      "No. of estimators:  512\n",
      "Validation error:  18.86043278501708\n",
      "No. of estimators:  513\n",
      "Validation error:  18.868730264870088\n",
      "No. of estimators:  514\n",
      "Validation error:  18.863902578093736\n",
      "No. of estimators:  515\n",
      "Validation error:  18.85294868672773\n",
      "No. of estimators:  516\n",
      "Validation error:  18.836556114613185\n",
      "No. of estimators:  517\n",
      "Validation error:  18.834026690530663\n",
      "No. of estimators:  518\n",
      "Validation error:  18.829156705028247\n",
      "No. of estimators:  519\n",
      "Validation error:  18.833217436335513\n",
      "No. of estimators:  520\n",
      "Validation error:  18.800774418478838\n",
      "No. of estimators:  521\n",
      "Validation error:  18.792202058183076\n",
      "No. of estimators:  522\n",
      "Validation error:  18.805240696186786\n",
      "No. of estimators:  523\n",
      "Validation error:  18.80408051400535\n",
      "No. of estimators:  524\n",
      "Validation error:  18.783713221601378\n",
      "No. of estimators:  525\n",
      "Validation error:  18.795323999387318\n",
      "No. of estimators:  526\n",
      "Validation error:  18.783403889035103\n",
      "No. of estimators:  527\n",
      "Validation error:  18.795805580335536\n",
      "No. of estimators:  528\n",
      "Validation error:  18.78694052008552\n",
      "No. of estimators:  529\n",
      "Validation error:  18.78666071518546\n",
      "No. of estimators:  530\n",
      "Validation error:  18.827778374373654\n",
      "No. of estimators:  531\n",
      "Validation error:  18.824945876279145\n",
      "No. of estimators:  532\n",
      "Validation error:  18.824498253735598\n",
      "No. of estimators:  533\n",
      "Validation error:  18.821609759303367\n",
      "No. of estimators:  534\n",
      "Validation error:  18.787902039236364\n",
      "No. of estimators:  535\n",
      "Validation error:  18.807616805370856\n",
      "No. of estimators:  536\n",
      "Validation error:  18.776028940427054\n",
      "No. of estimators:  537\n",
      "Validation error:  18.716924814180324\n",
      "No. of estimators:  538\n",
      "Validation error:  18.718432772141448\n",
      "No. of estimators:  539\n",
      "Validation error:  18.718741657427202\n",
      "No. of estimators:  540\n",
      "Validation error:  18.717817475775906\n",
      "No. of estimators:  541\n",
      "Validation error:  18.717792123383003\n",
      "No. of estimators:  542\n",
      "Validation error:  18.714495672105457\n",
      "No. of estimators:  543\n",
      "Validation error:  18.71379292469575\n",
      "No. of estimators:  544\n",
      "Validation error:  18.697475698447786\n",
      "No. of estimators:  545\n",
      "Validation error:  18.696269341906614\n",
      "No. of estimators:  546\n",
      "Validation error:  18.646576457377382\n",
      "No. of estimators:  547\n",
      "Validation error:  18.641581620936353\n",
      "No. of estimators:  548\n",
      "Validation error:  18.612134383812027\n",
      "No. of estimators:  549\n",
      "Validation error:  18.60174004033958\n",
      "No. of estimators:  550\n",
      "Validation error:  18.598020976116008\n",
      "No. of estimators:  551\n",
      "Validation error:  18.5869343490052\n",
      "No. of estimators:  552\n",
      "Validation error:  18.58494804495341\n",
      "No. of estimators:  553\n",
      "Validation error:  18.604165400645307\n",
      "No. of estimators:  554\n",
      "Validation error:  18.5934422393315\n",
      "No. of estimators:  555\n",
      "Validation error:  18.593677902694857\n",
      "No. of estimators:  556\n",
      "Validation error:  18.591621339991068\n",
      "No. of estimators:  557\n",
      "Validation error:  18.591908716591465\n",
      "No. of estimators:  558\n",
      "Validation error:  18.55597566348941\n",
      "No. of estimators:  559\n",
      "Validation error:  18.55912512996817\n",
      "No. of estimators:  560\n",
      "Validation error:  18.561099156899466\n",
      "No. of estimators:  561\n",
      "Validation error:  18.567518354493178\n",
      "No. of estimators:  562\n",
      "Validation error:  18.52390747200583\n",
      "No. of estimators:  563\n",
      "Validation error:  18.511968417812128\n",
      "No. of estimators:  564\n",
      "Validation error:  18.53601973928472\n",
      "No. of estimators:  565\n",
      "Validation error:  18.524178079434208\n",
      "No. of estimators:  566\n",
      "Validation error:  18.51405204781911\n",
      "No. of estimators:  567\n",
      "Validation error:  18.478335404658335\n",
      "No. of estimators:  568\n",
      "Validation error:  18.472803467507024\n",
      "No. of estimators:  569\n",
      "Validation error:  18.474744691443018\n",
      "No. of estimators:  570\n",
      "Validation error:  18.519184897936263\n",
      "No. of estimators:  571\n",
      "Validation error:  18.504855583603778\n",
      "No. of estimators:  572\n",
      "Validation error:  18.497891893031603\n",
      "No. of estimators:  573\n",
      "Validation error:  18.524425787092127\n"
     ]
    },
    {
     "name": "stdout",
     "output_type": "stream",
     "text": [
      "No. of estimators:  574\n",
      "Validation error:  18.509768517650787\n",
      "No. of estimators:  575\n",
      "Validation error:  18.534383802589524\n",
      "No. of estimators:  576\n",
      "Validation error:  18.51300601550105\n",
      "No. of estimators:  577\n",
      "Validation error:  18.507405789819156\n",
      "No. of estimators:  578\n",
      "Validation error:  18.49908748179937\n"
     ]
    }
   ],
   "source": [
    "# Run to find the best number of estimators\n",
    "min_val_error = float(\"inf\")\n",
    "error_increasing = 0\n",
    "\n",
    "for n_estimators in range(1, 1000):\n",
    "    gbr.n_estimators = n_estimators\n",
    "    gbr.fit(x_train, y_train)\n",
    "    \n",
    "    y_pred = gbr.predict(x_test)\n",
    "    val_error = mean_squared_error(y_test, y_pred)\n",
    "    \n",
    "    print('No. of estimators: ', gbr.n_estimators_)\n",
    "    print('Validation error: ', val_error)\n",
    "    \n",
    "    if val_error < min_val_error:\n",
    "        min_val_error = val_error\n",
    "        error_increasing = 0\n",
    "    else:\n",
    "        error_increasing += 1\n",
    "        if error_increasing == 10:\n",
    "            break"
   ]
  },
  {
   "cell_type": "code",
   "execution_count": 241,
   "metadata": {},
   "outputs": [
    {
     "data": {
      "text/plain": [
       "578"
      ]
     },
     "execution_count": 241,
     "metadata": {},
     "output_type": "execute_result"
    }
   ],
   "source": [
    "n_estimators"
   ]
  },
  {
   "cell_type": "code",
   "execution_count": 242,
   "metadata": {},
   "outputs": [
    {
     "data": {
      "text/plain": [
       "0.9217982259033274"
      ]
     },
     "execution_count": 242,
     "metadata": {},
     "output_type": "execute_result"
    }
   ],
   "source": [
    "x_train, x_test, y_train, y_test = train_test_split(X, Y, test_size=0.2)\n",
    "gbr_best = GradientBoostingRegressor(max_depth=3,\n",
    "                                     n_estimators = n_estimators)\n",
    "gbr_best.fit(x_train, y_train)\n",
    "y_pred = gbr_best.predict(x_test)\n",
    "r2_score(y_test, y_pred)"
   ]
  },
  {
   "cell_type": "markdown",
   "metadata": {},
   "source": [
    "# Stacking"
   ]
  },
  {
   "cell_type": "code",
   "execution_count": 243,
   "metadata": {},
   "outputs": [],
   "source": [
    "X = bank_data.drop('CreditCard', axis=1)\n",
    "Y = bank_data['CreditCard']"
   ]
  },
  {
   "cell_type": "code",
   "execution_count": 244,
   "metadata": {},
   "outputs": [],
   "source": [
    "# Split the data\n",
    "x_train, x_hold_out, x_test  = np.split(X, [int(.7*len(X)), int(.9*len(X))])\n",
    "y_train, y_hold_out, y_test  = np.split(Y, [int(.7*len(Y)), int(.9*len(Y))])"
   ]
  },
  {
   "cell_type": "code",
   "execution_count": 247,
   "metadata": {},
   "outputs": [],
   "source": [
    "clf1 = KNeighborsClassifier(n_neighbors=10)\n",
    "clf2 = RandomForestClassifier(n_estimators=50)\n",
    "clf3 = GaussianNB()\n",
    "\n",
    "for clf in (clf1, clf2, clf3):\n",
    "    clf.fit(x_train, y_train)"
   ]
  },
  {
   "cell_type": "code",
   "execution_count": 248,
   "metadata": {},
   "outputs": [],
   "source": [
    "def get_predictions(x, y):\n",
    "    pred_result = pd.DataFrame()\n",
    "    \n",
    "    i = 1\n",
    "    for clf in (clf1, clf2, clf3):\n",
    "\n",
    "        y_pred = clf.predict(x)\n",
    "        \n",
    "        print(clf.__class__.__name__, accuracy_score(y, y_pred))\n",
    "        \n",
    "        pred_result.insert(i - 1, 'y_pred_' + str(i), y_pred)\n",
    "        \n",
    "        i += 1\n",
    "        \n",
    "    return pred_result"
   ]
  },
  {
   "cell_type": "code",
   "execution_count": 249,
   "metadata": {},
   "outputs": [
    {
     "name": "stdout",
     "output_type": "stream",
     "text": [
      "KNeighborsClassifier 0.7083333333333334\n",
      "RandomForestClassifier 0.78125\n",
      "GaussianNB 0.8229166666666666\n"
     ]
    }
   ],
   "source": [
    "pred_result = get_predictions(x_hold_out, y_hold_out)"
   ]
  },
  {
   "cell_type": "code",
   "execution_count": 250,
   "metadata": {},
   "outputs": [
    {
     "data": {
      "text/html": [
       "<div>\n",
       "<style scoped>\n",
       "    .dataframe tbody tr th:only-of-type {\n",
       "        vertical-align: middle;\n",
       "    }\n",
       "\n",
       "    .dataframe tbody tr th {\n",
       "        vertical-align: top;\n",
       "    }\n",
       "\n",
       "    .dataframe thead th {\n",
       "        text-align: right;\n",
       "    }\n",
       "</style>\n",
       "<table border=\"1\" class=\"dataframe\">\n",
       "  <thead>\n",
       "    <tr style=\"text-align: right;\">\n",
       "      <th></th>\n",
       "      <th>y_pred_1</th>\n",
       "      <th>y_pred_2</th>\n",
       "      <th>y_pred_3</th>\n",
       "    </tr>\n",
       "  </thead>\n",
       "  <tbody>\n",
       "    <tr>\n",
       "      <th>0</th>\n",
       "      <td>0</td>\n",
       "      <td>0</td>\n",
       "      <td>0</td>\n",
       "    </tr>\n",
       "    <tr>\n",
       "      <th>1</th>\n",
       "      <td>0</td>\n",
       "      <td>0</td>\n",
       "      <td>0</td>\n",
       "    </tr>\n",
       "    <tr>\n",
       "      <th>2</th>\n",
       "      <td>0</td>\n",
       "      <td>0</td>\n",
       "      <td>0</td>\n",
       "    </tr>\n",
       "    <tr>\n",
       "      <th>3</th>\n",
       "      <td>0</td>\n",
       "      <td>0</td>\n",
       "      <td>0</td>\n",
       "    </tr>\n",
       "    <tr>\n",
       "      <th>4</th>\n",
       "      <td>0</td>\n",
       "      <td>0</td>\n",
       "      <td>0</td>\n",
       "    </tr>\n",
       "  </tbody>\n",
       "</table>\n",
       "</div>"
      ],
      "text/plain": [
       "   y_pred_1  y_pred_2  y_pred_3\n",
       "0         0         0         0\n",
       "1         0         0         0\n",
       "2         0         0         0\n",
       "3         0         0         0\n",
       "4         0         0         0"
      ]
     },
     "execution_count": 250,
     "metadata": {},
     "output_type": "execute_result"
    }
   ],
   "source": [
    "pred_result.head()"
   ]
  },
  {
   "cell_type": "code",
   "execution_count": 251,
   "metadata": {},
   "outputs": [],
   "source": [
    "x_stack_train = pred_result\n",
    "y_stack_train = y_hold_out"
   ]
  },
  {
   "cell_type": "code",
   "execution_count": 252,
   "metadata": {},
   "outputs": [
    {
     "data": {
      "text/plain": [
       "LogisticRegression(C=1, max_iter=200)"
      ]
     },
     "execution_count": 252,
     "metadata": {},
     "output_type": "execute_result"
    }
   ],
   "source": [
    "clf_stack = LogisticRegression(solver='lbfgs', C=1, max_iter=200)\n",
    "clf_stack.fit(x_stack_train, y_stack_train)"
   ]
  },
  {
   "cell_type": "code",
   "execution_count": 253,
   "metadata": {},
   "outputs": [
    {
     "name": "stdout",
     "output_type": "stream",
     "text": [
      "KNeighborsClassifier 0.6041666666666666\n",
      "RandomForestClassifier 0.8333333333333334\n",
      "GaussianNB 0.8541666666666666\n"
     ]
    }
   ],
   "source": [
    "pred_result_test = get_predictions(x_test, y_test)"
   ]
  },
  {
   "cell_type": "code",
   "execution_count": 254,
   "metadata": {},
   "outputs": [],
   "source": [
    "x_stack_test = pred_result_test\n",
    "y_stack_pred = clf_stack.predict(x_stack_test)"
   ]
  },
  {
   "cell_type": "code",
   "execution_count": 255,
   "metadata": {},
   "outputs": [
    {
     "data": {
      "text/plain": [
       "0.8541666666666666"
      ]
     },
     "execution_count": 255,
     "metadata": {},
     "output_type": "execute_result"
    }
   ],
   "source": [
    "accuracy_score(y_stack_pred, y_test)"
   ]
  }
 ],
 "metadata": {
  "kernelspec": {
   "display_name": "Python 3",
   "language": "python",
   "name": "python3"
  },
  "language_info": {
   "codemirror_mode": {
    "name": "ipython",
    "version": 3
   },
   "file_extension": ".py",
   "mimetype": "text/x-python",
   "name": "python",
   "nbconvert_exporter": "python",
   "pygments_lexer": "ipython3",
   "version": "3.8.5"
  }
 },
 "nbformat": 4,
 "nbformat_minor": 4
}
